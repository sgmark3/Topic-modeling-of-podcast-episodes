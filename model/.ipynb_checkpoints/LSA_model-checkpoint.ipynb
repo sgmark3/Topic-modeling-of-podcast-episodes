{
 "cells": [
  {
   "cell_type": "code",
   "execution_count": 106,
   "metadata": {},
   "outputs": [],
   "source": [
    "#!pip install wordcloud"
   ]
  },
  {
   "cell_type": "code",
   "execution_count": 1,
   "metadata": {},
   "outputs": [],
   "source": [
    "import gensim\n",
    "from gensim.utils import simple_preprocess\n",
    "\n",
    "#from yellowbrick.cluster import KElbowVisualizer\n",
    "\n",
    "import spacy\n",
    "from spacy.lang.en.stop_words import STOP_WORDS\n",
    "from nltk.corpus import stopwords\n",
    "\n",
    "import re\n",
    "import string\n",
    "import seaborn as sns\n",
    "import numpy as np\n",
    "sns.set_style(\"darkgrid\")\n",
    "\n",
    "from sklearn.feature_extraction.text import TfidfVectorizer\n",
    "from sklearn.cluster import KMeans\n",
    "\n",
    "nlp = spacy.load(\"en_core_web_sm\")\n",
    "stops_nltk = set(stopwords.words(\"english\"))\n",
    "stops_spacy = STOP_WORDS.union({'ll', 've', 'pron','okay','oh','like','know','yeah','yea','yep',\\\n",
    "                                \"like like\",\"oh like\",\"yeah like\",\"yeah yeah\",\"oh okay\",\"wow\",\"podcast\",\\\n",
    "                               \"support\",\"anchor\",\"podcasts\",\"episode\",\"http\",\"https\",\"5star\",\"reviews\",\\\n",
    "                               \"review\",\"instagram\",\"tiktok\",\"amazon\",\"apple\",\"twitter\",\"goole\",\\\n",
    "                               \"facebook\",\"send\",\"voice message\",\"message\",\"voice\",\"subscribe\",\"follow\",\\\n",
    "                               \"sponsor\",\"links\",\"easiest\",\"way\",\"fuck\",\"fucking\",\"talk\",\"discuss\",\\\n",
    "                               \"world\",\"time\",\"want\",\"join\",\"learn\",\"week\",\"things\",\"stuff\",\"find\",\\\n",
    "                               \"enjoy\",\"welcome\",\"share\",\"talking\",\"people\",\"gmail\",\"help\",\"today\",\\\n",
    "                               \"listen\",\"best\",\"stories\",\"story\",\"hope\",\"tips\",\"great\",\"journey\",\\\n",
    "                               \"topics\",\"email\",\"questions\",\"question\",\"going\",\"life\",\"good\",\"friends\",\\\n",
    "                               \"friend\",\"guys\",\"discussing\",\"live\",\"work\",\"student\",\"students\",\"need\",\\\n",
    "                               \"hear\",\"think\",\"change\",\"free\",\"better\",\"little\",\"unsplash\",\"visit\",\\\n",
    "                                \"senecalearning\",\"info\",\"info visit\",\"cover\",\"photo\",\"provided\",\\\n",
    "                               \"afterbuzztv\",\"sponsored\",\"merch\",\"shop\",\"spreadshirt\",\"youtube\",\"channel\",\\\n",
    "                                \"watch\",\"video\",\"patreon\",\"check\",\"insta\",\"love\",\"thank\",\"thanks\",\"today\",\\\n",
    "                               \"guest\",\"today's\",\"month\",\"years\",\"year\",\"start\",\"day\",\"twitch\",\"starting\",\\\n",
    "                               \"easy\",\"chris\",\"dave\",\"contact\",\"click\",\"christopher\",\"alex\",\"matt\",\"jesse\",\\\n",
    "                                \"jeremy\",\"spotify\",\"open\",\"itunes\",\"boys\",\"girls\",\"brought\",\"happened\",\\\n",
    "                               \"looks\",\"talks\",\"steve\",\"notes\",\"brief\",\"tools\",\"based\",\"peter\",\"stay\",\\\n",
    "                                \"tuned\",\"coming\",\"soon\",\"gonna\",\"favorite\",\"making\",\"listening\",\"family\",\\\n",
    "                               \"latest\",\"sure\",\"feel\",\"special\",\"events\",\"daily\",\"weekly\",\"different\",\\\n",
    "                               \"lives\",\"space\",\"youtu\",\"stan\",\"started\",\"greatest\",\"information\",\"provide\",\"host\",\\\n",
    "                                \"topic\",\"tell\",\"conversation\",\"come\",\"experience\",\"chat\",\"look\",\"grow\"})\n",
    "stops = stops_nltk.union(stops_spacy)\n",
    "\n",
    "import warnings\n",
    "warnings.filterwarnings(\"ignore\",category=DeprecationWarning)"
   ]
  },
  {
   "cell_type": "code",
   "execution_count": 2,
   "metadata": {},
   "outputs": [],
   "source": [
    "import csv\n",
    "import pandas as pd\n",
    "import matplotlib.pyplot as plt\n",
    "import math\n",
    "global df, show_descriptions\n",
    "\n",
    "meta_data = []\n",
    "with open(\"../data/metadata.tsv\") as csvfile:\n",
    "    csvreader = csv.reader(csvfile,delimiter=\"\\t\")\n",
    "    for row in csvreader:\n",
    "        meta_data.append(row)\n",
    "\n",
    "df = pd.DataFrame(meta_data[1:],columns=meta_data[0])"
   ]
  },
  {
   "cell_type": "code",
   "execution_count": 3,
   "metadata": {},
   "outputs": [],
   "source": [
    "genres_topics = [\"comedy\",\"news\",\"crime\",\"science\",\"economics\",\"politics\",\"education\",\\\n",
    "                  \"sports\",\"lifestyle\",\"health\",\"wellbeing\",\"religion\",\"faith\",\"music\",\\\n",
    "                  \"art\",\"fashion\",\"literature\",\"humanities\",\"drama\",\"fitness\",\"drama\",\\\n",
    "                  \"fantasy\",\"scifi\",\"gameshow\",\"news quiz\",\"games\",\"mental\",\\\n",
    "                  \"humor\",\"research\",\"technology\",\"society\",\"social\",\"culture\",\"lifestyle\",\\\n",
    "                  \"songs\",\"cooking\",\"culinary\",\"food\",\"travel\",\"films\",\"film\",\"movies\",\"tv\",\\\n",
    "                  \"climate\",\"space\",\"planet\",\"digital\",\"artificial intelligence\", \"ai\",\\\n",
    "                  \"cars\",\"car\",\"nutrition\",\"wellness\",\"family\",\"history\",\"geography\",\"physics\",\\\n",
    "                  \"mathematics\",\"math\",\"chemistry\",\"biology\",\"documentary\",\"commentary\",\"nfl\",\\\n",
    "                  \"mls\",\"nba\",\"mlb\",\"stocks\",\"stock\",\"market\",\"wall\",\"street\",\"business\",\\\n",
    "                  \"reality\",\"shows\",\"investing\",\"social media\",\"biography\",\"biographies\",\\\n",
    "                  \"data science\",\"medicine\",\"media\",\"books\",\"book\",\"netflix\",\"adventure\",\"pets\",\"dogs\",\\\n",
    "                  \"cats\",\"dog\",\"cat\",\"nintendo\",\"xbox\",\"playstation\",\"ps4\",\"ps5\",\"theatre\",\"mars\"\\\n",
    "                  \"tennis\",\"australia\",\"conspiracy\",\"war\",\"epidemic\",\"pandemic\",\"climate\",\"change\"\\\n",
    "                  \"astrology\",\"novel\",\"church\",\"christ\",\"romance\",\"english\",\"kids\",\"astronomy\"\\\n",
    "                  \"design\",\"entrepreneurship\",\"marketing\",\"digital\"]\n",
    "\n",
    "formats = [\"monologue\",\"interview\",\"storytelling\",\"repurposed\",\\\n",
    "           \"bite-sized\",\"co-host conversation\",\"debate\",\"narrative\",\\\n",
    "           \"scripted\",\"improvised\"]"
   ]
  },
  {
   "cell_type": "code",
   "execution_count": 4,
   "metadata": {},
   "outputs": [],
   "source": [
    "# Cleaning & remove urls and links\n",
    "def remove_stops(text,stops):\n",
    "    final = []\n",
    "    for word in text:\n",
    "        if (word not in stops) and (len(word)>3) and (not word.endswith('ing')):\n",
    "            final.append(word)\n",
    "    final = \" \".join([item for item in final if not item.isdigit() and item!=''])\n",
    "    while \"  \" in final:\n",
    "        final = final.replace(\"  \",\" \")\n",
    "    return final\n",
    "                       \n",
    "def clean_descriptions(docs):\n",
    "    final = []\n",
    "    for doc in docs:\n",
    "        clean_doc = remove_stops(doc, stops)\n",
    "        final.append(clean_doc)\n",
    "    return final\n",
    "\n",
    "def lemmatization(text_data, postags_allowed = [\"NOUN\",\"ADJ\",\"VERB\",\"ADV\"]):\n",
    "    nlp = spacy.load(\"en_core_web_sm\", disable = [\"parser\", \"ner\"])\n",
    "    texts = []\n",
    "    for text in text_data:\n",
    "        doc = nlp(text)\n",
    "        lem_text = []\n",
    "        for token in doc:\n",
    "            if token.pos_ in postags_allowed:\n",
    "                lem_text.append(token.lemma_)\n",
    "        final_text = ' '.join(lem_text)\n",
    "        texts.append(final_text)\n",
    "    return texts\n",
    "\n",
    "# # lemmatization -- do lemmatization for just the verbs\n",
    "# def get_lemmatized(text):\n",
    "#     lemmatized = []\n",
    "#     for phrase in text:\n",
    "#         sentence=''\n",
    "#         for word in nlp(phrase):\n",
    "#             if word.pos_ == \"VERB\":\n",
    "#                 #or word.pos_ == \"ADJ\" or word.pos_ == \"ADV\":\n",
    "#                 sentence += ' ' + str(word.lemma_)\n",
    "#             elif str(word)!='':\n",
    "#                 sentence += ' ' + str(word)\n",
    "#         lemmatized.append(sentence.strip())\n",
    "#     return lemmatized\n",
    "\n",
    "# def get_named_entities(text):\n",
    "#     return nlp(text.lower()).ents\n",
    "\n",
    "# def get_noun_chunks(text):\n",
    "#     non_stop_noun_chunks = []\n",
    "#     stops = stopwords.words(\"english\")\n",
    "#     for word in nlp(text.lower()).noun_chunks:\n",
    "#         if str(word) not in stops:\n",
    "#             non_stop_noun_chunks.append(word)\n",
    "#     return non_stop_noun_chunks"
   ]
  },
  {
   "cell_type": "markdown",
   "metadata": {},
   "source": [
    "#### load genres and topics collected using show names"
   ]
  },
  {
   "cell_type": "code",
   "execution_count": null,
   "metadata": {},
   "outputs": [],
   "source": [
    "# with open(\"show_names_genres_topics.txt\",\"r\") as f:\n",
    "#     lines = f.readlines()"
   ]
  },
  {
   "cell_type": "code",
   "execution_count": null,
   "metadata": {},
   "outputs": [],
   "source": [
    "# podcasts_genres_topics = {}\n",
    "# for line in lines:\n",
    "#     l = line.strip().split(\",\")\n",
    "#     podcasts_genres_topics[(int(l[0]), l[1].strip())] = [s.strip() for s in l[2:-1]]"
   ]
  },
  {
   "cell_type": "markdown",
   "metadata": {},
   "source": [
    "#### Collect show descriptions and episode descriptions"
   ]
  },
  {
   "cell_type": "code",
   "execution_count": 5,
   "metadata": {},
   "outputs": [],
   "source": [
    "shows = df.groupby(by=['show_name'])\n",
    "show_names = shows.apply(lambda x: x.show_name.unique()[0])\n",
    "show_descriptions_aggregated = shows.apply(lambda x: x.show_description.unique()[0])\n",
    "episode_descriptions_aggregated = shows.apply(lambda x: list(x.episode_description))\n",
    "\n",
    "podcasts_genres_topics = {}\n",
    "for k,show in enumerate(show_names):\n",
    "    keywords = show.lower().split(\" \")\n",
    "    for word in keywords:\n",
    "        if word in genres_topics:\n",
    "            if (k,show) in podcasts_genres_topics:\n",
    "                if word not in podcasts_genres_topics[(k,show)]:\n",
    "                    podcasts_genres_topics[(k,show)].append(word)\n",
    "            else:\n",
    "                podcasts_genres_topics[(k,show)] = [word]\n",
    "podcasts = [item[1] for item in podcasts_genres_topics.keys()]"
   ]
  },
  {
   "cell_type": "code",
   "execution_count": 6,
   "metadata": {},
   "outputs": [],
   "source": [
    "topics_genres_found = set()\n",
    "for list_of_words in list(podcasts_genres_topics.values()):\n",
    "    topics_genres_found = topics_genres_found.union([word for word in list_of_words]) "
   ]
  },
  {
   "cell_type": "code",
   "execution_count": 7,
   "metadata": {},
   "outputs": [
    {
     "name": "stdout",
     "output_type": "stream",
     "text": [
      "We find approimately 46 genres/topics by doing a keyword search of the podcast names\n"
     ]
    }
   ],
   "source": [
    "print(f'We find approimately {len(topics_genres_found)//2} genres/topics by doing a keyword search of the podcast names')"
   ]
  },
  {
   "cell_type": "code",
   "execution_count": 8,
   "metadata": {},
   "outputs": [],
   "source": [
    "descriptions_aggregated = {}\n",
    "for k,text in enumerate(episode_descriptions_aggregated):\n",
    "    descriptions_aggregated[show_names[k]] = [show_descriptions_aggregated[k]]+text"
   ]
  },
  {
   "cell_type": "code",
   "execution_count": 9,
   "metadata": {},
   "outputs": [],
   "source": [
    "def normalize_docs(text_data):\n",
    "    final_texts = []\n",
    "    for text in text_data:\n",
    "        new_text = gensim.utils.simple_preprocess(text,deacc=True)\n",
    "        final_texts.append(new_text)\n",
    "    return final_texts\n",
    "\n",
    "#texts = [text for text in [lemmatization(descriptions_aggregated[item]) for item in podcasts] if text!='']\n",
    "#texts = [normalize_docs(text) for text in texts]\n",
    "\n",
    "texts = [text for text in [normalize_docs(descriptions_aggregated[item]) for item in podcasts] if text!='']\n",
    "\n",
    "texts = [' '.join(clean_descriptions(text)) for text in texts]\n",
    "\n",
    "#texts = [lemmatization(text) for text in texts]"
   ]
  },
  {
   "cell_type": "markdown",
   "metadata": {},
   "source": [
    "#### optimizing for max_df and min_df and number of clusters"
   ]
  },
  {
   "cell_type": "code",
   "execution_count": 10,
   "metadata": {},
   "outputs": [],
   "source": [
    "from itertools import product\n",
    "sns.set_style(\"darkgrid\")\n",
    "from sklearn.decomposition import TruncatedSVD\n",
    "\n",
    "number_of_clusters = np.arange(2,31,2)\n",
    "df_parameters = list(product([2,3,4,5,6,7,8,9,10],[0.3,0.4,0.5,0.6,0.7,0.8,0.9]))\n",
    "silhouette_scores = np.zeros((number_of_clusters.shape[0],len(df_parameters)))"
   ]
  },
  {
   "cell_type": "code",
   "execution_count": null,
   "metadata": {},
   "outputs": [],
   "source": [
    "i = 0\n",
    "for n,m in df_parameters:\n",
    "    desc_tfidf_vectorizer = TfidfVectorizer(lowercase=True,\n",
    "                                       min_df = n,\n",
    "                                       max_df = m,\n",
    "                                       ngram_range = (1,2),\n",
    "                                       stop_words = stops)\n",
    "\n",
    "    matrix = desc_tfidf_vectorizer.fit_transform(cleaned_descriptions)\n",
    "    matrix_dense = matrix.todense()\n",
    "    svd = TruncatedSVD(n_components=500)\n",
    "    X = svd.fit_transform(matrix_dense)\n",
    "    clustering_model = KMeans(n_clusters=number_of_clusters,\n",
    "                              init = \"k-means++\",\n",
    "                              max_iter=500,\n",
    "                              random_state=123)\n",
    "    \n",
    "    model = KElbowVisualizer(clustering_model,\n",
    "                             k=number_of_clusters,\n",
    "                             locate_elbow=False,\n",
    "                             metric='silhouette',\n",
    "                             timings=False)\n",
    "    model.fit(X)\n",
    "    silhouette_scores[:,i] = model.k_scores_\n",
    "    i = i + 1\n",
    "    print(i)"
   ]
  },
  {
   "cell_type": "code",
   "execution_count": 43,
   "metadata": {},
   "outputs": [
    {
     "data": {
      "text/plain": [
       "0.04709111252148093"
      ]
     },
     "execution_count": 43,
     "metadata": {},
     "output_type": "execute_result"
    }
   ],
   "source": [
    "np.max(silhouette_scores[14])"
   ]
  },
  {
   "cell_type": "code",
   "execution_count": 15,
   "metadata": {},
   "outputs": [
    {
     "data": {
      "text/plain": [
       "0.05017445243913012"
      ]
     },
     "execution_count": 15,
     "metadata": {},
     "output_type": "execute_result"
    }
   ],
   "source": [
    "np.max(silhouette_scores)"
   ]
  },
  {
   "cell_type": "code",
   "execution_count": 42,
   "metadata": {},
   "outputs": [
    {
     "data": {
      "text/plain": [
       "array([ 2,  4,  6,  8, 10, 12, 14, 16, 18, 20, 22, 24, 26, 28, 30])"
      ]
     },
     "execution_count": 42,
     "metadata": {},
     "output_type": "execute_result"
    }
   ],
   "source": [
    "number_of_clusters"
   ]
  },
  {
   "cell_type": "code",
   "execution_count": 53,
   "metadata": {},
   "outputs": [
    {
     "data": {
      "text/plain": [
       "(10, 0.6)"
      ]
     },
     "execution_count": 53,
     "metadata": {},
     "output_type": "execute_result"
    }
   ],
   "source": [
    "df_parameters[np.argmax(silhouette_scores[9,:])]"
   ]
  },
  {
   "cell_type": "code",
   "execution_count": 11,
   "metadata": {},
   "outputs": [],
   "source": [
    "desc_tfidf_vectorizer = TfidfVectorizer(lowercase=True,\n",
    "                                       min_df = 10,\n",
    "                                       max_df = 0.6,\n",
    "                                       ngram_range = (1,2),\n",
    "                                       stop_words = stops)\n",
    "\n",
    "matrix = desc_tfidf_vectorizer.fit_transform(texts)\n",
    "features = desc_tfidf_vectorizer.get_feature_names() #contains the same information as mapping, as a list\n",
    "# mapping = nes_tfidf_vectorizer.vocabulary_ #contains the same information as features, as a dictiionary \n",
    "matrix_dense = matrix.todense()\n",
    "matrix_denselist = matrix_dense.tolist()"
   ]
  },
  {
   "cell_type": "code",
   "execution_count": 12,
   "metadata": {},
   "outputs": [],
   "source": [
    "all_keywords = {}\n",
    "\n",
    "for text,name in zip(matrix_denselist,podcasts):\n",
    "    k = 0\n",
    "    keywords = []\n",
    "    for word in text:\n",
    "        if word > 0:\n",
    "            keywords.append(features[k])\n",
    "        k += 1\n",
    "    all_keywords[name] = keywords"
   ]
  },
  {
   "cell_type": "code",
   "execution_count": 33,
   "metadata": {},
   "outputs": [],
   "source": [
    "svd = TruncatedSVD(n_components=500)\n",
    "X = svd.fit_transform(matrix_dense)"
   ]
  },
  {
   "cell_type": "code",
   "execution_count": 34,
   "metadata": {},
   "outputs": [],
   "source": [
    "#np.cumsum(svd.explained_variance_ratio_)"
   ]
  },
  {
   "cell_type": "code",
   "execution_count": 47,
   "metadata": {},
   "outputs": [],
   "source": [
    "n_clusters = 20\n",
    "\n",
    "kmeans = KMeans(n_clusters=n_clusters,\n",
    "                init = \"k-means++\",\n",
    "                #n_init=20, \n",
    "                max_iter=500,\n",
    "                random_state=123)\n",
    "\n",
    "kmeans.fit(X)\n",
    "\n",
    "# getting most important words for each cluster based on their centers\n",
    "# order_centers = model.cluster_centers_.argsort()[:,::-1]\n",
    "\n",
    "original_space_centroids = svd.inverse_transform(kmeans.cluster_centers_)\n",
    "order_centroids = original_space_centroids.argsort()[:, ::-1]"
   ]
  },
  {
   "cell_type": "code",
   "execution_count": 48,
   "metadata": {},
   "outputs": [
    {
     "data": {
      "text/plain": [
       "(20, 3458)"
      ]
     },
     "execution_count": 48,
     "metadata": {},
     "output_type": "execute_result"
    }
   ],
   "source": [
    "## let me settle for 23 number of topics\n",
    "order_centroids.shape"
   ]
  },
  {
   "cell_type": "code",
   "execution_count": 49,
   "metadata": {},
   "outputs": [
    {
     "name": "stdout",
     "output_type": "stream",
     "text": [
      "Cluster 0: weight, loss, weight loss, body, health, lose, fitness, lose weight, diet, food,\n",
      "Cluster 1: theories, geography, conspiracy, research, theory, conspiracy theories, human, jordan, psychology, planet,\n",
      "Cluster 2: english, language, vocabulary, speak, idioms, grammar, improve, american, words, english english,\n",
      "Cluster 3: sports, college, news, sports sports, football, hosted, sport, kobe, game, agency,\n",
      "Cluster 4: health, public health, public, nutrition, healthy, wellness, university, care, women, issues,\n",
      "Cluster 5: book, books, read, club, literature, children, classic, authors, movie, spoilers,\n",
      "Cluster 6: jacob, ancient, history, overview, britain, religion, explore, past, creative, rome,\n",
      "Cluster 7: fantasy, fantasy football, football, league, season, players, draft, predictions, rankings, waiver,\n",
      "Cluster 8: music, artists, album, music industry, country, industry, artist, song, songs, musicians,\n",
      "Cluster 9: history, gcse, american, united states, united, states, exam, class, overview, jackson,\n",
      "Cluster 10: kids, short, important, play, college, mentally, parent, helpful, jokes, books,\n",
      "Cluster 11: church, pastor, jesus, faith, sermons, series, sunday, christ, sermon, bible,\n",
      "Cluster 12: season, food, culture, social, game, series, school, science, episodes, fashion,\n",
      "Cluster 13: news, news interviews, basketball, interviews, lists, tune, summer, movie, literary, book,\n",
      "Cluster 14: comedy, cats, comedian, stand, warrior, scene, wrap, dogs, attempt, movie,\n",
      "Cluster 15: movies, film, movie, films, horror, culture, producer, wars, school, list,\n",
      "Cluster 16: fitness, health, health fitness, personal, nutrition, fitness industry, body, trainer, industry, coach,\n",
      "Cluster 17: business, digital, social, media, industry, social media, money, company, online, brand,\n",
      "Cluster 18: crime, true crime, true, cases, case, murders, murder, serial, killer, unsolved,\n",
      "Cluster 19: mental, mental health, health, experiences, anxiety, personal, personal experiences, wellness, introduction, emotional,\n"
     ]
    }
   ],
   "source": [
    "terms = desc_tfidf_vectorizer.get_feature_names()\n",
    "topics_to_terms = {}\n",
    "for i in range(n_clusters):\n",
    "    print(\"Cluster %d:\" % i, end=\"\")\n",
    "    topics_to_terms[i] = []\n",
    "    for ind in order_centroids[i, :10]:\n",
    "        print(\" %s\" % terms[ind], end=\",\")\n",
    "        topics_to_terms[i].append(terms[ind])\n",
    "    print()"
   ]
  },
  {
   "cell_type": "code",
   "execution_count": null,
   "metadata": {},
   "outputs": [],
   "source": [
    "# viz = KElbowVisualizer(model,k=(2,31),metric='calinski_harabasz',locate_elbow=False,timings=False)\n",
    "\n",
    "# viz.fit(matrix_dense);\n",
    "# viz.show();"
   ]
  },
  {
   "cell_type": "code",
   "execution_count": 18,
   "metadata": {},
   "outputs": [],
   "source": [
    "# sns.set_style(\"darkgrid\")\n",
    "# viz = KElbowVisualizer(kmeans,k=(2,51),metric='silhouette',locate_elbow=False,timings=False)\n",
    "\n",
    "# viz.fit(X);\n",
    "# viz.show();"
   ]
  },
  {
   "cell_type": "code",
   "execution_count": 53,
   "metadata": {},
   "outputs": [
    {
     "data": {
      "text/html": [
       "<div>\n",
       "<style scoped>\n",
       "    .dataframe tbody tr th:only-of-type {\n",
       "        vertical-align: middle;\n",
       "    }\n",
       "\n",
       "    .dataframe tbody tr th {\n",
       "        vertical-align: top;\n",
       "    }\n",
       "\n",
       "    .dataframe thead th {\n",
       "        text-align: right;\n",
       "    }\n",
       "</style>\n",
       "<table border=\"1\" class=\"dataframe\">\n",
       "  <thead>\n",
       "    <tr style=\"text-align: right;\">\n",
       "      <th></th>\n",
       "      <th>summer</th>\n",
       "      <th>christ</th>\n",
       "      <th>important</th>\n",
       "      <th>nutrition</th>\n",
       "      <th>kids</th>\n",
       "      <th>jokes</th>\n",
       "      <th>fantasy football</th>\n",
       "      <th>basketball</th>\n",
       "      <th>healthy</th>\n",
       "      <th>dogs</th>\n",
       "      <th>...</th>\n",
       "      <th>britain</th>\n",
       "      <th>players</th>\n",
       "      <th>food</th>\n",
       "      <th>league</th>\n",
       "      <th>jordan</th>\n",
       "      <th>care</th>\n",
       "      <th>helpful</th>\n",
       "      <th>jackson</th>\n",
       "      <th>planet</th>\n",
       "      <th>Cluster</th>\n",
       "    </tr>\n",
       "  </thead>\n",
       "  <tbody>\n",
       "    <tr>\n",
       "      <th>0</th>\n",
       "      <td>0.0</td>\n",
       "      <td>0.000000</td>\n",
       "      <td>0.0</td>\n",
       "      <td>0.0</td>\n",
       "      <td>0.0</td>\n",
       "      <td>0.0</td>\n",
       "      <td>0.0</td>\n",
       "      <td>0.0</td>\n",
       "      <td>0.0</td>\n",
       "      <td>0.0</td>\n",
       "      <td>...</td>\n",
       "      <td>0.0</td>\n",
       "      <td>0.0</td>\n",
       "      <td>0.0</td>\n",
       "      <td>0.0</td>\n",
       "      <td>0.0</td>\n",
       "      <td>0.0</td>\n",
       "      <td>0.0</td>\n",
       "      <td>0.0</td>\n",
       "      <td>0.529393</td>\n",
       "      <td>1</td>\n",
       "    </tr>\n",
       "    <tr>\n",
       "      <th>1</th>\n",
       "      <td>0.0</td>\n",
       "      <td>0.167029</td>\n",
       "      <td>0.0</td>\n",
       "      <td>0.0</td>\n",
       "      <td>0.0</td>\n",
       "      <td>0.0</td>\n",
       "      <td>0.0</td>\n",
       "      <td>0.0</td>\n",
       "      <td>0.0</td>\n",
       "      <td>0.0</td>\n",
       "      <td>...</td>\n",
       "      <td>0.0</td>\n",
       "      <td>0.0</td>\n",
       "      <td>0.0</td>\n",
       "      <td>0.0</td>\n",
       "      <td>0.0</td>\n",
       "      <td>0.0</td>\n",
       "      <td>0.0</td>\n",
       "      <td>0.0</td>\n",
       "      <td>0.000000</td>\n",
       "      <td>12</td>\n",
       "    </tr>\n",
       "    <tr>\n",
       "      <th>2</th>\n",
       "      <td>0.0</td>\n",
       "      <td>0.000000</td>\n",
       "      <td>0.0</td>\n",
       "      <td>0.0</td>\n",
       "      <td>0.0</td>\n",
       "      <td>0.0</td>\n",
       "      <td>0.0</td>\n",
       "      <td>0.0</td>\n",
       "      <td>0.0</td>\n",
       "      <td>0.0</td>\n",
       "      <td>...</td>\n",
       "      <td>0.0</td>\n",
       "      <td>0.0</td>\n",
       "      <td>0.0</td>\n",
       "      <td>0.0</td>\n",
       "      <td>0.0</td>\n",
       "      <td>0.0</td>\n",
       "      <td>0.0</td>\n",
       "      <td>0.0</td>\n",
       "      <td>0.000000</td>\n",
       "      <td>12</td>\n",
       "    </tr>\n",
       "    <tr>\n",
       "      <th>3</th>\n",
       "      <td>0.0</td>\n",
       "      <td>0.000000</td>\n",
       "      <td>0.0</td>\n",
       "      <td>0.0</td>\n",
       "      <td>0.0</td>\n",
       "      <td>0.0</td>\n",
       "      <td>0.0</td>\n",
       "      <td>0.0</td>\n",
       "      <td>0.0</td>\n",
       "      <td>0.0</td>\n",
       "      <td>...</td>\n",
       "      <td>0.0</td>\n",
       "      <td>0.0</td>\n",
       "      <td>0.0</td>\n",
       "      <td>0.0</td>\n",
       "      <td>0.0</td>\n",
       "      <td>0.0</td>\n",
       "      <td>0.0</td>\n",
       "      <td>0.0</td>\n",
       "      <td>0.000000</td>\n",
       "      <td>5</td>\n",
       "    </tr>\n",
       "    <tr>\n",
       "      <th>4</th>\n",
       "      <td>0.0</td>\n",
       "      <td>0.000000</td>\n",
       "      <td>0.0</td>\n",
       "      <td>0.0</td>\n",
       "      <td>0.0</td>\n",
       "      <td>0.0</td>\n",
       "      <td>0.0</td>\n",
       "      <td>0.0</td>\n",
       "      <td>0.0</td>\n",
       "      <td>0.0</td>\n",
       "      <td>...</td>\n",
       "      <td>0.0</td>\n",
       "      <td>0.0</td>\n",
       "      <td>0.0</td>\n",
       "      <td>0.0</td>\n",
       "      <td>0.0</td>\n",
       "      <td>0.0</td>\n",
       "      <td>0.0</td>\n",
       "      <td>0.0</td>\n",
       "      <td>0.000000</td>\n",
       "      <td>12</td>\n",
       "    </tr>\n",
       "  </tbody>\n",
       "</table>\n",
       "<p>5 rows × 136 columns</p>\n",
       "</div>"
      ],
      "text/plain": [
       "   summer    christ  important  nutrition  kids  jokes  fantasy football  \\\n",
       "0     0.0  0.000000        0.0        0.0   0.0    0.0               0.0   \n",
       "1     0.0  0.167029        0.0        0.0   0.0    0.0               0.0   \n",
       "2     0.0  0.000000        0.0        0.0   0.0    0.0               0.0   \n",
       "3     0.0  0.000000        0.0        0.0   0.0    0.0               0.0   \n",
       "4     0.0  0.000000        0.0        0.0   0.0    0.0               0.0   \n",
       "\n",
       "   basketball  healthy  dogs  ...  britain  players  food  league  jordan  \\\n",
       "0         0.0      0.0   0.0  ...      0.0      0.0   0.0     0.0     0.0   \n",
       "1         0.0      0.0   0.0  ...      0.0      0.0   0.0     0.0     0.0   \n",
       "2         0.0      0.0   0.0  ...      0.0      0.0   0.0     0.0     0.0   \n",
       "3         0.0      0.0   0.0  ...      0.0      0.0   0.0     0.0     0.0   \n",
       "4         0.0      0.0   0.0  ...      0.0      0.0   0.0     0.0     0.0   \n",
       "\n",
       "   care  helpful  jackson    planet  Cluster  \n",
       "0   0.0      0.0      0.0  0.529393        1  \n",
       "1   0.0      0.0      0.0  0.000000       12  \n",
       "2   0.0      0.0      0.0  0.000000       12  \n",
       "3   0.0      0.0      0.0  0.000000        5  \n",
       "4   0.0      0.0      0.0  0.000000       12  \n",
       "\n",
       "[5 rows x 136 columns]"
      ]
     },
     "execution_count": 53,
     "metadata": {},
     "output_type": "execute_result"
    }
   ],
   "source": [
    "top_words = set()\n",
    "for k in range(15):\n",
    "    top_words = top_words.union([features[i] for i in order_centroids[k][0:10]])\n",
    "    \n",
    "top_words = list(top_words)\n",
    "words_cluster_df = pd.DataFrame(matrix_dense, columns=features)[top_words]\n",
    "words_cluster_df['Cluster'] = kmeans.labels_.tolist()\n",
    "words_cluster_df.head(5)"
   ]
  },
  {
   "cell_type": "code",
   "execution_count": 93,
   "metadata": {},
   "outputs": [],
   "source": [
    "texts_biggest_cluster = [[[k,(w,y)] for (w,y) in zip(biggest_cluster_df.iloc[k].index.tolist()[:-1],\\\n",
    "                         biggest_cluster_df.iloc[k].tolist()[:-1]) if y>0]\\\n",
    "                         for k in range(len(biggest_cluster_df))]"
   ]
  },
  {
   "cell_type": "code",
   "execution_count": 102,
   "metadata": {},
   "outputs": [],
   "source": [
    "word_totals = {i:words_cluster_df.groupby('Cluster').sum().loc[i].to_dict() for i in range(len(number_of_clusters))}"
   ]
  },
  {
   "cell_type": "code",
   "execution_count": 96,
   "metadata": {},
   "outputs": [
    {
     "data": {
      "image/png": "[encoded data removed]",
      "text/plain": [
       "<Figure size 1440x360 with 1 Axes>"
      ]
     },
     "metadata": {},
     "output_type": "display_data"
    }
   ],
   "source": [
    "biggest_cluster_df = words_cluster_df[words_cluster_df['Cluster']==1]\n",
    "\n",
    "biggest_cluster_df.groupby('Cluster').sum().transpose().\\\n",
    "    plot.bar(figsize=(20,5), width=0.7).\\\n",
    "    set(ylabel='Word frequency', \n",
    "    title='Word Frequencies by Topic, Combining the Top {} Words in Each Topic'.format(10));"
   ]
  },
  {
   "cell_type": "code",
   "execution_count": 51,
   "metadata": {},
   "outputs": [
    {
     "data": {
      "image/png": "[encoded data removed]",
      "text/plain": [
       "<Figure size 1440x576 with 1 Axes>"
      ]
     },
     "metadata": {},
     "output_type": "display_data"
    }
   ],
   "source": [
    "plt.figure(figsize=(20,8))\n",
    "words_cluster_df.groupby('Cluster').count()[top_words[0]].plot.bar(rot=0).set(ylabel='Document count',title='Number of Documents per Cluster');"
   ]
  },
  {
   "cell_type": "code",
   "execution_count": 97,
   "metadata": {},
   "outputs": [],
   "source": [
    "# words_cluster_df.groupby('Cluster').sum().transpose().\\\n",
    "#     plot.bar(figsize=(20,5), width=0.7).\\\n",
    "#     set(ylabel='Word frequency', \n",
    "#     title='Word Frequencies by Topic, Combining the Top {} Words in Each Topic'.format(10));"
   ]
  },
  {
   "cell_type": "code",
   "execution_count": 24,
   "metadata": {},
   "outputs": [],
   "source": [
    "# get the show description to cluster association \n",
    "\n",
    "show_vs_cluster = {}\n",
    "for k in range(n_clusters):\n",
    "    for name in podcasts:\n",
    "        n = set(all_keywords[name]).intersection(set([features[j] for j in order_centroids[k][:20]]))\n",
    "        if len(n) >= 15:\n",
    "            if k not in show_vs_cluster:\n",
    "                show_vs_cluster[k] = [name]\n",
    "            else:\n",
    "                show_vs_cluster[k].extend([name])"
   ]
  },
  {
   "cell_type": "code",
   "execution_count": 28,
   "metadata": {},
   "outputs": [],
   "source": [
    "# with open(\"topics_to_terms.csv\",'w') as f:\n",
    "#     writer = csv.writer(f)\n",
    "#     for n,terms in topics_to_terms.items():\n",
    "#         writer.writerow([n]+terms)\n",
    "        \n",
    "with open(\"shows_to_clusters.csv\",'w') as f:\n",
    "    writer = csv.writer(f)\n",
    "    for n,pods in show_vs_cluster.items():\n",
    "        writer.writerow([n]+pods)        "
   ]
  },
  {
   "cell_type": "code",
   "execution_count": null,
   "metadata": {},
   "outputs": [],
   "source": [
    "# import matplotlib.pyplot as plt\n",
    "# from sklearn.decomposition import PCA\n",
    "# from sklearn.preprocessing import StandardScaler\n",
    "\n",
    "# reduced_data = PCA(n_components=2).fit_transform(matrix_dense)\n",
    "#     #StandardScaler().fit_transform(matrix_dense))\n",
    "# kmeans = KMeans(init=\"k-means++\", n_clusters=20, n_init=4,random_state=123)\n",
    "# kmeans.fit(reduced_data)\n",
    "\n",
    "# # Step size of the mesh. Decrease to increase the quality of the VQ.\n",
    "# h = 0.002  # point in the mesh [x_min, x_max]x[y_min, y_max].\n",
    "\n",
    "# # Plot the decision boundary. For that, we will assign a color to each\n",
    "# x_min, x_max = reduced_data[:, 0].min() - 1, reduced_data[:, 0].max() + 1\n",
    "# y_min, y_max = reduced_data[:, 1].min() - 1, reduced_data[:, 1].max() + 1\n",
    "# xx, yy = np.meshgrid(np.arange(x_min, x_max, h), np.arange(y_min, y_max, h))\n",
    "\n",
    "# # Obtain labels for each point in mesh. Use last trained model.\n",
    "# Z = kmeans.predict(np.c_[xx.ravel(), yy.ravel()])\n",
    "\n",
    "# # Put the result into a color plot\n",
    "# Z = Z.reshape(xx.shape)\n",
    "# plt.figure(1)\n",
    "# plt.clf()\n",
    "# plt.imshow(\n",
    "#     Z,\n",
    "#     interpolation=\"nearest\",\n",
    "#     extent=(xx.min(), xx.max(), yy.min(), yy.max()),\n",
    "#     cmap=plt.cm.Paired,\n",
    "#     aspect=\"auto\",\n",
    "#     origin=\"lower\",\n",
    "# )\n",
    "\n",
    "# plt.plot(reduced_data[:, 0], reduced_data[:, 1], \"k.\", markersize=2)\n",
    "# # Plot the centroids as a white X\n",
    "# centroids = kmeans.cluster_centers_\n",
    "# plt.scatter(\n",
    "#     centroids[:, 0],\n",
    "#     centroids[:, 1],\n",
    "#     marker=\"x\",\n",
    "#     s=169,\n",
    "#     linewidths=3,\n",
    "#     color=\"w\",\n",
    "#     zorder=10,\n",
    "# )\n",
    "# plt.title(\n",
    "#     \"K-means clustering on podcast descriptions (PCA-reduced data)\\n\"\n",
    "#     \"Centroids are marked with white cross\"\n",
    "# )\n",
    "# plt.xlim(x_min, x_max)\n",
    "# plt.ylim(y_min, y_max)\n",
    "# plt.xticks(())\n",
    "# plt.yticks(())\n",
    "# plt.show()\n"
   ]
  },
  {
   "cell_type": "code",
   "execution_count": null,
   "metadata": {},
   "outputs": [],
   "source": [
    "# import matplotlib.pyplot as plt\n",
    "# from sklearn.decomposition import PCA\n",
    "# from sklearn.preprocessing import StandardScaler\n",
    "\n",
    "# reduced_data = PCA(n_components=2,random_state=123).fit_transform(matrix_dense)\n",
    "# #fit_transform(StandardScaler().fit_transform(matrix_dense))\n",
    "\n",
    "# plt.scatter(reduced_data[:,0], reduced_data[:,1], c=words_cluster_df['Cluster'], \n",
    "#             cmap='viridis', alpha=0.15)\n",
    "# plt.gca().set(title='Plot for 2-Dimensional PCA Projection', \n",
    "#               xlabel='PCA component 1', ylabel='PCA component 2');"
   ]
  },
  {
   "cell_type": "code",
   "execution_count": 103,
   "metadata": {},
   "outputs": [
    {
     "ename": "ModuleNotFoundError",
     "evalue": "No module named 'wordcloud'",
     "output_type": "error",
     "traceback": [
      "\u001b[0;31m---------------------------------------------------------------------------\u001b[0m",
      "\u001b[0;31mModuleNotFoundError\u001b[0m                       Traceback (most recent call last)",
      "\u001b[0;32m<ipython-input-103-1efa4c64d7cc>\u001b[0m in \u001b[0;36m<module>\u001b[0;34m\u001b[0m\n\u001b[1;32m      1\u001b[0m \u001b[0;32mimport\u001b[0m \u001b[0mmatplotlib\u001b[0m\u001b[0;34m.\u001b[0m\u001b[0mpyplot\u001b[0m \u001b[0;32mas\u001b[0m \u001b[0mplt\u001b[0m\u001b[0;34m\u001b[0m\u001b[0;34m\u001b[0m\u001b[0m\n\u001b[1;32m      2\u001b[0m \u001b[0;32mfrom\u001b[0m \u001b[0mipywidgets\u001b[0m \u001b[0;32mimport\u001b[0m \u001b[0minteract\u001b[0m\u001b[0;34m,\u001b[0m \u001b[0mIntSlider\u001b[0m\u001b[0;34m\u001b[0m\u001b[0;34m\u001b[0m\u001b[0m\n\u001b[0;32m----> 3\u001b[0;31m \u001b[0;32mfrom\u001b[0m \u001b[0mwordcloud\u001b[0m \u001b[0;32mimport\u001b[0m \u001b[0mWordCloud\u001b[0m\u001b[0;34m\u001b[0m\u001b[0;34m\u001b[0m\u001b[0m\n\u001b[0m\u001b[1;32m      4\u001b[0m \u001b[0;34m\u001b[0m\u001b[0m\n\u001b[1;32m      5\u001b[0m \u001b[0;32mdef\u001b[0m \u001b[0mshow_wordcloud\u001b[0m\u001b[0;34m(\u001b[0m\u001b[0mtopic\u001b[0m\u001b[0;34m=\u001b[0m\u001b[0;36m0\u001b[0m\u001b[0;34m)\u001b[0m\u001b[0;34m:\u001b[0m\u001b[0;34m\u001b[0m\u001b[0;34m\u001b[0m\u001b[0m\n",
      "\u001b[0;31mModuleNotFoundError\u001b[0m: No module named 'wordcloud'"
     ]
    }
   ],
   "source": [
    "import matplotlib.pyplot as plt\n",
    "from ipywidgets import interact, IntSlider\n",
    "from wordcloud import WordCloud\n",
    "\n",
    "def show_wordcloud(topic=0):\n",
    "    cloud = WordCloud(background_color='white', colormap='viridis')\n",
    "    cloud.generate_from_frequencies(word_totals[topic])\n",
    "    plt.gca().imshow(cloud)\n",
    "    plt.axis('off')\n",
    "    plt.tight_layout()\n",
    "    \n",
    "slider = IntSlider(min=0, max=number_of_clusters-1, step=1, value=0, description='Topic')\n",
    "interact(show_wordcloud, topic=slider);"
   ]
  },
  {
   "cell_type": "code",
   "execution_count": null,
   "metadata": {},
   "outputs": [],
   "source": []
  }
 ],
 "metadata": {
  "kernelspec": {
   "display_name": "demo",
   "language": "python",
   "name": "demo"
  },
  "language_info": {
   "codemirror_mode": {
    "name": "ipython",
    "version": 3
   },
   "file_extension": ".py",
   "mimetype": "text/x-python",
   "name": "python",
   "nbconvert_exporter": "python",
   "pygments_lexer": "ipython3",
   "version": "3.9.2"
  }
 },
 "nbformat": 4,
 "nbformat_minor": 4
}
