{
 "cells": [
  {
   "cell_type": "markdown",
   "metadata": {},
   "source": [
    "#### Import all the required packages"
   ]
  },
  {
   "cell_type": "code",
   "execution_count": 1,
   "metadata": {},
   "outputs": [],
   "source": [
    "## basic packages\n",
    "import numpy as np\n",
    "import re\n",
    "import csv\n",
    "import time\n",
    "import pandas as pd\n",
    "from itertools import product\n",
    "import matplotlib.pyplot as plt\n",
    "import seaborn as sns\n",
    "sns.set_style('darkgrid')\n",
    "\n",
    "##gensim\n",
    "import gensim\n",
    "import gensim.corpora as corpora\n",
    "from gensim.utils import simple_preprocess\n",
    "from gensim.models import CoherenceModel\n",
    "\n",
    "##spacy and nltk\n",
    "import spacy\n",
    "from nltk.corpus import stopwords\n",
    "from spacy.lang.en.stop_words import STOP_WORDS\n",
    "\n",
    "##vis\n",
    "import pyLDAvis\n",
    "import pyLDAvis.gensim_models as gensimvis\n",
    "pyLDAvis.enable_notebook()\n",
    "\n",
    "import warnings\n",
    "warnings.filterwarnings(\"ignore\",category=DeprecationWarning)"
   ]
  },
  {
   "cell_type": "markdown",
   "metadata": {},
   "source": [
    "#### load the metadata of podcast transcripts"
   ]
  },
  {
   "cell_type": "code",
   "execution_count": 2,
   "metadata": {},
   "outputs": [],
   "source": [
    "global df, show_descriptions\n",
    "\n",
    "meta_data = []\n",
    "with open(\"../data/metadata.tsv\") as csvfile:\n",
    "    csvreader = csv.reader(csvfile,delimiter=\"\\t\")\n",
    "    for row in csvreader:\n",
    "        meta_data.append(row)\n",
    "\n",
    "df = pd.DataFrame(meta_data[1:],columns=meta_data[0])\n",
    "show_filename_prefixes = df.show_filename_prefix\n",
    "episode_filename_prefixes = df.episode_filename_prefix"
   ]
  },
  {
   "cell_type": "code",
   "execution_count": 3,
   "metadata": {},
   "outputs": [],
   "source": [
    "shows = df.groupby(by=['show_name'])\n",
    "show_names = shows.apply(lambda x: x.show_name.unique()[0])\n",
    "show_descriptions_aggregated = shows.apply(lambda x: x.show_description.unique()[0])\n",
    "episode_descriptions_aggregated = shows.apply(lambda x: list(x.episode_description))"
   ]
  },
  {
   "cell_type": "code",
   "execution_count": 4,
   "metadata": {},
   "outputs": [],
   "source": [
    "descriptions_aggregated = {}\n",
    "for k,text in enumerate(episode_descriptions_aggregated):\n",
    "    descriptions_aggregated[show_names[k]] = [show_descriptions_aggregated[k]]+text"
   ]
  },
  {
   "cell_type": "code",
   "execution_count": 5,
   "metadata": {},
   "outputs": [],
   "source": [
    "genres_topics = [\"comedy\",\"news\",\"crime\",\"science\",\"economics\",\"politics\",\"education\",\\\n",
    "                  \"sports\",\"lifestyle\",\"health\",\"wellbeing\",\"religion\",\"faith\",\"music\",\\\n",
    "                  \"art\",\"fashion\",\"literature\",\"humanities\",\"drama\",\"fitness\",\"drama\",\\\n",
    "                  \"fantasy\",\"scifi\",\"gameshow\",\"news quiz\",\"games\",\"game\",\"mental\",\\\n",
    "                  \"humor\",\"research\",\"technology\",\"society\",\"social\",\"culture\",\"lifestyle\",\\\n",
    "                  \"songs\",\"cooking\",\"culinary\",\"food\",\"travel\",\"films\",\"film\",\"movies\",\"tv\",\\\n",
    "                  \"climate\",\"space\",\"planet\",\"digital\",\"artificial intelligence\", \"ai\",\\\n",
    "                  \"cars\",\"car\",\"nutrition\",\"wellness\",\"family\",\"history\",\"geography\",\"physics\",\\\n",
    "                  \"mathematics\",\"math\",\"chemistry\",\"biology\",\"documentary\",\"commentary\",\"nfl\",\\\n",
    "                  \"mls\",\"nba\",\"mlb\",\"stocks\",\"stock\",\"market\",\"wall\",\"street\",\"wallstreet\",\"business\",\\\n",
    "                  \"reality\",\"shows\",\"investing\",\"social media\",\"biography\",\"biographies\",\\\n",
    "                  \"data science\",\"medicine\",\"media\",\"books\",\"book\",\"europe\",\"asia\",\"canada\",\\\n",
    "                  \"south america\",\"north america\",\"america\",\"usa\",\"netflix\",\"adventure\",\"pets\",\"dogs\",\\\n",
    "                  \"cats\",\"dog\",\"cat\",\"nintendo\",\"xbox\",\"playstation\",\"ps4\",\"ps5\",\"theatre\",\"mars\"\\\n",
    "                  \"tennis\",\"australia\",\"conspiracy\",\"war\",\"epidemic\",\"pandemic\",\"climate\",\"change\"\\\n",
    "                  \"astrology\",\"novel\",\"church\",\"christ\",\"romance\",\"english\",\"kids\",\"astronomy\"\\\n",
    "                  \"design\",\"entrepreneurship\",\"marketing\",\"digital\",\"christian\",\"christianity\",\"boardgames\",\\\n",
    "                  \"boardgame\",\"videogames\",\"videogame\",\"twitch\",\"currency\",\"cryptocurrency\",\"federal\",\"bank\",\\\n",
    "                  \"blockchain\",\"bitcoin\",\"nyse\",\"nft\",\"import\",\"export\",\"capital\",\"money\",\"exchange\",\"boxing\",\\\n",
    "                  \"mma\",\"wrestling\",\"excercise\",\"excercises\",\"gym\",\"bodybuilding\",\"body-building\",\"yoga\",\\\n",
    "                  \"stamina\",\"strength\",\"calories\",\"meditation\",\"physical\",\"healthy\",\"pope\",\"bible\",\"catholic\",\\\n",
    "                  \"catholicism\",\"testament\"]\n",
    "\n",
    "formats = [\"monologue\",\"interview\",\"storytelling\",\"repurposed\",\\\n",
    "           \"bite-sized\",\"co-host conversation\",\"debate\",\"narrative\",\\\n",
    "           \"scripted\",\"improvised\"]"
   ]
  },
  {
   "cell_type": "code",
   "execution_count": 6,
   "metadata": {},
   "outputs": [],
   "source": [
    "podcasts_genres_topics = {}\n",
    "for k,show in enumerate(show_names):\n",
    "    keywords = show.lower().split(\" \")\n",
    "    for word in keywords:\n",
    "        if word in genres_topics:\n",
    "            if (k,show) in podcasts_genres_topics:\n",
    "                if word not in podcasts_genres_topics[(k,show)]:\n",
    "                    podcasts_genres_topics[(k,show)].append(word)\n",
    "            else:\n",
    "                podcasts_genres_topics[(k,show)] = [word]\n",
    "podcasts = [item[1] for item in podcasts_genres_topics.keys()]"
   ]
  },
  {
   "cell_type": "code",
   "execution_count": 7,
   "metadata": {},
   "outputs": [],
   "source": [
    "nlp = spacy.load(\"en_core_web_sm\")\n",
    "stops_nltk = set(stopwords.words(\"english\"))\n",
    "stops_spacy = STOP_WORDS.union({'ll', 've', 'pron','okay','oh','like','know','yea','yep','yes','no',\\\n",
    "                                \"like\",\"oh\",\"yeah\",\"okay\",\"wow\",\"podcast\",\"rating\",\"ratings\",\"not\",\\\n",
    "                               \"support\",\"anchor\",\"podcasts\",\"episode\",\"http\",\"https\",\"5star\",\"reviews\",\\\n",
    "                               \"review\",\"instagram\",\"tiktok\",\"amazon\",\"apple\",\"twitter\",\"goole\",\\\n",
    "                               \"facebook\",\"send\",\"voice message\",\"message\",\"voice\",\"subscribe\",\"follow\",\\\n",
    "                               \"sponsor\",\"links\",\"easiest\",\"way\",\"fuck\",\"fucking\",\"talk\",\"discuss\",\\\n",
    "                               \"world\",\"time\",\"want\",\"join\",\"learn\",\"week\",\"things\",\"stuff\",\"find\",\\\n",
    "                               \"enjoy\",\"welcome\",\"share\",\"talk\",\"talking\",\"people\",\"gmail\",\"help\",\"today\",\\\n",
    "                               \"listen\",\"best\",\"stories\",\"story\",\"hope\",\"tips\",\"great\",\"journey\",\\\n",
    "                               \"topics\",\"email\",\"questions\",\"question\",\"going\",\"life\",\"good\",\"friends\",\\\n",
    "                               \"friend\",\"guys\",\"discussing\",\"live\",\"work\",\"student\",\"students\",\"need\",\\\n",
    "                               \"hear\",\"think\",\"change\",\"free\",\"better\",\"little\",\"fucking\",\"fuck\",\"shit\",\\\n",
    "                                \"bitch\",\"sex\",\"easiest\",\"way\",\"currently\",\"follow\",\"follows\",\"needs\",\\\n",
    "                               \"grow\",\"stay\",\"tuned\",\"walk\",\"understand\",\"tell\",\"tells\",\"ask\",\"helps\",\\\n",
    "                                \"feel\",\"feels\",\"look\",\"looks\",\"meet\",\"relate\",\"soon\",\"quick\",\"dude\",\"girl\",\\\n",
    "                                \"girls\",\"guy\",\"literally\",\"spotify\",\"google\",\"totally\",\"played\",\"young\",\\\n",
    "                               \"begin\",\"began\",\"create\",\"month\",\"year\",\"date\",\"day\",\"terms\",\"lose\",\"list\",\\\n",
    "                               \"bought\",\"brings\",\"bring\",\"buy\",\"percent\",\"rate\",\"increase\",\"words\",\"value\",\\\n",
    "                               \"search\",\"awesome\",\"followers\",\"finn\",\"jake\",\"mark\",\"america\",\"american\",\\\n",
    "                               \"speak\",\"funny\",\"hours\",\"hour\",\"honestly\",\"states\",\"united\",\"franklin\",\\\n",
    "                               \"patrick\",\"john\",\"build\",\"dave\",\"excited\",\"process\",\"processes\",\"based\",\\\n",
    "                                \"focus\",\"star\",\"mary\",\"chris\",\"taylor\",\"gotta\",\"liked\",\"hair\",\"adam\",\"chat\",\\\n",
    "                               \"named\",\"died\",\"born\",\"country\",\"mother\",\"father\",\"children\",\"tools\",\\\n",
    "                               \"countries\",\"jordan\",\"tommy\",\"listeners\",\"water\",\"jason\",\"lauren\",\"alex\",\\\n",
    "                               \"laguna\",\"jessica\",\"kristen\",\"examples\",\"example\",\"heidi\",\"stephen\",\"utiful\",\\\n",
    "                               \"everybody\",\"sorry\",\"came\",\"come\",\"meet\",\"whoa\",\"whoaa\",\"yay\",\"whoaw\",\\\n",
    "                               \"somebody\",\"anybody\",\"cool\",\"watch\",\"nice\",\"shall\"})\n",
    "stops = stops_nltk.union(stops_spacy)"
   ]
  },
  {
   "cell_type": "code",
   "execution_count": 8,
   "metadata": {},
   "outputs": [],
   "source": [
    "health_category = [(key,val) for key,val in podcasts_genres_topics.items() if (\"fitness\" in val)\\\n",
    "                                                                or (\"health\" in val)\\\n",
    "                                                                or (\"diet\" in val)\\\n",
    "                                                                or (\"nutrition\" in val)\\\n",
    "                                                                or (\"healthy\" in val)\\\n",
    "                                                                or (\"meditation\" in val)\\\n",
    "                                                                or (\"mental\" in val)\\\n",
    "                                                                or (\"physical\" in val)\\\n",
    "                                                                or (\"excercise\" in val)\\\n",
    "                                                                or (\"calories\" in val)\\\n",
    "                                                                or (\"gym\" in val)\\\n",
    "                                                                or (\"bodybuilding\" in val)\\\n",
    "                                                                or (\"body-building\" in val)\\\n",
    "                                                                or (\"stamina\" in val)\\\n",
    "                                                                or (\"strength\" in val)\\\n",
    "                                                                or (\"excercise\" in val)\\\n",
    "                                                                or (\"yoga\" in val)]"
   ]
  },
  {
   "cell_type": "code",
   "execution_count": 9,
   "metadata": {},
   "outputs": [],
   "source": [
    "sports_category = [(key,val) for key,val in podcasts_genres_topics.items() if (\"sports\" in val)\\\n",
    "                                                            or (\"games\" in val)\\\n",
    "                                                            or (\"game\" in val)\\\n",
    "                                                            or (\"videogame\" in val)\\\n",
    "                                                            or (\"videogames\" in val)\\\n",
    "                                                            or (\"boardgame\" in val)\\\n",
    "                                                            or (\"boardgames\" in val)\\\n",
    "                                                            or (\"xbox\" in val)\\\n",
    "                                                            or (\"nintendo\" in val)\\\n",
    "                                                            or (\"twitch\" in val)\\\n",
    "                                                            or (\"ps4\" in val)\\\n",
    "                                                            or (\"ps5\" in val)\\\n",
    "                                                            or (\"playstation\" in val)\\\n",
    "                                                            or (\"basketball\" in val)\\\n",
    "                                                            or (\"football\" in val)\\\n",
    "                                                            or (\"soccer\" in val)\\\n",
    "                                                            or (\"baseball\" in val)\\\n",
    "                                                            or (\"boxing\" in val)\\\n",
    "                                                            or (\"wrestling\" in val)\\\n",
    "                                                            or (\"mma\" in val)\\\n",
    "                                                            or (\"tennis\" in val)]"
   ]
  },
  {
   "cell_type": "code",
   "execution_count": 8,
   "metadata": {},
   "outputs": [],
   "source": [
    "religion_category = [(key,val) for key,val in podcasts_genres_topics.items() if (\"religion\" in val)\\\n",
    "                                                            or (\"faith\" in val)\\\n",
    "                                                            or (\"church\" in val)\\\n",
    "                                                            or (\"christ\" in val)\\\n",
    "                                                            or (\"christian\" in val)\\\n",
    "                                                            or (\"christianity\" in val)\\\n",
    "                                                            or (\"bible\" in val)\\\n",
    "                                                            or (\"testament\" in val)\\\n",
    "                                                            or (\"pope\" in val)\\\n",
    "                                                            or (\"catholic\" in val)\\\n",
    "                                                            or (\"catholicism\" in val)]"
   ]
  },
  {
   "cell_type": "code",
   "execution_count": 11,
   "metadata": {},
   "outputs": [],
   "source": [
    "invest_category = [(key,val) for key,val in podcasts_genres_topics.items() if (\"market\" in val)\\\n",
    "                                                            or (\"business\" in val)\\\n",
    "                                                            or (\"invest\" in val)\\\n",
    "                                                            or (\"stocks\" in val)\\\n",
    "                                                            or (\"stock\" in val)\\\n",
    "                                                            or (\"wallstreet\" in val)\\\n",
    "                                                            or (\"investing\" in val)\\\n",
    "                                                            or (\"investment\" in val)\\\n",
    "                                                            or (\"exchange\" in val)\\\n",
    "                                                            or (\"nyse\" in val)\\\n",
    "                                                            or (\"capital\" in val)\\\n",
    "                                                            or (\"money\" in val)\\\n",
    "                                                            or (\"currency\" in val)\\\n",
    "                                                            or (\"cryptocurrency\" in val)\\\n",
    "                                                            or (\"blockchain\" in val)\\\n",
    "                                                            or (\"bitcoin\" in val)\\\n",
    "                                                            or (\"federal\" in val)\\\n",
    "                                                            or (\"bank\" in val)\\\n",
    "                                                            or (\"nft\" in val)]"
   ]
  },
  {
   "cell_type": "code",
   "execution_count": 46,
   "metadata": {},
   "outputs": [],
   "source": [
    "number_of_topics = [5,6,7,8,9,10,15]\n",
    "df_parameters = list(product([2,3,4,5,6,7,8,9,10],[0.3,0.4,0.5,0.6,0.7,0.8,0.9]))\n",
    "hyperparams = list(product(number_of_topics,df_parameters))\n",
    "sports_cs = []\n",
    "with open('/home1/sgmark/capstone-project/model/coherence_scores_religion_category.csv','r') as f:\n",
    "    reader = csv.reader(f)\n",
    "    for row in reader:\n",
    "        sports_cs.append([float(x) for x in row])\n",
    "        \n",
    "best_hp_setting = hyperparams[np.argmax([x[5] for x in sports_cs])]"
   ]
  },
  {
   "cell_type": "code",
   "execution_count": 47,
   "metadata": {},
   "outputs": [
    {
     "data": {
      "text/plain": [
       "(5, (6, 0.9))"
      ]
     },
     "execution_count": 47,
     "metadata": {},
     "output_type": "execute_result"
    }
   ],
   "source": [
    "best_hp_setting"
   ]
  },
  {
   "cell_type": "markdown",
   "metadata": {},
   "source": [
    "#### The individual transcript location"
   ]
  },
  {
   "cell_type": "code",
   "execution_count": 13,
   "metadata": {},
   "outputs": [],
   "source": [
    "def file_location(show,episode):\n",
    "    search_string = local_path + \"/spotify-podcasts-2020\" + \"/podcasts-transcripts\" \\\n",
    "                               + \"/\" + show[0] \\\n",
    "                               + \"/\" + show[1] \\\n",
    "                               + \"/\" + \"show_\" + show \\\n",
    "                               + \"/\"\n",
    "    return search_string"
   ]
  },
  {
   "cell_type": "markdown",
   "metadata": {},
   "source": [
    "#### load the transcripts"
   ]
  },
  {
   "cell_type": "code",
   "execution_count": 14,
   "metadata": {},
   "outputs": [],
   "source": [
    "transcripts = {}\n",
    "for podcast,genre in religion_category:\n",
    "    for i in shows.get_group(podcast[1])[['show_filename_prefix','episode_filename_prefix']].index:\n",
    "        show,episode = shows.get_group(podcast[1])[['show_filename_prefix','episode_filename_prefix']].loc[i]\n",
    "        s = show.split(\"_\")[1]\n",
    "        try:\n",
    "            with open('../podcast_transcripts/'+s[0]+'/'+s[1]+'/'+show+'/'+episode+'.txt','r') as f:\n",
    "                transcripts[(show,episode)] = f.readlines()\n",
    "            f.close()\n",
    "        except Exception as e:\n",
    "            pass\n",
    "    \n",
    "keys = list(transcripts.keys())"
   ]
  },
  {
   "cell_type": "code",
   "execution_count": 15,
   "metadata": {},
   "outputs": [],
   "source": [
    "# Cleaning & remove urls and links\n",
    "def remove_stops(text,stops):\n",
    "    final = []\n",
    "    for word in text:\n",
    "        if (word not in stops) and (len(word)>3) and (not word.endswith('ing')) and (not word.endswith('ly')):\n",
    "            final.append(word)\n",
    "    return final\n",
    "                       \n",
    "def clean_text(docs):\n",
    "    final = []\n",
    "    for doc in docs:\n",
    "        clean_doc = remove_stops(doc, stops)\n",
    "        final.extend(clean_doc)\n",
    "    return final\n",
    "\n",
    "def lemmatization(text_data): \n",
    "    nlp = spacy.load(\"en_core_web_sm\")\n",
    "    texts = []\n",
    "    for text in text_data:\n",
    "        doc = nlp(text)\n",
    "        lem_text = []\n",
    "        for token in doc:\n",
    "            if (token.pos_==\"VERB\") or (token.pos_==\"ADV\"):\n",
    "                pass\n",
    "            else:\n",
    "                lem_text.append(token.lemma_)\n",
    "        texts.append(lem_text)\n",
    "    return texts\n",
    "\n",
    "# # lemmatization -- do lemmatization for just the verbs\n",
    "# def get_lemmatized(text):\n",
    "#     lemmatized = []\n",
    "#     for phrase in text:\n",
    "#         sentence=''\n",
    "#         for word in nlp(phrase):\n",
    "#             if word.pos_ == \"VERB\":\n",
    "#                 #or word.pos_ == \"ADJ\" or word.pos_ == \"ADV\":\n",
    "#                 sentence += ' ' + str(word.lemma_)\n",
    "#             elif str(word)!='':\n",
    "#                 sentence += ' ' + str(word)\n",
    "#         lemmatized.append(sentence.strip())\n",
    "#     return lemmatized\n",
    "\n",
    "# def get_named_entities(text):\n",
    "#     return nlp(text.lower()).ents\n",
    "\n",
    "# def get_noun_chunks(text):\n",
    "#     non_stop_noun_chunks = []\n",
    "#     stops = stopwords.words(\"english\")\n",
    "#     for word in nlp(text.lower()).noun_chunks:\n",
    "#         if str(word) not in stops:\n",
    "#             non_stop_noun_chunks.append(word)\n",
    "#     return non_stop_noun_chunks"
   ]
  },
  {
   "cell_type": "markdown",
   "metadata": {},
   "source": [
    "#### tokenize/convert text into words"
   ]
  },
  {
   "cell_type": "code",
   "execution_count": 48,
   "metadata": {},
   "outputs": [],
   "source": [
    "def normalize_docs(text_data):\n",
    "    final_texts = []\n",
    "    for text in text_data:\n",
    "        new_text = gensim.utils.simple_preprocess(text,deacc=True)\n",
    "        final_texts.append(new_text)\n",
    "    return final_texts"
   ]
  },
  {
   "cell_type": "code",
   "execution_count": 49,
   "metadata": {},
   "outputs": [],
   "source": [
    "docs = []\n",
    "for text in transcripts.values():\n",
    "    docs.append(' '.join(clean_text(normalize_docs(text))))"
   ]
  },
  {
   "cell_type": "code",
   "execution_count": 50,
   "metadata": {},
   "outputs": [],
   "source": [
    "texts = lemmatization(docs)\n",
    "texts = [remove_stops(text,stops) for text in texts]"
   ]
  },
  {
   "cell_type": "markdown",
   "metadata": {},
   "source": [
    "### Using bigrams"
   ]
  },
  {
   "cell_type": "code",
   "execution_count": 51,
   "metadata": {},
   "outputs": [],
   "source": [
    "from gensim.models.phrases import Phrases\n",
    "\n",
    "bigram = Phrases(texts, min_count=5)\n",
    "\n",
    "for i in range(len(texts)):\n",
    "    for token in bigram[texts[i]]:\n",
    "        if '_' in token:\n",
    "            texts[i].append(token)"
   ]
  },
  {
   "cell_type": "markdown",
   "metadata": {},
   "source": [
    "#### Construct a corpus of words as a bag of words "
   ]
  },
  {
   "cell_type": "code",
   "execution_count": 52,
   "metadata": {},
   "outputs": [],
   "source": [
    "dictionary = corpora.Dictionary(texts)\n",
    "\n",
    "dictionary.filter_extremes(no_below=best_hp_setting[1][0],no_above=best_hp_setting[1][1])"
   ]
  },
  {
   "cell_type": "code",
   "execution_count": 53,
   "metadata": {},
   "outputs": [],
   "source": [
    "corpus = [dictionary.doc2bow(text) for text in texts]"
   ]
  },
  {
   "cell_type": "code",
   "execution_count": null,
   "metadata": {},
   "outputs": [],
   "source": [
    "# from itertools import product\n",
    "\n",
    "# number_of_topics = [5,6,7,8,9,10,15]\n",
    "# df_parameters = list(product([2,3,4,5,6,7,8,9,10],[0.3,0.4,0.5,0.6,0.7,0.8,0.9]))\n",
    "# coherence_scores_umass = np.zeros((len(number_of_topics),len(df_parameters)))\n",
    "# coherence_scores_uci = np.zeros((len(number_of_topics),len(df_parameters)))\n",
    "# coherence_scores_npmi = np.zeros((len(number_of_topics),len(df_parameters)))\n",
    "\n",
    "# j = 0\n",
    "# for num in number_of_topics:\n",
    "#     i = 0\n",
    "#     for n,m in df_parameters:\n",
    "#         dictionary = corpora.Dictionary(texts)\n",
    "#         dictionary.filter_extremes(no_below=n,no_above=m)\n",
    "#         corpus = [dictionary.doc2bow(text) for text in texts]\n",
    "#         num_topics = num\n",
    "#         chunksize = 200\n",
    "#         passes = 20\n",
    "#         iterations = 500\n",
    "#         eval_every = None\n",
    "\n",
    "#         lda_model = gensim.models.ldamodel.LdaModel(corpus,\n",
    "#                                                    id2word=dictionary,\n",
    "#                                                    num_topics=num_topics,\n",
    "#                                                    chunksize=chunksize,\n",
    "#                                                    passes=passes,\n",
    "#                                                    iterations=iterations,\n",
    "#                                                    alpha='auto',\n",
    "#                                                    eta='auto',\n",
    "#                                                    random_state = 123,\n",
    "#                                                    eval_every=eval_every)\n",
    "#         cm = CoherenceModel(lda_model, texts=texts,corpus=corpus, coherence= 'c_uci')\n",
    "#         coherence_scores_uci[j,i] = cm.get_coherence()\n",
    "#         cm = CoherenceModel(lda_model, texts=texts,corpus=corpus, coherence= 'c_npmi')\n",
    "#         coherence_scores_npmi[j,i] = cm.get_coherence() \n",
    "#         cm = CoherenceModel(lda_model, corpus=corpus, coherence= 'u_mass')\n",
    "#         coherence_scores_umass[j,i] = cm.get_coherence()\n",
    "#         with open(\"coherence_scores_religion_category.csv\",'a') as f:\n",
    "#             writer = csv.writer(f)\n",
    "#             writer.writerow([num,n,m,coherence_scores_uci[j,i],coherence_scores_npmi[j,i],\\\n",
    "#                              coherence_scores_umass[j,i]])\n",
    "#         i += 1\n",
    "#         print(i)\n",
    "#     j += 1\n",
    "#     print(j)"
   ]
  },
  {
   "cell_type": "code",
   "execution_count": 54,
   "metadata": {},
   "outputs": [
    {
     "name": "stdout",
     "output_type": "stream",
     "text": [
      "CPU times: user 31.8 s, sys: 19.8 ms, total: 31.8 s\n",
      "Wall time: 31.8 s\n"
     ]
    }
   ],
   "source": [
    "%%time\n",
    "import logging\n",
    "logging.basicConfig(filename='religion_topics.log', encoding='utf-8',format='%(asctime)s : %(levelname)s : %(message)s', level=logging.DEBUG)\n",
    "\n",
    "num_topics = best_hp_setting[0]\n",
    "chunksize = 200\n",
    "passes = 50\n",
    "iterations = 500\n",
    "eval_every = None\n",
    "\n",
    "lda_model = gensim.models.ldamodel.LdaModel(corpus,\n",
    "                                           id2word=dictionary,\n",
    "                                           num_topics=num_topics,\n",
    "                                           chunksize=chunksize,\n",
    "                                           passes=passes,\n",
    "                                           iterations=iterations,\n",
    "                                           alpha='auto',\n",
    "                                           eta='auto',\n",
    "                                           random_state=123,\n",
    "                                           eval_every=eval_every)"
   ]
  },
  {
   "cell_type": "code",
   "execution_count": 24,
   "metadata": {},
   "outputs": [
    {
     "name": "stdout",
     "output_type": "stream",
     "text": [
      "Average topic coherence: -0.8268.\n"
     ]
    }
   ],
   "source": [
    "top_topics = lda_model.top_topics(corpus) #, num_words=20)\n",
    "\n",
    "# Average topic coherence is the sum of topic coherences of all topics, divided by the number of topics.\n",
    "avg_topic_coherence = sum([t[1] for t in top_topics])/num_topics\n",
    "\n",
    "print('Average topic coherence: %.4f.' % avg_topic_coherence)"
   ]
  },
  {
   "cell_type": "code",
   "execution_count": 55,
   "metadata": {},
   "outputs": [
    {
     "name": "stdout",
     "output_type": "stream",
     "text": [
      "0.02942897361518566\n",
      "0.010920267325592833\n",
      "0.017413806749319347\n",
      "0.030864923889938962\n",
      "0.017170672600274106\n",
      "0.07077519751080304\n"
     ]
    }
   ],
   "source": [
    "cm = CoherenceModel(lda_model, texts = texts, corpus=corpus, coherence='c_npmi')\n",
    "coherence = cm.get_coherence() \n",
    "print(coherence)\n",
    "for x in cm.get_coherence_per_topic(): print(x)"
   ]
  },
  {
   "cell_type": "markdown",
   "metadata": {},
   "source": [
    "### Visualizing data"
   ]
  },
  {
   "cell_type": "code",
   "execution_count": 61,
   "metadata": {},
   "outputs": [
    {
     "data": {
      "text/html": [
       "\n",
       "<link rel=\"stylesheet\" type=\"text/css\" href=\"https://cdn.jsdelivr.net/gh/bmabey/pyLDAvis@3.3.1/pyLDAvis/js/ldavis.v1.0.0.css\">\n",
       "\n",
       "\n",
       "<div id=\"ldavis_el200324478670235023529646518737\"></div>\n",
       "<script type=\"text/javascript\">\n",
       "\n",
       "var ldavis_el200324478670235023529646518737_data = {\"mdsDat\": {\"x\": [0.11899552761527875, -0.026923729247669753, -0.11877485647266639, -0.13833453021854, 0.16503758832359738], \"y\": [-0.11472819992697908, -0.005080433287099671, -0.21242917626263047, 0.15301092173642328, 0.17922688774028595], \"topics\": [1, 2, 3, 4, 5], \"cluster\": [1, 1, 1, 1, 1], \"Freq\": [32.626863015378895, 23.75046680151617, 17.89508835607804, 17.727993077064504, 7.99958874996239]}, \"tinfo\": {\"Term\": [\"lord\", \"jesus\", \"daniel\", \"chapter\", \"word\", \"love\", \"church\", \"verse\", \"kind\", \"kingdom\", \"christ\", \"book\", \"david\", \"power\", \"authority\", \"enemy\", \"religion\", \"heaven\", \"moses\", \"paul\", \"self_control\", \"frustrated\", \"loneliness\", \"unforgiveness\", \"hallelujah_hallelujah\", \"mental_illness\", \"evolve\", \"temperament\", \"appetite\", \"symptom\", \"disrespect\", \"control_control\", \"amen_hallelujah\", \"subconscious\", \"medicine\", \"clap\", \"bitterness\", \"screenshot\", \"workplace\", \"milwaukee\", \"abortion\", \"lust\", \"emotion\", \"stuck\", \"heal\", \"damage\", \"hurt\", \"angry\", \"enemy\", \"mistake\", \"control\", \"fight\", \"destiny\", \"struggle\", \"forgive\", \"release\", \"careful\", \"start\", \"person\", \"issue\", \"spirit\", \"honest\", \"pastor\", \"strong\", \"able\", \"pray\", \"prayer\", \"ready\", \"mean\", \"mind\", \"place\", \"heart\", \"crazy\", \"love\", \"moment\", \"faith\", \"jesus\", \"relationship\", \"scripture\", \"church\", \"verse\", \"bible\", \"word\", \"holiness\", \"sacrament\", \"eucharist\", \"communion\", \"rabbi\", \"samaritan\", \"advent\", \"baptism\", \"unconditional\", \"silas\", \"cody\", \"vocation\", \"paul_silas\", \"elder\", \"aggie\", \"lazarus\", \"roxanne\", \"spiritual_gift\", \"body_blood\", \"catechism\", \"resurrection\", \"timothy\", \"sabbath\", \"gospel\", \"paul\", \"covenant\", \"mass\", \"church\", \"gift\", \"love\", \"christ\", \"jesus\", \"disciple\", \"sunday\", \"grace\", \"community\", \"truth\", \"kind\", \"christian\", \"true\", \"relationship\", \"spirit\", \"faith\", \"heart\", \"word\", \"lord\", \"bible\", \"satanist\", \"cabin\", \"satanism\", \"essay\", \"satanist_bible\", \"camper\", \"mccoy\", \"palabra\", \"vida\", \"patreon\", \"gente\", \"feedback\", \"nietzsche\", \"sacred_text\", \"dialectic\", \"tiene\", \"nosotros\", \"matilda\", \"tiempo\", \"cosa\", \"assumption\", \"album\", \"mental_health\", \"transition\", \"accuser\", \"pope\", \"celebrity\", \"counselor\", \"video\", \"religion\", \"youtube\", \"philosophy\", \"project\", \"summer\", \"belief\", \"staff\", \"mental\", \"music\", \"camp\", \"kind\", \"idea\", \"experience\", \"different\", \"school\", \"health\", \"book\", \"game\", \"college\", \"sense\", \"team\", \"bible\", \"christian\", \"person\", \"mean\", \"point\", \"relationship\", \"true\", \"love\", \"faith\", \"lady_gentleman\", \"wilderness\", \"abram\", \"elizabeth\", \"storm_storm\", \"moses\", \"doer\", \"exercise_authority\", \"foolishness\", \"ruth\", \"bathsheba\", \"gabriel\", \"zacharias\", \"house_rock\", \"kingdom_righteousness\", \"deep_breath\", \"moses_moses\", \"nakedness\", \"land_land\", \"joshua_chapter\", \"storm\", \"solomon\", \"jericho\", \"jonah\", \"gentleman\", \"jacob\", \"abraham\", \"israel\", \"david\", \"joshua\", \"lord\", \"instruction\", \"victory\", \"psalm\", \"land\", \"word\", \"chapter\", \"authority\", \"folk\", \"verse\", \"wisdom\", \"tonight\", \"jesus\", \"house\", \"heaven\", \"bible\", \"place\", \"hand\", \"kingdom\", \"heart\", \"faith\", \"daniel\", \"nebuchadnezzar\", \"babylon\", \"daniel_chapter\", \"alexander\", \"hindi\", \"antichrist\", \"babylonian\", \"empire\", \"persian\", \"meshach\", \"abednego\", \"book_daniel\", \"persia\", \"shadrach\", \"belshazzar\", \"shadrach_meshach\", \"roman_empire\", \"darius\", \"union_church\", \"horn\", \"dominion\", \"beast\", \"leopard\", \"bronze\", \"iron\", \"para\", \"interpretation\", \"lion\", \"quran\", \"gideon\", \"history\", \"kingdom\", \"chapter\", \"temple\", \"jews\", \"verse\", \"book\", \"earth\", \"power\", \"dream\", \"heaven\", \"bible\", \"jesus\", \"tree\", \"authority\"], \"Freq\": [3919.0, 7647.0, 766.0, 1831.0, 3302.0, 5224.0, 4759.0, 2462.0, 3250.0, 987.0, 2231.0, 1163.0, 731.0, 1368.0, 826.0, 1275.0, 676.0, 940.0, 433.0, 761.0, 162.36659383963502, 176.28722255529576, 105.65093700688358, 89.28556040799491, 62.01311216436074, 56.59301327738924, 115.85023197999718, 51.79142123427128, 51.32584468512076, 50.32973026223384, 46.08353103782093, 47.279675774178386, 43.05700616953072, 42.00861684269741, 40.71994809544676, 38.391372102664654, 38.205887743042055, 36.622748047287345, 36.877732460577036, 35.06132737317383, 103.74936856087076, 74.21830926142371, 289.51323722990406, 106.11680716654071, 219.5711529451171, 108.433483777958, 327.01972843452353, 374.46992666625886, 1084.465347649765, 286.9178508450941, 579.5216975142781, 303.55160375871253, 97.30344349891362, 354.52268131545935, 313.8138781854924, 199.21422306743787, 284.53396189520697, 913.2346363040975, 1713.7150084592233, 479.53427066018713, 1721.714394088226, 423.4683983460898, 710.5949083912096, 499.05434534726925, 1221.6119244791641, 660.6521526987545, 1010.8429698465759, 593.5223514046829, 1159.61521780186, 939.7536025072386, 1340.8200085503818, 1157.5586393200556, 477.8174647813015, 1924.8709417395141, 791.2327503923858, 1136.9106435601643, 2234.0713832815363, 941.2486019600807, 761.125341824325, 1541.417969000354, 904.7586229527096, 833.0738787527612, 827.520921111552, 307.1045868611263, 211.18450271151377, 153.82019392334527, 111.11965525581132, 98.64689961436238, 93.46368052212767, 77.52851108785077, 70.24593862156433, 69.41560383033305, 65.46509866013157, 61.20705768800401, 60.563209519828725, 58.16302319945658, 162.4103219394464, 53.8275580112495, 50.00484643441596, 41.880816236262945, 40.87404019990731, 36.00241187007583, 33.19489794224334, 140.42325757520084, 87.16107860675872, 227.87699983747976, 638.7771284069325, 654.8868273772948, 358.87623241459227, 200.32936757724232, 2820.9611741880863, 564.4598551047266, 2835.0024752220656, 1355.0433997568787, 3667.830325023705, 342.3335610318195, 417.7691247519946, 582.2898072349284, 290.9692638652599, 597.4973220265128, 1135.0591222293097, 487.83955423501567, 482.42953639433733, 636.727681325371, 678.4340956707173, 578.474463455975, 531.5151001343472, 483.2694059828253, 486.08595896970087, 437.8870957526498, 148.82845755141656, 146.00499374923328, 91.95599440891311, 92.12697272174056, 76.65758215608213, 67.72633392098494, 64.69423112846663, 62.32590280947698, 60.80957630552491, 54.60686853531317, 53.230761962131034, 51.656962553485144, 47.583145470208166, 46.29641087421142, 45.33926424092758, 42.61844021133142, 42.61780053002917, 39.51056426092016, 38.0703866717099, 36.554042274574535, 100.32371472980515, 64.51962944602508, 138.98778827613785, 125.21816960270893, 63.20826040994825, 209.62837601126637, 67.40628302496, 197.18585000872116, 238.237536252323, 520.3756398172796, 128.39579318154375, 103.12349690391801, 123.85578262780638, 200.64383292977112, 274.93795818601143, 159.8739643228217, 231.15815196733124, 249.92699185018307, 270.7262607056783, 1294.0620692679156, 362.2453840982304, 459.0417798217774, 655.8139394330761, 352.1518751966204, 270.1991990989968, 427.80228585226496, 229.42194060735298, 206.53471619497068, 286.05211215506847, 250.6677517447719, 493.3480580462997, 324.2585138594776, 421.4944735234693, 377.75451542395257, 339.0087594959489, 363.2431437842629, 277.814090573178, 329.4936656370327, 290.9886445968716, 199.39892551993808, 131.60060356552148, 88.74090054342632, 72.5239510859037, 65.11233832250464, 427.51754583060426, 49.86334502923058, 46.62388147015835, 43.992206194857914, 40.73162641226437, 40.728457870854555, 37.8474383284711, 36.907159262649074, 35.07909477753635, 33.77464616285565, 31.92865615326366, 31.36461589857948, 30.04488738070854, 30.024588773816745, 29.38114442825009, 378.12662367828665, 125.58943292694102, 95.66129632624946, 103.35003016450314, 225.98982136202446, 162.7103712411704, 196.67979407020044, 409.6051032174027, 589.4318731129957, 266.76461527341183, 2680.740817054888, 183.26457085233997, 186.10065914807439, 201.35964553348708, 363.9593881484274, 1845.1421167737856, 891.9847337521445, 475.1831152020411, 265.780249166729, 915.9325608644344, 294.3069952959422, 380.9828665563033, 1479.497507747984, 490.11002072159994, 408.61726279398516, 682.0736779899634, 625.1183529053972, 460.6414688657036, 393.75271771459256, 514.3872343316639, 388.75448766522703, 765.932511683732, 200.39056958041903, 181.42159647349925, 105.10683733575297, 98.83659530523433, 83.55244842404015, 74.99262388145146, 62.446568700003695, 144.2160786211051, 50.93861761876184, 47.71500657464232, 46.51747164597744, 45.68633486898925, 42.04872518853723, 41.19426409408034, 39.65402727248398, 38.66265979332391, 37.36913601974022, 33.04440482462675, 32.46978154831877, 221.37210493641368, 118.39953863389331, 197.45228148843475, 61.20319700822001, 67.22832173878327, 138.15521153368007, 120.23176935439066, 149.40359559634268, 151.5931539006122, 68.47656466147863, 72.74125133664757, 230.7345627562307, 375.1745900194788, 488.3836921390824, 173.91967690487976, 131.93948889543398, 413.0126480040491, 281.16568849972555, 208.62394166455417, 257.0947049174792, 153.56188307021915, 190.4378369554165, 233.69830282976005, 266.0755749838112, 155.73965123596028, 151.68744301389108], \"Total\": [3919.0, 7647.0, 766.0, 1831.0, 3302.0, 5224.0, 4759.0, 2462.0, 3250.0, 987.0, 2231.0, 1163.0, 731.0, 1368.0, 826.0, 1275.0, 676.0, 940.0, 433.0, 761.0, 163.12703417764746, 177.16766919322296, 106.43350491591606, 90.04381042823206, 62.78107342970502, 57.357526467065135, 117.58160532637798, 52.56840717990648, 52.10151442664909, 51.121544681081495, 46.84090926343882, 48.103240973026416, 43.81888499919328, 42.786852110458604, 41.487082398282816, 39.15156679465564, 38.97064489436882, 37.400867628654886, 37.66912235975365, 35.81769395491844, 106.87014057176333, 76.2562845562091, 304.41493627973176, 110.22371458503922, 235.15950641817133, 113.64419120238622, 356.62588833001297, 411.405138630936, 1275.3573169327244, 315.998377693891, 663.2134568143184, 338.3999852417589, 102.8486528882509, 413.0693400426963, 364.442688779227, 222.7911901602689, 328.5275615063752, 1216.146061001691, 2561.092290546145, 615.2407770311281, 2680.3363882013155, 534.8831823311104, 1005.6724454387163, 660.8184217865323, 1964.8511201910242, 933.3119306736465, 1668.186121190442, 843.6329759218758, 2020.144046846651, 1550.0350781692894, 2536.782062638665, 2252.863914482929, 638.2059108928569, 5224.769909804916, 1366.8139604007993, 2403.626807492207, 7647.672189543614, 1953.9881715497145, 1358.6226102091546, 4759.072274034845, 2462.2378800078104, 2680.081013371434, 3302.65641625936, 307.8990455376477, 211.96971625485972, 154.60689273082315, 111.92581811922291, 99.45314562324752, 94.25791777536271, 78.31919924600442, 71.04303181637806, 70.2125109752153, 66.27525383963814, 61.99668278385349, 61.35121366698149, 58.958533720354374, 164.65303505209658, 54.61515034843511, 50.81538260906585, 42.676038829216296, 41.66412786544148, 36.78858923848704, 33.98172000487879, 146.05907970395558, 90.26086399561785, 245.67981265069733, 726.1513109379628, 761.1794746233587, 416.27720454684106, 225.46602018037396, 4759.072274034845, 769.237859372885, 5224.769909804916, 2231.773829995563, 7647.672189543614, 475.467501954075, 629.5122268147154, 968.3124341909312, 403.9889230517245, 1028.8874643874417, 3250.7749827047755, 1024.5400455175395, 1013.7856416460324, 1953.9881715497145, 2680.3363882013155, 2403.626807492207, 2252.863914482929, 3302.65641625936, 3919.8120498842222, 2680.081013371434, 149.61233705151912, 146.7923504162273, 92.73911188982672, 92.91282946943495, 77.4414598299726, 68.51031450057546, 65.4779982716603, 63.11291025947335, 61.59670146696119, 55.392614394706484, 54.017326693951496, 52.44149666310996, 48.36599245869608, 47.082648025599845, 46.122044792925074, 43.40481613854122, 43.404372845892475, 40.29338923015926, 38.856606335496004, 37.34037901703276, 103.21503205059443, 66.39236829773544, 148.61831597185534, 135.88484018425652, 65.90122264012763, 242.2763038301734, 70.74865834906133, 227.7102787663908, 283.10275869689076, 676.3426594845191, 143.9081598959537, 113.58027840263443, 143.88609882395505, 258.79931055577845, 383.73038154434755, 198.45141272458918, 315.64477917647133, 349.87105129697915, 403.65000254837224, 3250.7749827047755, 633.9224301640446, 925.1521058726305, 1728.4393157436314, 734.1993601812635, 489.8620158951793, 1163.2057052305795, 400.60690956343973, 339.9413290223425, 703.477283552564, 523.1262297768934, 2680.081013371434, 1024.5400455175395, 2561.092290546145, 2020.144046846651, 1486.1929590457157, 1953.9881715497145, 1013.7856416460324, 5224.769909804916, 2403.626807492207, 200.163804933521, 132.37617227370365, 89.51536721851448, 73.30883752333742, 65.87722504205261, 433.86819050869855, 50.62635772610735, 47.409087920447966, 44.763910362543854, 41.511743022075244, 41.54503517124544, 38.6198538338156, 37.66887353111378, 35.83982515948597, 34.54267336262463, 32.702719050283335, 32.132401122476, 30.810101177031182, 30.79552518719752, 30.140436546057746, 390.2763749533806, 129.3225723637059, 98.26456383285478, 106.75818295297059, 242.44116899465217, 173.10161889949273, 215.04665998991345, 488.6802573500538, 731.1235007023241, 315.2487821951311, 3919.8120498842222, 212.45125254206425, 216.7060936553797, 242.93222869353647, 483.5251245323422, 3302.65641625936, 1831.721573980361, 826.2328395832031, 381.89834701038825, 2462.2378800078104, 460.75373891593665, 712.2895196971106, 7647.672189543614, 1317.3806152631632, 940.8108641633675, 2680.081013371434, 2536.782062638665, 1349.9387235069207, 987.1230784948455, 2252.863914482929, 2403.626807492207, 766.7650731407139, 201.21342066560408, 182.250958214626, 105.93069356670185, 99.66167448876146, 84.37816280853163, 75.81539310991802, 63.26874749359947, 146.42393583351682, 51.769398275822574, 48.54287996821114, 47.345503105783656, 46.5082338459783, 42.87023814471359, 42.02495174968978, 40.475663357430356, 39.491910593586645, 38.20505825509317, 33.866768075520255, 33.29186442804372, 230.57169363479017, 123.40205289693729, 211.91553300071664, 63.878950029649566, 70.60906657199642, 155.05682542925229, 136.52079764230308, 176.14310302070757, 182.13984608023208, 73.76886653631969, 80.94471778648553, 433.03601918036713, 987.1230784948455, 1831.721573980361, 342.55261959239573, 232.4172196568099, 2462.2378800078104, 1163.2057052305795, 745.1059516430821, 1368.1967884323103, 380.08122002991115, 940.8108641633675, 2680.081013371434, 7647.672189543614, 444.7039365800306, 826.2328395832031], \"Category\": [\"Default\", \"Default\", \"Default\", \"Default\", \"Default\", \"Default\", \"Default\", \"Default\", \"Default\", \"Default\", \"Default\", \"Default\", \"Default\", \"Default\", \"Default\", \"Default\", \"Default\", \"Default\", \"Default\", \"Default\", \"Topic1\", \"Topic1\", \"Topic1\", \"Topic1\", \"Topic1\", \"Topic1\", \"Topic1\", \"Topic1\", \"Topic1\", \"Topic1\", \"Topic1\", \"Topic1\", \"Topic1\", \"Topic1\", \"Topic1\", \"Topic1\", \"Topic1\", \"Topic1\", \"Topic1\", \"Topic1\", \"Topic1\", \"Topic1\", \"Topic1\", \"Topic1\", \"Topic1\", \"Topic1\", \"Topic1\", \"Topic1\", \"Topic1\", \"Topic1\", \"Topic1\", \"Topic1\", \"Topic1\", \"Topic1\", \"Topic1\", \"Topic1\", \"Topic1\", \"Topic1\", \"Topic1\", \"Topic1\", \"Topic1\", \"Topic1\", \"Topic1\", \"Topic1\", \"Topic1\", \"Topic1\", \"Topic1\", \"Topic1\", \"Topic1\", \"Topic1\", \"Topic1\", \"Topic1\", \"Topic1\", \"Topic1\", \"Topic1\", \"Topic1\", \"Topic1\", \"Topic1\", \"Topic1\", \"Topic1\", \"Topic1\", \"Topic1\", \"Topic1\", \"Topic2\", \"Topic2\", \"Topic2\", \"Topic2\", \"Topic2\", \"Topic2\", \"Topic2\", \"Topic2\", \"Topic2\", \"Topic2\", \"Topic2\", \"Topic2\", \"Topic2\", \"Topic2\", \"Topic2\", \"Topic2\", \"Topic2\", \"Topic2\", \"Topic2\", \"Topic2\", \"Topic2\", \"Topic2\", \"Topic2\", \"Topic2\", \"Topic2\", \"Topic2\", \"Topic2\", \"Topic2\", \"Topic2\", \"Topic2\", \"Topic2\", \"Topic2\", \"Topic2\", \"Topic2\", \"Topic2\", \"Topic2\", \"Topic2\", \"Topic2\", \"Topic2\", \"Topic2\", \"Topic2\", \"Topic2\", \"Topic2\", \"Topic2\", \"Topic2\", \"Topic2\", \"Topic2\", \"Topic3\", \"Topic3\", \"Topic3\", \"Topic3\", \"Topic3\", \"Topic3\", \"Topic3\", \"Topic3\", \"Topic3\", \"Topic3\", \"Topic3\", \"Topic3\", \"Topic3\", \"Topic3\", \"Topic3\", \"Topic3\", \"Topic3\", \"Topic3\", \"Topic3\", \"Topic3\", \"Topic3\", \"Topic3\", \"Topic3\", \"Topic3\", \"Topic3\", \"Topic3\", \"Topic3\", \"Topic3\", \"Topic3\", \"Topic3\", \"Topic3\", \"Topic3\", \"Topic3\", \"Topic3\", \"Topic3\", \"Topic3\", \"Topic3\", \"Topic3\", \"Topic3\", \"Topic3\", \"Topic3\", \"Topic3\", \"Topic3\", \"Topic3\", \"Topic3\", \"Topic3\", \"Topic3\", \"Topic3\", \"Topic3\", \"Topic3\", \"Topic3\", \"Topic3\", \"Topic3\", \"Topic3\", \"Topic3\", \"Topic3\", \"Topic3\", \"Topic3\", \"Topic3\", \"Topic4\", \"Topic4\", \"Topic4\", \"Topic4\", \"Topic4\", \"Topic4\", \"Topic4\", \"Topic4\", \"Topic4\", \"Topic4\", \"Topic4\", \"Topic4\", \"Topic4\", \"Topic4\", \"Topic4\", \"Topic4\", \"Topic4\", \"Topic4\", \"Topic4\", \"Topic4\", \"Topic4\", \"Topic4\", \"Topic4\", \"Topic4\", \"Topic4\", \"Topic4\", \"Topic4\", \"Topic4\", \"Topic4\", \"Topic4\", \"Topic4\", \"Topic4\", \"Topic4\", \"Topic4\", \"Topic4\", \"Topic4\", \"Topic4\", \"Topic4\", \"Topic4\", \"Topic4\", \"Topic4\", \"Topic4\", \"Topic4\", \"Topic4\", \"Topic4\", \"Topic4\", \"Topic4\", \"Topic4\", \"Topic4\", \"Topic4\", \"Topic4\", \"Topic5\", \"Topic5\", \"Topic5\", \"Topic5\", \"Topic5\", \"Topic5\", \"Topic5\", \"Topic5\", \"Topic5\", \"Topic5\", \"Topic5\", \"Topic5\", \"Topic5\", \"Topic5\", \"Topic5\", \"Topic5\", \"Topic5\", \"Topic5\", \"Topic5\", \"Topic5\", \"Topic5\", \"Topic5\", \"Topic5\", \"Topic5\", \"Topic5\", \"Topic5\", \"Topic5\", \"Topic5\", \"Topic5\", \"Topic5\", \"Topic5\", \"Topic5\", \"Topic5\", \"Topic5\", \"Topic5\", \"Topic5\", \"Topic5\", \"Topic5\", \"Topic5\", \"Topic5\", \"Topic5\", \"Topic5\", \"Topic5\", \"Topic5\", \"Topic5\", \"Topic5\"], \"logprob\": [20.0, 19.0, 18.0, 17.0, 16.0, 15.0, 14.0, 13.0, 12.0, 11.0, 10.0, 9.0, 8.0, 7.0, 6.0, 5.0, 4.0, 3.0, 2.0, 1.0, -6.7604, -6.6781, -7.1901, -7.3584, -7.7229, -7.8143, -7.0979, -7.903, -7.912, -7.9316, -8.0198, -7.9941, -8.0877, -8.1124, -8.1435, -8.2024, -8.2072, -8.2496, -8.2426, -8.2931, -7.2083, -7.5432, -6.182, -7.1857, -6.4586, -7.1641, -6.0602, -5.9247, -4.8614, -6.191, -5.488, -6.1347, -7.2724, -5.9795, -6.1014, -6.5558, -6.1994, -5.0332, -4.4038, -5.6774, -4.3992, -5.8017, -5.2841, -5.6375, -4.7423, -5.357, -4.9317, -5.4642, -4.7944, -5.0046, -4.6492, -4.7962, -5.681, -4.2876, -5.1766, -4.8142, -4.1386, -5.003, -5.2154, -4.5098, -5.0426, -5.1251, -5.1318, -5.8055, -6.18, -6.4969, -6.8221, -6.9411, -6.9951, -7.182, -7.2807, -7.2926, -7.3512, -7.4184, -7.429, -7.4694, -6.4426, -7.5469, -7.6206, -7.7979, -7.8222, -7.9491, -8.0303, -6.588, -7.0649, -6.1039, -5.0731, -5.0482, -5.6497, -6.2327, -3.5879, -5.1968, -3.5829, -4.3211, -3.3253, -5.6969, -5.4978, -5.1657, -5.8595, -5.1399, -4.4983, -5.3427, -5.3539, -5.0764, -5.0129, -5.1723, -5.257, -5.3521, -5.3463, -5.4507, -6.2468, -6.266, -6.7283, -6.7265, -6.9103, -7.0341, -7.0799, -7.1172, -7.1419, -7.2495, -7.275, -7.305, -7.3871, -7.4146, -7.4354, -7.4973, -7.4973, -7.5731, -7.6102, -7.6508, -6.6412, -7.0826, -6.3152, -6.4196, -7.1032, -5.9043, -7.0389, -5.9655, -5.7764, -4.9951, -6.3945, -6.6137, -6.4305, -5.9481, -5.6331, -6.1752, -5.8065, -5.7285, -5.6485, -4.0841, -5.3573, -5.1205, -4.7637, -5.3856, -5.6505, -5.191, -5.8141, -5.9192, -5.5934, -5.7255, -5.0484, -5.4681, -5.2058, -5.3154, -5.4236, -5.3545, -5.6227, -5.4521, -5.5763, -5.9449, -6.3605, -6.7545, -6.9563, -7.0641, -5.1822, -7.331, -7.3981, -7.4562, -7.5332, -7.5333, -7.6067, -7.6318, -7.6826, -7.7205, -7.7767, -7.7946, -7.8375, -7.8382, -7.8599, -5.305, -6.4072, -6.6794, -6.6021, -5.8197, -6.1483, -5.9587, -5.225, -4.8611, -5.6539, -3.3464, -6.0293, -6.0139, -5.9351, -5.3432, -3.7199, -4.4468, -5.0765, -5.6576, -4.4203, -5.5556, -5.2975, -3.9408, -5.0456, -5.2275, -4.7151, -4.8023, -5.1076, -5.2645, -4.9973, -5.2773, -3.8034, -5.1442, -5.2437, -5.7895, -5.851, -6.019, -6.1271, -6.3102, -5.4732, -6.5139, -6.5792, -6.6047, -6.6227, -6.7057, -6.7262, -6.7643, -6.7896, -6.8236, -6.9466, -6.9642, -5.0446, -5.6704, -5.159, -6.3303, -6.2364, -5.5161, -5.6551, -5.4378, -5.4233, -6.218, -6.1576, -5.0032, -4.5171, -4.2534, -5.2859, -5.5621, -4.421, -4.8055, -5.1039, -4.895, -5.4104, -5.1952, -4.9905, -4.8607, -5.3963, -5.4227], \"loglift\": [20.0, 19.0, 18.0, 17.0, 16.0, 15.0, 14.0, 13.0, 12.0, 11.0, 10.0, 9.0, 8.0, 7.0, 6.0, 5.0, 4.0, 3.0, 2.0, 1.0, 1.1154, 1.1151, 1.1127, 1.1116, 1.1077, 1.1066, 1.1052, 1.1051, 1.105, 1.1044, 1.1037, 1.1028, 1.1025, 1.1017, 1.1014, 1.1004, 1.1002, 1.099, 1.0988, 1.0987, 1.0904, 1.0929, 1.0698, 1.0821, 1.0514, 1.0731, 1.0334, 1.026, 0.9579, 1.0235, 0.9851, 1.0114, 1.0646, 0.9672, 0.9705, 1.0082, 0.9763, 0.8336, 0.7183, 0.8708, 0.6774, 0.8865, 0.7727, 0.8393, 0.6448, 0.7745, 0.6191, 0.7684, 0.565, 0.6196, 0.4824, 0.4541, 0.8306, 0.1215, 0.5734, 0.3714, -0.1105, 0.3896, 0.5406, -0.0073, 0.1189, -0.0484, -0.264, 1.435, 1.4339, 1.4325, 1.4303, 1.4294, 1.4291, 1.4274, 1.4263, 1.4262, 1.4253, 1.4247, 1.4246, 1.424, 1.4239, 1.423, 1.4215, 1.4188, 1.4184, 1.416, 1.4141, 1.3982, 1.4026, 1.3623, 1.3094, 1.2872, 1.2892, 1.3194, 0.9146, 1.128, 0.8262, 0.9386, 0.7028, 1.1091, 1.0276, 0.929, 1.1094, 0.8941, 0.3854, 0.6956, 0.695, 0.3163, 0.0637, 0.0132, -0.0067, -0.4843, -0.6498, -0.3741, 1.7154, 1.7153, 1.7122, 1.7121, 1.7105, 1.7091, 1.7086, 1.7081, 1.7078, 1.7064, 1.706, 1.7056, 1.7043, 1.7038, 1.7035, 1.7024, 1.7024, 1.701, 1.7002, 1.6994, 1.6922, 1.692, 1.6536, 1.6389, 1.6789, 1.5759, 1.6722, 1.5767, 1.5481, 1.4585, 1.6066, 1.6241, 1.5707, 1.4661, 1.3872, 1.5045, 1.4091, 1.3842, 1.3212, 0.7995, 1.161, 1.0198, 0.7515, 0.9859, 1.1257, 0.7204, 1.1632, 1.2223, 0.8208, 0.9849, 0.0283, 0.5702, -0.0837, 0.044, 0.2427, 0.0381, 0.4261, -1.043, -0.3908, 1.7262, 1.7241, 1.7213, 1.7193, 1.7183, 1.7153, 1.7148, 1.7133, 1.7126, 1.7111, 1.7102, 1.7098, 1.7096, 1.7086, 1.7075, 1.7061, 1.7058, 1.7049, 1.7047, 1.7045, 1.6984, 1.7007, 1.7032, 1.6976, 1.6598, 1.6681, 1.6407, 1.5535, 1.5146, 1.563, 1.3501, 1.5822, 1.5778, 1.5423, 1.446, 1.1479, 1.0105, 1.1768, 1.3675, 0.7411, 1.2818, 1.1043, 0.0873, 0.7413, 0.8961, 0.3616, 0.3293, 0.6548, 0.811, 0.253, -0.0918, 2.5247, 2.5217, 2.5212, 2.518, 2.5175, 2.5159, 2.5149, 2.5127, 2.5106, 2.5096, 2.5086, 2.5081, 2.5079, 2.5064, 2.5058, 2.5053, 2.5046, 2.5037, 2.5012, 2.5008, 2.4851, 2.4844, 2.4551, 2.483, 2.4767, 2.4104, 2.3987, 2.3611, 2.3422, 2.4513, 2.4189, 1.8962, 1.5584, 1.2039, 1.8479, 1.9596, 0.7404, 1.1058, 1.2528, 0.854, 1.6195, 0.9284, 0.0862, -0.8326, 1.4766, 0.8307]}, \"token.table\": {\"Topic\": [5, 1, 2, 3, 4, 5, 1, 2, 4, 5, 4, 2, 3, 2, 2, 1, 3, 5, 1, 1, 4, 5, 5, 1, 2, 3, 1, 2, 4, 5, 5, 5, 2, 4, 2, 4, 5, 1, 2, 3, 4, 5, 1, 2, 3, 4, 5, 1, 2, 1, 2, 3, 4, 5, 5, 4, 5, 3, 3, 4, 3, 1, 2, 3, 4, 2, 2, 3, 1, 2, 4, 5, 1, 2, 4, 5, 1, 2, 3, 4, 5, 1, 2, 3, 4, 5, 1, 2, 1, 2, 3, 4, 5, 2, 2, 3, 4, 5, 1, 2, 3, 5, 1, 3, 1, 3, 4, 5, 2, 4, 5, 1, 2, 3, 5, 1, 5, 5, 5, 5, 1, 2, 4, 5, 4, 1, 4, 3, 1, 2, 3, 4, 5, 1, 2, 4, 1, 4, 4, 5, 1, 2, 4, 5, 1, 2, 3, 4, 5, 2, 5, 4, 1, 2, 3, 5, 4, 5, 1, 4, 5, 3, 2, 1, 3, 4, 1, 2, 3, 4, 5, 1, 2, 3, 4, 5, 3, 1, 2, 3, 4, 1, 2, 3, 4, 4, 1, 2, 4, 1, 4, 1, 2, 3, 5, 3, 1, 4, 4, 5, 1, 2, 3, 4, 2, 3, 4, 5, 1, 2, 4, 1, 1, 2, 3, 4, 5, 1, 2, 4, 1, 2, 3, 4, 5, 1, 2, 4, 5, 1, 2, 4, 5, 5, 2, 3, 4, 5, 2, 1, 2, 3, 4, 2, 5, 1, 2, 3, 4, 5, 4, 1, 2, 4, 1, 2, 3, 4, 5, 1, 2, 3, 4, 5, 2, 3, 5, 2, 4, 5, 1, 2, 4, 5, 1, 2, 3, 4, 5, 2, 4, 5, 4, 5, 1, 2, 4, 5, 2, 4, 5, 4, 5, 3, 4, 4, 1, 2, 3, 4, 5, 1, 2, 4, 5, 4, 4, 2, 4, 5, 4, 2, 4, 5, 1, 5, 1, 1, 2, 4, 5, 1, 2, 3, 4, 5, 1, 5, 2, 3, 4, 5, 3, 3, 1, 2, 3, 4, 5, 1, 1, 2, 3, 5, 1, 3, 1, 5, 1, 1, 2, 3, 4, 5, 1, 2, 3, 5, 1, 2, 3, 4, 4, 5, 4, 1, 2, 3, 4, 5, 4, 5, 3, 3, 3, 3, 5, 1, 2, 4, 3, 1, 2, 3, 4, 5, 2, 5, 5, 1, 2, 3, 4, 5, 2, 3, 1, 2, 3, 4, 5, 1, 2, 3, 4, 5, 2, 3, 5, 1, 2, 3, 4, 5, 1, 2, 4, 5, 1, 2, 4, 2, 3, 1, 2, 3, 4, 5, 3, 5, 2, 1, 2, 3, 4, 5, 1, 2, 3, 4, 5, 1, 3, 4, 1, 2, 3, 5, 2, 5, 5, 2, 4, 2, 5, 2, 3, 2, 3, 3, 3, 1, 2, 3, 4, 5, 1, 1, 2, 4, 5, 1, 1, 2, 3, 4, 5, 5, 5, 2, 4, 5, 1, 2, 4, 5, 2, 2, 3, 5, 1, 2, 3, 4, 5, 3, 4, 5, 4, 1, 3, 4, 5, 1, 2, 3, 4, 1, 2, 3, 1, 1, 2, 3, 4, 5, 1, 2, 3, 4, 5, 1, 1, 2, 3, 4, 1, 1, 2, 3, 4, 5, 3, 3, 2, 5, 1, 2, 4, 5, 1, 3, 4, 5, 1, 2, 3, 4, 5, 1, 2, 3, 4, 5, 1, 2, 3, 4, 5, 2, 1, 5, 1, 2, 4, 5, 1, 4, 5, 3, 1, 2, 3, 4, 2, 4, 1, 2, 4, 5, 1, 2, 3, 4, 5, 1, 1, 2, 3, 5, 4], \"Freq\": [0.9927025148510578, 0.6219300726872357, 0.19288993252738323, 0.10891410438221638, 0.05293021895210516, 0.023411442998046515, 0.9731436624261196, 0.02807145180075345, 0.9160802590900045, 0.08370276478994965, 0.9942426955892788, 0.030348450603436737, 0.9559761940082572, 0.9959243806234306, 0.9887366354480294, 0.015061972115763623, 0.9790281875246355, 0.9933607929812972, 0.9813120530289998, 0.9090795541460374, 0.06076734987607202, 0.026737633945471687, 0.9892450190327992, 0.978858303088294, 0.019377022515670302, 0.9688511257835151, 0.21664595187271588, 0.025416564186184543, 0.5748984756398885, 0.18396751220476432, 0.9931360678326157, 0.9799466949503336, 0.9853183093442023, 0.986880859072598, 0.02831316758635012, 0.037750890115133495, 0.9296156690851624, 0.1798137528811377, 0.06514991046418034, 0.7166490151059837, 0.039089946278508196, 0.9882481640083353, 0.31081150004197805, 0.16342789558029577, 0.18394966329015028, 0.2544699196021957, 0.08731079352919911, 0.9750929219416363, 0.9785642979301298, 0.025790795097633372, 0.2415737807478326, 0.3679486767262361, 0.12379581646864019, 0.2415737807478326, 0.9890721748828084, 0.04248746153500067, 0.9488866409483484, 0.9946022363292052, 0.6713737106133776, 0.3270159771253352, 0.9925512748803514, 0.8675071238869846, 0.00304388464521749, 0.00608776929043498, 0.12479927045391709, 0.9711103497781206, 0.04240363096637864, 0.9470144249157897, 0.01910770746885097, 0.22765468612888157, 0.48697357320614476, 0.26641603556569354, 0.1863988162280884, 0.6071403749737014, 0.1505528900303791, 0.056009259683920794, 0.09467663116184112, 0.4763112990410151, 0.31623946903542804, 0.08784429695428557, 0.025377241342349165, 0.32380260505972663, 0.5927625884967481, 0.03151874805902596, 0.03614149777434976, 0.01575937402951298, 0.9705869550331039, 0.9839236110853166, 0.014708420462965765, 0.3235852501852468, 0.6089286071667827, 0.052950313666676754, 0.002941684092593153, 0.9917282881217206, 0.7203167794844265, 0.25743280091539644, 0.009901261573669093, 0.012376576967086366, 0.8745299029153808, 0.010554671242082182, 0.09348423100129932, 0.021109342484164365, 0.9770651425826994, 0.9908844252256386, 0.06587317920500455, 0.8651344202257263, 0.021957726401668178, 0.04830699808366999, 0.8624060988177507, 0.12011227003032739, 0.016815717804245834, 0.7489745736313738, 0.09558043722074017, 0.1488547792782019, 0.006267569653819027, 0.9503345385041756, 0.04399696937519331, 0.9990022065851538, 0.9912141275076631, 0.9744065310989395, 0.15182113540786524, 0.0013677579766474344, 0.805609448245339, 0.041032739299423034, 0.9785119075510864, 0.9431334030732936, 0.04861512386975741, 0.975672266961217, 0.32630593094172283, 0.2146445042187574, 0.37953313953505347, 0.02429937783608574, 0.055541435053910265, 0.10936604454834568, 0.719292062221812, 0.1703586463156923, 0.9820475461159508, 0.9876278335191325, 0.03241437160969042, 0.9562239624858675, 0.3683423242773807, 0.1078716806812329, 0.12102676369113936, 0.4051765567051187, 0.13957746515198646, 0.12213028200798814, 0.06173618650953247, 0.3972589392787307, 0.2804970213150497, 0.9838871172264929, 0.012146754533660407, 0.9957871720003867, 0.9526470794899313, 0.022994929504929377, 0.01970993957565375, 0.00656997985855125, 0.013658968997213602, 0.9834457677993793, 0.8499578789472546, 0.11134134576615327, 0.037636511244896885, 0.9901754206103986, 0.9960746075410766, 0.9865488711266713, 0.008504731647643718, 0.9913711075578081, 0.14808375739552318, 0.2042907310055028, 0.49613463244193534, 0.14808375739552318, 0.0032427100159603617, 0.47303516355198016, 0.24046994242132325, 0.12106704713599492, 0.16183876747732656, 0.0033283037013331937, 0.9915811582200603, 0.8983451928427747, 0.047281325939093406, 0.023640662969546703, 0.03250591158312672, 0.20686133003307047, 0.07069944191003674, 0.026184978485198795, 0.696520427706288, 0.982934682060684, 0.861589516452656, 0.11798837327217901, 0.019207409602447746, 0.9934092422249486, 0.9839498658777198, 0.1597576039558175, 0.227155343124678, 0.5716326766544094, 0.037443188427144725, 0.9811666597328037, 0.0659953920629418, 0.9321849128890529, 0.09883288519335198, 0.9018500773893369, 0.18979825059445893, 0.7331932420224304, 0.02079980828432427, 0.05589948476412147, 0.8799818858339727, 0.0055084938080373885, 0.06885617260046735, 0.046822197368317796, 0.16936682232840417, 0.6010456743605562, 0.22926484485918125, 0.9875587754870172, 0.445946167420179, 0.11704234958868485, 0.02074168220558972, 0.34149698202774503, 0.07481821081302006, 0.9355352175675432, 0.04252432807125196, 0.02126216403562598, 0.31029145977410294, 0.03470365010631415, 0.5511756193355776, 0.09594538558804498, 0.006124173548173084, 0.5140124055232963, 0.2361438685132933, 0.22815403837562548, 0.021750093152540173, 0.11904624432626845, 0.24340705313138816, 0.4347313743700339, 0.20195345019634825, 0.995518238416855, 0.22630911900929257, 0.14779371037341554, 0.09237106898338472, 0.5334429233790468, 0.9970800639018618, 0.7908268832766348, 0.12713056279624388, 0.06917398269795623, 0.011217402599668577, 0.03903341237652262, 0.958487126134611, 0.4516538296573776, 0.14574375679700252, 0.0022772461999531644, 0.37195021265901684, 0.02884511853274008, 0.976567264049175, 0.9169272638373412, 0.07851364950289161, 0.002804058910817557, 0.0394370017693341, 0.2618616917483784, 0.5710477856199577, 0.10884612488336212, 0.01892976084928037, 0.02824177277473114, 0.07060443193682785, 0.02824177277473114, 0.8613740696292997, 0.004706962129121857, 0.10218963837536063, 0.045417617055715835, 0.8459031176627074, 0.09028947910705017, 0.019347745522939323, 0.8899962940552089, 0.028648589316698038, 0.0020463278083355744, 0.8389944014175854, 0.13096497973347676, 0.7801823577368546, 0.0910212750692997, 0.11865273357247998, 0.004876139735855341, 0.004876139735855341, 0.02888476740880817, 0.9416434175271463, 0.02888476740880817, 0.9769544203472298, 0.020353217090567286, 0.2921150311665382, 0.47962306818212264, 0.19339218043657563, 0.0347818255551921, 0.43026071883856637, 0.004302607188385664, 0.5679441488669076, 0.964797237560458, 0.02810089041438227, 0.15226069920323815, 0.8469501393180122, 0.9621625737133886, 0.22825326389789863, 0.3491475128357344, 0.3980589265281413, 0.01322761502373267, 0.011381901299490902, 0.1701915431418791, 0.05065224498270211, 0.39913969046369263, 0.37989183737026583, 0.984289769441765, 0.9941857373569236, 0.1034072428984103, 0.752804728300427, 0.14270199519980623, 0.9741675070529975, 0.9839540200781568, 0.031309218436929465, 0.9549311623263486, 0.16470860520429498, 0.8345235997017613, 0.9959269882518805, 0.17551861957777315, 0.1239855365040665, 0.6839613649535027, 0.016327313449095177, 0.3684372772832548, 0.5426076265444297, 0.06296928011750173, 0.024498686489483956, 0.0015311679055927472, 0.970411821539168, 0.013113673264042811, 0.8870516268482452, 0.053223097610894714, 0.013305774402723678, 0.04435258134241226, 0.9927186757985683, 0.9926998643166038, 0.5742164781816945, 0.17127491504385026, 0.18711536961437975, 0.03663105119434948, 0.03118589493572996, 0.9882594202791427, 0.2534494636937221, 0.0063362365923430525, 0.7318353264156225, 0.0063362365923430525, 0.06055781174175314, 0.9352817591226319, 0.9937667035333118, 0.9888164861959848, 0.9771706700060696, 0.6064378885606978, 0.09612685680377019, 0.1477385920004253, 0.11225552405272492, 0.03806365470753316, 0.9082325108580721, 0.012658292834258844, 0.07278518379698835, 0.006329146417129422, 0.5787181159373367, 0.19680805712660374, 0.10389124205196182, 0.12071869675051902, 0.9864747159688793, 0.013829084803302047, 0.9647582787803585, 0.04287293831368641, 0.03715654653852822, 0.7145489718947735, 0.16863355736716654, 0.03715654653852822, 0.973706636911822, 0.9939694844330456, 0.9924328553992017, 0.9906835920120721, 0.9823663612579757, 0.11719826045787879, 0.8789869534340908, 0.7069896398422572, 0.28339247166672754, 0.00994359549707816, 0.9929121526579543, 0.11035505133866658, 0.8605066503193644, 0.009196254278222214, 0.010510004889396816, 0.009196254278222214, 0.9837422395051277, 0.9797006458938717, 0.9851379714378118, 0.6692456989257872, 0.12065164583901299, 0.16438298672564552, 0.04216950728353852, 0.0031236672061880385, 0.08804345385165084, 0.9068475746720037, 0.5286224700773634, 0.10367465296819282, 0.07568643866879476, 0.24637512587498295, 0.04572722336239683, 0.4306304885275085, 0.22540814633861772, 0.22809958689191467, 0.04575448940604778, 0.07065031452404437, 0.12382556414195948, 0.8667789489937164, 0.008255037609463965, 0.4823867484415255, 0.1271746882254931, 0.0021926670383705707, 0.20026358950451212, 0.1878384762870789, 0.7082305264467186, 0.08357334502699554, 0.20036173743651495, 0.007500171989602163, 0.6060474830461577, 0.218201072036401, 0.1756398739194107, 0.1320488925288505, 0.8617927722935504, 0.049396492447851464, 0.012349123111962866, 0.09056023615439436, 0.8273912485015121, 0.016465497482617157, 0.0677792710497765, 0.9217980862769605, 0.995443627042586, 0.7040976549676824, 0.11972030833625577, 0.04859933308699491, 0.10194006452394055, 0.026077690924728978, 0.4815791690559159, 0.32599992634284636, 0.18577389837119818, 0.0025588691235702227, 0.004094190597712356, 0.893213056839661, 0.04937358605646367, 0.053862093879778555, 0.007392702397052401, 0.10941199547637553, 0.7688410492934497, 0.11384761691460697, 0.9585162407141232, 0.03423272288264726, 0.968458148995689, 0.9841588196148731, 0.9876723311328289, 0.92803717790263, 0.06919575449273996, 0.9954252132238843, 0.9770053709593567, 0.9866545134345042, 0.9920302030635707, 0.9959071754135606, 0.9942994381699176, 0.20839026604739405, 0.25469921405792606, 0.47943381469727264, 0.04494692012786931, 0.012258250943964356, 0.9892818628531559, 0.5601261117558224, 0.2730706799755717, 0.10010138133875406, 0.06697960074872515, 0.9930910643761224, 0.2373921715803659, 0.22744160151412304, 0.4065518627064949, 0.07249701048262672, 0.05543889036906749, 0.9756108762290883, 0.9875440163265605, 0.9807582202140819, 0.9743078698252189, 0.023197806424409974, 0.6424566735653569, 0.25295332443514046, 0.08469086231088037, 0.019773637455844314, 0.9840599599831695, 0.18140460430967448, 0.8062426858207755, 0.010078033572759694, 0.7507321935064267, 0.0863383136015058, 0.11594002112202208, 0.04029121301403604, 0.00575588757343372, 0.02049829432016124, 0.9685444066276186, 0.01024914716008062, 0.9866839405956666, 0.7551242270924381, 0.1059292502935284, 0.09684960026836882, 0.04237170011741136, 0.8594198735817719, 0.016946307366401136, 0.10409874525074983, 0.019367208418744154, 0.9616805276347263, 0.018144915615749553, 0.018144915615749553, 0.9816099555903934, 0.042503977218398326, 0.10819194201046846, 0.7766635837180057, 0.050231973076288926, 0.027047985502617115, 0.2287485355584421, 0.6640061657182555, 0.0015885314969336258, 0.10007748430681843, 0.007942657484668129, 0.9780612129762866, 0.07837496509682944, 0.42054859320249943, 0.47980771315376075, 0.021027429660124972, 0.9891872854743116, 0.08757778596379465, 0.11677038128505952, 0.017515557192758928, 0.2685718769556369, 0.5079511585900089, 0.977954679621275, 0.990673474177402, 0.9638728918462804, 0.022157997513707596, 0.3804632702096169, 0.07160009882173601, 0.5348948559035573, 0.012635311556776944, 0.014718345308336449, 0.9198965817710281, 0.0073591726541682246, 0.051514208579177566, 0.5936533911309093, 0.011243435438085404, 0.0044973741752341615, 0.04047636757710746, 0.3507951856682646, 0.09864018180178115, 0.4754456762845852, 0.27421970540895163, 0.07003452907926462, 0.08187135089547835, 0.1778620173091047, 0.5802383843362596, 0.12149044898162889, 0.09427658840974402, 0.02527001338817881, 0.9827308415783149, 0.9884077492581901, 0.9611957921180434, 0.3675518142857624, 0.09259868912392688, 0.3720192949013904, 0.16773359038676228, 0.0692181735500894, 0.8583053520211086, 0.0692181735500894, 0.9903127691459055, 0.07064572627995255, 0.05298429470996441, 0.8406841427314353, 0.03532286313997628, 0.9942753591006708, 0.997158308272233, 0.19316175319466658, 0.0542589194367041, 0.6380848925756402, 0.11285855242834453, 0.25070727791230724, 0.14624591211551255, 0.03784832094086764, 0.5586412170872064, 0.006661304485592704, 0.9822368476397382, 0.03474438144171272, 0.03474438144171272, 0.8894561649078455, 0.04169325773005526, 0.982243335985046], \"Term\": [\"abednego\", \"able\", \"able\", \"able\", \"able\", \"able\", \"abortion\", \"abortion\", \"abraham\", \"abraham\", \"abram\", \"accuser\", \"accuser\", \"advent\", \"aggie\", \"album\", \"album\", \"alexander\", \"amen_hallelujah\", \"angry\", \"angry\", \"angry\", \"antichrist\", \"appetite\", \"assumption\", \"assumption\", \"authority\", \"authority\", \"authority\", \"authority\", \"babylon\", \"babylonian\", \"baptism\", \"bathsheba\", \"beast\", \"beast\", \"beast\", \"belief\", \"belief\", \"belief\", \"belief\", \"belshazzar\", \"bible\", \"bible\", \"bible\", \"bible\", \"bible\", \"bitterness\", \"body_blood\", \"book\", \"book\", \"book\", \"book\", \"book\", \"book_daniel\", \"bronze\", \"bronze\", \"cabin\", \"camp\", \"camp\", \"camper\", \"careful\", \"careful\", \"careful\", \"careful\", \"catechism\", \"celebrity\", \"celebrity\", \"chapter\", \"chapter\", \"chapter\", \"chapter\", \"christ\", \"christ\", \"christ\", \"christ\", \"christian\", \"christian\", \"christian\", \"christian\", \"christian\", \"church\", \"church\", \"church\", \"church\", \"church\", \"clap\", \"cody\", \"college\", \"college\", \"college\", \"college\", \"college\", \"communion\", \"community\", \"community\", \"community\", \"community\", \"control\", \"control\", \"control\", \"control\", \"control_control\", \"cosa\", \"counselor\", \"counselor\", \"counselor\", \"counselor\", \"covenant\", \"covenant\", \"covenant\", \"crazy\", \"crazy\", \"crazy\", \"crazy\", \"damage\", \"damage\", \"daniel\", \"daniel_chapter\", \"darius\", \"david\", \"david\", \"david\", \"david\", \"deep_breath\", \"destiny\", \"destiny\", \"dialectic\", \"different\", \"different\", \"different\", \"different\", \"different\", \"disciple\", \"disciple\", \"disciple\", \"disrespect\", \"doer\", \"dominion\", \"dominion\", \"dream\", \"dream\", \"dream\", \"dream\", \"earth\", \"earth\", \"earth\", \"earth\", \"earth\", \"elder\", \"elder\", \"elizabeth\", \"emotion\", \"emotion\", \"emotion\", \"emotion\", \"empire\", \"empire\", \"enemy\", \"enemy\", \"enemy\", \"essay\", \"eucharist\", \"evolve\", \"evolve\", \"exercise_authority\", \"experience\", \"experience\", \"experience\", \"experience\", \"experience\", \"faith\", \"faith\", \"faith\", \"faith\", \"faith\", \"feedback\", \"fight\", \"fight\", \"fight\", \"fight\", \"folk\", \"folk\", \"folk\", \"folk\", \"foolishness\", \"forgive\", \"forgive\", \"forgive\", \"frustrated\", \"gabriel\", \"game\", \"game\", \"game\", \"game\", \"gente\", \"gentleman\", \"gentleman\", \"gideon\", \"gideon\", \"gift\", \"gift\", \"gift\", \"gift\", \"gospel\", \"gospel\", \"gospel\", \"gospel\", \"grace\", \"grace\", \"grace\", \"hallelujah_hallelujah\", \"hand\", \"hand\", \"hand\", \"hand\", \"hand\", \"heal\", \"heal\", \"heal\", \"health\", \"health\", \"health\", \"health\", \"health\", \"heart\", \"heart\", \"heart\", \"heart\", \"heaven\", \"heaven\", \"heaven\", \"heaven\", \"hindi\", \"history\", \"history\", \"history\", \"history\", \"holiness\", \"honest\", \"honest\", \"honest\", \"honest\", \"horn\", \"horn\", \"house\", \"house\", \"house\", \"house\", \"house\", \"house_rock\", \"hurt\", \"hurt\", \"hurt\", \"idea\", \"idea\", \"idea\", \"idea\", \"idea\", \"instruction\", \"instruction\", \"instruction\", \"instruction\", \"instruction\", \"interpretation\", \"interpretation\", \"interpretation\", \"iron\", \"iron\", \"iron\", \"israel\", \"israel\", \"israel\", \"israel\", \"issue\", \"issue\", \"issue\", \"issue\", \"issue\", \"jacob\", \"jacob\", \"jacob\", \"jericho\", \"jericho\", \"jesus\", \"jesus\", \"jesus\", \"jesus\", \"jews\", \"jews\", \"jews\", \"jonah\", \"jonah\", \"joshua\", \"joshua\", \"joshua_chapter\", \"kind\", \"kind\", \"kind\", \"kind\", \"kind\", \"kingdom\", \"kingdom\", \"kingdom\", \"kingdom\", \"kingdom_righteousness\", \"lady_gentleman\", \"land\", \"land\", \"land\", \"land_land\", \"lazarus\", \"leopard\", \"leopard\", \"lion\", \"lion\", \"loneliness\", \"lord\", \"lord\", \"lord\", \"lord\", \"love\", \"love\", \"love\", \"love\", \"love\", \"lust\", \"lust\", \"mass\", \"mass\", \"mass\", \"mass\", \"matilda\", \"mccoy\", \"mean\", \"mean\", \"mean\", \"mean\", \"mean\", \"medicine\", \"mental\", \"mental\", \"mental\", \"mental\", \"mental_health\", \"mental_health\", \"mental_illness\", \"meshach\", \"milwaukee\", \"mind\", \"mind\", \"mind\", \"mind\", \"mind\", \"mistake\", \"mistake\", \"mistake\", \"mistake\", \"moment\", \"moment\", \"moment\", \"moment\", \"moses\", \"moses\", \"moses_moses\", \"music\", \"music\", \"music\", \"music\", \"music\", \"nakedness\", \"nebuchadnezzar\", \"nietzsche\", \"nosotros\", \"palabra\", \"para\", \"para\", \"pastor\", \"pastor\", \"pastor\", \"patreon\", \"paul\", \"paul\", \"paul\", \"paul\", \"paul\", \"paul_silas\", \"persia\", \"persian\", \"person\", \"person\", \"person\", \"person\", \"person\", \"philosophy\", \"philosophy\", \"place\", \"place\", \"place\", \"place\", \"place\", \"point\", \"point\", \"point\", \"point\", \"point\", \"pope\", \"pope\", \"pope\", \"power\", \"power\", \"power\", \"power\", \"power\", \"pray\", \"pray\", \"pray\", \"pray\", \"prayer\", \"prayer\", \"prayer\", \"project\", \"project\", \"psalm\", \"psalm\", \"psalm\", \"psalm\", \"psalm\", \"quran\", \"quran\", \"rabbi\", \"ready\", \"ready\", \"ready\", \"ready\", \"ready\", \"relationship\", \"relationship\", \"relationship\", \"relationship\", \"relationship\", \"release\", \"release\", \"release\", \"religion\", \"religion\", \"religion\", \"religion\", \"resurrection\", \"resurrection\", \"roman_empire\", \"roxanne\", \"ruth\", \"sabbath\", \"sabbath\", \"sacrament\", \"sacred_text\", \"samaritan\", \"satanism\", \"satanist\", \"satanist_bible\", \"school\", \"school\", \"school\", \"school\", \"school\", \"screenshot\", \"scripture\", \"scripture\", \"scripture\", \"scripture\", \"self_control\", \"sense\", \"sense\", \"sense\", \"sense\", \"sense\", \"shadrach\", \"shadrach_meshach\", \"silas\", \"solomon\", \"solomon\", \"spirit\", \"spirit\", \"spirit\", \"spirit\", \"spiritual_gift\", \"staff\", \"staff\", \"staff\", \"start\", \"start\", \"start\", \"start\", \"start\", \"storm\", \"storm\", \"storm\", \"storm_storm\", \"strong\", \"strong\", \"strong\", \"strong\", \"struggle\", \"struggle\", \"struggle\", \"struggle\", \"stuck\", \"stuck\", \"stuck\", \"subconscious\", \"summer\", \"summer\", \"summer\", \"summer\", \"summer\", \"sunday\", \"sunday\", \"sunday\", \"sunday\", \"sunday\", \"symptom\", \"team\", \"team\", \"team\", \"team\", \"temperament\", \"temple\", \"temple\", \"temple\", \"temple\", \"temple\", \"tiempo\", \"tiene\", \"timothy\", \"timothy\", \"tonight\", \"tonight\", \"tonight\", \"tonight\", \"transition\", \"transition\", \"transition\", \"transition\", \"tree\", \"tree\", \"tree\", \"tree\", \"tree\", \"true\", \"true\", \"true\", \"true\", \"true\", \"truth\", \"truth\", \"truth\", \"truth\", \"truth\", \"unconditional\", \"unforgiveness\", \"union_church\", \"verse\", \"verse\", \"verse\", \"verse\", \"victory\", \"victory\", \"victory\", \"vida\", \"video\", \"video\", \"video\", \"video\", \"vocation\", \"wilderness\", \"wisdom\", \"wisdom\", \"wisdom\", \"wisdom\", \"word\", \"word\", \"word\", \"word\", \"word\", \"workplace\", \"youtube\", \"youtube\", \"youtube\", \"youtube\", \"zacharias\"]}, \"R\": 20, \"lambda.step\": 0.01, \"plot.opts\": {\"xlab\": \"PC1\", \"ylab\": \"PC2\"}, \"topic.order\": [4, 3, 1, 2, 5]};\n",
       "\n",
       "function LDAvis_load_lib(url, callback){\n",
       "  var s = document.createElement('script');\n",
       "  s.src = url;\n",
       "  s.async = true;\n",
       "  s.onreadystatechange = s.onload = callback;\n",
       "  s.onerror = function(){console.warn(\"failed to load library \" + url);};\n",
       "  document.getElementsByTagName(\"head\")[0].appendChild(s);\n",
       "}\n",
       "\n",
       "if(typeof(LDAvis) !== \"undefined\"){\n",
       "   // already loaded: just create the visualization\n",
       "   !function(LDAvis){\n",
       "       new LDAvis(\"#\" + \"ldavis_el200324478670235023529646518737\", ldavis_el200324478670235023529646518737_data);\n",
       "   }(LDAvis);\n",
       "}else if(typeof define === \"function\" && define.amd){\n",
       "   // require.js is available: use it to load d3/LDAvis\n",
       "   require.config({paths: {d3: \"https://d3js.org/d3.v5\"}});\n",
       "   require([\"d3\"], function(d3){\n",
       "      window.d3 = d3;\n",
       "      LDAvis_load_lib(\"https://cdn.jsdelivr.net/gh/bmabey/pyLDAvis@3.3.1/pyLDAvis/js/ldavis.v3.0.0.js\", function(){\n",
       "        new LDAvis(\"#\" + \"ldavis_el200324478670235023529646518737\", ldavis_el200324478670235023529646518737_data);\n",
       "      });\n",
       "    });\n",
       "}else{\n",
       "    // require.js not available: dynamically load d3 & LDAvis\n",
       "    LDAvis_load_lib(\"https://d3js.org/d3.v5.js\", function(){\n",
       "         LDAvis_load_lib(\"https://cdn.jsdelivr.net/gh/bmabey/pyLDAvis@3.3.1/pyLDAvis/js/ldavis.v3.0.0.js\", function(){\n",
       "                 new LDAvis(\"#\" + \"ldavis_el200324478670235023529646518737\", ldavis_el200324478670235023529646518737_data);\n",
       "            })\n",
       "         });\n",
       "}\n",
       "</script>"
      ],
      "text/plain": [
       "PreparedData(topic_coordinates=              x         y  topics  cluster       Freq\n",
       "topic                                                \n",
       "3      0.118996 -0.114728       1        1  32.626863\n",
       "2     -0.026924 -0.005080       2        1  23.750467\n",
       "0     -0.118775 -0.212429       3        1  17.895088\n",
       "1     -0.138335  0.153011       4        1  17.727993\n",
       "4      0.165038  0.179227       5        1   7.999589, topic_info=           Term         Freq        Total Category  logprob  loglift\n",
       "85         lord  3919.000000  3919.000000  Default  20.0000  20.0000\n",
       "70        jesus  7647.000000  7647.000000  Default  19.0000  19.0000\n",
       "1749     daniel   766.000000   766.000000  Default  18.0000  18.0000\n",
       "19      chapter  1831.000000  1831.000000  Default  17.0000  17.0000\n",
       "150        word  3302.000000  3302.000000  Default  16.0000  16.0000\n",
       "...         ...          ...          ...      ...      ...      ...\n",
       "675      heaven   190.437837   940.810864   Topic5  -5.1952   0.9284\n",
       "14        bible   233.698303  2680.081013   Topic5  -4.9905   0.0862\n",
       "70        jesus   266.075575  7647.672190   Topic5  -4.8607  -0.8326\n",
       "559        tree   155.739651   444.703937   Topic5  -5.3963   1.4766\n",
       "180   authority   151.687443   826.232840   Topic5  -5.4227   0.8307\n",
       "\n",
       "[286 rows x 6 columns], token_table=      Topic      Freq       Term\n",
       "term                            \n",
       "5686      5  0.992703   abednego\n",
       "152       1  0.621930       able\n",
       "152       2  0.192890       able\n",
       "152       3  0.108914       able\n",
       "152       4  0.052930       able\n",
       "...     ...       ...        ...\n",
       "1564      1  0.034744    youtube\n",
       "1564      2  0.034744    youtube\n",
       "1564      3  0.889456    youtube\n",
       "1564      5  0.041693    youtube\n",
       "4193      4  0.982243  zacharias\n",
       "\n",
       "[591 rows x 3 columns], R=20, lambda_step=0.01, plot_opts={'xlab': 'PC1', 'ylab': 'PC2'}, topic_order=[4, 3, 1, 2, 5])"
      ]
     },
     "execution_count": 61,
     "metadata": {},
     "output_type": "execute_result"
    }
   ],
   "source": [
    "vis = pyLDAvis.gensim_models.prepare(lda_model,corpus,dictionary,mds=\"mmds\",R=20)\n",
    "pyLDAvis.save_html(vis,'religion_umass.html')\n",
    "vis"
   ]
  },
  {
   "cell_type": "code",
   "execution_count": null,
   "metadata": {},
   "outputs": [],
   "source": [
    "# from pprint import pprint\n",
    "# pprint(top_topics)"
   ]
  },
  {
   "cell_type": "code",
   "execution_count": 57,
   "metadata": {},
   "outputs": [],
   "source": [
    "import pickle\n",
    "\n",
    "pickle.dump(lda_model,open('../model/religion_episodes_lda_model_umass.pkl','wb'))\n",
    "pickle.dump(dictionary,open('../model/religion_episodes_dictionary_umass.pkl','wb'))\n",
    "pickle.dump(corpus,open('../model/religion_episodes_corpus_umass.pkl','wb'))\n",
    "# pickle.dump(texts,open('../model/religion_episodes_texts.pkl','wb'))"
   ]
  },
  {
   "cell_type": "code",
   "execution_count": null,
   "metadata": {},
   "outputs": [],
   "source": [
    "# import pickle\n",
    "\n",
    "# file = open('../model/religion_episodes_lda_model.pkl','rb')\n",
    "# lda_model = pickle.load(file)\n",
    "# file.close()\n",
    "\n",
    "# file = open('../model/religion_episodes_corpus.pkl','rb')\n",
    "# corpus = pickle.load(file)\n",
    "# file.close()\n",
    "\n",
    "# file = open('../model/religion_episodes_dictionary.pkl','rb')\n",
    "# dictionary = pickle.load(file)\n",
    "# file.close()"
   ]
  },
  {
   "cell_type": "code",
   "execution_count": 58,
   "metadata": {},
   "outputs": [],
   "source": [
    "def get_main_topic_df(model, bow, texts):\n",
    "    topic_list = []\n",
    "    percent_list = []\n",
    "    keyword_list = []\n",
    "    podcast_list = []\n",
    "    episode_list = []\n",
    "    duration_list = []\n",
    "    publisher_list = []\n",
    "    show_prefix_list = []\n",
    "    episode_prefix_list = []\n",
    "    descriptions_list = []\n",
    "    \n",
    "    for key,wc in zip(keys,bow):\n",
    "        show_prefix_list.append(key[0])\n",
    "        episode_prefix_list.append(key[1])\n",
    "        podcast_list.append(df[(df['show_filename_prefix'] == key[0])&(df['episode_filename_prefix'] == key[1])].show_name.iloc[0])\n",
    "        episode_list.append(df[(df['show_filename_prefix'] == key[0])&(df['episode_filename_prefix'] == key[1])].episode_name.iloc[0])\n",
    "        duration_list.append(df[(df['show_filename_prefix'] == key[0])&(df['episode_filename_prefix'] == key[1])].duration.iloc[0])\n",
    "        publisher_list.append(df[(df['show_filename_prefix'] == key[0])&(df['episode_filename_prefix'] == key[1])].publisher.iloc[0])\n",
    "        descriptions_list.append(df[(df['show_filename_prefix'] == key[0])&(df['episode_filename_prefix'] == key[1])].episode_description.iloc[0])\n",
    "        \n",
    "        \n",
    "        topic, percent = sorted(model.get_document_topics(wc), key=lambda x: x[1], reverse=True)[0]\n",
    "        topic_list.append(topic)\n",
    "        percent_list.append(round(percent, 3))\n",
    "        keyword_list.append(' '.join(sorted([x[0] for x in model.show_topic(topic)])))\n",
    "\n",
    "    result_df = pd.concat([pd.Series(show_prefix_list, name='show_filename_prefix'),\n",
    "                           pd.Series(episode_prefix_list, name='episode_filename_prefix'),\n",
    "                           pd.Series(podcast_list, name='Podcast_name'),\n",
    "                           pd.Series(episode_list, name='Episode_name'),\n",
    "                           pd.Series(topic_list, name='Dominant_topic'), \n",
    "                           pd.Series(percent_list, name='Percent'), \n",
    "                           pd.Series(texts, name='Processed_text'), \n",
    "                           pd.Series(keyword_list, name='Keywords'),\n",
    "                           pd.Series(duration_list, name='Duration of the episode'),\n",
    "                           pd.Series(publisher_list, name='Publisher of the show'),\n",
    "                           pd.Series(descriptions_list, name='Description of the episode')], axis=1)\n",
    "\n",
    "    return result_df"
   ]
  },
  {
   "cell_type": "code",
   "execution_count": 59,
   "metadata": {},
   "outputs": [],
   "source": [
    "main_topic_df = get_main_topic_df(lda_model,corpus,texts)\n",
    "main_topic_df.to_pickle('religion_topics_main_df_umass.pkl')"
   ]
  },
  {
   "cell_type": "code",
   "execution_count": 60,
   "metadata": {},
   "outputs": [
    {
     "data": {
      "text/html": [
       "<div>\n",
       "<style scoped>\n",
       "    .dataframe tbody tr th:only-of-type {\n",
       "        vertical-align: middle;\n",
       "    }\n",
       "\n",
       "    .dataframe tbody tr th {\n",
       "        vertical-align: top;\n",
       "    }\n",
       "\n",
       "    .dataframe thead th {\n",
       "        text-align: right;\n",
       "    }\n",
       "</style>\n",
       "<table border=\"1\" class=\"dataframe\">\n",
       "  <thead>\n",
       "    <tr style=\"text-align: right;\">\n",
       "      <th></th>\n",
       "      <th>show_filename_prefix</th>\n",
       "      <th>episode_filename_prefix</th>\n",
       "      <th>Podcast_name</th>\n",
       "      <th>Episode_name</th>\n",
       "      <th>Dominant_topic</th>\n",
       "      <th>Percent</th>\n",
       "      <th>Processed_text</th>\n",
       "      <th>Keywords</th>\n",
       "      <th>Duration of the episode</th>\n",
       "      <th>Publisher of the show</th>\n",
       "      <th>Description of the episode</th>\n",
       "    </tr>\n",
       "  </thead>\n",
       "  <tbody>\n",
       "    <tr>\n",
       "      <th>0</th>\n",
       "      <td>show_5UDp5vs6yQFsS32Kad024Z</td>\n",
       "      <td>2NJVZEMS9qaGBzLA1ehAlU</td>\n",
       "      <td>8-Minute Bible Study with Saint Andrew</td>\n",
       "      <td>BIBLE CHATS 01 : John 21 - The Two Greek Words...</td>\n",
       "      <td>2</td>\n",
       "      <td>0.617</td>\n",
       "      <td>[creation, record, edit, right, phone, compute...</td>\n",
       "      <td>christ church gospel jesus kind love paul rela...</td>\n",
       "      <td>10.037983333333333</td>\n",
       "      <td>Andrew Lau</td>\n",
       "      <td>The Bible Chats Series feature episodes where ...</td>\n",
       "    </tr>\n",
       "    <tr>\n",
       "      <th>1</th>\n",
       "      <td>show_5HkyYFcQVIqzJQPU0AHoXj</td>\n",
       "      <td>09zy8j35eCYJBnztw5GI0n</td>\n",
       "      <td>A Satanist Reads the Bible</td>\n",
       "      <td>Cain Murders Abel</td>\n",
       "      <td>0</td>\n",
       "      <td>0.610</td>\n",
       "      <td>[parent, childhood, wish, effect, parent, resp...</td>\n",
       "      <td>bible book different experience idea kind mean...</td>\n",
       "      <td>25.6</td>\n",
       "      <td>A Satanist Reads the Bible</td>\n",
       "      <td>What were Cain and Abel told by their parents ...</td>\n",
       "    </tr>\n",
       "    <tr>\n",
       "      <th>2</th>\n",
       "      <td>show_5HkyYFcQVIqzJQPU0AHoXj</td>\n",
       "      <td>0KrmydrBa0WCZ36xGToZhr</td>\n",
       "      <td>A Satanist Reads the Bible</td>\n",
       "      <td>The Book of Job, pt. 1</td>\n",
       "      <td>0</td>\n",
       "      <td>0.561</td>\n",
       "      <td>[statement, bible, christianity, religion, sac...</td>\n",
       "      <td>bible book different experience idea kind mean...</td>\n",
       "      <td>19.266666666666666</td>\n",
       "      <td>A Satanist Reads the Bible</td>\n",
       "      <td>The Book of Job, which relates the story of a ...</td>\n",
       "    </tr>\n",
       "    <tr>\n",
       "      <th>3</th>\n",
       "      <td>show_5HkyYFcQVIqzJQPU0AHoXj</td>\n",
       "      <td>0Lvbov7cnG7NkseGnekLrP</td>\n",
       "      <td>A Satanist Reads the Bible</td>\n",
       "      <td>Iron Man and the Ethics of Weapons Technology</td>\n",
       "      <td>0</td>\n",
       "      <td>0.563</td>\n",
       "      <td>[hail, seat, bible, bible, christianity, relig...</td>\n",
       "      <td>bible book different experience idea kind mean...</td>\n",
       "      <td>33.26693333333333</td>\n",
       "      <td>A Satanist Reads the Bible</td>\n",
       "      <td>The following is an introduction to a project ...</td>\n",
       "    </tr>\n",
       "    <tr>\n",
       "      <th>4</th>\n",
       "      <td>show_5HkyYFcQVIqzJQPU0AHoXj</td>\n",
       "      <td>15c9lwr4Ac8fjlhi7W3uQi</td>\n",
       "      <td>A Satanist Reads the Bible</td>\n",
       "      <td>On Spiritual Teachers</td>\n",
       "      <td>0</td>\n",
       "      <td>0.680</td>\n",
       "      <td>[spiritual, authority, permit, spiritual, matt...</td>\n",
       "      <td>bible book different experience idea kind mean...</td>\n",
       "      <td>18.267</td>\n",
       "      <td>A Satanist Reads the Bible</td>\n",
       "      <td>Some people claim to have a spiritual authorit...</td>\n",
       "    </tr>\n",
       "  </tbody>\n",
       "</table>\n",
       "</div>"
      ],
      "text/plain": [
       "          show_filename_prefix episode_filename_prefix  \\\n",
       "0  show_5UDp5vs6yQFsS32Kad024Z  2NJVZEMS9qaGBzLA1ehAlU   \n",
       "1  show_5HkyYFcQVIqzJQPU0AHoXj  09zy8j35eCYJBnztw5GI0n   \n",
       "2  show_5HkyYFcQVIqzJQPU0AHoXj  0KrmydrBa0WCZ36xGToZhr   \n",
       "3  show_5HkyYFcQVIqzJQPU0AHoXj  0Lvbov7cnG7NkseGnekLrP   \n",
       "4  show_5HkyYFcQVIqzJQPU0AHoXj  15c9lwr4Ac8fjlhi7W3uQi   \n",
       "\n",
       "                             Podcast_name  \\\n",
       "0  8-Minute Bible Study with Saint Andrew   \n",
       "1              A Satanist Reads the Bible   \n",
       "2              A Satanist Reads the Bible   \n",
       "3              A Satanist Reads the Bible   \n",
       "4              A Satanist Reads the Bible   \n",
       "\n",
       "                                        Episode_name  Dominant_topic  Percent  \\\n",
       "0  BIBLE CHATS 01 : John 21 - The Two Greek Words...               2    0.617   \n",
       "1                                  Cain Murders Abel               0    0.610   \n",
       "2                             The Book of Job, pt. 1               0    0.561   \n",
       "3      Iron Man and the Ethics of Weapons Technology               0    0.563   \n",
       "4                              On Spiritual Teachers               0    0.680   \n",
       "\n",
       "                                      Processed_text  \\\n",
       "0  [creation, record, edit, right, phone, compute...   \n",
       "1  [parent, childhood, wish, effect, parent, resp...   \n",
       "2  [statement, bible, christianity, religion, sac...   \n",
       "3  [hail, seat, bible, bible, christianity, relig...   \n",
       "4  [spiritual, authority, permit, spiritual, matt...   \n",
       "\n",
       "                                            Keywords Duration of the episode  \\\n",
       "0  christ church gospel jesus kind love paul rela...      10.037983333333333   \n",
       "1  bible book different experience idea kind mean...                    25.6   \n",
       "2  bible book different experience idea kind mean...      19.266666666666666   \n",
       "3  bible book different experience idea kind mean...       33.26693333333333   \n",
       "4  bible book different experience idea kind mean...                  18.267   \n",
       "\n",
       "        Publisher of the show  \\\n",
       "0                  Andrew Lau   \n",
       "1  A Satanist Reads the Bible   \n",
       "2  A Satanist Reads the Bible   \n",
       "3  A Satanist Reads the Bible   \n",
       "4  A Satanist Reads the Bible   \n",
       "\n",
       "                          Description of the episode  \n",
       "0  The Bible Chats Series feature episodes where ...  \n",
       "1  What were Cain and Abel told by their parents ...  \n",
       "2  The Book of Job, which relates the story of a ...  \n",
       "3  The following is an introduction to a project ...  \n",
       "4  Some people claim to have a spiritual authorit...  "
      ]
     },
     "execution_count": 60,
     "metadata": {},
     "output_type": "execute_result"
    }
   ],
   "source": [
    "main_topic_df.head(5)"
   ]
  },
  {
   "cell_type": "code",
   "execution_count": 31,
   "metadata": {},
   "outputs": [
    {
     "data": {
      "image/png": "[encoded data removed]",
      "text/plain": [
       "<Figure size 720x576 with 1 Axes>"
      ]
     },
     "metadata": {},
     "output_type": "display_data"
    }
   ],
   "source": [
    "plt.figure(figsize=(10,8))\n",
    "grouped_topics = main_topic_df.groupby('Dominant_topic')\n",
    "grouped_topics.count()['Podcast_name'].\\\n",
    "    plot.bar(rot=0).\\\n",
    "    set(title='Dominant Topic Frequency in the {} podcast episodes'.format(len(texts)),\n",
    "        ylabel='Topic frequency'); "
   ]
  },
  {
   "cell_type": "code",
   "execution_count": 32,
   "metadata": {},
   "outputs": [
    {
     "data": {
      "text/html": [
       "<div>\n",
       "<style scoped>\n",
       "    .dataframe tbody tr th:only-of-type {\n",
       "        vertical-align: middle;\n",
       "    }\n",
       "\n",
       "    .dataframe tbody tr th {\n",
       "        vertical-align: top;\n",
       "    }\n",
       "\n",
       "    .dataframe thead th {\n",
       "        text-align: right;\n",
       "    }\n",
       "</style>\n",
       "<table border=\"1\" class=\"dataframe\">\n",
       "  <thead>\n",
       "    <tr style=\"text-align: right;\">\n",
       "      <th></th>\n",
       "      <th>Podcast_name</th>\n",
       "      <th>Episode_name</th>\n",
       "      <th>Dominant_topic</th>\n",
       "      <th>Percent</th>\n",
       "      <th>Processed_text</th>\n",
       "      <th>Keywords</th>\n",
       "      <th>Duration of the episode</th>\n",
       "      <th>Publisher of the show</th>\n",
       "    </tr>\n",
       "  </thead>\n",
       "  <tbody>\n",
       "    <tr>\n",
       "      <th>15</th>\n",
       "      <td>A Satanist Reads the Bible</td>\n",
       "      <td>The Two Christianities</td>\n",
       "      <td>0</td>\n",
       "      <td>0.999</td>\n",
       "      <td>[seat, bible, request, request, examination, d...</td>\n",
       "      <td>book chapter daniel history horn human kingdom...</td>\n",
       "      <td>22.00033333333333</td>\n",
       "      <td>A Satanist Reads the Bible</td>\n",
       "    </tr>\n",
       "    <tr>\n",
       "      <th>466</th>\n",
       "      <td>The Christian Therapist</td>\n",
       "      <td>Why Do Relationships Fail</td>\n",
       "      <td>1</td>\n",
       "      <td>0.998</td>\n",
       "      <td>[right, simple, case, anger, plus, creative, r...</td>\n",
       "      <td>body covenant gift grace health holiness relat...</td>\n",
       "      <td>14.9672</td>\n",
       "      <td>Akiami McCoy</td>\n",
       "    </tr>\n",
       "    <tr>\n",
       "      <th>371</th>\n",
       "      <td>Lighthouse Church</td>\n",
       "      <td>Welcome Home</td>\n",
       "      <td>2</td>\n",
       "      <td>0.960</td>\n",
       "      <td>[glad, blessed, spirit, word, alan, mcmillan, ...</td>\n",
       "      <td>amen david house moment money pastor season sp...</td>\n",
       "      <td>0.6404333333333333</td>\n",
       "      <td>Lighthouse Church</td>\n",
       "    </tr>\n",
       "    <tr>\n",
       "      <th>60</th>\n",
       "      <td>Brown Girl Bible</td>\n",
       "      <td>Brown Girl Bible Trailer- What is BGB?</td>\n",
       "      <td>3</td>\n",
       "      <td>0.998</td>\n",
       "      <td>[brown, bible, recommend, tool, record, edit, ...</td>\n",
       "      <td>camp christian experience faith high important...</td>\n",
       "      <td>17.841833333333334</td>\n",
       "      <td>Brown Girl Bible</td>\n",
       "    </tr>\n",
       "    <tr>\n",
       "      <th>279</th>\n",
       "      <td>Faith Talks with Emily Preston</td>\n",
       "      <td>041 - You Are The Boss Of The Devil: The Belie...</td>\n",
       "      <td>4</td>\n",
       "      <td>0.999</td>\n",
       "      <td>[nation, affect, authority, boss, devil, hello...</td>\n",
       "      <td>authority chapter enemy faith heaven power pra...</td>\n",
       "      <td>37.20185</td>\n",
       "      <td>Emily Preston</td>\n",
       "    </tr>\n",
       "  </tbody>\n",
       "</table>\n",
       "</div>"
      ],
      "text/plain": [
       "                       Podcast_name  \\\n",
       "15       A Satanist Reads the Bible   \n",
       "466        The Christian Therapist    \n",
       "371               Lighthouse Church   \n",
       "60                 Brown Girl Bible   \n",
       "279  Faith Talks with Emily Preston   \n",
       "\n",
       "                                          Episode_name  Dominant_topic  \\\n",
       "15                              The Two Christianities               0   \n",
       "466                          Why Do Relationships Fail               1   \n",
       "371                                       Welcome Home               2   \n",
       "60              Brown Girl Bible Trailer- What is BGB?               3   \n",
       "279  041 - You Are The Boss Of The Devil: The Belie...               4   \n",
       "\n",
       "     Percent                                     Processed_text  \\\n",
       "15     0.999  [seat, bible, request, request, examination, d...   \n",
       "466    0.998  [right, simple, case, anger, plus, creative, r...   \n",
       "371    0.960  [glad, blessed, spirit, word, alan, mcmillan, ...   \n",
       "60     0.998  [brown, bible, recommend, tool, record, edit, ...   \n",
       "279    0.999  [nation, affect, authority, boss, devil, hello...   \n",
       "\n",
       "                                              Keywords  \\\n",
       "15   book chapter daniel history horn human kingdom...   \n",
       "466  body covenant gift grace health holiness relat...   \n",
       "371  amen david house moment money pastor season sp...   \n",
       "60   camp christian experience faith high important...   \n",
       "279  authority chapter enemy faith heaven power pra...   \n",
       "\n",
       "    Duration of the episode       Publisher of the show  \n",
       "15        22.00033333333333  A Satanist Reads the Bible  \n",
       "466                 14.9672                Akiami McCoy  \n",
       "371      0.6404333333333333           Lighthouse Church  \n",
       "60       17.841833333333334            Brown Girl Bible  \n",
       "279                37.20185               Emily Preston  "
      ]
     },
     "execution_count": 32,
     "metadata": {},
     "output_type": "execute_result"
    }
   ],
   "source": [
    "representatives = pd.DataFrame()\n",
    "\n",
    "for k in grouped_topics.groups.keys():\n",
    "    representatives = pd.concat([representatives, \n",
    "                                 grouped_topics.get_group(k).sort_values(['Percent'], ascending=False).head(1)])\n",
    "    \n",
    "representatives"
   ]
  },
  {
   "cell_type": "code",
   "execution_count": null,
   "metadata": {},
   "outputs": [],
   "source": [
    "# print('Document: {}  Dominant topic: {}\\n'.format(representatives.index[2], \n",
    "#                                        representatives.loc[representatives.index[2]]['Dominant_topic']))\n",
    "# print([sentence.strip() for sentence in transcripts[keys[representatives.index[2]]]])"
   ]
  },
  {
   "cell_type": "code",
   "execution_count": 33,
   "metadata": {},
   "outputs": [],
   "source": [
    "num_topics = best_hp_setting[0]\n",
    "def word_count_by_topic(topic=0):\n",
    "    d_lens = [len(d) for d in grouped_topics.get_group(topic)['Processed_text']]\n",
    "    plt.figure(figsize=(10,8))\n",
    "    plt.hist(d_lens)\n",
    "    large = plt.gca().get_ylim()[1]\n",
    "    d_mean = round(np.mean(d_lens), 1)\n",
    "    d_median = np.median(d_lens)\n",
    "    plt.plot([d_mean, d_mean], [0,large], label='Mean = {}'.format(d_mean))\n",
    "    plt.plot([d_median, d_median], [0,large], label='Median = {}'.format(d_median))\n",
    "    plt.legend()\n",
    "    plt.xlabel('Document word count',fontsize=16)\n",
    "    plt.ylabel('Number of documents',fontsize=16)\n",
    "    plt.xticks(fontsize=14)\n",
    "    plt.yticks(fontsize=14)"
   ]
  },
  {
   "cell_type": "code",
   "execution_count": 34,
   "metadata": {},
   "outputs": [
    {
     "data": {
      "application/vnd.jupyter.widget-view+json": {
       "model_id": "561e78211841499f8d06e7901eb28d90",
       "version_major": 2,
       "version_minor": 0
      },
      "text/plain": [
       "interactive(children=(IntSlider(value=0, description='Topic', max=4), Output()), _dom_classes=('widget-interac…"
      ]
     },
     "metadata": {},
     "output_type": "display_data"
    }
   ],
   "source": [
    "from ipywidgets import interact, IntSlider\n",
    "\n",
    "slider = IntSlider(min=0, max=num_topics-1, step=1, value=0, description='Topic')\n",
    "interact(word_count_by_topic, topic=slider);"
   ]
  },
  {
   "cell_type": "code",
   "execution_count": 35,
   "metadata": {},
   "outputs": [
    {
     "name": "stdout",
     "output_type": "stream",
     "text": [
      "Indices of top words: \n",
      "{1282, 650, 144, 18, 4882, 2071, 536, 289, 3110, 810, 1450, 557, 3250, 3251, 183, 2618, 1087, 63, 2497, 66, 3647, 200, 1993, 4936, 75, 712, 846, 336, 1106, 1618, 5844, 214, 727, 345, 985, 732, 94, 361, 3698, 114, 502, 503, 4218}\n",
      "\n"
     ]
    }
   ],
   "source": [
    "lda_top_words_index = set()\n",
    "for i in range(lda_model.num_topics):\n",
    "    lda_top_words_index = lda_top_words_index.union([k for (k,v) in lda_model.get_topic_terms(i)])\n",
    "\n",
    "print('Indices of top words: \\n{}\\n'.format(lda_top_words_index))"
   ]
  },
  {
   "cell_type": "code",
   "execution_count": 36,
   "metadata": {},
   "outputs": [],
   "source": [
    "words_we_care_about = [{dictionary[tup[0]]: tup[1] for tup in lst if tup[0] in list(lda_top_words_index)} \n",
    "                       for lst in corpus]"
   ]
  },
  {
   "cell_type": "code",
   "execution_count": 37,
   "metadata": {},
   "outputs": [],
   "source": [
    "lda_top_words_df = pd.DataFrame(words_we_care_about).fillna(0).astype(int).sort_index(axis=1)\n",
    "lda_top_words_df['Cluster'] = main_topic_df['Dominant_topic']"
   ]
  },
  {
   "cell_type": "code",
   "execution_count": 38,
   "metadata": {},
   "outputs": [
    {
     "data": {
      "image/png": "[encoded data removed]",
      "text/plain": [
       "<Figure size 2160x576 with 1 Axes>"
      ]
     },
     "metadata": {},
     "output_type": "display_data"
    }
   ],
   "source": [
    "clusterwise_words_dist = lda_top_words_df.groupby('Cluster').get_group(0)\n",
    "\n",
    "clusterwise_words_dist.sum()[:-1].transpose().\\\n",
    "         plot.bar(figsize=(30, 8), width=0.7).\\\n",
    "         set(ylabel='Word frequency', \n",
    "         title='Word Frequencies by Topic, Combining the Top {} Words in Each Topic'.format(len(lda_top_words_index)));"
   ]
  },
  {
   "cell_type": "code",
   "execution_count": 39,
   "metadata": {},
   "outputs": [],
   "source": [
    "word_totals = {k:{y[1]:y[0] for y in x[0]} for k,x in enumerate(top_topics)}"
   ]
  },
  {
   "cell_type": "code",
   "execution_count": 40,
   "metadata": {},
   "outputs": [
    {
     "data": {
      "application/vnd.jupyter.widget-view+json": {
       "model_id": "67dee2b45a654041bf43ae5d1eb2c888",
       "version_major": 2,
       "version_minor": 0
      },
      "text/plain": [
       "interactive(children=(IntSlider(value=0, description='Topic', max=4), Output()), _dom_classes=('widget-interac…"
      ]
     },
     "metadata": {},
     "output_type": "display_data"
    }
   ],
   "source": [
    "import matplotlib.pyplot as plt\n",
    "from ipywidgets import interact, IntSlider\n",
    "from wordcloud import WordCloud\n",
    "\n",
    "def show_wordcloud(topic=0):\n",
    "    cloud = WordCloud(background_color='white', colormap='viridis')\n",
    "    cloud.generate_from_frequencies(word_totals[topic])\n",
    "    plt.gca().imshow(cloud)\n",
    "    plt.axis('off')\n",
    "    plt.tight_layout()\n",
    "    \n",
    "slider = IntSlider(min=0, max=best_hp_setting[0]-1, step=1, value=0, description='Topic')\n",
    "interact(show_wordcloud, topic=slider);"
   ]
  },
  {
   "cell_type": "code",
   "execution_count": null,
   "metadata": {},
   "outputs": [],
   "source": []
  }
 ],
 "metadata": {
  "kernelspec": {
   "display_name": "demo",
   "language": "python",
   "name": "demo"
  },
  "language_info": {
   "codemirror_mode": {
    "name": "ipython",
    "version": 3
   },
   "file_extension": ".py",
   "mimetype": "text/x-python",
   "name": "python",
   "nbconvert_exporter": "python",
   "pygments_lexer": "ipython3",
   "version": "3.9.2"
  }
 },
 "nbformat": 4,
 "nbformat_minor": 4
}
