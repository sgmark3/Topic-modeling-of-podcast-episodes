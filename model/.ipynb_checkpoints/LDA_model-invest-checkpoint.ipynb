{
 "cells": [
  {
   "cell_type": "markdown",
   "metadata": {},
   "source": [
    "#### Import all the required packages"
   ]
  },
  {
   "cell_type": "code",
   "execution_count": 1,
   "metadata": {},
   "outputs": [],
   "source": [
    "## basic packages\n",
    "import numpy as np\n",
    "import re\n",
    "import csv\n",
    "import time\n",
    "import pandas as pd\n",
    "from itertools import product\n",
    "import matplotlib.pyplot as plt\n",
    "import seaborn as sns\n",
    "sns.set_style('darkgrid')\n",
    "\n",
    "##gensim\n",
    "import gensim\n",
    "import gensim.corpora as corpora\n",
    "from gensim.utils import simple_preprocess\n",
    "from gensim.models import CoherenceModel\n",
    "\n",
    "##spacy and nltk\n",
    "import spacy\n",
    "from nltk.corpus import stopwords\n",
    "from spacy.lang.en.stop_words import STOP_WORDS\n",
    "\n",
    "##vis\n",
    "# import pyLDAvis\n",
    "# import pyLDAvis.gensim_models as gensimvis\n",
    "# pyLDAvis.enable_notebook()\n",
    "\n",
    "import warnings\n",
    "warnings.filterwarnings(\"ignore\",category=DeprecationWarning)"
   ]
  },
  {
   "cell_type": "markdown",
   "metadata": {},
   "source": [
    "#### load the metadata of podcast transcripts"
   ]
  },
  {
   "cell_type": "code",
   "execution_count": 2,
   "metadata": {},
   "outputs": [],
   "source": [
    "global df, show_descriptions\n",
    "\n",
    "meta_data = []\n",
    "with open(\"../data/metadata.tsv\") as csvfile:\n",
    "    csvreader = csv.reader(csvfile,delimiter=\"\\t\")\n",
    "    for row in csvreader:\n",
    "        meta_data.append(row)\n",
    "\n",
    "df = pd.DataFrame(meta_data[1:],columns=meta_data[0])\n",
    "show_filename_prefixes = df.show_filename_prefix\n",
    "episode_filename_prefixes = df.episode_filename_prefix"
   ]
  },
  {
   "cell_type": "code",
   "execution_count": 3,
   "metadata": {},
   "outputs": [],
   "source": [
    "shows = df.groupby(by=['show_name'])\n",
    "show_names = shows.apply(lambda x: x.show_name.unique()[0])\n",
    "show_descriptions_aggregated = shows.apply(lambda x: x.show_description.unique()[0])\n",
    "episode_descriptions_aggregated = shows.apply(lambda x: list(x.episode_description))"
   ]
  },
  {
   "cell_type": "code",
   "execution_count": 4,
   "metadata": {},
   "outputs": [],
   "source": [
    "descriptions_aggregated = {}\n",
    "for k,text in enumerate(episode_descriptions_aggregated):\n",
    "    descriptions_aggregated[show_names[k]] = [show_descriptions_aggregated[k]]+text"
   ]
  },
  {
   "cell_type": "code",
   "execution_count": 5,
   "metadata": {},
   "outputs": [],
   "source": [
    "genres_topics = [\"comedy\",\"news\",\"crime\",\"science\",\"economics\",\"politics\",\"education\",\\\n",
    "                  \"sports\",\"lifestyle\",\"health\",\"wellbeing\",\"religion\",\"faith\",\"music\",\\\n",
    "                  \"art\",\"fashion\",\"literature\",\"humanities\",\"drama\",\"fitness\",\"drama\",\\\n",
    "                  \"fantasy\",\"scifi\",\"gameshow\",\"news quiz\",\"games\",\"game\",\"mental\",\\\n",
    "                  \"humor\",\"research\",\"technology\",\"society\",\"social\",\"culture\",\"lifestyle\",\\\n",
    "                  \"songs\",\"cooking\",\"culinary\",\"food\",\"travel\",\"films\",\"film\",\"movies\",\"tv\",\\\n",
    "                  \"climate\",\"space\",\"planet\",\"digital\",\"artificial intelligence\", \"ai\",\\\n",
    "                  \"cars\",\"car\",\"nutrition\",\"wellness\",\"family\",\"history\",\"geography\",\"physics\",\\\n",
    "                  \"mathematics\",\"math\",\"chemistry\",\"biology\",\"documentary\",\"commentary\",\"nfl\",\\\n",
    "                  \"mls\",\"nba\",\"mlb\",\"stocks\",\"stock\",\"market\",\"wall\",\"street\",\"wallstreet\",\"business\",\\\n",
    "                  \"reality\",\"shows\",\"investing\",\"social media\",\"biography\",\"biographies\",\\\n",
    "                  \"data science\",\"medicine\",\"media\",\"books\",\"book\",\"europe\",\"asia\",\"canada\",\\\n",
    "                  \"south america\",\"north america\",\"america\",\"usa\",\"netflix\",\"adventure\",\"pets\",\"dogs\",\\\n",
    "                  \"cats\",\"dog\",\"cat\",\"nintendo\",\"xbox\",\"playstation\",\"ps4\",\"ps5\",\"theatre\",\"mars\"\\\n",
    "                  \"tennis\",\"australia\",\"conspiracy\",\"war\",\"epidemic\",\"pandemic\",\"climate\",\"change\"\\\n",
    "                  \"astrology\",\"novel\",\"church\",\"christ\",\"romance\",\"english\",\"kids\",\"astronomy\"\\\n",
    "                  \"design\",\"entrepreneurship\",\"marketing\",\"digital\",\"christian\",\"christianity\",\"boardgames\",\\\n",
    "                  \"boardgame\",\"videogames\",\"videogame\",\"twitch\",\"currency\",\"cryptocurrency\",\"federal\",\"bank\",\\\n",
    "                  \"blockchain\",\"bitcoin\",\"nyse\",\"nft\",\"import\",\"export\",\"capital\",\"money\",\"exchange\",\"boxing\",\\\n",
    "                  \"mma\",\"wrestling\",\"excercise\",\"excercises\",\"gym\",\"bodybuilding\",\"body-building\",\"yoga\",\\\n",
    "                  \"stamina\",\"strength\",\"calories\",\"meditation\",\"physical\",\"healthy\",\"pope\",\"bible\",\"catholic\",\\\n",
    "                  \"catholicism\",\"testament\"]\n",
    "\n",
    "formats = [\"monologue\",\"interview\",\"storytelling\",\"repurposed\",\\\n",
    "           \"bite-sized\",\"co-host conversation\",\"debate\",\"narrative\",\\\n",
    "           \"scripted\",\"improvised\"]"
   ]
  },
  {
   "cell_type": "code",
   "execution_count": 6,
   "metadata": {},
   "outputs": [],
   "source": [
    "podcasts_genres_topics = {}\n",
    "for k,show in enumerate(show_names):\n",
    "    keywords = show.lower().split(\" \")\n",
    "    for word in keywords:\n",
    "        if word in genres_topics:\n",
    "            if (k,show) in podcasts_genres_topics:\n",
    "                if word not in podcasts_genres_topics[(k,show)]:\n",
    "                    podcasts_genres_topics[(k,show)].append(word)\n",
    "            else:\n",
    "                podcasts_genres_topics[(k,show)] = [word]\n",
    "podcasts = [item[1] for item in podcasts_genres_topics.keys()]"
   ]
  },
  {
   "cell_type": "code",
   "execution_count": 7,
   "metadata": {},
   "outputs": [],
   "source": [
    "nlp = spacy.load(\"en_core_web_sm\")\n",
    "stops_nltk = set(stopwords.words(\"english\"))\n",
    "stops_spacy = STOP_WORDS.union({'ll', 've', 'pron','okay','oh','like','know','yea','yep','yes','no',\\\n",
    "                                \"like\",\"oh\",\"yeah\",\"okay\",\"wow\",\"podcast\",\"rating\",\"ratings\",\"not\",\\\n",
    "                               \"support\",\"anchor\",\"podcasts\",\"episode\",\"http\",\"https\",\"5star\",\"reviews\",\\\n",
    "                               \"review\",\"instagram\",\"tiktok\",\"amazon\",\"apple\",\"twitter\",\"goole\",\\\n",
    "                               \"facebook\",\"send\",\"voice message\",\"message\",\"voice\",\"subscribe\",\"follow\",\\\n",
    "                               \"sponsor\",\"links\",\"easiest\",\"way\",\"fuck\",\"fucking\",\"talk\",\"discuss\",\\\n",
    "                               \"world\",\"time\",\"want\",\"join\",\"learn\",\"week\",\"things\",\"stuff\",\"find\",\\\n",
    "                               \"enjoy\",\"welcome\",\"share\",\"talk\",\"talking\",\"people\",\"gmail\",\"help\",\"today\",\\\n",
    "                               \"listen\",\"best\",\"stories\",\"story\",\"hope\",\"tips\",\"great\",\"journey\",\\\n",
    "                               \"topics\",\"email\",\"questions\",\"question\",\"going\",\"life\",\"good\",\"friends\",\\\n",
    "                               \"friend\",\"guys\",\"discussing\",\"live\",\"work\",\"student\",\"students\",\"need\",\\\n",
    "                               \"hear\",\"think\",\"change\",\"free\",\"better\",\"little\",\"fucking\",\"fuck\",\"shit\",\\\n",
    "                                \"bitch\",\"sex\",\"easiest\",\"way\",\"currently\",\"follow\",\"follows\",\"needs\",\\\n",
    "                               \"grow\",\"stay\",\"tuned\",\"walk\",\"understand\",\"tell\",\"tells\",\"ask\",\"helps\",\\\n",
    "                                \"feel\",\"feels\",\"look\",\"looks\",\"meet\",\"relate\",\"soon\",\"quick\",\"dude\",\"girl\",\\\n",
    "                                \"girls\",\"guy\",\"literally\",\"spotify\",\"google\",\"totally\",\"played\",\"young\",\\\n",
    "                               \"begin\",\"began\",\"create\",\"month\",\"year\",\"date\",\"day\",\"terms\",\"lose\",\"list\",\\\n",
    "                               \"bought\",\"brings\",\"bring\",\"buy\",\"percent\",\"rate\",\"increase\",\"words\",\"value\",\\\n",
    "                               \"search\",\"awesome\",\"followers\",\"finn\",\"jake\",\"mark\",\"america\",\"american\",\\\n",
    "                               \"speak\",\"funny\",\"hours\",\"hour\",\"honestly\",\"states\",\"united\",\"franklin\",\\\n",
    "                               \"patrick\",\"john\",\"build\",\"dave\",\"excited\",\"process\",\"processes\",\"based\",\\\n",
    "                                \"focus\",\"star\",\"mary\",\"chris\",\"taylor\",\"gotta\",\"liked\",\"hair\",\"adam\",\"chat\",\\\n",
    "                               \"named\",\"died\",\"born\",\"country\",\"mother\",\"father\",\"children\",\"tools\",\\\n",
    "                               \"countries\",\"jordan\",\"tommy\",\"listeners\",\"water\",\"jason\",\"lauren\",\"alex\",\\\n",
    "                               \"laguna\",\"jessica\",\"kristen\",\"examples\",\"example\",\"heidi\",\"stephen\",\"utiful\",\\\n",
    "                               \"everybody\",\"sorry\",\"came\",\"come\",\"meet\",\"whoa\",\"whoaa\",\"yay\",\"whoaw\",\\\n",
    "                               \"anybody\",\"somebody\",\"cool\",\"watch\",\"nice\",\"shall\"})\n",
    "stops = stops_nltk.union(stops_spacy)"
   ]
  },
  {
   "cell_type": "code",
   "execution_count": 8,
   "metadata": {},
   "outputs": [],
   "source": [
    "health_category = [(key,val) for key,val in podcasts_genres_topics.items() if (\"fitness\" in val)\\\n",
    "                                                                or (\"health\" in val)\\\n",
    "                                                                or (\"diet\" in val)\\\n",
    "                                                                or (\"nutrition\" in val)\\\n",
    "                                                                or (\"healthy\" in val)\\\n",
    "                                                                or (\"meditation\" in val)\\\n",
    "                                                                or (\"mental\" in val)\\\n",
    "                                                                or (\"physical\" in val)\\\n",
    "                                                                or (\"excercise\" in val)\\\n",
    "                                                                or (\"calories\" in val)\\\n",
    "                                                                or (\"gym\" in val)\\\n",
    "                                                                or (\"bodybuilding\" in val)\\\n",
    "                                                                or (\"body-building\" in val)\\\n",
    "                                                                or (\"stamina\" in val)\\\n",
    "                                                                or (\"strength\" in val)\\\n",
    "                                                                or (\"excercise\" in val)\\\n",
    "                                                                or (\"yoga\" in val)]"
   ]
  },
  {
   "cell_type": "code",
   "execution_count": 9,
   "metadata": {},
   "outputs": [],
   "source": [
    "sports_category = [(key,val) for key,val in podcasts_genres_topics.items() if (\"sports\" in val)\\\n",
    "                                                            or (\"games\" in val)\\\n",
    "                                                            or (\"game\" in val)\\\n",
    "                                                            or (\"videogame\" in val)\\\n",
    "                                                            or (\"videogames\" in val)\\\n",
    "                                                            or (\"boardgame\" in val)\\\n",
    "                                                            or (\"boardgames\" in val)\\\n",
    "                                                            or (\"xbox\" in val)\\\n",
    "                                                            or (\"nintendo\" in val)\\\n",
    "                                                            or (\"twitch\" in val)\\\n",
    "                                                            or (\"ps4\" in val)\\\n",
    "                                                            or (\"ps5\" in val)\\\n",
    "                                                            or (\"playstation\" in val)\\\n",
    "                                                            or (\"basketball\" in val)\\\n",
    "                                                            or (\"football\" in val)\\\n",
    "                                                            or (\"soccer\" in val)\\\n",
    "                                                            or (\"baseball\" in val)\\\n",
    "                                                            or (\"boxing\" in val)\\\n",
    "                                                            or (\"wrestling\" in val)\\\n",
    "                                                            or (\"mma\" in val)\\\n",
    "                                                            or (\"tennis\" in val)]"
   ]
  },
  {
   "cell_type": "code",
   "execution_count": 10,
   "metadata": {},
   "outputs": [],
   "source": [
    "religion_category = [(key,val) for key,val in podcasts_genres_topics.items() if (\"religion\" in val)\\\n",
    "                                                            or (\"faith\" in val)\\\n",
    "                                                            or (\"church\" in val)\\\n",
    "                                                            or (\"christ\" in val)\\\n",
    "                                                            or (\"christian\" in val)\\\n",
    "                                                            or (\"christianity\" in val)\\\n",
    "                                                            or (\"bible\" in val)\\\n",
    "                                                            or (\"testament\" in val)\\\n",
    "                                                            or (\"pope\" in val)\\\n",
    "                                                            or (\"catholic\" in val)\\\n",
    "                                                            or (\"catholicism\" in val)]"
   ]
  },
  {
   "cell_type": "code",
   "execution_count": 11,
   "metadata": {},
   "outputs": [],
   "source": [
    "invest_category = [(key,val) for key,val in podcasts_genres_topics.items() if (\"market\" in val)\\\n",
    "                                                            or (\"business\" in val)\\\n",
    "                                                            or (\"invest\" in val)\\\n",
    "                                                            or (\"stocks\" in val)\\\n",
    "                                                            or (\"stock\" in val)\\\n",
    "                                                            or (\"wallstreet\" in val)\\\n",
    "                                                            or (\"investing\" in val)\\\n",
    "                                                            or (\"investment\" in val)\\\n",
    "                                                            or (\"exchange\" in val)\\\n",
    "                                                            or (\"nyse\" in val)\\\n",
    "                                                            or (\"capital\" in val)\\\n",
    "                                                            or (\"money\" in val)\\\n",
    "                                                            or (\"currency\" in val)\\\n",
    "                                                            or (\"cryptocurrency\" in val)\\\n",
    "                                                            or (\"blockchain\" in val)\\\n",
    "                                                            or (\"bitcoin\" in val)\\\n",
    "                                                            or (\"federal\" in val)\\\n",
    "                                                            or (\"bank\" in val)\\\n",
    "                                                            or (\"nft\" in val)]"
   ]
  },
  {
   "cell_type": "code",
   "execution_count": 19,
   "metadata": {},
   "outputs": [],
   "source": [
    "number_of_topics = [5,6,7,8,9,10,15]\n",
    "df_parameters = list(product([2,3,4,5,6,7,8,9,10],[0.3,0.4,0.5,0.6,0.7,0.8,0.9]))\n",
    "hyperparams = list(product(number_of_topics,df_parameters))\n",
    "sports_cs = []\n",
    "with open('/home1/sgmark/capstone-project/model/coherence_scores_invest_category.csv','r') as f:\n",
    "    reader = csv.reader(f)\n",
    "    for row in reader:\n",
    "        sports_cs.append([float(x) for x in row])\n",
    "        \n",
    "best_hp_setting = hyperparams[np.argmax([x[4] for x in sports_cs])]"
   ]
  },
  {
   "cell_type": "code",
   "execution_count": 20,
   "metadata": {},
   "outputs": [
    {
     "data": {
      "text/plain": [
       "(7, (8, 0.8))"
      ]
     },
     "execution_count": 20,
     "metadata": {},
     "output_type": "execute_result"
    }
   ],
   "source": [
    "best_hp_setting_hp_setting"
   ]
  },
  {
   "cell_type": "markdown",
   "metadata": {},
   "source": [
    "#### The individual transcript location"
   ]
  },
  {
   "cell_type": "code",
   "execution_count": 12,
   "metadata": {},
   "outputs": [],
   "source": [
    "def file_location(show,episode):\n",
    "    search_string = local_path + \"/spotify-podcasts-2020\" + \"/podcasts-transcripts\" \\\n",
    "                               + \"/\" + show[0] \\\n",
    "                               + \"/\" + show[1] \\\n",
    "                               + \"/\" + \"show_\" + show \\\n",
    "                               + \"/\"\n",
    "    return search_string"
   ]
  },
  {
   "cell_type": "markdown",
   "metadata": {},
   "source": [
    "#### load the transcripts"
   ]
  },
  {
   "cell_type": "code",
   "execution_count": 13,
   "metadata": {},
   "outputs": [],
   "source": [
    "transcripts = {}\n",
    "for podcast,genre in invest_category:\n",
    "    for i in shows.get_group(podcast[1])[['show_filename_prefix','episode_filename_prefix']].index:\n",
    "        show,episode = shows.get_group(podcast[1])[['show_filename_prefix','episode_filename_prefix']].loc[i]\n",
    "        s = show.split(\"_\")[1]\n",
    "        try:\n",
    "            with open('../podcast_transcripts/'+s[0]+'/'+s[1]+'/'+show+'/'+episode+'.txt','r') as f:\n",
    "                transcripts[(show,episode)] = f.readlines()\n",
    "            f.close()\n",
    "        except Exception as e:\n",
    "            pass\n",
    "    \n",
    "keys = list(transcripts.keys())"
   ]
  },
  {
   "cell_type": "code",
   "execution_count": 14,
   "metadata": {},
   "outputs": [],
   "source": [
    "# Cleaning & remove urls and links\n",
    "def remove_stops(text,stops):\n",
    "    final = []\n",
    "    for word in text:\n",
    "        if (word not in stops) and (len(word)>3) and (not word.endswith('ing')) and (not word.endswith('ly')):\n",
    "            final.append(word)\n",
    "    return final\n",
    "                       \n",
    "def clean_text(docs):\n",
    "    final = []\n",
    "    for doc in docs:\n",
    "        clean_doc = remove_stops(doc, stops)\n",
    "        final.extend(clean_doc)\n",
    "    return final\n",
    "\n",
    "def lemmatization(text_data): \n",
    "    nlp = spacy.load(\"en_core_web_sm\")\n",
    "    texts = []\n",
    "    for text in text_data:\n",
    "        doc = nlp(text)\n",
    "        lem_text = []\n",
    "        for token in doc:\n",
    "            if (token.pos_==\"VERB\") or (token.pos_==\"ADV\"):\n",
    "                pass\n",
    "            else:\n",
    "                lem_text.append(token.lemma_)\n",
    "        texts.append(lem_text)\n",
    "    return texts\n",
    "\n",
    "# # lemmatization -- do lemmatization for just the verbs\n",
    "# def get_lemmatized(text):\n",
    "#     lemmatized = []\n",
    "#     for phrase in text:\n",
    "#         sentence=''\n",
    "#         for word in nlp(phrase):\n",
    "#             if word.pos_ == \"VERB\":\n",
    "#                 #or word.pos_ == \"ADJ\" or word.pos_ == \"ADV\":\n",
    "#                 sentence += ' ' + str(word.lemma_)\n",
    "#             elif str(word)!='':\n",
    "#                 sentence += ' ' + str(word)\n",
    "#         lemmatized.append(sentence.strip())\n",
    "#     return lemmatized\n",
    "\n",
    "# def get_named_entities(text):\n",
    "#     return nlp(text.lower()).ents\n",
    "\n",
    "# def get_noun_chunks(text):\n",
    "#     non_stop_noun_chunks = []\n",
    "#     stops = stopwords.words(\"english\")\n",
    "#     for word in nlp(text.lower()).noun_chunks:\n",
    "#         if str(word) not in stops:\n",
    "#             non_stop_noun_chunks.append(word)\n",
    "#     return non_stop_noun_chunks"
   ]
  },
  {
   "cell_type": "markdown",
   "metadata": {},
   "source": [
    "#### tokenize/convert text into words"
   ]
  },
  {
   "cell_type": "code",
   "execution_count": 15,
   "metadata": {},
   "outputs": [],
   "source": [
    "def normalize_docs(text_data):\n",
    "    final_texts = []\n",
    "    for text in text_data:\n",
    "        new_text = gensim.utils.simple_preprocess(text,deacc=True)\n",
    "        final_texts.append(new_text)\n",
    "    return final_texts"
   ]
  },
  {
   "cell_type": "code",
   "execution_count": 16,
   "metadata": {},
   "outputs": [],
   "source": [
    "docs = []\n",
    "for text in transcripts.values():\n",
    "    docs.append(' '.join(clean_text(normalize_docs(text))))"
   ]
  },
  {
   "cell_type": "code",
   "execution_count": 17,
   "metadata": {},
   "outputs": [],
   "source": [
    "texts = lemmatization(docs)\n",
    "texts = [remove_stops(text,stops) for text in texts]"
   ]
  },
  {
   "cell_type": "markdown",
   "metadata": {},
   "source": [
    "### Using bigrams"
   ]
  },
  {
   "cell_type": "code",
   "execution_count": 21,
   "metadata": {},
   "outputs": [],
   "source": [
    "from gensim.models.phrases import Phrases\n",
    "\n",
    "bigram = Phrases(texts, min_count=best_hp_setting[1][0])\n",
    "\n",
    "for i in range(len(texts)):\n",
    "    for token in bigram[texts[i]]:\n",
    "        if '_' in token:\n",
    "            texts[i].append(token)"
   ]
  },
  {
   "cell_type": "markdown",
   "metadata": {},
   "source": [
    "#### Construct a corpus of words as a bag of words "
   ]
  },
  {
   "cell_type": "code",
   "execution_count": 22,
   "metadata": {},
   "outputs": [],
   "source": [
    "dictionary = corpora.Dictionary(texts)\n",
    "\n",
    "dictionary.filter_extremes(no_below=best_hp_setting[1][0],no_above=best_hp_setting[1][1])"
   ]
  },
  {
   "cell_type": "code",
   "execution_count": 23,
   "metadata": {},
   "outputs": [],
   "source": [
    "corpus = [dictionary.doc2bow(text) for text in texts]"
   ]
  },
  {
   "cell_type": "code",
   "execution_count": 24,
   "metadata": {},
   "outputs": [],
   "source": [
    "# from itertools import product\n",
    "\n",
    "# number_of_topics = [5,6,7,8,9,10,15]\n",
    "# df_parameters = list(product([2,3,4,5,6,7,8,9,10],[0.3,0.4,0.5,0.6,0.7,0.8,0.9]))\n",
    "# coherence_scores_umass = np.zeros((len(number_of_topics),len(df_parameters)))\n",
    "# coherence_scores_uci = np.zeros((len(number_of_topics),len(df_parameters)))\n",
    "# coherence_scores_npmi = np.zeros((len(number_of_topics),len(df_parameters)))\n",
    "\n",
    "# j = 0\n",
    "# for num in number_of_topics:\n",
    "#     i = 0\n",
    "#     for n,m in df_parameters:\n",
    "#         dictionary = corpora.Dictionary(texts)\n",
    "#         dictionary.filter_extremes(no_below=n,no_above=m)\n",
    "#         corpus = [dictionary.doc2bow(text) for text in texts]\n",
    "#         num_topics = num\n",
    "#         chunksize = 200\n",
    "#         passes = 20\n",
    "#         iterations = 500\n",
    "#         eval_every = None\n",
    "\n",
    "#         lda_model = gensim.models.ldamodel.LdaModel(corpus,\n",
    "#                                                    id2word=dictionary,\n",
    "#                                                    num_topics=num_topics,\n",
    "#                                                    chunksize=chunksize,\n",
    "#                                                    passes=passes,\n",
    "#                                                    iterations=iterations,\n",
    "#                                                    alpha='auto',\n",
    "#                                                    eta='auto',\n",
    "#                                                    random_state = 123,\n",
    "#                                                    eval_every=eval_every)\n",
    "#         cm = CoherenceModel(lda_model, texts=texts,corpus=corpus, coherence= 'c_uci')\n",
    "#         coherence_scores_uci[j,i] = cm.get_coherence()\n",
    "#         cm = CoherenceModel(lda_model, texts=texts,corpus=corpus, coherence= 'c_npmi')\n",
    "#         coherence_scores_npmi[j,i] = cm.get_coherence() \n",
    "#         cm = CoherenceModel(lda_model, corpus=corpus, coherence= 'u_mass')\n",
    "#         coherence_scores_umass[j,i] = cm.get_coherence()\n",
    "#         with open(\"coherence_scores_invest_category.csv\",'a') as f:\n",
    "#             writer = csv.writer(f)\n",
    "#             writer.writerow([num,n,m,coherence_scores_uci[j,i],coherence_scores_npmi[j,i],\\\n",
    "#                              coherence_scores_umass[j,i]])\n",
    "#         i += 1\n",
    "#         print(i)\n",
    "#     j += 1\n",
    "#     print(j)"
   ]
  },
  {
   "cell_type": "code",
   "execution_count": 25,
   "metadata": {},
   "outputs": [
    {
     "name": "stdout",
     "output_type": "stream",
     "text": [
      "CPU times: user 53.1 s, sys: 52.1 ms, total: 53.1 s\n",
      "Wall time: 53.3 s\n"
     ]
    }
   ],
   "source": [
    "%%time\n",
    "import logging\n",
    "logging.basicConfig(filename='invest_topics.log', encoding='utf-8',format='%(asctime)s : %(levelname)s : %(message)s', level=logging.DEBUG)\n",
    "\n",
    "num_topics = best_hp_setting[0]\n",
    "chunksize = 200\n",
    "passes = 50\n",
    "iterations = 500\n",
    "eval_every = None\n",
    "\n",
    "lda_model = gensim.models.ldamodel.LdaModel(corpus,\n",
    "                                           id2word=dictionary,\n",
    "                                           num_topics=num_topics,\n",
    "                                           chunksize=chunksize,\n",
    "                                           passes=passes,\n",
    "                                           iterations=iterations,\n",
    "                                           alpha='auto',\n",
    "                                           eta='auto',\n",
    "                                           random_state=123,\n",
    "                                           eval_every=eval_every)"
   ]
  },
  {
   "cell_type": "code",
   "execution_count": 26,
   "metadata": {},
   "outputs": [
    {
     "name": "stdout",
     "output_type": "stream",
     "text": [
      "Average topic coherence: -0.6666.\n"
     ]
    }
   ],
   "source": [
    "top_topics = lda_model.top_topics(corpus) #, num_words=20)\n",
    "\n",
    "# Average topic coherence is the sum of topic coherences of all topics, divided by the number of topics.\n",
    "avg_topic_coherence = sum([t[1] for t in top_topics])/num_topics\n",
    "\n",
    "print('Average topic coherence: %.4f.' % avg_topic_coherence)"
   ]
  },
  {
   "cell_type": "code",
   "execution_count": 27,
   "metadata": {},
   "outputs": [
    {
     "name": "stdout",
     "output_type": "stream",
     "text": [
      "-0.06015565703286936\n",
      "0.03342998153601315\n",
      "-0.0007210390650009431\n",
      "-0.200895402562912\n",
      "-0.10185665291789162\n",
      "-0.04433912261434094\n",
      "-0.002979379866463028\n",
      "-0.10372798373949015\n"
     ]
    }
   ],
   "source": [
    "cm = CoherenceModel(lda_model, texts = texts, corpus=corpus, coherence='c_npmi')\n",
    "coherence = cm.get_coherence() \n",
    "print(coherence)\n",
    "for x in cm.get_coherence_per_topic(): print(x)"
   ]
  },
  {
   "cell_type": "markdown",
   "metadata": {},
   "source": [
    "### Visualizing data"
   ]
  },
  {
   "cell_type": "code",
   "execution_count": null,
   "metadata": {},
   "outputs": [],
   "source": [
    "# vis = pyLDAvis.gensim_models.prepare(lda_model,corpus,dictionary,mds=\"mmds\",R=10)\n",
    "# vis"
   ]
  },
  {
   "cell_type": "code",
   "execution_count": 141,
   "metadata": {},
   "outputs": [],
   "source": [
    "# from pprint import pprint\n",
    "# pprint(top_topics)"
   ]
  },
  {
   "cell_type": "code",
   "execution_count": 28,
   "metadata": {},
   "outputs": [],
   "source": [
    "import pickle\n",
    "\n",
    "pickle.dump(lda_model,open('../model/invest_episodes_lda_model.pkl','wb'))\n",
    "pickle.dump(dictionary,open('../model/invest_episodes_dictionary.pkl','wb'))\n",
    "pickle.dump(corpus,open('../model/invest_episodes_corpus.pkl','wb'))"
   ]
  },
  {
   "cell_type": "code",
   "execution_count": 30,
   "metadata": {},
   "outputs": [],
   "source": [
    "# import pickle\n",
    "\n",
    "# file = open('../model/invest_episodes_lda_model.pkl','rb')\n",
    "# lda_model = pickle.load(file)\n",
    "# file.close()\n",
    "\n",
    "# file = open('../model/invest_episodes_corpus.pkl','rb')\n",
    "# corpus = pickle.load(file)\n",
    "# file.close()\n",
    "\n",
    "# file = open('../model/invest_episodes_dictionary.pkl','rb')\n",
    "# dictionary = pickle.load(file)\n",
    "# file.close()"
   ]
  },
  {
   "cell_type": "code",
   "execution_count": 52,
   "metadata": {},
   "outputs": [],
   "source": [
    "def get_main_topic_df(model, bow, texts):\n",
    "    topic_list = []\n",
    "    percent_list = []\n",
    "    keyword_list = []\n",
    "    podcast_list = []\n",
    "    episode_list = []\n",
    "    duration_list = []\n",
    "    publisher_list = []\n",
    "    \n",
    "    for key,wc in zip(keys,bow):\n",
    "        podcast_list.append(df[(df['show_filename_prefix'] == key[0])&(df['episode_filename_prefix'] == key[1])].show_name.iloc[0])\n",
    "        episode_list.append(df[(df['show_filename_prefix'] == key[0])&(df['episode_filename_prefix'] == key[1])].episode_name.iloc[0])\n",
    "        duration_list.append(round(float(df[(df['show_filename_prefix'] == key[0])&(df['episode_filename_prefix'] == key[1])].duration.iloc[0])))\n",
    "        publisher_list.append(df[(df['show_filename_prefix'] == key[0])&(df['episode_filename_prefix'] == key[1])].publisher.iloc[0])\n",
    "        \n",
    "        topic, percent = sorted(model.get_document_topics(wc), key=lambda x: x[1], reverse=True)[0]\n",
    "        topic_list.append(topic)\n",
    "        percent_list.append(round(percent, 3))\n",
    "        keyword_list.append(' '.join(sorted([x[0] for x in model.show_topic(topic)])))\n",
    "\n",
    "    result_df = pd.concat([pd.Series(podcast_list, name='Podcast_name'),\n",
    "                           pd.Series(episode_list, name='Episode_name'),\n",
    "                           pd.Series(topic_list, name='Dominant_topic'), \n",
    "                           pd.Series(percent_list, name='Percent'), \n",
    "                           pd.Series(texts, name='Processed_text'), \n",
    "                           pd.Series(keyword_list, name='Keywords'),\n",
    "                           pd.Series(duration_list, name='Duration of the episode'),\n",
    "                           pd.Series(publisher_list, name='Publisher of the show')], axis=1)\n",
    "\n",
    "    return result_df"
   ]
  },
  {
   "cell_type": "code",
   "execution_count": 53,
   "metadata": {},
   "outputs": [],
   "source": [
    "main_topic_df = get_main_topic_df(lda_model,corpus,texts)"
   ]
  },
  {
   "cell_type": "code",
   "execution_count": 54,
   "metadata": {},
   "outputs": [],
   "source": [
    "main_topic_df.to_pickle('invest_main_df.pkl')"
   ]
  },
  {
   "cell_type": "code",
   "execution_count": 55,
   "metadata": {},
   "outputs": [
    {
     "data": {
      "text/html": [
       "<div>\n",
       "<style scoped>\n",
       "    .dataframe tbody tr th:only-of-type {\n",
       "        vertical-align: middle;\n",
       "    }\n",
       "\n",
       "    .dataframe tbody tr th {\n",
       "        vertical-align: top;\n",
       "    }\n",
       "\n",
       "    .dataframe thead th {\n",
       "        text-align: right;\n",
       "    }\n",
       "</style>\n",
       "<table border=\"1\" class=\"dataframe\">\n",
       "  <thead>\n",
       "    <tr style=\"text-align: right;\">\n",
       "      <th></th>\n",
       "      <th>Podcast_name</th>\n",
       "      <th>Episode_name</th>\n",
       "      <th>Dominant_topic</th>\n",
       "      <th>Percent</th>\n",
       "      <th>Processed_text</th>\n",
       "      <th>Keywords</th>\n",
       "      <th>Duration of the episode</th>\n",
       "      <th>Publisher of the show</th>\n",
       "    </tr>\n",
       "  </thead>\n",
       "  <tbody>\n",
       "    <tr>\n",
       "      <th>0</th>\n",
       "      <td>\"Mind\" Your Business With Satyam Tiwari | Pers...</td>\n",
       "      <td>How to grow your following on any social media...</td>\n",
       "      <td>0</td>\n",
       "      <td>0.737</td>\n",
       "      <td>[discussion, social, medium, platform, wise, a...</td>\n",
       "      <td>brand company customer industry market price p...</td>\n",
       "      <td>1</td>\n",
       "      <td>Satyam Tiwari</td>\n",
       "    </tr>\n",
       "    <tr>\n",
       "      <th>1</th>\n",
       "      <td>\"Mind\" Your Business With Satyam Tiwari | Pers...</td>\n",
       "      <td>Art Of Branding.</td>\n",
       "      <td>0</td>\n",
       "      <td>0.867</td>\n",
       "      <td>[brand, brand, company, personality, overall, ...</td>\n",
       "      <td>brand company customer industry market price p...</td>\n",
       "      <td>1</td>\n",
       "      <td>Satyam Tiwari</td>\n",
       "    </tr>\n",
       "    <tr>\n",
       "      <th>2</th>\n",
       "      <td>\"Mind\" Your Business With Satyam Tiwari | Pers...</td>\n",
       "      <td>Welcome to \"MIND YOUR BUSINESS\"</td>\n",
       "      <td>3</td>\n",
       "      <td>0.571</td>\n",
       "      <td>[mind, business, host, satyam, tiwari, entrepr...</td>\n",
       "      <td>audience badass_business figure goal love prod...</td>\n",
       "      <td>1</td>\n",
       "      <td>Satyam Tiwari</td>\n",
       "    </tr>\n",
       "    <tr>\n",
       "      <th>3</th>\n",
       "      <td>A Bitcoin Micro Pod</td>\n",
       "      <td>LM02: Getbittr with Ruben Waterman</td>\n",
       "      <td>5</td>\n",
       "      <td>0.676</td>\n",
       "      <td>[english, host, spanish, luna, decoy, second, ...</td>\n",
       "      <td>bitcoin cash coin dollar mean network point sy...</td>\n",
       "      <td>15</td>\n",
       "      <td>Lunaticoin</td>\n",
       "    </tr>\n",
       "    <tr>\n",
       "      <th>4</th>\n",
       "      <td>A Millennial’s Guide to Real Estate Investing ...</td>\n",
       "      <td>From Bus Boy to $350,000 Monthly Cashflow with...</td>\n",
       "      <td>2</td>\n",
       "      <td>0.471</td>\n",
       "      <td>[millennial, real, estate, host, antoine, mart...</td>\n",
       "      <td>company dollar kind market million million_dol...</td>\n",
       "      <td>36</td>\n",
       "      <td>Antoine Martel</td>\n",
       "    </tr>\n",
       "  </tbody>\n",
       "</table>\n",
       "</div>"
      ],
      "text/plain": [
       "                                        Podcast_name  \\\n",
       "0  \"Mind\" Your Business With Satyam Tiwari | Pers...   \n",
       "1  \"Mind\" Your Business With Satyam Tiwari | Pers...   \n",
       "2  \"Mind\" Your Business With Satyam Tiwari | Pers...   \n",
       "3                                A Bitcoin Micro Pod   \n",
       "4  A Millennial’s Guide to Real Estate Investing ...   \n",
       "\n",
       "                                        Episode_name  Dominant_topic  Percent  \\\n",
       "0  How to grow your following on any social media...               0    0.737   \n",
       "1                                  Art Of Branding.                0    0.867   \n",
       "2                   Welcome to \"MIND YOUR BUSINESS\"                3    0.571   \n",
       "3                 LM02: Getbittr with Ruben Waterman               5    0.676   \n",
       "4  From Bus Boy to $350,000 Monthly Cashflow with...               2    0.471   \n",
       "\n",
       "                                      Processed_text  \\\n",
       "0  [discussion, social, medium, platform, wise, a...   \n",
       "1  [brand, brand, company, personality, overall, ...   \n",
       "2  [mind, business, host, satyam, tiwari, entrepr...   \n",
       "3  [english, host, spanish, luna, decoy, second, ...   \n",
       "4  [millennial, real, estate, host, antoine, mart...   \n",
       "\n",
       "                                            Keywords  Duration of the episode  \\\n",
       "0  brand company customer industry market price p...                        1   \n",
       "1  brand company customer industry market price p...                        1   \n",
       "2  audience badass_business figure goal love prod...                        1   \n",
       "3  bitcoin cash coin dollar mean network point sy...                       15   \n",
       "4  company dollar kind market million million_dol...                       36   \n",
       "\n",
       "  Publisher of the show  \n",
       "0         Satyam Tiwari  \n",
       "1         Satyam Tiwari  \n",
       "2         Satyam Tiwari  \n",
       "3            Lunaticoin  \n",
       "4        Antoine Martel  "
      ]
     },
     "execution_count": 55,
     "metadata": {},
     "output_type": "execute_result"
    }
   ],
   "source": [
    "main_topic_df.head(5)"
   ]
  },
  {
   "cell_type": "code",
   "execution_count": 68,
   "metadata": {},
   "outputs": [
    {
     "data": {
      "image/png": "[encoded data removed]",
      "text/plain": [
       "<Figure size 720x576 with 1 Axes>"
      ]
     },
     "metadata": {},
     "output_type": "display_data"
    }
   ],
   "source": [
    "plt.figure(figsize=(10,8))\n",
    "topics_groups = main_topic_df.groupby('Dominant_topic')\n",
    "plt.bar(range(best_hp_setting[0]),topics_groups.count()['Podcast_name'],width=0.5)\n",
    "plt.title('Dominant topic frequency in the investment/stocks category of podcast episodes',fontsize=16)\n",
    "plt.xlabel('Dominant Topic index',fontsize=16)\n",
    "plt.ylabel('Number of episodes',fontsize=16)\n",
    "plt.xticks(fontsize=14)\n",
    "plt.yticks(fontsize=14);"
   ]
  },
  {
   "cell_type": "code",
   "execution_count": 77,
   "metadata": {},
   "outputs": [
    {
     "name": "stdout",
     "output_type": "stream",
     "text": [
      "topic 0: brand company customer industry market price product sale tile website\n",
      "topic 1: financial market minute option risk stock stock_option trade trade_stock trader\n",
      "topic 2: company dollar kind market million million_dollar number price real_estate stock\n",
      "topic 3: audience badass_business figure goal love product program success video woman\n",
      "topic 4: able book game idea kind long love mean person point\n",
      "topic 5: bitcoin cash coin dollar mean network point system tech_money transaction\n",
      "topic 6: buck bull contractor couple deal event house kind mean tile_contractor\n"
     ]
    }
   ],
   "source": [
    "representatives = pd.DataFrame()\n",
    "\n",
    "for k in topics_groups.groups.keys():\n",
    "    representatives = pd.concat([representatives, \n",
    "                                 topics_groups.get_group(k).sort_values(['Percent'], ascending=False).head(1)])\n",
    "    \n",
    "for k,words in enumerate(representatives.Keywords):\n",
    "    print(f'topic {k}: {words}')"
   ]
  },
  {
   "cell_type": "code",
   "execution_count": 71,
   "metadata": {},
   "outputs": [],
   "source": [
    "# print('Document: {}  Dominant topic: {}\\n'.format(representatives.index[2], \n",
    "#                                        representatives.loc[representatives.index[2]]['Dominant_topic']))\n",
    "# print([sentence.strip() for sentence in transcripts[keys[representatives.index[2]]]])"
   ]
  },
  {
   "cell_type": "code",
   "execution_count": 37,
   "metadata": {},
   "outputs": [],
   "source": [
    "num_topics = best_hp_setting[0]\n",
    "def word_count_by_topic(topic=0):\n",
    "    d_lens = [len(d) for d in grouped_topics.get_group(topic)['Processed_text']]\n",
    "    plt.figure(figsize=(10,8))\n",
    "    plt.hist(d_lens)\n",
    "    large = plt.gca().get_ylim()[1]\n",
    "    d_mean = round(np.mean(d_lens), 1)\n",
    "    d_median = np.median(d_lens)\n",
    "    plt.plot([d_mean, d_mean], [0,large], label='Mean = {}'.format(d_mean))\n",
    "    plt.plot([d_median, d_median], [0,large], label='Median = {}'.format(d_median))\n",
    "    plt.legend()\n",
    "    plt.xlabel('Document word count',fontsize=16)\n",
    "    plt.ylabel('Number of documents',fontsize=16)\n",
    "    plt.xticks(fontsize=14)\n",
    "    plt.yticks(fontsize=14)"
   ]
  },
  {
   "cell_type": "code",
   "execution_count": 38,
   "metadata": {},
   "outputs": [
    {
     "data": {
      "application/vnd.jupyter.widget-view+json": {
       "model_id": "58b1a6506977442bb63db25a24b91881",
       "version_major": 2,
       "version_minor": 0
      },
      "text/plain": [
       "interactive(children=(IntSlider(value=0, description='Topic', max=6), Output()), _dom_classes=('widget-interac…"
      ]
     },
     "metadata": {},
     "output_type": "display_data"
    }
   ],
   "source": [
    "from ipywidgets import interact, IntSlider\n",
    "\n",
    "slider = IntSlider(min=0, max=num_topics-1, step=1, value=0, description='Topic')\n",
    "interact(word_count_by_topic, topic=slider);"
   ]
  },
  {
   "cell_type": "code",
   "execution_count": 39,
   "metadata": {},
   "outputs": [
    {
     "name": "stdout",
     "output_type": "stream",
     "text": [
      "Indices of top words: \n",
      "{130, 516, 517, 140, 13, 1037, 15, 16, 145, 143, 1681, 148, 3989, 149, 791, 152, 9623, 404, 411, 1691, 541, 30, 159, 1056, 164, 678, 424, 42, 562, 1843, 306, 183, 188, 60, 5182, 322, 6086, 70, 200, 456, 462, 78, 592, 723, 9556, 598, 87, 99, 7653, 7654, 235, 5739, 367, 1776, 248, 633, 893}\n",
      "\n"
     ]
    }
   ],
   "source": [
    "lda_top_words_index = set()\n",
    "for i in range(lda_model.num_topics):\n",
    "    lda_top_words_index = lda_top_words_index.union([k for (k,v) in lda_model.get_topic_terms(i)])\n",
    "\n",
    "print('Indices of top words: \\n{}\\n'.format(lda_top_words_index))"
   ]
  },
  {
   "cell_type": "code",
   "execution_count": 41,
   "metadata": {},
   "outputs": [],
   "source": [
    "words_we_care_about = [{dictionary[tup[0]]: tup[1] for tup in lst if tup[0] in list(lda_top_words_index)} \n",
    "                       for lst in corpus]"
   ]
  },
  {
   "cell_type": "code",
   "execution_count": 42,
   "metadata": {},
   "outputs": [],
   "source": [
    "lda_top_words_df = pd.DataFrame(words_we_care_about).fillna(0).astype(int).sort_index(axis=1)\n",
    "lda_top_words_df['Cluster'] = main_topic_df['Dominant_topic']"
   ]
  },
  {
   "cell_type": "code",
   "execution_count": 110,
   "metadata": {},
   "outputs": [
    {
     "data": {
      "image/png": "[encoded data removed]",
      "text/plain": [
       "<Figure size 2160x576 with 1 Axes>"
      ]
     },
     "metadata": {},
     "output_type": "display_data"
    }
   ],
   "source": [
    "k=6\n",
    "clusterwise_words_dist = lda_top_words_df.groupby('Cluster').get_group(k)\n",
    "plt.figure(figsize=(30,8))\n",
    "plt.bar(list(clusterwise_words_dist.sum()[:-1].transpose().index),\\\n",
    "        list(clusterwise_words_dist.sum()[:-1].transpose()))\n",
    "plt.title(f'Term frequencies of keywords of topic: {k}',fontsize=16)\n",
    "plt.xlabel('Keywords in the topics',fontsize=16)\n",
    "plt.ylabel('Word frequency',fontsize=16)\n",
    "plt.xticks(rotation=90,fontsize=14)\n",
    "plt.yticks(fontsize=14);"
   ]
  },
  {
   "cell_type": "code",
   "execution_count": 111,
   "metadata": {},
   "outputs": [],
   "source": [
    "word_totals = {k:{y[1]:y[0] for y in x[0]} for k,x in enumerate(top_topics)}"
   ]
  },
  {
   "cell_type": "code",
   "execution_count": 112,
   "metadata": {},
   "outputs": [
    {
     "data": {
      "application/vnd.jupyter.widget-view+json": {
       "model_id": "cb601963ed904332b98c38ea84bb240e",
       "version_major": 2,
       "version_minor": 0
      },
      "text/plain": [
       "interactive(children=(IntSlider(value=0, description='Topic', max=6), Output()), _dom_classes=('widget-interac…"
      ]
     },
     "metadata": {},
     "output_type": "display_data"
    }
   ],
   "source": [
    "import matplotlib.pyplot as plt\n",
    "from ipywidgets import interact, IntSlider\n",
    "from wordcloud import WordCloud\n",
    "\n",
    "def show_wordcloud(topic=0):\n",
    "    cloud = WordCloud(background_color='white', colormap='viridis')\n",
    "    cloud.generate_from_frequencies(word_totals[topic])\n",
    "    plt.gca().imshow(cloud)\n",
    "    plt.axis('off')\n",
    "    plt.tight_layout()\n",
    "    \n",
    "slider = IntSlider(min=0, max=best_hp_setting[0]-1, step=1, value=0, description='Topic')\n",
    "interact(show_wordcloud, topic=slider);"
   ]
  },
  {
   "cell_type": "code",
   "execution_count": null,
   "metadata": {},
   "outputs": [],
   "source": []
  }
 ],
 "metadata": {
  "kernelspec": {
   "display_name": "demo",
   "language": "python",
   "name": "demo"
  },
  "language_info": {
   "codemirror_mode": {
    "name": "ipython",
    "version": 3
   },
   "file_extension": ".py",
   "mimetype": "text/x-python",
   "name": "python",
   "nbconvert_exporter": "python",
   "pygments_lexer": "ipython3",
   "version": "3.9.2"
  }
 },
 "nbformat": 4,
 "nbformat_minor": 4
}
