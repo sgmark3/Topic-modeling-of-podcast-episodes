{
 "cells": [
  {
   "cell_type": "markdown",
   "metadata": {},
   "source": [
    "#### Import all the required packages"
   ]
  },
  {
   "cell_type": "code",
   "execution_count": 2,
   "metadata": {},
   "outputs": [],
   "source": [
    "## basic packages\n",
    "import numpy as np\n",
    "import re\n",
    "import csv\n",
    "import time\n",
    "import pandas as pd\n",
    "from itertools import product\n",
    "import matplotlib.pyplot as plt\n",
    "import seaborn as sns\n",
    "sns.set_style('darkgrid')\n",
    "\n",
    "##gensim\n",
    "import gensim\n",
    "import gensim.corpora as corpora\n",
    "from gensim.utils import simple_preprocess\n",
    "from gensim.models import CoherenceModel\n",
    "\n",
    "##spacy and nltk\n",
    "import spacy\n",
    "from nltk.corpus import stopwords\n",
    "from spacy.lang.en.stop_words import STOP_WORDS\n",
    "\n",
    "##vis\n",
    "# import pyLDAvis\n",
    "# import pyLDAvis.gensim_models as gensimvis\n",
    "# pyLDAvis.enable_notebook()\n",
    "\n",
    "import warnings\n",
    "warnings.filterwarnings(\"ignore\",category=DeprecationWarning)"
   ]
  },
  {
   "cell_type": "markdown",
   "metadata": {},
   "source": [
    "#### load the metadata of podcast transcripts"
   ]
  },
  {
   "cell_type": "code",
   "execution_count": 3,
   "metadata": {},
   "outputs": [],
   "source": [
    "global df, show_descriptions\n",
    "\n",
    "meta_data = []\n",
    "with open(\"../data/metadata.tsv\") as csvfile:\n",
    "    csvreader = csv.reader(csvfile,delimiter=\"\\t\")\n",
    "    for row in csvreader:\n",
    "        meta_data.append(row)\n",
    "\n",
    "df = pd.DataFrame(meta_data[1:],columns=meta_data[0])\n",
    "show_filename_prefixes = df.show_filename_prefix\n",
    "episode_filename_prefixes = df.episode_filename_prefix\n",
    "shows = df.groupby(by=['show_name'])\n",
    "show_names = shows.apply(lambda x: x.show_name.unique()[0])"
   ]
  },
  {
   "cell_type": "code",
   "execution_count": 4,
   "metadata": {},
   "outputs": [],
   "source": [
    "genres_topics = [\"comedy\",\"news\",\"crime\",\"science\",\"economics\",\"politics\",\"education\",\\\n",
    "                  \"sports\",\"lifestyle\",\"health\",\"wellbeing\",\"religion\",\"faith\",\"music\",\\\n",
    "                  \"art\",\"fashion\",\"literature\",\"humanities\",\"drama\",\"fitness\",\"drama\",\\\n",
    "                  \"fantasy\",\"scifi\",\"gameshow\",\"news quiz\",\"games\",\"game\",\"mental\",\\\n",
    "                  \"humor\",\"research\",\"technology\",\"society\",\"social\",\"culture\",\"lifestyle\",\\\n",
    "                  \"songs\",\"cooking\",\"culinary\",\"food\",\"travel\",\"films\",\"film\",\"movies\",\"tv\",\\\n",
    "                  \"climate\",\"space\",\"planet\",\"digital\",\"artificial intelligence\", \"ai\",\\\n",
    "                  \"cars\",\"car\",\"nutrition\",\"wellness\",\"family\",\"history\",\"geography\",\"physics\",\\\n",
    "                  \"mathematics\",\"math\",\"chemistry\",\"biology\",\"documentary\",\"commentary\",\"nfl\",\\\n",
    "                  \"mls\",\"nba\",\"mlb\",\"stocks\",\"stock\",\"market\",\"wall\",\"street\",\"wallstreet\",\"business\",\\\n",
    "                  \"reality\",\"shows\",\"investing\",\"social media\",\"biography\",\"biographies\",\\\n",
    "                  \"data science\",\"medicine\",\"media\",\"books\",\"book\",\"europe\",\"asia\",\"canada\",\\\n",
    "                  \"south america\",\"north america\",\"america\",\"usa\",\"netflix\",\"adventure\",\"pets\",\"dogs\",\\\n",
    "                  \"cats\",\"dog\",\"cat\",\"nintendo\",\"xbox\",\"playstation\",\"ps4\",\"ps5\",\"theatre\",\"mars\"\\\n",
    "                  \"tennis\",\"australia\",\"conspiracy\",\"war\",\"epidemic\",\"pandemic\",\"climate\",\"change\"\\\n",
    "                  \"astrology\",\"novel\",\"church\",\"christ\",\"romance\",\"english\",\"kids\",\"astronomy\"\\\n",
    "                  \"design\",\"entrepreneurship\",\"marketing\",\"digital\",\"christian\",\"christianity\",\"boardgames\",\\\n",
    "                  \"boardgame\",\"videogames\",\"videogame\",\"twitch\",\"currency\",\"cryptocurrency\",\"federal\",\"bank\",\\\n",
    "                  \"blockchain\",\"bitcoin\",\"nyse\",\"nft\",\"import\",\"export\",\"capital\",\"money\",\"exchange\",\"boxing\",\\\n",
    "                  \"mma\",\"wrestling\",\"excercise\",\"excercises\",\"gym\",\"bodybuilding\",\"body-building\",\"yoga\",\\\n",
    "                  \"stamina\",\"strength\",\"calories\",\"meditation\",\"physical\",\"healthy\",\"pope\",\"bible\",\"catholic\",\\\n",
    "                  \"catholicism\",\"testament\"]\n",
    "\n",
    "formats = [\"monologue\",\"interview\",\"storytelling\",\"repurposed\",\\\n",
    "           \"bite-sized\",\"co-host conversation\",\"debate\",\"narrative\",\\\n",
    "           \"scripted\",\"improvised\"]"
   ]
  },
  {
   "cell_type": "code",
   "execution_count": 5,
   "metadata": {},
   "outputs": [],
   "source": [
    "podcasts_genres_topics = {}\n",
    "for k,show in enumerate(show_names):\n",
    "    keywords = show.lower().split(\" \")\n",
    "    for word in keywords:\n",
    "        if word in genres_topics:\n",
    "            if (k,show) in podcasts_genres_topics:\n",
    "                if word not in podcasts_genres_topics[(k,show)]:\n",
    "                    podcasts_genres_topics[(k,show)].append(word)\n",
    "            else:\n",
    "                podcasts_genres_topics[(k,show)] = [word]\n",
    "podcasts = [item[1] for item in podcasts_genres_topics.keys()]"
   ]
  },
  {
   "cell_type": "code",
   "execution_count": 6,
   "metadata": {},
   "outputs": [],
   "source": [
    "nlp = spacy.load(\"en_core_web_sm\")\n",
    "stops_nltk = set(stopwords.words(\"english\"))\n",
    "stops_spacy = STOP_WORDS.union({'ll', 've', 'pron','okay','oh','like','know','yea','yep','yes','no',\\\n",
    "                                \"like\",\"oh\",\"yeah\",\"okay\",\"wow\",\"podcast\",\"rating\",\"ratings\",\"not\",\\\n",
    "                               \"support\",\"anchor\",\"podcasts\",\"episode\",\"http\",\"https\",\"5star\",\"reviews\",\\\n",
    "                               \"review\",\"instagram\",\"tiktok\",\"amazon\",\"apple\",\"twitter\",\"goole\",\\\n",
    "                               \"facebook\",\"send\",\"voice message\",\"message\",\"voice\",\"subscribe\",\"follow\",\\\n",
    "                               \"sponsor\",\"links\",\"easiest\",\"way\",\"fuck\",\"fucking\",\"talk\",\"discuss\",\\\n",
    "                               \"world\",\"time\",\"want\",\"join\",\"learn\",\"week\",\"things\",\"stuff\",\"find\",\\\n",
    "                               \"enjoy\",\"welcome\",\"share\",\"talk\",\"talking\",\"people\",\"gmail\",\"help\",\"today\",\\\n",
    "                               \"listen\",\"best\",\"stories\",\"story\",\"hope\",\"tips\",\"great\",\"journey\",\\\n",
    "                               \"topics\",\"email\",\"questions\",\"question\",\"going\",\"life\",\"good\",\"friends\",\\\n",
    "                               \"friend\",\"guys\",\"discussing\",\"live\",\"work\",\"student\",\"students\",\"need\",\\\n",
    "                               \"hear\",\"think\",\"change\",\"free\",\"better\",\"little\",\"fucking\",\"fuck\",\"shit\",\\\n",
    "                                \"bitch\",\"sex\",\"easiest\",\"way\",\"currently\",\"follow\",\"follows\",\"needs\",\\\n",
    "                               \"grow\",\"stay\",\"tuned\",\"walk\",\"understand\",\"tell\",\"tells\",\"ask\",\"helps\",\\\n",
    "                                \"feel\",\"feels\",\"look\",\"looks\",\"meet\",\"relate\",\"soon\",\"quick\",\"dude\",\"girl\",\\\n",
    "                                \"girls\",\"guy\",\"literally\",\"spotify\",\"google\",\"totally\",\"played\",\"young\",\\\n",
    "                               \"begin\",\"began\",\"create\",\"month\",\"year\",\"date\",\"day\",\"terms\",\"lose\",\"list\",\\\n",
    "                               \"bought\",\"brings\",\"bring\",\"buy\",\"percent\",\"rate\",\"increase\",\"words\",\"value\",\\\n",
    "                               \"search\",\"awesome\",\"followers\",\"finn\",\"jake\",\"mark\",\"america\",\"american\",\\\n",
    "                               \"speak\",\"funny\",\"hours\",\"hour\",\"honestly\",\"states\",\"united\",\"franklin\",\\\n",
    "                               \"patrick\",\"john\",\"build\",\"dave\",\"excited\",\"process\",\"processes\",\"based\",\\\n",
    "                                \"focus\",\"star\",\"mary\",\"chris\",\"taylor\",\"gotta\",\"liked\",\"hair\",\"adam\",\"chat\",\\\n",
    "                               \"named\",\"died\",\"born\",\"country\",\"mother\",\"father\",\"children\",\"tools\",\\\n",
    "                               \"countries\",\"jordan\",\"tommy\",\"listeners\",\"water\",\"jason\",\"lauren\",\"alex\",\\\n",
    "                               \"laguna\",\"jessica\",\"kristen\",\"examples\",\"example\",\"heidi\",\"stephen\",\"utiful\",\\\n",
    "                               \"everybody\",\"sorry\",\"came\",\"come\",\"meet\",\"whoa\",\"whoaa\",\"yay\",\"whoaw\",\\\n",
    "                               \"anybody\",\"somebody\",\"cool\",\"watch\",\"nice\",\"shall\"})\n",
    "stops = stops_nltk.union(stops_spacy)"
   ]
  },
  {
   "cell_type": "code",
   "execution_count": 25,
   "metadata": {},
   "outputs": [],
   "source": [
    "health_keywords = [\"fitness\",\"health\",\"diet\",\"nutrition\",\"healthy\",\"meditation\",\"mental\",\\\n",
    "            \"physical\",\"excercise\",\"calories\",\"gym\",\"bodybuilding\",\"body-building\",\\\n",
    "            \"stamina\",\"strength\",\"excercise\",\"yoga\",\"wellness\"]\n",
    "health_category = [(key,val) for key,val in podcasts_genres_topics.items() if (\"fitness\" in val)\\\n",
    "                                                                or (\"health\" in val)\\\n",
    "                                                                or (\"diet\" in val)\\\n",
    "                                                                or (\"nutrition\" in val)\\\n",
    "                                                                or (\"healthy\" in val)\\\n",
    "                                                                or (\"meditation\" in val)\\\n",
    "                                                                or (\"mental\" in val)\\\n",
    "                                                                or (\"physical\" in val)\\\n",
    "                                                                or (\"excercise\" in val)\\\n",
    "                                                                or (\"calories\" in val)\\\n",
    "                                                                or (\"gym\" in val)\\\n",
    "                                                                or (\"bodybuilding\" in val)\\\n",
    "                                                                or (\"body-building\" in val)\\\n",
    "                                                                or (\"stamina\" in val)\\\n",
    "                                                                or (\"strength\" in val)\\\n",
    "                                                                or (\"excercise\" in val)\\\n",
    "                                                                or (\"yoga\" in val)\\\n",
    "                                                                or (\"wellness\" in val)\\\n",
    "                                                                or (\"wellbeing\" in val)]"
   ]
  },
  {
   "cell_type": "code",
   "execution_count": 26,
   "metadata": {},
   "outputs": [
    {
     "data": {
      "image/png": "[encoded data removed]",
      "text/plain": [
       "<Figure size 720x576 with 1 Axes>"
      ]
     },
     "metadata": {},
     "output_type": "display_data"
    }
   ],
   "source": [
    "d = {}\n",
    "for val in podcasts_genres_topics.values():\n",
    "    for word in health_keywords:\n",
    "        if word in val:\n",
    "            if word in d:\n",
    "                d[word] += 1\n",
    "            else:\n",
    "                d[word] = 1\n",
    "                \n",
    "plt.figure(figsize=(10,8))\n",
    "plt.bar(d.keys(),d.values())\n",
    "plt.title('Distribution of podcast episodes related to health/fitness',fontsize=16)\n",
    "plt.xlabel('Keyword',fontsize=16)\n",
    "plt.ylabel('Keyword frequency',fontsize=16)\n",
    "plt.xticks(rotation=90,fontsize=14)\n",
    "plt.yticks(fontsize=14);"
   ]
  },
  {
   "cell_type": "code",
   "execution_count": 7,
   "metadata": {},
   "outputs": [],
   "source": [
    "number_of_topics = [5,6,7,8,9,10,15]\n",
    "df_parameters = list(product([2,3,4,5,6,7,8,9,10],[0.3,0.4,0.5,0.6,0.7,0.8,0.9]))\n",
    "hyperparams = list(product(number_of_topics,df_parameters))\n",
    "sports_cs = []\n",
    "with open('/home1/sgmark/capstone-project/model/coherence_scores_health_category.csv','r') as f:\n",
    "    reader = csv.reader(f)\n",
    "    for row in reader:\n",
    "        sports_cs.append([float(x) for x in row])\n",
    "        \n",
    "best_hp_setting = hyperparams[np.argmax([x[4] for x in sports_cs])]"
   ]
  },
  {
   "cell_type": "markdown",
   "metadata": {},
   "source": [
    "#### The individual transcript location"
   ]
  },
  {
   "cell_type": "code",
   "execution_count": 10,
   "metadata": {},
   "outputs": [],
   "source": [
    "def file_location(show,episode):\n",
    "    search_string = local_path + \"/spotify-podcasts-2020\" + \"/podcasts-transcripts\" \\\n",
    "                               + \"/\" + show[0] \\\n",
    "                               + \"/\" + show[1] \\\n",
    "                               + \"/\" + \"show_\" + show \\\n",
    "                               + \"/\"\n",
    "    return search_string"
   ]
  },
  {
   "cell_type": "markdown",
   "metadata": {},
   "source": [
    "#### load the transcripts"
   ]
  },
  {
   "cell_type": "code",
   "execution_count": 8,
   "metadata": {},
   "outputs": [],
   "source": [
    "transcripts = {}\n",
    "for podcast,genre in health_category:\n",
    "    for i in shows.get_group(podcast[1])[['show_filename_prefix','episode_filename_prefix']].index:\n",
    "        show,episode = shows.get_group(podcast[1])[['show_filename_prefix','episode_filename_prefix']].loc[i]\n",
    "        s = show.split(\"_\")[1]\n",
    "        try:\n",
    "            with open('../podcast_transcripts/'+s[0]+'/'+s[1]+'/'+show+'/'+episode+'.txt','r') as f:\n",
    "                transcripts[(show,episode)] = f.readlines()\n",
    "            f.close()\n",
    "        except Exception as e:\n",
    "            pass\n",
    "    \n",
    "keys = list(transcripts.keys())"
   ]
  },
  {
   "cell_type": "code",
   "execution_count": 9,
   "metadata": {},
   "outputs": [],
   "source": [
    "# Cleaning & remove urls and links\n",
    "def remove_stops(text,stops):\n",
    "    final = []\n",
    "    for word in text:\n",
    "        if (word not in stops) and (len(word)>3) and (not word.endswith('ing')) and (not word.endswith('ly')):\n",
    "            final.append(word)\n",
    "    return final\n",
    "                       \n",
    "def clean_text(docs):\n",
    "    final = []\n",
    "    for doc in docs:\n",
    "        clean_doc = remove_stops(doc, stops)\n",
    "        final.extend(clean_doc)\n",
    "    return final\n",
    "\n",
    "def lemmatization(text_data): \n",
    "    nlp = spacy.load(\"en_core_web_sm\")\n",
    "    texts = []\n",
    "    for text in text_data:\n",
    "        doc = nlp(text)\n",
    "        lem_text = []\n",
    "        for token in doc:\n",
    "            if (token.pos_==\"VERB\") or (token.pos_==\"ADV\"):\n",
    "                pass\n",
    "            else:\n",
    "                lem_text.append(token.lemma_)\n",
    "        texts.append(lem_text)\n",
    "    return texts"
   ]
  },
  {
   "cell_type": "markdown",
   "metadata": {},
   "source": [
    "#### tokenize/convert text into words"
   ]
  },
  {
   "cell_type": "code",
   "execution_count": 10,
   "metadata": {},
   "outputs": [],
   "source": [
    "def normalize_docs(text_data):\n",
    "    final_texts = []\n",
    "    for text in text_data:\n",
    "        new_text = gensim.utils.simple_preprocess(text,deacc=True)\n",
    "        final_texts.append(new_text)\n",
    "    return final_texts"
   ]
  },
  {
   "cell_type": "code",
   "execution_count": 11,
   "metadata": {},
   "outputs": [],
   "source": [
    "docs = []\n",
    "for text in transcripts.values():\n",
    "    docs.append(' '.join(clean_text(normalize_docs(text))))\n",
    "    \n",
    "texts = lemmatization(docs)\n",
    "texts = [remove_stops(text,stops) for text in texts]"
   ]
  },
  {
   "cell_type": "markdown",
   "metadata": {},
   "source": [
    "### Using bigrams"
   ]
  },
  {
   "cell_type": "code",
   "execution_count": 12,
   "metadata": {},
   "outputs": [],
   "source": [
    "from gensim.models.phrases import Phrases\n",
    "\n",
    "bigram = Phrases(texts, min_count=best_hp_setting[1][0])\n",
    "\n",
    "for i in range(len(texts)):\n",
    "    for token in bigram[texts[i]]:\n",
    "        if '_' in token:\n",
    "            texts[i].append(token)"
   ]
  },
  {
   "cell_type": "markdown",
   "metadata": {},
   "source": [
    "#### Construct a corpus of words as a bag of words "
   ]
  },
  {
   "cell_type": "code",
   "execution_count": 13,
   "metadata": {},
   "outputs": [],
   "source": [
    "dictionary = corpora.Dictionary(texts)\n",
    "\n",
    "dictionary.filter_extremes(no_below=best_hp_setting[1][0],no_above=best_hp_setting[1][1])"
   ]
  },
  {
   "cell_type": "code",
   "execution_count": 14,
   "metadata": {},
   "outputs": [],
   "source": [
    "corpus = [dictionary.doc2bow(text) for text in texts]"
   ]
  },
  {
   "cell_type": "markdown",
   "metadata": {},
   "source": [
    "####  Hyperparameter tuning"
   ]
  },
  {
   "cell_type": "code",
   "execution_count": null,
   "metadata": {},
   "outputs": [],
   "source": [
    "# from itertools import product\n",
    "\n",
    "# number_of_topics = [5,6,7,8,9,10,15]\n",
    "# df_parameters = list(product([2,3,4,5,6,7,8,9,10],[0.3,0.4,0.5,0.6,0.7,0.8,0.9]))\n",
    "# coherence_scores_umass = np.zeros((len(number_of_topics),len(df_parameters)))\n",
    "# coherence_scores_uci = np.zeros((len(number_of_topics),len(df_parameters)))\n",
    "# coherence_scores_npmi = np.zeros((len(number_of_topics),len(df_parameters)))\n",
    "\n",
    "# j = 0\n",
    "# for num in number_of_topics:\n",
    "#     i = 0\n",
    "#     for n,m in df_parameters:\n",
    "#         dictionary = corpora.Dictionary(texts)\n",
    "#         dictionary.filter_extremes(no_below=n,no_above=m)\n",
    "#         corpus = [dictionary.doc2bow(text) for text in texts]\n",
    "#         num_topics = num\n",
    "#         chunksize = 200\n",
    "#         passes = 20\n",
    "#         iterations = 500\n",
    "#         eval_every = None\n",
    "\n",
    "#         lda_model = gensim.models.ldamodel.LdaModel(corpus,\n",
    "#                                                    id2word=dictionary,\n",
    "#                                                    num_topics=num_topics,\n",
    "#                                                    chunksize=chunksize,\n",
    "#                                                    passes=passes,\n",
    "#                                                    iterations=iterations,\n",
    "#                                                    alpha='auto',\n",
    "#                                                    eta='auto',\n",
    "#                                                    random_state = 123,\n",
    "#                                                    eval_every=eval_every)\n",
    "#         cm = CoherenceModel(lda_model, texts=texts,corpus=corpus, coherence= 'c_uci')\n",
    "#         coherence_scores_uci[j,i] = cm.get_coherence()\n",
    "#         cm = CoherenceModel(lda_model, texts=texts,corpus=corpus, coherence= 'c_npmi')\n",
    "#         coherence_scores_npmi[j,i] = cm.get_coherence() \n",
    "#         cm = CoherenceModel(lda_model, corpus=corpus, coherence= 'u_mass')\n",
    "#         coherence_scores_umass[j,i] = cm.get_coherence()\n",
    "#         with open(\"coherence_scores_health_category.csv\",'a') as f:\n",
    "#             writer = csv.writer(f)\n",
    "#             writer.writerow([num,n,m,coherence_scores_uci[j,i],coherence_scores_npmi[j,i],\\\n",
    "#                              coherence_scores_umass[j,i]])\n",
    "#         i += 1\n",
    "#         print(i)\n",
    "#     j += 1\n",
    "#     print(j)"
   ]
  },
  {
   "cell_type": "markdown",
   "metadata": {},
   "source": [
    "#### Final model"
   ]
  },
  {
   "cell_type": "code",
   "execution_count": 15,
   "metadata": {},
   "outputs": [
    {
     "name": "stdout",
     "output_type": "stream",
     "text": [
      "CPU times: user 47.9 s, sys: 52.1 ms, total: 48 s\n",
      "Wall time: 48.1 s\n"
     ]
    }
   ],
   "source": [
    "%%time\n",
    "import logging\n",
    "logging.basicConfig(filename='health_topics.log', encoding='utf-8',format='%(asctime)s : %(levelname)s : %(message)s', level=logging.DEBUG)\n",
    "\n",
    "num_topics = best_hp_setting[0]\n",
    "chunksize = 200\n",
    "passes = 50\n",
    "iterations = 500\n",
    "eval_every = None\n",
    "\n",
    "lda_model = gensim.models.ldamodel.LdaModel(corpus,\n",
    "                                           id2word=dictionary,\n",
    "                                           num_topics=num_topics,\n",
    "                                           chunksize=chunksize,\n",
    "                                           passes=passes,\n",
    "                                           iterations=iterations,\n",
    "                                           alpha='auto',\n",
    "                                           eta='auto',\n",
    "                                           random_state=123,\n",
    "                                           eval_every=eval_every)"
   ]
  },
  {
   "cell_type": "code",
   "execution_count": 16,
   "metadata": {},
   "outputs": [
    {
     "name": "stdout",
     "output_type": "stream",
     "text": [
      "Average topic coherence: 0.0617.\n",
      "topic coherence scores: [0.20266672196586424, 0.07838747900305225, 0.03289952190084728, 0.0024336326966036383, -0.007866214708745116]\n"
     ]
    }
   ],
   "source": [
    "top_topics = lda_model.top_topics(corpus,texts=texts,coherence='c_npmi') #, num_words=20)\n",
    "\n",
    "# Average topic coherence is the sum of topic coherences of all topics, divided by the number of topics.\n",
    "avg_topic_coherence = sum([t[1] for t in top_topics])/num_topics\n",
    "\n",
    "print('Average topic coherence: %.4f.' % avg_topic_coherence)\n",
    "print(f'topic coherence scores: {[t[1] for t in top_topics]}')"
   ]
  },
  {
   "cell_type": "markdown",
   "metadata": {},
   "source": [
    "### Visualizing data"
   ]
  },
  {
   "cell_type": "code",
   "execution_count": null,
   "metadata": {},
   "outputs": [],
   "source": [
    "# vis = pyLDAvis.gensim_models.prepare(lda_model,corpus,dictionary,mds=\"mmds\",R=10)\n",
    "# vis"
   ]
  },
  {
   "cell_type": "code",
   "execution_count": null,
   "metadata": {},
   "outputs": [],
   "source": [
    "# from pprint import pprint\n",
    "# pprint(top_topics)"
   ]
  },
  {
   "cell_type": "code",
   "execution_count": 20,
   "metadata": {},
   "outputs": [],
   "source": [
    "import pickle\n",
    "\n",
    "pickle.dump(lda_model,open('../model/health_episodes_lda_model.pkl','wb'))\n",
    "pickle.dump(dictionary,open('../model/health_episodes_dictionary.pkl','wb'))\n",
    "pickle.dump(corpus,open('../model/health_episodes_corpus.pkl','wb'))\n",
    "pickle.dump(texts,open('../model/health_episodes_texts.pkl','wb'))"
   ]
  },
  {
   "cell_type": "code",
   "execution_count": 27,
   "metadata": {},
   "outputs": [],
   "source": [
    "# import pickle\n",
    "\n",
    "# file = open('../model/health_episodes_lda_model.pkl','rb')\n",
    "# lda_model = pickle.load(file)\n",
    "# file.close()\n",
    "\n",
    "# file = open('../model/health_episodes_corpus.pkl','rb')\n",
    "# corpus = pickle.load(file)\n",
    "# file.close()\n",
    "\n",
    "# file = open('../model/health_episodes_dictionary.pkl','rb')\n",
    "# dictionary = pickle.load(file)\n",
    "# file.close()"
   ]
  },
  {
   "cell_type": "code",
   "execution_count": 21,
   "metadata": {},
   "outputs": [],
   "source": [
    "def get_main_topic_df(model, bow, texts):\n",
    "    topic_list = []\n",
    "    percent_list = []\n",
    "    keyword_list = []\n",
    "    podcast_list = []\n",
    "    episode_list = []\n",
    "    duration_list = []\n",
    "    publisher_list = []\n",
    "    \n",
    "    for key,wc in zip(keys,bow):\n",
    "        podcast_list.append(df[(df['show_filename_prefix'] == key[0])&(df['episode_filename_prefix'] == key[1])].show_name.iloc[0])\n",
    "        episode_list.append(df[(df['show_filename_prefix'] == key[0])&(df['episode_filename_prefix'] == key[1])].episode_name.iloc[0])\n",
    "        duration_list.append(round(float(df[(df['show_filename_prefix'] == key[0])&(df['episode_filename_prefix'] == key[1])].duration.iloc[0])))\n",
    "        publisher_list.append(df[(df['show_filename_prefix'] == key[0])&(df['episode_filename_prefix'] == key[1])].publisher.iloc[0])\n",
    "        \n",
    "        topic, percent = sorted(model.get_document_topics(wc), key=lambda x: x[1], reverse=True)[0]\n",
    "        topic_list.append(topic)\n",
    "        percent_list.append(round(percent, 3))\n",
    "        keyword_list.append(' '.join(sorted([x[0] for x in model.show_topic(topic)])))\n",
    "\n",
    "    result_df = pd.concat([pd.Series(podcast_list, name='Podcast_name'),\n",
    "                           pd.Series(episode_list, name='Episode_name'),\n",
    "                           pd.Series(topic_list, name='Dominant_topic'), \n",
    "                           pd.Series(percent_list, name='Percent'), \n",
    "                           pd.Series(texts, name='Processed_text'), \n",
    "                           pd.Series(keyword_list, name='Keywords'),\n",
    "                           pd.Series(duration_list, name='Duration of the episode'),\n",
    "                           pd.Series(publisher_list, name='Publisher of the show')], axis=1)\n",
    "\n",
    "    return result_df"
   ]
  },
  {
   "cell_type": "code",
   "execution_count": 19,
   "metadata": {},
   "outputs": [],
   "source": [
    "main_topic_df = get_main_topic_df(lda_model,corpus,texts)\n",
    "main_topic_df.to_pickle('health_topics_main_df.pkl')"
   ]
  },
  {
   "cell_type": "code",
   "execution_count": 23,
   "metadata": {},
   "outputs": [
    {
     "data": {
      "text/html": [
       "<div>\n",
       "<style scoped>\n",
       "    .dataframe tbody tr th:only-of-type {\n",
       "        vertical-align: middle;\n",
       "    }\n",
       "\n",
       "    .dataframe tbody tr th {\n",
       "        vertical-align: top;\n",
       "    }\n",
       "\n",
       "    .dataframe thead th {\n",
       "        text-align: right;\n",
       "    }\n",
       "</style>\n",
       "<table border=\"1\" class=\"dataframe\">\n",
       "  <thead>\n",
       "    <tr style=\"text-align: right;\">\n",
       "      <th></th>\n",
       "      <th>Podcast_name</th>\n",
       "      <th>Episode_name</th>\n",
       "      <th>Dominant_topic</th>\n",
       "      <th>Percent</th>\n",
       "      <th>Processed_text</th>\n",
       "      <th>Keywords</th>\n",
       "      <th>Duration of the episode</th>\n",
       "      <th>Publisher of the show</th>\n",
       "    </tr>\n",
       "  </thead>\n",
       "  <tbody>\n",
       "    <tr>\n",
       "      <th>0</th>\n",
       "      <td>Best Fitness Blogs</td>\n",
       "      <td>10 Best Fitness Blogs in 2020</td>\n",
       "      <td>4</td>\n",
       "      <td>0.955</td>\n",
       "      <td>[fitness, blog, lifestyle, disease, mission, h...</td>\n",
       "      <td>different fitness happy hard kind love mean mo...</td>\n",
       "      <td>2</td>\n",
       "      <td>mary glory</td>\n",
       "    </tr>\n",
       "    <tr>\n",
       "      <th>1</th>\n",
       "      <td>21 Days of Abundance Meditation</td>\n",
       "      <td>21 Days of Abundance Meditation with Binaural ...</td>\n",
       "      <td>4</td>\n",
       "      <td>0.779</td>\n",
       "      <td>[chopra, center, addict, sure, thank, designer]</td>\n",
       "      <td>different fitness happy hard kind love mean mo...</td>\n",
       "      <td>15</td>\n",
       "      <td>Seanhawk754</td>\n",
       "    </tr>\n",
       "    <tr>\n",
       "      <th>2</th>\n",
       "      <td>21-Day Meditation Experience</td>\n",
       "      <td>Day 1 - The Path to Grace Begins Today</td>\n",
       "      <td>2</td>\n",
       "      <td>0.636</td>\n",
       "      <td>[deepak, special, meditation, experience, grac...</td>\n",
       "      <td>class community different experience love mind...</td>\n",
       "      <td>21</td>\n",
       "      <td>21-Day Meditation Experience</td>\n",
       "    </tr>\n",
       "    <tr>\n",
       "      <th>3</th>\n",
       "      <td>21-Day Meditation Experience</td>\n",
       "      <td>Day 3 - Awaken the Energy of Gratitude</td>\n",
       "      <td>2</td>\n",
       "      <td>0.486</td>\n",
       "      <td>[energy, gratitude, unique, kind, power, grati...</td>\n",
       "      <td>class community different experience love mind...</td>\n",
       "      <td>19</td>\n",
       "      <td>21-Day Meditation Experience</td>\n",
       "    </tr>\n",
       "    <tr>\n",
       "      <th>4</th>\n",
       "      <td>21-Day Meditation Experience</td>\n",
       "      <td>Day 2 - Gratitude Is Within You</td>\n",
       "      <td>2</td>\n",
       "      <td>0.536</td>\n",
       "      <td>[thankful, moment, present, gratitude, open, g...</td>\n",
       "      <td>class community different experience love mind...</td>\n",
       "      <td>21</td>\n",
       "      <td>21-Day Meditation Experience</td>\n",
       "    </tr>\n",
       "  </tbody>\n",
       "</table>\n",
       "</div>"
      ],
      "text/plain": [
       "                      Podcast_name  \\\n",
       "0               Best Fitness Blogs   \n",
       "1  21 Days of Abundance Meditation   \n",
       "2     21-Day Meditation Experience   \n",
       "3     21-Day Meditation Experience   \n",
       "4     21-Day Meditation Experience   \n",
       "\n",
       "                                        Episode_name  Dominant_topic  Percent  \\\n",
       "0                      10 Best Fitness Blogs in 2020               4    0.955   \n",
       "1  21 Days of Abundance Meditation with Binaural ...               4    0.779   \n",
       "2             Day 1 - The Path to Grace Begins Today               2    0.636   \n",
       "3             Day 3 - Awaken the Energy of Gratitude               2    0.486   \n",
       "4                    Day 2 - Gratitude Is Within You               2    0.536   \n",
       "\n",
       "                                      Processed_text  \\\n",
       "0  [fitness, blog, lifestyle, disease, mission, h...   \n",
       "1    [chopra, center, addict, sure, thank, designer]   \n",
       "2  [deepak, special, meditation, experience, grac...   \n",
       "3  [energy, gratitude, unique, kind, power, grati...   \n",
       "4  [thankful, moment, present, gratitude, open, g...   \n",
       "\n",
       "                                            Keywords  Duration of the episode  \\\n",
       "0  different fitness happy hard kind love mean mo...                        2   \n",
       "1  different fitness happy hard kind love mean mo...                       15   \n",
       "2  class community different experience love mind...                       21   \n",
       "3  class community different experience love mind...                       19   \n",
       "4  class community different experience love mind...                       21   \n",
       "\n",
       "          Publisher of the show  \n",
       "0                    mary glory  \n",
       "1                   Seanhawk754  \n",
       "2  21-Day Meditation Experience  \n",
       "3  21-Day Meditation Experience  \n",
       "4  21-Day Meditation Experience  "
      ]
     },
     "execution_count": 23,
     "metadata": {},
     "output_type": "execute_result"
    }
   ],
   "source": [
    "main_topic_df.head(5)"
   ]
  },
  {
   "cell_type": "code",
   "execution_count": 30,
   "metadata": {},
   "outputs": [
    {
     "data": {
      "image/png": "[encoded data removed]",
      "text/plain": [
       "<Figure size 720x576 with 1 Axes>"
      ]
     },
     "metadata": {},
     "output_type": "display_data"
    }
   ],
   "source": [
    "plt.figure(figsize=(10,8))\n",
    "topics_groups = main_topic_df.groupby('Dominant_topic')\n",
    "plt.bar(range(best_hp_setting[0]),topics_groups.count()['Podcast_name'],width=0.5)\n",
    "plt.title('Dominant topic frequency in the investment/stocks category of podcast episodes',fontsize=16)\n",
    "plt.xlabel('Dominant Topic index',fontsize=16)\n",
    "plt.ylabel('Number of episodes',fontsize=16)\n",
    "plt.xticks(fontsize=14)\n",
    "plt.yticks(fontsize=14);"
   ]
  },
  {
   "cell_type": "code",
   "execution_count": 31,
   "metadata": {},
   "outputs": [
    {
     "name": "stdout",
     "output_type": "stream",
     "text": [
      "topic 0: breath center exhale floor foot hand inhale knee shoulder spine\n",
      "topic 1: berg blood high insulin intermittent link problem sugar video vitamin\n",
      "topic 2: class community different experience love mind practice teacher thought yoga\n",
      "topic 3: calorie diet food kind loss meal pound protein vegan weight\n",
      "topic 4: different fitness happy hard kind love mean money person point\n"
     ]
    }
   ],
   "source": [
    "representatives = pd.DataFrame()\n",
    "\n",
    "for k in topics_groups.groups.keys():\n",
    "    representatives = pd.concat([representatives, \n",
    "                                 topics_groups.get_group(k).sort_values(['Percent'], ascending=False).head(1)])\n",
    "    \n",
    "for k,words in enumerate(representatives.Keywords):\n",
    "    print(f'topic {k}: {words}')"
   ]
  },
  {
   "cell_type": "code",
   "execution_count": 34,
   "metadata": {},
   "outputs": [],
   "source": [
    "# print('Document: {}  Dominant topic: {}\\n'.format(representatives.index[2], \n",
    "#                                        representatives.loc[representatives.index[2]]['Dominant_topic']))\n",
    "# print([sentence.strip() for sentence in transcripts[keys[representatives.index[2]]]])"
   ]
  },
  {
   "cell_type": "code",
   "execution_count": 37,
   "metadata": {},
   "outputs": [],
   "source": [
    "num_topics = best_hp_setting[0]\n",
    "def word_count_by_topic(topic=0):\n",
    "    d_lens = [len(d) for d in topics_groups.get_group(topic)['Processed_text']]\n",
    "    plt.figure(figsize=(10,8))\n",
    "    plt.hist(d_lens)\n",
    "    large = plt.gca().get_ylim()[1]\n",
    "    d_mean = round(np.mean(d_lens), 1)\n",
    "    d_median = np.median(d_lens)\n",
    "    plt.plot([d_mean, d_mean], [0,large], label='Mean = {}'.format(d_mean))\n",
    "    plt.plot([d_median, d_median], [0,large], label='Median = {}'.format(d_median))\n",
    "    plt.legend()\n",
    "    plt.xlabel('Document word count',fontsize=16)\n",
    "    plt.ylabel('Number of documents',fontsize=16)\n",
    "    plt.xticks(fontsize=14)\n",
    "    plt.yticks(fontsize=14)"
   ]
  },
  {
   "cell_type": "code",
   "execution_count": 38,
   "metadata": {},
   "outputs": [
    {
     "data": {
      "application/vnd.jupyter.widget-view+json": {
       "model_id": "5784a0768ccf40c080198472a7364dcd",
       "version_major": 2,
       "version_minor": 0
      },
      "text/plain": [
       "interactive(children=(IntSlider(value=0, description='Topic', max=4), Output()), _dom_classes=('widget-interac…"
      ]
     },
     "metadata": {},
     "output_type": "display_data"
    }
   ],
   "source": [
    "from ipywidgets import interact, IntSlider\n",
    "\n",
    "slider = IntSlider(min=0, max=num_topics-1, step=1, value=0, description='Topic')\n",
    "interact(word_count_by_topic, topic=slider);"
   ]
  },
  {
   "cell_type": "code",
   "execution_count": 39,
   "metadata": {},
   "outputs": [],
   "source": [
    "lda_top_words_index = set()\n",
    "for i in range(lda_model.num_topics):\n",
    "    lda_top_words_index = lda_top_words_index.union([k for (k,v) in lda_model.get_topic_terms(i)])\n",
    "#print('Indices of top words: \\n{}\\n'.format(lda_top_words_index))"
   ]
  },
  {
   "cell_type": "code",
   "execution_count": 40,
   "metadata": {},
   "outputs": [],
   "source": [
    "words_we_care_about = [{dictionary[tup[0]]: tup[1] for tup in lst if tup[0] in list(lda_top_words_index)} \n",
    "                       for lst in corpus]"
   ]
  },
  {
   "cell_type": "code",
   "execution_count": 41,
   "metadata": {},
   "outputs": [],
   "source": [
    "lda_top_words_df = pd.DataFrame(words_we_care_about).fillna(0).astype(int).sort_index(axis=1)\n",
    "lda_top_words_df['Cluster'] = main_topic_df['Dominant_topic']"
   ]
  },
  {
   "cell_type": "code",
   "execution_count": 42,
   "metadata": {},
   "outputs": [
    {
     "data": {
      "image/png": "[encoded data removed]",
      "text/plain": [
       "<Figure size 2160x576 with 1 Axes>"
      ]
     },
     "metadata": {},
     "output_type": "display_data"
    }
   ],
   "source": [
    "k=1\n",
    "clusterwise_words_dist = lda_top_words_df.groupby('Cluster').get_group(k)\n",
    "plt.figure(figsize=(30,8))\n",
    "plt.bar(list(clusterwise_words_dist.sum()[:-1].transpose().index),\\\n",
    "        list(clusterwise_words_dist.sum()[:-1].transpose()))\n",
    "plt.title(f'Term frequencies of keywords of topic: {k}',fontsize=16)\n",
    "plt.xlabel('Keywords in the topics',fontsize=16)\n",
    "plt.ylabel('Word frequency',fontsize=16)\n",
    "plt.xticks(rotation=90,fontsize=14)\n",
    "plt.yticks(fontsize=14);"
   ]
  },
  {
   "cell_type": "code",
   "execution_count": 44,
   "metadata": {},
   "outputs": [],
   "source": [
    "word_totals = {k:{y[1]:y[0] for y in x[0]} for k,x in enumerate(top_topics)}"
   ]
  },
  {
   "cell_type": "code",
   "execution_count": 46,
   "metadata": {},
   "outputs": [
    {
     "data": {
      "application/vnd.jupyter.widget-view+json": {
       "model_id": "f0d40329faea47ccb5bf68a3755f50b3",
       "version_major": 2,
       "version_minor": 0
      },
      "text/plain": [
       "interactive(children=(IntSlider(value=0, description='Topic', max=4), Output()), _dom_classes=('widget-interac…"
      ]
     },
     "metadata": {},
     "output_type": "display_data"
    }
   ],
   "source": [
    "import matplotlib.pyplot as plt\n",
    "from ipywidgets import interact, IntSlider\n",
    "from wordcloud import WordCloud\n",
    "\n",
    "def show_wordcloud(topic=0):\n",
    "    cloud = WordCloud(background_color='white', colormap='viridis')\n",
    "    cloud.generate_from_frequencies(word_totals[topic])\n",
    "    plt.figure(figsize=(10,8))\n",
    "    plt.gca().imshow(cloud)\n",
    "    plt.axis('off')\n",
    "    plt.tight_layout()\n",
    "    \n",
    "slider = IntSlider(min=0, max=best_hp_setting[0]-1, step=1, value=0, description='Topic')\n",
    "interact(show_wordcloud, topic=slider);"
   ]
  },
  {
   "cell_type": "code",
   "execution_count": null,
   "metadata": {},
   "outputs": [],
   "source": []
  }
 ],
 "metadata": {
  "kernelspec": {
   "display_name": "demo",
   "language": "python",
   "name": "demo"
  },
  "language_info": {
   "codemirror_mode": {
    "name": "ipython",
    "version": 3
   },
   "file_extension": ".py",
   "mimetype": "text/x-python",
   "name": "python",
   "nbconvert_exporter": "python",
   "pygments_lexer": "ipython3",
   "version": "3.9.2"
  }
 },
 "nbformat": 4,
 "nbformat_minor": 4
}
