{
 "cells": [
  {
   "cell_type": "markdown",
   "metadata": {},
   "source": [
    "#### Import all the required packages"
   ]
  },
  {
   "cell_type": "code",
   "execution_count": 2,
   "metadata": {},
   "outputs": [],
   "source": [
    "## basic packages\n",
    "import numpy as np\n",
    "import re\n",
    "import csv\n",
    "import time\n",
    "import pandas as pd\n",
    "from itertools import product\n",
    "import matplotlib.pyplot as plt\n",
    "import seaborn as sns\n",
    "sns.set_style('darkgrid')\n",
    "\n",
    "##gensim\n",
    "import gensim\n",
    "import gensim.corpora as corpora\n",
    "from gensim.utils import simple_preprocess\n",
    "from gensim.models import CoherenceModel\n",
    "\n",
    "##spacy and nltk\n",
    "import spacy\n",
    "from nltk.corpus import stopwords\n",
    "from spacy.lang.en.stop_words import STOP_WORDS\n",
    "\n",
    "##vis\n",
    "import pyLDAvis\n",
    "import pyLDAvis.gensim_models as gensimvis\n",
    "pyLDAvis.enable_notebook()\n",
    "\n",
    "import warnings\n",
    "warnings.filterwarnings(\"ignore\",category=DeprecationWarning)"
   ]
  },
  {
   "cell_type": "markdown",
   "metadata": {},
   "source": [
    "#### load the metadata of podcast transcripts"
   ]
  },
  {
   "cell_type": "code",
   "execution_count": 3,
   "metadata": {},
   "outputs": [],
   "source": [
    "global df, show_descriptions\n",
    "\n",
    "meta_data = []\n",
    "with open(\"../data/metadata.tsv\") as csvfile:\n",
    "    csvreader = csv.reader(csvfile,delimiter=\"\\t\")\n",
    "    for row in csvreader:\n",
    "        meta_data.append(row)\n",
    "\n",
    "df = pd.DataFrame(meta_data[1:],columns=meta_data[0])\n",
    "show_filename_prefixes = df.show_filename_prefix\n",
    "episode_filename_prefixes = df.episode_filename_prefix"
   ]
  },
  {
   "cell_type": "code",
   "execution_count": 4,
   "metadata": {},
   "outputs": [],
   "source": [
    "shows = df.groupby(by=['show_name'])\n",
    "show_names = shows.apply(lambda x: x.show_name.unique()[0])"
   ]
  },
  {
   "cell_type": "code",
   "execution_count": 5,
   "metadata": {},
   "outputs": [],
   "source": [
    "## Uncomment for descriptions of shows and episodes (not required for the following analysis)\n",
    "show_descriptions_aggregated = shows.apply(lambda x: x.show_description.unique()[0])\n",
    "episode_descriptions_aggregated = shows.apply(lambda x: list(x.episode_description))\n",
    "descriptions_aggregated = {}\n",
    "for k,text in enumerate(episode_descriptions_aggregated):\n",
    "    descriptions_aggregated[show_names[k]] = [show_descriptions_aggregated[k]]+text"
   ]
  },
  {
   "cell_type": "code",
   "execution_count": 6,
   "metadata": {},
   "outputs": [],
   "source": [
    "genres_topics = [\"comedy\",\"news\",\"crime\",\"science\",\"economics\",\"politics\",\"education\",\\\n",
    "                  \"sports\",\"lifestyle\",\"health\",\"wellbeing\",\"religion\",\"faith\",\"music\",\\\n",
    "                  \"art\",\"fashion\",\"literature\",\"humanities\",\"drama\",\"fitness\",\"drama\",\\\n",
    "                  \"fantasy\",\"scifi\",\"gameshow\",\"news quiz\",\"games\",\"game\",\"mental\",\\\n",
    "                  \"humor\",\"research\",\"technology\",\"society\",\"social\",\"culture\",\"lifestyle\",\\\n",
    "                  \"songs\",\"cooking\",\"culinary\",\"food\",\"travel\",\"films\",\"film\",\"movies\",\"tv\",\\\n",
    "                  \"climate\",\"space\",\"planet\",\"digital\",\"artificial intelligence\", \"ai\",\\\n",
    "                  \"cars\",\"car\",\"nutrition\",\"wellness\",\"family\",\"history\",\"geography\",\"physics\",\\\n",
    "                  \"mathematics\",\"math\",\"chemistry\",\"biology\",\"documentary\",\"commentary\",\"nfl\",\\\n",
    "                  \"mls\",\"nba\",\"mlb\",\"stocks\",\"stock\",\"market\",\"wall\",\"street\",\"wallstreet\",\"business\",\\\n",
    "                  \"reality\",\"shows\",\"investing\",\"social media\",\"biography\",\"biographies\",\\\n",
    "                  \"data science\",\"medicine\",\"media\",\"books\",\"book\",\"europe\",\"asia\",\"canada\",\\\n",
    "                  \"south america\",\"north america\",\"america\",\"usa\",\"netflix\",\"adventure\",\"pets\",\"dogs\",\\\n",
    "                  \"cats\",\"dog\",\"cat\",\"nintendo\",\"xbox\",\"playstation\",\"ps4\",\"ps5\",\"theatre\",\"mars\"\\\n",
    "                  \"tennis\",\"australia\",\"conspiracy\",\"war\",\"epidemic\",\"pandemic\",\"climate\",\"change\"\\\n",
    "                  \"astrology\",\"novel\",\"church\",\"christ\",\"romance\",\"english\",\"kids\",\"astronomy\"\\\n",
    "                  \"design\",\"entrepreneurship\",\"marketing\",\"digital\",\"christian\",\"christianity\",\"boardgames\",\\\n",
    "                  \"boardgame\",\"videogames\",\"videogame\",\"twitch\",\"currency\",\"cryptocurrency\",\"federal\",\"bank\",\\\n",
    "                  \"blockchain\",\"bitcoin\",\"nyse\",\"nft\",\"import\",\"export\",\"capital\",\"money\",\"exchange\",\"boxing\",\\\n",
    "                  \"mma\",\"wrestling\",\"excercise\",\"excercises\",\"gym\",\"bodybuilding\",\"body-building\",\"yoga\",\\\n",
    "                  \"stamina\",\"strength\",\"calories\",\"meditation\",\"physical\",\"healthy\",\"pope\",\"bible\",\"catholic\",\\\n",
    "                  \"catholicism\",\"testament\"]\n",
    "\n",
    "formats = [\"monologue\",\"interview\",\"storytelling\",\"repurposed\",\\\n",
    "           \"bite-sized\",\"co-host conversation\",\"debate\",\"narrative\",\\\n",
    "           \"scripted\",\"improvised\"]"
   ]
  },
  {
   "cell_type": "code",
   "execution_count": 7,
   "metadata": {},
   "outputs": [],
   "source": [
    "podcasts_genres_topics = {}\n",
    "for k,show in enumerate(show_names):\n",
    "    keywords = show.lower().split(\" \")\n",
    "    for word in keywords:\n",
    "        if word in genres_topics:\n",
    "            if (k,show) in podcasts_genres_topics:\n",
    "                if word not in podcasts_genres_topics[(k,show)]:\n",
    "                    podcasts_genres_topics[(k,show)].append(word)\n",
    "            else:\n",
    "                podcasts_genres_topics[(k,show)] = [word]\n",
    "podcasts = [item[1] for item in podcasts_genres_topics.keys()]"
   ]
  },
  {
   "cell_type": "code",
   "execution_count": 8,
   "metadata": {},
   "outputs": [],
   "source": [
    "nlp = spacy.load(\"en_core_web_sm\")\n",
    "stops_nltk = set(stopwords.words(\"english\"))\n",
    "stops_spacy = STOP_WORDS.union({'ll', 've', 'pron','okay','oh','like','know','yea','yep','yes','no',\\\n",
    "                                \"like\",\"oh\",\"yeah\",\"okay\",\"wow\",\"podcast\",\"rating\",\"ratings\",\"not\",\\\n",
    "                               \"support\",\"anchor\",\"podcasts\",\"episode\",\"http\",\"https\",\"5star\",\"reviews\",\\\n",
    "                               \"review\",\"instagram\",\"tiktok\",\"amazon\",\"apple\",\"twitter\",\"goole\",\\\n",
    "                               \"facebook\",\"send\",\"voice message\",\"message\",\"voice\",\"subscribe\",\"follow\",\\\n",
    "                               \"sponsor\",\"links\",\"easiest\",\"way\",\"fuck\",\"fucking\",\"talk\",\"discuss\",\\\n",
    "                               \"world\",\"time\",\"want\",\"join\",\"learn\",\"week\",\"things\",\"stuff\",\"find\",\\\n",
    "                               \"enjoy\",\"welcome\",\"share\",\"talk\",\"talking\",\"people\",\"gmail\",\"help\",\"today\",\\\n",
    "                               \"listen\",\"best\",\"stories\",\"story\",\"hope\",\"tips\",\"great\",\"journey\",\\\n",
    "                               \"topics\",\"email\",\"questions\",\"question\",\"going\",\"life\",\"good\",\"friends\",\\\n",
    "                               \"friend\",\"guys\",\"discussing\",\"live\",\"work\",\"student\",\"students\",\"need\",\\\n",
    "                               \"hear\",\"think\",\"change\",\"free\",\"better\",\"little\",\"fucking\",\"fuck\",\"shit\",\\\n",
    "                                \"bitch\",\"sex\",\"easiest\",\"way\",\"currently\",\"follow\",\"follows\",\"needs\",\\\n",
    "                               \"grow\",\"stay\",\"tuned\",\"walk\",\"understand\",\"tell\",\"tells\",\"ask\",\"helps\",\\\n",
    "                                \"feel\",\"feels\",\"look\",\"looks\",\"meet\",\"relate\",\"soon\",\"quick\",\"dude\",\"girl\",\\\n",
    "                                \"girls\",\"guy\",\"literally\",\"spotify\",\"google\",\"totally\",\"played\",\"young\",\\\n",
    "                               \"begin\",\"began\",\"create\",\"month\",\"year\",\"date\",\"day\",\"terms\",\"lose\",\"list\",\\\n",
    "                               \"bought\",\"brings\",\"bring\",\"buy\",\"percent\",\"rate\",\"increase\",\"words\",\"value\",\\\n",
    "                               \"search\",\"awesome\",\"followers\",\"finn\",\"jake\",\"mark\",\"america\",\"american\",\\\n",
    "                               \"speak\",\"funny\",\"hours\",\"hour\",\"honestly\",\"states\",\"united\",\"franklin\",\\\n",
    "                               \"patrick\",\"john\",\"build\",\"dave\",\"excited\",\"process\",\"processes\",\"based\",\\\n",
    "                                \"focus\",\"star\",\"mary\",\"chris\",\"taylor\",\"gotta\",\"liked\",\"hair\",\"adam\",\"chat\",\\\n",
    "                               \"named\",\"died\",\"born\",\"country\",\"mother\",\"father\",\"children\",\"tools\",\\\n",
    "                               \"countries\",\"jordan\",\"tommy\",\"listeners\",\"water\",\"jason\",\"lauren\",\"alex\",\\\n",
    "                               \"laguna\",\"jessica\",\"kristen\",\"examples\",\"example\",\"heidi\",\"stephen\",\"utiful\",\\\n",
    "                               \"everybody\",\"sorry\",\"came\",\"come\",\"meet\",\"whoa\",\"whoaa\",\"yay\",\"whoaw\",\\\n",
    "                               \"anybody\",\"somebody\",\"cool\",\"watch\",\"nice\",\"shall\"})\n",
    "stops = stops_nltk.union(stops_spacy)"
   ]
  },
  {
   "cell_type": "code",
   "execution_count": 9,
   "metadata": {},
   "outputs": [],
   "source": [
    "health_category = [(key,val) for key,val in podcasts_genres_topics.items() if (\"fitness\" in val)\\\n",
    "                                                                or (\"health\" in val)\\\n",
    "                                                                or (\"diet\" in val)\\\n",
    "                                                                or (\"nutrition\" in val)\\\n",
    "                                                                or (\"healthy\" in val)\\\n",
    "                                                                or (\"meditation\" in val)\\\n",
    "                                                                or (\"mental\" in val)\\\n",
    "                                                                or (\"physical\" in val)\\\n",
    "                                                                or (\"excercise\" in val)\\\n",
    "                                                                or (\"calories\" in val)\\\n",
    "                                                                or (\"gym\" in val)\\\n",
    "                                                                or (\"bodybuilding\" in val)\\\n",
    "                                                                or (\"body-building\" in val)\\\n",
    "                                                                or (\"stamina\" in val)\\\n",
    "                                                                or (\"strength\" in val)\\\n",
    "                                                                or (\"excercise\" in val)\\\n",
    "                                                                or (\"yoga\" in val)]"
   ]
  },
  {
   "cell_type": "code",
   "execution_count": 10,
   "metadata": {},
   "outputs": [],
   "source": [
    "sports_category = [(key,val) for key,val in podcasts_genres_topics.items() if (\"sports\" in val)\\\n",
    "#                                                             or (\"games\" in val)\\\n",
    "#                                                             or (\"game\" in val)\\\n",
    "                                                            or (\"videogame\" in val)\\\n",
    "                                                            or (\"videogames\" in val)\\\n",
    "                                                            or (\"boardgame\" in val)\\\n",
    "                                                            or (\"boardgames\" in val)\\\n",
    "                                                            or (\"xbox\" in val)\\\n",
    "                                                            or (\"nintendo\" in val)\\\n",
    "                                                            or (\"twitch\" in val)\\\n",
    "                                                            or (\"ps4\" in val)\\\n",
    "                                                            or (\"ps5\" in val)\\\n",
    "                                                            or (\"playstation\" in val)\\\n",
    "                                                            or (\"basketball\" in val)\\\n",
    "                                                            or (\"football\" in val)\\\n",
    "                                                            or (\"soccer\" in val)\\\n",
    "                                                            or (\"baseball\" in val)\\\n",
    "                                                            or (\"boxing\" in val)\\\n",
    "                                                            or (\"wrestling\" in val)\\\n",
    "                                                            or (\"mma\" in val)\\\n",
    "                                                            or (\"tennis\" in val)]"
   ]
  },
  {
   "cell_type": "code",
   "execution_count": 11,
   "metadata": {},
   "outputs": [],
   "source": [
    "religion_category = [(key,val) for key,val in podcasts_genres_topics.items() if (\"religion\" in val)\\\n",
    "                                                            or (\"faith\" in val)\\\n",
    "                                                            or (\"church\" in val)\\\n",
    "                                                            or (\"christ\" in val)\\\n",
    "                                                            or (\"christian\" in val)\\\n",
    "                                                            or (\"christianity\" in val)\\\n",
    "                                                            or (\"bible\" in val)\\\n",
    "                                                            or (\"testament\" in val)\\\n",
    "                                                            or (\"pope\" in val)\\\n",
    "                                                            or (\"catholic\" in val)\\\n",
    "                                                            or (\"catholicism\" in val)]"
   ]
  },
  {
   "cell_type": "code",
   "execution_count": 12,
   "metadata": {},
   "outputs": [],
   "source": [
    "invest_category = [(key,val) for key,val in podcasts_genres_topics.items() if (\"market\" in val)\\\n",
    "                                                            or (\"business\" in val)\\\n",
    "                                                            or (\"invest\" in val)\\\n",
    "                                                            or (\"stocks\" in val)\\\n",
    "                                                            or (\"stock\" in val)\\\n",
    "                                                            or (\"wallstreet\" in val)\\\n",
    "                                                            or (\"investing\" in val)\\\n",
    "                                                            or (\"investment\" in val)\\\n",
    "                                                            or (\"exchange\" in val)\\\n",
    "                                                            or (\"nyse\" in val)\\\n",
    "                                                            or (\"capital\" in val)\\\n",
    "                                                            or (\"money\" in val)\\\n",
    "                                                            or (\"currency\" in val)\\\n",
    "                                                            or (\"cryptocurrency\" in val)\\\n",
    "                                                            or (\"blockchain\" in val)\\\n",
    "                                                            or (\"bitcoin\" in val)\\\n",
    "                                                            or (\"federal\" in val)\\\n",
    "                                                            or (\"bank\" in val)\\\n",
    "                                                            or (\"nft\" in val)]"
   ]
  },
  {
   "cell_type": "code",
   "execution_count": 63,
   "metadata": {},
   "outputs": [],
   "source": [
    "number_of_topics = [5,6,7,8,9,10,15]\n",
    "df_parameters = list(product([2,3,4,5,6,7,8,9,10],[0.3,0.4,0.5,0.6,0.7,0.8,0.9]))\n",
    "hyperparams = list(product(number_of_topics,df_parameters))\n",
    "sports_cs = []\n",
    "with open('/home1/sgmark/capstone-project/model/coherence_scores_sports_category.csv','r') as f:\n",
    "    reader = csv.reader(f)\n",
    "    for row in reader:\n",
    "        sports_cs.append([float(x) for x in row])\n",
    "        \n",
    "best_hp_setting = hyperparams[np.argmax([x[3] for x in sports_cs])]"
   ]
  },
  {
   "cell_type": "code",
   "execution_count": 64,
   "metadata": {},
   "outputs": [
    {
     "data": {
      "text/plain": [
       "(7, (6, 0.9))"
      ]
     },
     "execution_count": 64,
     "metadata": {},
     "output_type": "execute_result"
    }
   ],
   "source": [
    "best_hp_setting"
   ]
  },
  {
   "cell_type": "markdown",
   "metadata": {},
   "source": [
    "#### The individual transcript location"
   ]
  },
  {
   "cell_type": "code",
   "execution_count": 15,
   "metadata": {},
   "outputs": [],
   "source": [
    "def file_location(show,episode):\n",
    "    search_string = local_path + \"/spotify-podcasts-2020\" + \"/podcasts-transcripts\" \\\n",
    "                               + \"/\" + show[0] \\\n",
    "                               + \"/\" + show[1] \\\n",
    "                               + \"/\" + \"show_\" + show \\\n",
    "                               + \"/\"\n",
    "    return search_string"
   ]
  },
  {
   "cell_type": "markdown",
   "metadata": {},
   "source": [
    "#### load the transcripts"
   ]
  },
  {
   "cell_type": "code",
   "execution_count": 16,
   "metadata": {},
   "outputs": [],
   "source": [
    "transcripts = {}\n",
    "for podcast,genre in sports_category:\n",
    "    for i in shows.get_group(podcast[1])[['show_filename_prefix','episode_filename_prefix']].index:\n",
    "        show,episode = shows.get_group(podcast[1])[['show_filename_prefix','episode_filename_prefix']].loc[i]\n",
    "        s = show.split(\"_\")[1]\n",
    "        try:\n",
    "            with open('../podcast_transcripts/'+s[0]+'/'+s[1]+'/'+show+'/'+episode+'.txt','r') as f:\n",
    "                transcripts[(show,episode)] = f.readlines()\n",
    "            f.close()\n",
    "        except Exception as e:\n",
    "            pass\n",
    "    \n",
    "keys = list(transcripts.keys())"
   ]
  },
  {
   "cell_type": "code",
   "execution_count": 17,
   "metadata": {},
   "outputs": [],
   "source": [
    "# Cleaning & remove urls and links\n",
    "def remove_stops(text,stops):\n",
    "    final = []\n",
    "    for word in text:\n",
    "        if (word not in stops) and (len(word)>3) and (not word.endswith('ing')) and (not word.endswith('ly')):\n",
    "            final.append(word)\n",
    "    return final\n",
    "                       \n",
    "def clean_text(docs):\n",
    "    final = []\n",
    "    for doc in docs:\n",
    "        clean_doc = remove_stops(doc, stops)\n",
    "        final.extend(clean_doc)\n",
    "    return final\n",
    "\n",
    "def lemmatization(text_data): \n",
    "    nlp = spacy.load(\"en_core_web_sm\")\n",
    "    texts = []\n",
    "    for text in text_data:\n",
    "        doc = nlp(text)\n",
    "        lem_text = []\n",
    "        for token in doc:\n",
    "            if (token.pos_==\"VERB\") or (token.pos_==\"ADV\"):\n",
    "                pass\n",
    "            else:\n",
    "                lem_text.append(token.lemma_)\n",
    "        texts.append(lem_text)\n",
    "    return texts\n",
    "\n",
    "# # lemmatization -- do lemmatization for just the verbs\n",
    "# def get_lemmatized(text):\n",
    "#     lemmatized = []\n",
    "#     for phrase in text:\n",
    "#         sentence=''\n",
    "#         for word in nlp(phrase):\n",
    "#             if word.pos_ == \"VERB\":\n",
    "#                 #or word.pos_ == \"ADJ\" or word.pos_ == \"ADV\":\n",
    "#                 sentence += ' ' + str(word.lemma_)\n",
    "#             elif str(word)!='':\n",
    "#                 sentence += ' ' + str(word)\n",
    "#         lemmatized.append(sentence.strip())\n",
    "#     return lemmatized\n",
    "\n",
    "# def get_named_entities(text):\n",
    "#     return nlp(text.lower()).ents\n",
    "\n",
    "# def get_noun_chunks(text):\n",
    "#     non_stop_noun_chunks = []\n",
    "#     stops = stopwords.words(\"english\")\n",
    "#     for word in nlp(text.lower()).noun_chunks:\n",
    "#         if str(word) not in stops:\n",
    "#             non_stop_noun_chunks.append(word)\n",
    "#     return non_stop_noun_chunks"
   ]
  },
  {
   "cell_type": "markdown",
   "metadata": {},
   "source": [
    "#### tokenize/convert text into words"
   ]
  },
  {
   "cell_type": "code",
   "execution_count": 18,
   "metadata": {},
   "outputs": [],
   "source": [
    "def normalize_docs(text_data):\n",
    "    final_texts = []\n",
    "    for text in text_data:\n",
    "        new_text = gensim.utils.simple_preprocess(text,deacc=True)\n",
    "        final_texts.append(new_text)\n",
    "    return final_texts"
   ]
  },
  {
   "cell_type": "code",
   "execution_count": 47,
   "metadata": {},
   "outputs": [],
   "source": [
    "docs = []\n",
    "for text in transcripts.values():\n",
    "    docs.append(' '.join(clean_text(normalize_docs(text))))"
   ]
  },
  {
   "cell_type": "code",
   "execution_count": 48,
   "metadata": {},
   "outputs": [],
   "source": [
    "texts = lemmatization(docs)\n",
    "texts = [remove_stops(text,stops) for text in texts]"
   ]
  },
  {
   "cell_type": "markdown",
   "metadata": {},
   "source": [
    "### Using bigrams"
   ]
  },
  {
   "cell_type": "code",
   "execution_count": 49,
   "metadata": {},
   "outputs": [],
   "source": [
    "from gensim.models.phrases import Phrases\n",
    "\n",
    "bigram = Phrases(texts, min_count=5)\n",
    "                 #best_hp_setting[1][0])\n",
    "\n",
    "for i in range(len(texts)):\n",
    "    for token in bigram[texts[i]]:\n",
    "        if '_' in token:\n",
    "            texts[i].append(token)"
   ]
  },
  {
   "cell_type": "markdown",
   "metadata": {},
   "source": [
    "#### Construct a corpus of words as a bag of words "
   ]
  },
  {
   "cell_type": "code",
   "execution_count": 65,
   "metadata": {},
   "outputs": [],
   "source": [
    "dictionary = corpora.Dictionary(texts)\n",
    "\n",
    "dictionary.filter_extremes(no_below=best_hp_setting[1][0],no_above=best_hp_setting[1][1])"
   ]
  },
  {
   "cell_type": "code",
   "execution_count": 66,
   "metadata": {},
   "outputs": [],
   "source": [
    "corpus = [dictionary.doc2bow(text) for text in texts]"
   ]
  },
  {
   "cell_type": "code",
   "execution_count": 23,
   "metadata": {},
   "outputs": [],
   "source": [
    "# from itertools import product\n",
    "\n",
    "# number_of_topics = [5,6,7,8,9,10,15]\n",
    "# df_parameters = list(product([2,3,4,5,6,7,8,9,10],[0.3,0.4,0.5,0.6,0.7,0.8,0.9]))\n",
    "# coherence_scores_umass = np.zeros((len(number_of_topics),len(df_parameters)))\n",
    "# coherence_scores_uci = np.zeros((len(number_of_topics),len(df_parameters)))\n",
    "# coherence_scores_npmi = np.zeros((len(number_of_topics),len(df_parameters)))\n",
    "\n",
    "# j = 0\n",
    "# for num in number_of_topics:\n",
    "#     i = 0\n",
    "#     for n,m in df_parameters:\n",
    "#         dictionary = corpora.Dictionary(texts)\n",
    "#         dictionary.filter_extremes(no_below=n,no_above=m)\n",
    "#         corpus = [dictionary.doc2bow(text) for text in texts]\n",
    "#         num_topics = num\n",
    "#         chunksize = 200\n",
    "#         passes = 20\n",
    "#         iterations = 500\n",
    "#         eval_every = None\n",
    "\n",
    "#         lda_model = gensim.models.ldamodel.LdaModel(corpus,\n",
    "#                                                    id2word=dictionary,\n",
    "#                                                    num_topics=num_topics,\n",
    "#                                                    chunksize=chunksize,\n",
    "#                                                    passes=passes,\n",
    "#                                                    iterations=iterations,\n",
    "#                                                    alpha='auto',\n",
    "#                                                    eta='auto',\n",
    "#                                                    random_state = 123,\n",
    "#                                                    eval_every=eval_every)\n",
    "#         cm = CoherenceModel(lda_model, texts=texts,corpus=corpus, coherence= 'c_uci')\n",
    "#         coherence_scores_uci[j,i] = cm.get_coherence()\n",
    "#         cm = CoherenceModel(lda_model, texts=texts,corpus=corpus, coherence= 'c_npmi')\n",
    "#         coherence_scores_npmi[j,i] = cm.get_coherence() \n",
    "#         cm = CoherenceModel(lda_model, corpus=corpus, coherence= 'u_mass')\n",
    "#         coherence_scores_umass[j,i] = cm.get_coherence()\n",
    "#         with open(\"coherence_scores_sports_category.csv\",'a') as f:\n",
    "#             writer = csv.writer(f)\n",
    "#             writer.writerow([num,n,m,coherence_scores_uci[j,i],coherence_scores_npmi[j,i],\\\n",
    "#                              coherence_scores_umass[j,i]])\n",
    "#         i += 1\n",
    "#         print(i)\n",
    "#     j += 1\n",
    "#     print(j)"
   ]
  },
  {
   "cell_type": "code",
   "execution_count": 67,
   "metadata": {},
   "outputs": [
    {
     "name": "stdout",
     "output_type": "stream",
     "text": [
      "CPU times: user 25.6 s, sys: 13.4 ms, total: 25.6 s\n",
      "Wall time: 25.6 s\n"
     ]
    }
   ],
   "source": [
    "%%time\n",
    "import logging\n",
    "logging.basicConfig(filename='sports_topics.log', encoding='utf-8',format='%(asctime)s : %(levelname)s : %(message)s', level=logging.DEBUG)\n",
    "\n",
    "num_topics = best_hp_setting[0]\n",
    "chunksize = 200\n",
    "passes = 50\n",
    "iterations = 500\n",
    "eval_every = None\n",
    "\n",
    "lda_model = gensim.models.ldamodel.LdaModel(corpus,\n",
    "                                           id2word=dictionary,\n",
    "                                           num_topics=num_topics,\n",
    "                                           chunksize=chunksize,\n",
    "                                           passes=passes,\n",
    "                                           iterations=iterations,\n",
    "                                           alpha='auto',\n",
    "                                           eta='auto',\n",
    "                                           random_state=123,\n",
    "                                           eval_every=eval_every)"
   ]
  },
  {
   "cell_type": "code",
   "execution_count": 25,
   "metadata": {},
   "outputs": [
    {
     "name": "stdout",
     "output_type": "stream",
     "text": [
      "Average topic coherence: -0.7116.\n"
     ]
    }
   ],
   "source": [
    "top_topics = lda_model.top_topics(corpus) #, num_words=20)\n",
    "\n",
    "# Average topic coherence is the sum of topic coherences of all topics, divided by the number of topics.\n",
    "avg_topic_coherence = sum([t[1] for t in top_topics])/num_topics\n",
    "\n",
    "print('Average topic coherence: %.4f.' % avg_topic_coherence)"
   ]
  },
  {
   "cell_type": "code",
   "execution_count": 26,
   "metadata": {},
   "outputs": [
    {
     "name": "stdout",
     "output_type": "stream",
     "text": [
      "0.03905895361784011\n",
      "0.024165728681836945\n",
      "0.1492834137538285\n",
      "-0.007463909404059377\n",
      "0.019001497190662995\n",
      "0.0020731429351815256\n",
      "0.03062606430816478\n",
      "0.05572673785926546\n"
     ]
    }
   ],
   "source": [
    "cm = CoherenceModel(lda_model, texts = texts, corpus=corpus, coherence='c_npmi')\n",
    "coherence = cm.get_coherence() \n",
    "print(coherence)\n",
    "for x in cm.get_coherence_per_topic(): print(x)"
   ]
  },
  {
   "cell_type": "markdown",
   "metadata": {},
   "source": [
    "### Visualizing data"
   ]
  },
  {
   "cell_type": "code",
   "execution_count": 68,
   "metadata": {},
   "outputs": [
    {
     "data": {
      "text/html": [
       "\n",
       "<link rel=\"stylesheet\" type=\"text/css\" href=\"https://cdn.jsdelivr.net/gh/bmabey/pyLDAvis@3.3.1/pyLDAvis/js/ldavis.v1.0.0.css\">\n",
       "\n",
       "\n",
       "<div id=\"ldavis_el115422478882157010881265867908\"></div>\n",
       "<script type=\"text/javascript\">\n",
       "\n",
       "var ldavis_el115422478882157010881265867908_data = {\"mdsDat\": {\"x\": [-0.02950973404637833, -0.1320491731745484, 0.07295735125201003, 0.3297348003488207, 0.1833514358022993, -0.30675292093782686, -0.11773175924437637], \"y\": [-0.09149347888401087, 0.08609022979692232, 0.1535058209733311, 0.05729480213202984, -0.24925077435293747, -0.2329012341302873, 0.27675463446495235], \"topics\": [1, 2, 3, 4, 5, 6, 7], \"cluster\": [1, 1, 1, 1, 1, 1, 1], \"Freq\": [33.42303081549796, 28.288889495265686, 21.92334956861793, 7.285019893653747, 5.409826035872265, 3.64279821433156, 0.027085976760845693]}, \"tinfo\": {\"Term\": [\"card\", \"game\", \"team\", \"player\", \"sport\", \"coach\", \"city\", \"football\", \"number\", \"state\", \"nintendo\", \"match\", \"league\", \"school\", \"price\", \"favorite\", \"north\", \"high\", \"season\", \"mario\", \"quarterback\", \"receiver\", \"freshman\", \"alabama\", \"patriot\", \"touchdown\", \"clemson\", \"brady\", \"aaron\", \"lamar\", \"laker\", \"notre\", \"notre_dame\", \"field_goal\", \"durant\", \"college_football\", \"baltimore\", \"mahome\", \"lamar_jackson\", \"utah\", \"defense\", \"prep\", \"washington\", \"oklahoma\", \"raptor\", \"defensive\", \"dame\", \"playoff\", \"senior\", \"brown\", \"ball\", \"offensive\", \"college\", \"offense\", \"field\", \"team\", \"yard\", \"season\", \"state\", \"bowl\", \"game\", \"home\", \"play\", \"mean\", \"number\", \"player\", \"coach\", \"school\", \"football\", \"line\", \"high\", \"couple\", \"love\", \"nintendo\", \"cartridge\", \"super_mario\", \"nintendo_cartridge\", \"donkey\", \"zelda\", \"sonic\", \"donkey_kong\", \"luigi\", \"emblem\", \"fire_emblem\", \"pokemon\", \"cartridge_society\", \"tetris\", \"castlevania\", \"bowser\", \"ehler\", \"host_mitchell\", \"final_fantasy\", \"mario_kart\", \"mario\", \"society\", \"quest\", \"switch\", \"evil\", \"kong\", \"smash\", \"music\", \"version\", \"character\", \"game\", \"super\", \"weird\", \"level\", \"movie\", \"games\", \"love\", \"mean\", \"different\", \"play\", \"sure\", \"wrestlemania\", \"xpac\", \"wrestler\", \"afterbuzz\", \"becky\", \"main_event\", \"smackdown\", \"brock\", \"flair\", \"waltman\", \"kane\", \"jericho\", \"match_match\", \"lucha\", \"denise\", \"download_afterbuzz\", \"lesnar\", \"hart\", \"rhonda\", \"brock_lesnar\", \"promo\", \"match\", \"promotion\", \"sean\", \"vince\", \"anyways\", \"wrestle\", \"woman\", \"network\", \"crowd\", \"event\", \"japan\", \"scott\", \"person\", \"mean\", \"talent\", \"fight\", \"different\", \"thought\", \"sure\", \"night\", \"business\", \"huge\", \"real\", \"thank\", \"money\", \"love\", \"idea\", \"deal\", \"place\", \"happy\", \"long\", \"team\", \"sort\", \"couple\", \"prism\", \"sport_card\", \"card_price\", \"rookie_card\", \"ebay\", \"prism_silver\", \"panini\", \"soccer_card\", \"card_investor\", \"baseball_card\", \"investment_standpoint\", \"lonzo_ball\", \"base_card\", \"national_treasure\", \"jeff_wilson\", \"card_ebay\", \"investor\", \"tech_company\", \"discord_server\", \"beckett\", \"investment\", \"card\", \"cards\", \"luca\", \"hobby\", \"silver\", \"auction\", \"rookie\", \"zion\", \"price\", \"collector\", \"product\", \"server\", \"stock\", \"market\", \"dollar\", \"sport\", \"article\", \"basketball\", \"baseball\", \"player\", \"number\", \"premier_league\", \"champion_league\", \"champions_league\", \"south_dakota\", \"distribution\", \"premiership\", \"output\", \"education\", \"wealth\", \"goal_goal\", \"barn\", \"institution\", \"probability\", \"variance\", \"spain\", \"soccer_soccer\", \"youngster\", \"concentrate\", \"evaluation\", \"oftentime\", \"chelsea\", \"metric\", \"premier\", \"golfer\", \"villa\", \"esport\", \"projection\", \"penalty\", \"champions\", \"club\", \"variable\", \"analytic\", \"league\", \"tournament\", \"coach\", \"football\", \"community\", \"player\", \"sport\", \"soccer\", \"datum\", \"program\", \"school\", \"lineup\", \"high\", \"goal\", \"team\", \"experience\", \"important\", \"season\", \"level\", \"game\", \"different\", \"livingston\", \"worth_county\", \"drexel\", \"shelby\", \"patent_berg\", \"north_andrew\", \"stanbury\", \"mound_city\", \"rockport\", \"osceola\", \"platte\", \"platte_valley\", \"north_shelby\", \"appleton\", \"albany\", \"appleton_city\", \"orac\", \"braemar\", \"mountain_city\", \"southwest_livingston\", \"district\", \"liberal\", \"patent\", \"berg\", \"mound\", \"county\", \"northwest\", \"north\", \"city\", \"andrew\", \"conference\", \"east\", \"worth\", \"team\", \"number\", \"game\", \"state\", \"cricket\", \"blog\", \"rugby\", \"countless\", \"criterion\", \"install\", \"blind\", \"award\", \"unlike\", \"horse\", \"chase_muay\", \"interest\", \"icon_cent\", \"snapchat\", \"badd\", \"backslash_fight\", \"carson_kick\", \"anatomy\", \"train_train\", \"spar\", \"design\", \"dead\", \"favorite\", \"transfer\", \"boundary\", \"creek\", \"reflect\", \"tiebreaker\", \"mental_health\", \"vegetable\"], \"Freq\": [3805.0, 13631.0, 6127.0, 3220.0, 2230.0, 1627.0, 1388.0, 1857.0, 2704.0, 1664.0, 2339.0, 2005.0, 1049.0, 1457.0, 1120.0, 932.0, 696.0, 1827.0, 2433.0, 1632.0, 970.2157803599703, 345.09919139702345, 297.44296417799455, 240.62354119979022, 207.87162408253923, 645.3199340727235, 195.91873691773915, 190.65492782620333, 183.10070440034454, 172.9336686387605, 172.491470964012, 162.45147334797014, 162.45147334797014, 148.03586859788354, 147.2754246884827, 139.9587888268532, 139.58068220224277, 134.27436927533302, 133.41485494129967, 132.42709933691773, 1118.8259931277323, 596.5534198909552, 270.72688753420096, 231.25123840458966, 176.02747449340157, 276.2048725646348, 171.54520344209365, 654.3395043427143, 310.94249786646793, 328.23043489002913, 1222.7945163573859, 289.49352411490963, 660.2613635332827, 640.8920403179937, 823.8358848562832, 4243.912698268216, 759.5370294237922, 1791.5954760622935, 1284.4908353234, 390.32666465235, 5866.385433101082, 885.7013513360636, 1109.3744813288836, 2014.8324831744694, 1318.7183554306737, 1390.5465631352386, 889.6829449576885, 829.863027329091, 871.8968945409171, 734.7841368903361, 756.7743392945605, 708.5451288173193, 724.0596795995932, 2338.7740035896536, 738.5292212442507, 592.271209289953, 478.2449007219429, 465.30289301444174, 443.87247234529184, 415.5835718581432, 413.1217948775846, 334.9146852655857, 329.36401820839563, 322.4929180022632, 958.6908238442214, 216.15846890358938, 216.15845220995428, 194.5634823796483, 192.40998675843522, 185.72897697515808, 173.94983119491394, 168.06043358796038, 167.07883115059207, 1624.5009012402372, 874.1197332730821, 236.21680631680528, 980.0981405223964, 297.9475317984595, 570.3169423514435, 356.04555534654605, 822.1661359953338, 628.5236414640148, 1302.9896357562475, 6758.959043001447, 1321.3399472008273, 669.3004493967422, 980.9828364080237, 546.2140376395342, 600.6495444217688, 886.5153583038419, 1173.7471121841331, 804.1925665076344, 623.3454761803903, 596.9031588331871, 309.221667140586, 268.97541314389053, 249.44063340301116, 219.47343746139538, 203.64419623170014, 140.7096175716652, 128.63818133775447, 116.84681066291044, 112.98985459336913, 111.36273682896521, 109.57695664695257, 102.31962588770092, 101.18372251780008, 93.72168567294644, 92.69153784224508, 90.63586077861525, 86.95866777925276, 79.92366363828276, 79.59409369720534, 78.18275630325934, 130.441918420912, 1904.143794520607, 145.29389282381783, 319.7908041851979, 180.10929682756955, 319.6266822486532, 113.22218170486762, 330.92610110582035, 192.16745944435155, 197.68673553191007, 352.3500037710361, 303.1455848078006, 238.2522937628685, 501.0601064769283, 1682.9212927889057, 344.6975435631049, 314.4753027013376, 955.6499262486604, 401.61791875071185, 776.3312764359098, 604.0191817543183, 325.1396578961126, 441.07815726760987, 521.4198169415848, 507.50979067661723, 463.0990104606552, 574.173828820615, 400.3198728433118, 357.1926488162468, 409.8739792322856, 354.81806857306253, 383.0350876409875, 437.45210521221406, 354.51021380386675, 361.056565125569, 459.2287120383364, 430.4256614325615, 264.1287779108651, 164.39953583604216, 288.15462630385906, 127.80646953456538, 117.1716618196086, 71.73001536824691, 66.89466940620584, 66.75545542969628, 64.96155417941705, 61.89275073787394, 58.19423652014751, 55.29379416195195, 50.45851268466052, 49.4924924441798, 368.73844938569516, 44.65741301910392, 43.69160772778868, 41.75836353150061, 312.6766117626288, 3555.584956665247, 71.71717430510162, 146.523125128202, 262.76892351042335, 356.39544925069947, 96.80004381727052, 489.40310392795584, 253.01447879350673, 770.0739225192777, 124.7072120952582, 273.7990313386497, 106.36998476851265, 186.34706654198777, 282.74612699005365, 353.7422887114461, 658.0137346586588, 190.8501483830256, 302.3810970063862, 250.231970444439, 424.36216902173, 376.7088676169944, 123.74752012120987, 53.273637839122316, 42.30827370214538, 30.047491274732, 69.58366030817074, 18.806797956598995, 17.994068481301014, 34.57474325458054, 12.239433202542587, 12.127373315975943, 11.620932989355063, 11.38405156741116, 44.18885070228515, 11.03858439631603, 10.871695709771878, 10.885786198186599, 10.531604552834867, 10.135324630343533, 9.70221709542462, 9.364565735886863, 74.87230465899619, 45.55031351819851, 144.93391944204618, 18.27934041548289, 24.49679975397664, 24.615135913604362, 43.093538896088084, 86.04721203665632, 49.285899527152424, 364.1347034688089, 21.491705208016555, 53.232149311807056, 540.5360299820438, 274.69905100251447, 735.9389998486275, 789.5557129475576, 189.20523002895376, 1188.357892722767, 839.9408924433765, 209.4985469787915, 154.07671900719765, 199.24665398444972, 417.55882501065406, 114.56588811174763, 441.28040448075245, 206.24082286490057, 531.2693650075486, 211.4650827421269, 179.8596104332242, 307.2359401111632, 222.24235661653378, 280.12601598365046, 211.16411533668114, 301.60480289558177, 212.4840738479764, 208.49658885214907, 191.06735482589244, 187.3426616815198, 178.9624030593284, 160.33916090228865, 157.54564964265623, 152.89001537566102, 124.02421961612595, 122.16174406423372, 112.8501745775962, 97.95165995951736, 84.91547471633073, 83.94361263234858, 83.05314534143852, 70.94807319381565, 63.498790088835044, 56.04933071158971, 52.32482243812884, 304.14553112893765, 124.01074553618257, 345.53202324039876, 228.02036731580637, 167.51841209498988, 306.89699500444556, 131.7694165610372, 520.5145253106069, 717.119047700109, 230.30575012606175, 337.5390304845059, 211.79742028833488, 265.6215458211202, 721.9799660670201, 384.9179541268274, 625.1541097698041, 313.94977729618495, 3.815522358102321, 14.256593506039573, 1.0794798613320777, 0.5473642581024071, 0.605749685195149, 0.08671407342608621, 0.48040589814295753, 1.0943243183527818, 0.5473637466214175, 0.5473634908809226, 0.015336847381962946, 0.6867250538043751, 0.01533616907025994, 0.015332484808756718, 0.015332484808756718, 0.015338872327208887, 0.01533567457203757, 0.015332484808756718, 0.015332484808756718, 0.015332484808756718, 0.4379413398135355, 0.5563743793449764, 0.5680612084763766, 0.11446361139273525, 0.01638575803051106, 0.015690073955611734, 0.01576043056329853, 0.015807226078915514, 0.01590621962810214, 0.01575799303670746], \"Total\": [3805.0, 13631.0, 6127.0, 3220.0, 2230.0, 1627.0, 1388.0, 1857.0, 2704.0, 1664.0, 2339.0, 2005.0, 1049.0, 1457.0, 1120.0, 932.0, 696.0, 1827.0, 2433.0, 1632.0, 972.0273962388522, 345.951944259096, 298.2958353156739, 241.47657274491002, 208.7235646897067, 648.1211158725272, 196.77026695425369, 191.50770560234574, 183.96467685850718, 173.78884501582763, 173.3447677337299, 163.30333217541485, 163.30333217541485, 148.88756771649662, 148.12907122087714, 140.8120855550268, 140.4329946229388, 135.12988342836525, 134.26936051886705, 133.27963331628013, 1141.3819943405847, 605.5306568465429, 274.9799779436116, 234.35350782684634, 177.86071993194588, 283.0421835128084, 173.3530731298365, 701.4593897930594, 322.5920137115998, 342.0096937526065, 1389.1737684511147, 300.331387190032, 723.3659622885122, 702.1221786940345, 925.8384045111801, 6127.192276477403, 896.1699348655687, 2433.619487655177, 1664.56596398913, 428.02841787887513, 13631.811925475176, 1287.3693527250534, 1970.300545869453, 4888.585081879134, 2704.7604285378397, 3220.1818867695492, 1627.6925277575558, 1457.1071608724512, 1857.7048850214685, 1295.8602745935123, 1827.7505712574534, 1694.360990023385, 2305.2261195534065, 2339.5726467055233, 739.3278406356079, 593.0698236341533, 479.0435186937322, 466.10164951534796, 444.67110744586535, 416.3821925340004, 413.9204055629521, 335.71331421946945, 330.162637079569, 323.2915366008173, 961.433691205276, 216.95708977034334, 216.9570767366803, 195.36210883026797, 193.210138006431, 186.52759515290825, 174.7484491074491, 168.85904985004942, 167.8774484222572, 1632.5081263050122, 912.1232959363323, 239.47301336238428, 1048.0114259273544, 307.1599254168012, 617.3977576921982, 374.29877511106235, 952.8462488637083, 709.1164142051935, 1621.9748504641857, 13631.811925475176, 1923.3531794273476, 914.3062449369672, 1595.9913487514973, 733.2439786387606, 907.0662946539541, 2305.2261195534065, 4888.585081879134, 2581.654172332767, 1970.300545869453, 2080.496894605704, 310.17567880742826, 269.92945032797303, 250.39527972888934, 220.42746559200683, 204.607403515937, 141.66371533237353, 129.592230031234, 117.8015169716637, 113.9456095532048, 112.31676049796842, 110.53176749487113, 103.27391109654789, 102.1389977038342, 94.67587002995359, 93.6456300228358, 91.58988970223054, 87.91272054951223, 80.8785427789087, 80.54811255197858, 79.13681543835034, 132.6894348826175, 2005.582884026375, 148.5019037435527, 332.30233579876466, 188.30018358006356, 365.2517025410256, 117.14194005755388, 404.2474047777134, 218.14733630172248, 228.0698551537858, 460.89883552755913, 391.99567795010586, 296.2079094596876, 878.5278475213536, 4888.585081879134, 536.7390682187732, 478.42855795388226, 2581.654172332767, 704.1454992029037, 2080.496894605704, 1447.8320117686608, 512.6832588960624, 899.0662741907173, 1248.6493831954108, 1196.873762900223, 1222.0585430279807, 2305.2261195534065, 898.3378573122756, 676.3779884063506, 1196.9285523709698, 725.3580912654911, 1364.1151314475806, 6127.192276477403, 1033.1286650967006, 1694.360990023385, 460.06278414279143, 431.25896824294284, 264.9621033060327, 165.23322594706642, 289.93827325352413, 128.63973253197813, 118.00492603250011, 72.56337279404768, 67.72798098978129, 67.58888829058533, 65.79484804825721, 62.7272231517085, 59.02748195262026, 56.127049921509, 51.291827279573916, 50.3257598585373, 375.55495824951686, 45.49073507888697, 44.52488220900053, 42.59160956944475, 322.88139547732027, 3805.88492393403, 73.50795903919271, 153.76178892774158, 284.5748086411343, 396.7763166563786, 101.20148593497383, 572.0042133749815, 293.8310120487551, 1120.4340543230867, 141.36265132456953, 376.1105151114879, 119.0641451276174, 254.53342166568007, 465.13625735305044, 648.2870737827351, 2230.118267362884, 305.965376750725, 898.8561000846037, 596.1598653778453, 3220.1818867695492, 2704.7604285378397, 124.6030070460569, 54.12905013823714, 43.16387003408048, 30.903222017451032, 72.38487777612494, 19.662422407983975, 18.85005130035848, 36.660904793142386, 13.094750409713035, 12.983695292856705, 12.477194773086424, 12.24200923767729, 47.606100015150965, 11.897278250523806, 11.727930974617056, 11.747238970696774, 11.386987403169549, 11.005304152896857, 10.55763585880072, 10.248191645368433, 81.97170161116028, 50.052035851234834, 164.43463251071054, 20.087475727926964, 27.240362235173908, 27.5664604218765, 50.92368127821908, 108.43562881542381, 60.077564283420394, 541.6272244511099, 24.35653743258742, 69.05580747828344, 1049.0007580088238, 476.95237909891, 1627.6925277575558, 1857.7048850214685, 326.83851264999106, 3220.1818867695492, 2230.118267362884, 387.00415325302913, 280.2194799355331, 411.7694164517163, 1457.1071608724512, 214.78476104910666, 1827.7505712574534, 596.1794562814622, 6127.192276477403, 826.4423687575891, 623.0624176887674, 2433.619487655177, 1595.9913487514973, 13631.811925475176, 2581.654172332767, 302.4453641753452, 213.3243011837853, 209.33683089168582, 191.9075855327915, 188.18289462168926, 179.80262918098978, 161.17939215275453, 158.3858798791465, 153.7302420508775, 124.86444163670252, 123.00197445501551, 113.69040502774617, 98.79188703874821, 85.75569984250731, 84.78455176644064, 83.89337040081875, 71.78829967639972, 64.33901814858267, 56.889564124879975, 53.16505160375876, 311.84168039495444, 126.64811287093515, 360.33685412886985, 235.95281278212747, 172.55813082277447, 344.03031430691317, 139.1380602389999, 696.6658109107963, 1388.698610628965, 335.55986639419433, 622.7516413807974, 353.7604329839649, 615.7122071563314, 6127.192276477403, 2704.7604285378397, 13631.811925475176, 1664.56596398913, 7.710315979430002, 64.85283129448791, 7.867071977433995, 5.395814575463313, 15.482901752327683, 6.970247837020222, 42.53901896654839, 101.66431993302069, 80.51843776284623, 82.09956800417076, 3.120814028025683, 143.65070462174646, 3.47415386542394, 3.655933534808522, 3.6650382301566586, 3.827107942550108, 3.8265872712359115, 3.843074737745656, 4.088827460007718, 4.12620200055226, 149.5997824900749, 221.94845060563685, 932.3748855997515, 102.39411482026556, 8.724840672712633, 6.4657192111715895, 8.561127793226431, 11.6452799528835, 16.146168742737924, 16.55374474704], \"Category\": [\"Default\", \"Default\", \"Default\", \"Default\", \"Default\", \"Default\", \"Default\", \"Default\", \"Default\", \"Default\", \"Default\", \"Default\", \"Default\", \"Default\", \"Default\", \"Default\", \"Default\", \"Default\", \"Default\", \"Default\", \"Topic1\", \"Topic1\", \"Topic1\", \"Topic1\", \"Topic1\", \"Topic1\", \"Topic1\", \"Topic1\", \"Topic1\", \"Topic1\", \"Topic1\", \"Topic1\", \"Topic1\", \"Topic1\", \"Topic1\", \"Topic1\", \"Topic1\", \"Topic1\", \"Topic1\", \"Topic1\", \"Topic1\", \"Topic1\", \"Topic1\", \"Topic1\", \"Topic1\", \"Topic1\", \"Topic1\", \"Topic1\", \"Topic1\", \"Topic1\", \"Topic1\", \"Topic1\", \"Topic1\", \"Topic1\", \"Topic1\", \"Topic1\", \"Topic1\", \"Topic1\", \"Topic1\", \"Topic1\", \"Topic1\", \"Topic1\", \"Topic1\", \"Topic1\", \"Topic1\", \"Topic1\", \"Topic1\", \"Topic1\", \"Topic1\", \"Topic1\", \"Topic1\", \"Topic1\", \"Topic1\", \"Topic2\", \"Topic2\", \"Topic2\", \"Topic2\", \"Topic2\", \"Topic2\", \"Topic2\", \"Topic2\", \"Topic2\", \"Topic2\", \"Topic2\", \"Topic2\", \"Topic2\", \"Topic2\", \"Topic2\", \"Topic2\", \"Topic2\", \"Topic2\", \"Topic2\", \"Topic2\", \"Topic2\", \"Topic2\", \"Topic2\", \"Topic2\", \"Topic2\", \"Topic2\", \"Topic2\", \"Topic2\", \"Topic2\", \"Topic2\", \"Topic2\", \"Topic2\", \"Topic2\", \"Topic2\", \"Topic2\", \"Topic2\", \"Topic2\", \"Topic2\", \"Topic2\", \"Topic2\", \"Topic2\", \"Topic3\", \"Topic3\", \"Topic3\", \"Topic3\", \"Topic3\", \"Topic3\", \"Topic3\", \"Topic3\", \"Topic3\", \"Topic3\", \"Topic3\", \"Topic3\", \"Topic3\", \"Topic3\", \"Topic3\", \"Topic3\", \"Topic3\", \"Topic3\", \"Topic3\", \"Topic3\", \"Topic3\", \"Topic3\", \"Topic3\", \"Topic3\", \"Topic3\", \"Topic3\", \"Topic3\", \"Topic3\", \"Topic3\", \"Topic3\", \"Topic3\", \"Topic3\", \"Topic3\", \"Topic3\", \"Topic3\", \"Topic3\", \"Topic3\", \"Topic3\", \"Topic3\", \"Topic3\", \"Topic3\", \"Topic3\", \"Topic3\", \"Topic3\", \"Topic3\", \"Topic3\", \"Topic3\", \"Topic3\", \"Topic3\", \"Topic3\", \"Topic3\", \"Topic3\", \"Topic3\", \"Topic3\", \"Topic3\", \"Topic4\", \"Topic4\", \"Topic4\", \"Topic4\", \"Topic4\", \"Topic4\", \"Topic4\", \"Topic4\", \"Topic4\", \"Topic4\", \"Topic4\", \"Topic4\", \"Topic4\", \"Topic4\", \"Topic4\", \"Topic4\", \"Topic4\", \"Topic4\", \"Topic4\", \"Topic4\", \"Topic4\", \"Topic4\", \"Topic4\", \"Topic4\", \"Topic4\", \"Topic4\", \"Topic4\", \"Topic4\", \"Topic4\", \"Topic4\", \"Topic4\", \"Topic4\", \"Topic4\", \"Topic4\", \"Topic4\", \"Topic4\", \"Topic4\", \"Topic4\", \"Topic4\", \"Topic4\", \"Topic4\", \"Topic4\", \"Topic5\", \"Topic5\", \"Topic5\", \"Topic5\", \"Topic5\", \"Topic5\", \"Topic5\", \"Topic5\", \"Topic5\", \"Topic5\", \"Topic5\", \"Topic5\", \"Topic5\", \"Topic5\", \"Topic5\", \"Topic5\", \"Topic5\", \"Topic5\", \"Topic5\", \"Topic5\", \"Topic5\", \"Topic5\", \"Topic5\", \"Topic5\", \"Topic5\", \"Topic5\", \"Topic5\", \"Topic5\", \"Topic5\", \"Topic5\", \"Topic5\", \"Topic5\", \"Topic5\", \"Topic5\", \"Topic5\", \"Topic5\", \"Topic5\", \"Topic5\", \"Topic5\", \"Topic5\", \"Topic5\", \"Topic5\", \"Topic5\", \"Topic5\", \"Topic5\", \"Topic5\", \"Topic5\", \"Topic5\", \"Topic5\", \"Topic5\", \"Topic5\", \"Topic5\", \"Topic5\", \"Topic6\", \"Topic6\", \"Topic6\", \"Topic6\", \"Topic6\", \"Topic6\", \"Topic6\", \"Topic6\", \"Topic6\", \"Topic6\", \"Topic6\", \"Topic6\", \"Topic6\", \"Topic6\", \"Topic6\", \"Topic6\", \"Topic6\", \"Topic6\", \"Topic6\", \"Topic6\", \"Topic6\", \"Topic6\", \"Topic6\", \"Topic6\", \"Topic6\", \"Topic6\", \"Topic6\", \"Topic6\", \"Topic6\", \"Topic6\", \"Topic6\", \"Topic6\", \"Topic6\", \"Topic6\", \"Topic6\", \"Topic6\", \"Topic6\", \"Topic7\", \"Topic7\", \"Topic7\", \"Topic7\", \"Topic7\", \"Topic7\", \"Topic7\", \"Topic7\", \"Topic7\", \"Topic7\", \"Topic7\", \"Topic7\", \"Topic7\", \"Topic7\", \"Topic7\", \"Topic7\", \"Topic7\", \"Topic7\", \"Topic7\", \"Topic7\", \"Topic7\", \"Topic7\", \"Topic7\", \"Topic7\", \"Topic7\", \"Topic7\", \"Topic7\", \"Topic7\", \"Topic7\", \"Topic7\"], \"logprob\": [20.0, 19.0, 18.0, 17.0, 16.0, 15.0, 14.0, 13.0, 12.0, 11.0, 10.0, 9.0, 8.0, 7.0, 6.0, 5.0, 4.0, 3.0, 2.0, 1.0, -5.1626, -6.1963, -6.3449, -6.5569, -6.7032, -5.5704, -6.7625, -6.7897, -6.8301, -6.8872, -6.8898, -6.9498, -6.9498, -7.0427, -7.0478, -7.0988, -7.1015, -7.1403, -7.1467, -7.1541, -5.0201, -5.649, -6.439, -6.5966, -6.8695, -6.419, -6.8953, -5.5565, -6.3005, -6.2464, -4.9313, -6.372, -5.5475, -5.5773, -5.3262, -3.6869, -5.4074, -4.5493, -4.882, -6.0732, -3.3632, -5.2538, -5.0286, -4.4319, -4.8557, -4.8027, -5.2493, -5.3189, -5.2695, -5.4406, -5.4111, -5.4769, -5.4553, -4.116, -5.2687, -5.4894, -5.7033, -5.7307, -5.7778, -5.8437, -5.8496, -6.0595, -6.0762, -6.0973, -5.0078, -6.4974, -6.4974, -6.6026, -6.6137, -6.6491, -6.7146, -6.7491, -6.7549, -4.4804, -5.1002, -6.4086, -4.9857, -6.1765, -5.5272, -5.9983, -5.1614, -5.43, -4.701, -3.0547, -4.687, -5.3671, -4.9848, -5.5704, -5.4754, -5.0861, -4.8054, -5.1835, -5.4383, -5.4816, -5.8844, -6.0238, -6.0992, -6.2272, -6.3021, -6.6718, -6.7615, -6.8576, -6.8912, -6.9057, -6.9218, -6.9904, -7.0015, -7.0781, -7.0892, -7.1116, -7.153, -7.2374, -7.2415, -7.2594, -6.7475, -4.0667, -6.6397, -5.8508, -6.4249, -5.8513, -6.8891, -5.8166, -6.3601, -6.3318, -5.7538, -5.9042, -6.1451, -5.4017, -4.1902, -5.7758, -5.8676, -4.7561, -5.623, -4.9639, -5.2149, -5.8342, -5.5292, -5.3619, -5.3889, -5.4805, -5.2655, -5.6262, -5.7402, -5.6026, -5.7469, -5.6703, -5.5375, -5.7477, -5.7294, -4.3872, -4.452, -4.9403, -5.4144, -4.8532, -5.6662, -5.7531, -6.2438, -6.3136, -6.3157, -6.3429, -6.3913, -6.4529, -6.5041, -6.5956, -6.6149, -4.6066, -6.7177, -6.7396, -6.7848, -4.7716, -2.3405, -6.244, -5.5295, -4.9454, -4.6407, -5.9441, -4.3235, -4.9833, -3.8702, -5.6908, -4.9043, -5.8498, -5.2891, -4.8722, -4.6482, -4.0275, -5.2652, -4.805, -4.9943, -4.4661, -4.5853, -5.4009, -6.2437, -6.4741, -6.8163, -5.9766, -7.2849, -7.3291, -6.676, -7.7145, -7.7237, -7.7663, -7.7869, -6.4306, -7.8177, -7.833, -7.8317, -7.8647, -7.9031, -7.9468, -7.9822, -5.9033, -6.4003, -5.2428, -7.3134, -7.0206, -7.0158, -6.4557, -5.7642, -6.3215, -4.3216, -7.1515, -6.2445, -3.9266, -4.6034, -3.618, -3.5477, -4.9763, -3.1388, -3.4858, -4.8744, -5.1817, -4.9246, -4.1847, -5.478, -4.1294, -4.8901, -3.9439, -4.8651, -5.0269, -4.4915, -4.8154, -4.5839, -4.8665, -4.1145, -4.4648, -4.4837, -4.571, -4.5907, -4.6365, -4.7464, -4.7639, -4.7939, -5.0032, -5.0183, -5.0976, -5.2392, -5.382, -5.3935, -5.4042, -5.5617, -5.6726, -5.7974, -5.8662, -4.1062, -5.0033, -3.9786, -4.3942, -4.7026, -4.0971, -4.9426, -3.5688, -3.2484, -4.3842, -4.002, -4.468, -4.2416, -3.2417, -3.8706, -3.3857, -4.0744, -3.5831, -2.2649, -4.8457, -5.5248, -5.4235, -7.3673, -5.6553, -4.832, -5.5248, -5.5248, -9.0997, -5.298, -9.0997, -9.0999, -9.0999, -9.0995, -9.0997, -9.0999, -9.0999, -9.0999, -5.7478, -5.5085, -5.4877, -7.0897, -9.0335, -9.0769, -9.0724, -9.0695, -9.0632, -9.0726], \"loglift\": [20.0, 19.0, 18.0, 17.0, 16.0, 15.0, 14.0, 13.0, 12.0, 11.0, 10.0, 9.0, 8.0, 7.0, 6.0, 5.0, 4.0, 3.0, 2.0, 1.0, 1.0941, 1.0935, 1.0931, 1.0924, 1.0918, 1.0916, 1.0916, 1.0915, 1.0912, 1.091, 1.091, 1.0907, 1.0907, 1.0902, 1.0901, 1.0898, 1.0898, 1.0896, 1.0895, 1.0895, 1.076, 1.081, 1.0803, 1.0826, 1.0856, 1.0715, 1.0854, 1.0264, 1.0591, 1.0548, 0.9684, 1.0592, 1.0046, 1.0047, 0.9792, 0.7287, 0.9305, 0.7897, 0.8367, 1.0037, 0.2528, 0.7219, 0.5215, 0.2096, 0.3776, 0.2562, 0.4919, 0.533, 0.3395, 0.5286, 0.2141, 0.2241, -0.0621, 1.2624, 1.2616, 1.2614, 1.261, 1.261, 1.2609, 1.2608, 1.2608, 1.2603, 1.2603, 1.2602, 1.2598, 1.259, 1.259, 1.2586, 1.2586, 1.2584, 1.2581, 1.258, 1.2579, 1.2578, 1.2201, 1.249, 1.1957, 1.2322, 1.1834, 1.2127, 1.1152, 1.1421, 1.0437, 0.5612, 0.8873, 0.9508, 0.776, 0.9682, 0.8505, 0.3071, -0.164, 0.0964, 0.1119, 0.0141, 1.5145, 1.5141, 1.5138, 1.5133, 1.5129, 1.5109, 1.5102, 1.5095, 1.5092, 1.5091, 1.5089, 1.5083, 1.5082, 1.5075, 1.5074, 1.5071, 1.5067, 1.5057, 1.5057, 1.5055, 1.5005, 1.4657, 1.4958, 1.4792, 1.4731, 1.3842, 1.4836, 1.3175, 1.3908, 1.3746, 1.2491, 1.2606, 1.2999, 0.9561, 0.4512, 1.0748, 1.098, 0.5238, 0.9561, 0.5318, 0.6434, 1.0622, 0.8055, 0.6444, 0.6597, 0.5473, 0.1276, 0.7093, 0.8791, 0.446, 0.8026, 0.2475, -1.1219, 0.448, -0.0284, 2.6175, 2.6174, 2.6162, 2.6143, 2.6132, 2.6129, 2.6123, 2.6078, 2.607, 2.6069, 2.6066, 2.606, 2.6051, 2.6044, 2.603, 2.6027, 2.601, 2.6009, 2.6005, 2.5996, 2.5872, 2.5513, 2.5947, 2.5711, 2.5396, 2.512, 2.5749, 2.4634, 2.4698, 2.2444, 2.494, 2.3019, 2.5066, 2.3075, 2.1216, 2.0136, 1.3988, 2.1474, 1.5299, 1.7512, 0.5927, 0.6481, 2.9101, 2.901, 2.8969, 2.8889, 2.8775, 2.8725, 2.8705, 2.8584, 2.8494, 2.8487, 2.8459, 2.8443, 2.8425, 2.842, 2.8411, 2.8408, 2.8389, 2.8346, 2.8325, 2.8268, 2.8264, 2.8227, 2.7907, 2.8226, 2.8108, 2.8037, 2.75, 2.6857, 2.719, 2.5199, 2.7918, 2.6567, 2.2539, 2.3652, 2.1232, 2.0613, 2.3703, 1.9201, 1.9405, 2.3032, 2.3188, 2.191, 1.6672, 2.2885, 1.4958, 1.8555, 0.4717, 1.5539, 1.6745, 0.8474, 0.9455, -0.968, 0.4134, 3.3096, 3.3085, 3.3084, 3.308, 3.3079, 3.3077, 3.3072, 3.3071, 3.3069, 3.3057, 3.3056, 3.305, 3.3039, 3.3026, 3.3024, 3.3024, 3.3006, 3.2993, 3.2975, 3.2965, 3.2874, 3.2914, 3.2705, 3.2782, 3.2828, 3.1982, 3.258, 3.0209, 2.6515, 2.936, 2.7, 2.7994, 2.4717, 1.1739, 1.3627, 0.2303, 1.6443, 7.5104, 6.699, 6.2277, 5.9256, 4.9729, 3.8271, 3.7304, 3.6824, 3.2228, 3.2033, 2.8983, 2.8707, 2.791, 2.7398, 2.7373, 2.6944, 2.6944, 2.6899, 2.6279, 2.6188, 2.3803, 2.2252, 0.8106, 1.4176, 1.9364, 2.1927, 1.9164, 1.6117, 1.2912, 1.2569]}, \"token.table\": {\"Topic\": [1, 3, 1, 6, 1, 5, 3, 1, 2, 3, 6, 1, 2, 3, 6, 6, 1, 2, 3, 4, 1, 3, 4, 1, 2, 3, 4, 7, 3, 3, 1, 2, 3, 4, 1, 5, 4, 1, 2, 3, 4, 5, 4, 1, 4, 5, 4, 3, 1, 6, 1, 2, 3, 4, 1, 2, 5, 7, 1, 2, 1, 2, 3, 2, 1, 6, 3, 3, 1, 2, 3, 1, 2, 3, 4, 6, 1, 2, 3, 4, 4, 4, 4, 2, 4, 3, 2, 2, 2, 5, 1, 2, 3, 5, 5, 2, 3, 3, 3, 5, 1, 2, 3, 4, 5, 6, 1, 1, 2, 3, 5, 1, 3, 5, 2, 3, 4, 1, 2, 3, 4, 1, 1, 2, 3, 4, 5, 5, 1, 2, 3, 6, 3, 7, 1, 3, 6, 1, 2, 3, 4, 5, 6, 1, 2, 1, 7, 1, 2, 3, 7, 1, 2, 3, 1, 2, 2, 3, 4, 5, 1, 2, 3, 7, 1, 2, 3, 4, 1, 2, 3, 1, 2, 3, 3, 1, 2, 3, 4, 5, 1, 2, 3, 4, 5, 4, 2, 5, 1, 2, 6, 1, 2, 3, 4, 5, 2, 2, 3, 6, 1, 1, 2, 3, 6, 2, 4, 2, 5, 2, 2, 2, 5, 5, 1, 2, 3, 5, 1, 2, 3, 6, 1, 2, 3, 4, 5, 1, 2, 3, 4, 6, 7, 1, 2, 3, 5, 1, 1, 2, 3, 2, 2, 3, 1, 2, 3, 4, 5, 6, 1, 1, 2, 3, 5, 6, 1, 2, 3, 5, 6, 1, 2, 3, 5, 5, 2, 5, 1, 2, 3, 4, 3, 1, 2, 3, 4, 5, 1, 2, 4, 5, 1, 2, 3, 4, 6, 1, 2, 3, 6, 7, 2, 1, 2, 3, 4, 5, 6, 3, 1, 2, 3, 4, 5, 1, 2, 3, 4, 5, 6, 2, 5, 1, 2, 3, 4, 5, 7, 3, 4, 5, 4, 2, 4, 2, 3, 4, 3, 3, 1, 2, 3, 1, 1, 1, 1, 2, 3, 5, 3, 1, 2, 3, 4, 5, 1, 2, 6, 1, 2, 3, 4, 5, 1, 2, 3, 5, 6, 1, 2, 3, 4, 5, 6, 4, 1, 2, 3, 4, 1, 4, 3, 2, 1, 3, 1, 2, 3, 2, 1, 2, 3, 4, 5, 1, 2, 3, 6, 3, 1, 2, 3, 4, 2, 3, 2, 5, 1, 2, 3, 4, 5, 1, 6, 6, 6, 2, 3, 1, 2, 3, 4, 1, 2, 3, 4, 1, 2, 3, 4, 5, 6, 2, 2, 1, 2, 3, 6, 6, 6, 1, 6, 1, 1, 1, 2, 3, 4, 5, 6, 1, 3, 6, 1, 2, 3, 5, 1, 3, 6, 6, 5, 4, 2, 6, 6, 1, 1, 2, 5, 1, 2, 3, 4, 1, 2, 3, 4, 5, 6, 6, 6, 1, 2, 3, 5, 6, 1, 2, 3, 4, 5, 1, 6, 2, 4, 1, 5, 5, 5, 1, 2, 3, 1, 2, 3, 4, 5, 4, 4, 3, 5, 2, 3, 4, 1, 2, 3, 4, 5, 1, 2, 5, 2, 3, 2, 3, 1, 2, 2, 3, 1, 2, 1, 2, 3, 4, 6, 1, 1, 2, 3, 6, 1, 4, 4, 1, 7, 1, 2, 3, 5, 1, 2, 3, 1, 2, 3, 1, 2, 3, 4, 5, 6, 1, 2, 3, 1, 2, 4, 6, 1, 2, 3, 4, 3, 1, 2, 3, 3, 1, 2, 4, 5, 4, 5, 2, 3, 5, 2, 1, 2, 3, 5, 5, 6, 5, 3, 1, 2, 3, 4, 5, 4, 6, 1, 2, 3, 6, 1, 2, 3, 4, 1, 2, 3, 4, 2, 1, 2, 3, 4, 6, 1, 2, 3, 4, 6, 1, 2, 3, 5, 1, 2, 3, 5, 6, 4, 2, 1, 2, 3, 4, 6, 1, 2, 3, 4, 5, 6, 1, 2, 6, 1, 2, 1, 2, 3, 5, 2, 3, 1, 2, 3, 5, 1, 2, 3, 4, 7, 1, 2, 5, 5, 1, 2, 6, 1, 2, 3, 4, 6, 2, 5, 6, 1, 3, 3, 1, 3, 5, 1, 2, 3, 1, 2, 3, 1, 2, 3, 4, 5, 6, 6, 2, 3, 3, 3, 3, 1, 2, 3, 6, 5, 2, 1, 4], \"Freq\": [0.9947561843122246, 0.9935241028690638, 0.9980264224413461, 0.9907465245720485, 0.21721561947874082, 0.7674951888248842, 0.7806249434950612, 0.22350706240863377, 0.07152225997076281, 0.017880564992690702, 0.6854216580531436, 0.04654324642905815, 0.07665946470668401, 0.8761081680763887, 0.9911877596020419, 0.9893511203978278, 0.21244233805237567, 0.11766037184439267, 0.04248846761047513, 0.62425363950775, 0.009881277836597594, 0.02964383350979278, 0.9584839501499666, 0.5213235089254311, 0.30492507125827106, 0.09836292621234549, 0.0590177557274073, 0.00983629262123455, 0.7838817313318361, 0.8185453497634506, 0.8803794224847815, 0.054708778502733764, 0.03599261743600906, 0.028794093948807244, 0.996916717299226, 0.9617546426288268, 0.9825931596837386, 0.3388352885378701, 0.026838438696068917, 0.040257658044103375, 0.4193506046260768, 0.17277244910594364, 0.9912872025938122, 0.5173241856580074, 0.335982589395093, 0.14574079208859994, 0.9861097156124109, 0.9970313707837571, 0.029666948732090824, 0.9662949015595297, 0.1645548056833333, 0.5406800758166665, 0.047015658766666656, 0.21157046444999997, 0.06167810903793147, 0.06167810903793147, 0.6630396721577634, 0.21587338163276015, 0.3438458205182643, 0.5730763675304404, 0.9111544554276848, 0.03270810865637843, 0.05373474993547885, 0.9937366743851157, 0.9973489024854177, 0.9791880854399988, 0.9931960386226902, 0.9856348093860822, 0.959037144243226, 0.017543362394693156, 0.020467256127142015, 0.06436722757645218, 0.14628915358284586, 0.6339196655256654, 0.13848706539176076, 0.015604176382170225, 0.009984537304591052, 0.03126736682227198, 0.024698592279777862, 0.9343424909243626, 0.9736564363406746, 0.9892513998034118, 0.9963689022164748, 0.013603969054110501, 0.9794857718959561, 0.7839883915756245, 0.9995565693355656, 0.9955885757346927, 0.9981464735795692, 0.9791415120835536, 0.03329029769856932, 0.03329029769856932, 0.09987089309570794, 0.8156122936149482, 0.9730360129163225, 0.8033416792048904, 0.1960572939272104, 0.6408584369460996, 0.07319599181265637, 0.9149498976582048, 0.2563551207405339, 0.06552897749266456, 0.05688779364747803, 0.006480887883889902, 0.09793341691211407, 0.5163107347498955, 0.9960854504789955, 0.10523843231433637, 0.0867755494521721, 0.13477904489379922, 0.6720489361827796, 0.5467863154880596, 0.0006143666466157972, 0.45217385190922676, 0.0990360598702688, 0.014148008552895542, 0.8842505345559714, 0.912401238664809, 0.03317822686053851, 0.03594307909891672, 0.01797153954945836, 0.9942328419338021, 0.14686151766760377, 0.10708652329929441, 0.1499211326190122, 0.018357689708450472, 0.5782672258161898, 0.9086527606206833, 0.3918094851729182, 0.0289039784143956, 0.03693286130728327, 0.5427524835592064, 0.7413153183931527, 0.18532882959828817, 0.008720161785870031, 0.09882850023986035, 0.8923632227540331, 0.4184468387638071, 0.18886176079607656, 0.21305967389807387, 0.0873485643681854, 0.008262702034828349, 0.08380740635325896, 0.4639855060232966, 0.4639855060232966, 0.38908911230143645, 0.518785483068582, 0.06458737619062015, 0.6458737619062015, 0.19376212857186045, 0.06458737619062015, 0.10523091700925132, 0.02630772925231283, 0.8681550653263232, 0.9921946977610078, 0.005768573824191906, 0.05352946912702457, 0.04639220657675462, 0.34972586496322716, 0.5495692163707856, 0.2342886371051754, 0.5001161292052783, 0.2613219413865418, 0.004505550713561066, 0.18628636969230056, 0.13306169263735754, 0.5278113807948516, 0.15228171490719808, 0.9803904438202431, 0.014894224794409413, 0.004380654351296886, 0.9751196679399214, 0.014132169100578571, 0.007066084550289286, 0.9931056043653252, 0.02673800678998566, 0.7152416816321163, 0.10026752546244622, 0.10026752546244622, 0.060160515277467734, 0.14796714606233535, 0.3114282341207268, 0.37030521370573977, 0.08831546937751954, 0.0817305440291957, 0.9882114857365208, 0.027630080500870444, 0.9670528175304656, 0.012827021695540862, 0.009620266271655646, 0.9748536488611055, 0.14808254534498577, 0.1172320150647804, 0.1650503369990987, 0.546054385959635, 0.023137897710154027, 0.9976364608095821, 0.9977763706486026, 0.9935594452166245, 0.9936139718653832, 0.9923777877524557, 0.33638583884646583, 0.025440945795110862, 0.039574804570172456, 0.5992756120626114, 0.0034490099867760223, 0.9933148761914944, 0.02727701363734632, 0.9546954773071212, 0.9971714900817986, 0.9964785928236671, 0.07255193337817203, 0.9068991672271505, 0.9471817491852703, 0.01735738818008284, 0.18442224941338017, 0.763725079923645, 0.03471477636016568, 0.009766899102899393, 0.9701786442213397, 0.009766899102899393, 0.0065112660685995956, 0.03267015465408648, 0.4731122396202893, 0.2238510596668888, 0.015730074463078673, 0.2553112085930462, 0.3786030763504878, 0.23166647164789053, 0.35715247712383125, 0.0160879494199924, 0.015015419458659572, 0.0010725299613328265, 0.8900041259738536, 0.042123981690510064, 0.024842348176454653, 0.042123981690510064, 0.9940386713940638, 0.06479546315667097, 0.2759032624735667, 0.6563153364901512, 0.9949126217942582, 0.9960050404832835, 0.9917012199336801, 0.46939640791757015, 0.00161489589879898, 0.0021531945317319733, 0.028529827545448645, 0.4252559200170647, 0.07374691271182009, 0.9956558719155345, 0.4303169697520254, 0.49582550265154096, 0.007409139779228531, 0.020540189486970183, 0.0458486372477013, 0.2414377000785246, 0.6625756061515675, 0.0033073657545003373, 0.0440982100600045, 0.048508031066004945, 0.5250097042126685, 0.10902757435726343, 0.01845082027584458, 0.34553354334763486, 0.9242361076204624, 0.04978226301524449, 0.8960807342744009, 0.21093030027840398, 0.2495319238587655, 0.4894134418224406, 0.04963065888903623, 0.98913750484711, 0.4141702986743974, 0.1679660260145839, 0.09793458845801471, 0.07823824664522963, 0.24128018720661726, 0.0035140144862964985, 0.010542043458889495, 0.9241858098959791, 0.059738246267040475, 0.688225176500085, 0.10253467640859053, 0.15224845890972533, 0.008544556367382545, 0.04893700464955457, 0.3654099617001147, 0.40195095787012614, 0.09744265645336392, 0.1218033205667049, 0.01218033205667049, 0.9957169914166798, 0.18908505955584115, 0.1290227465204563, 0.49050888978897617, 0.03336795168632491, 0.09343026472170975, 0.06339910820401733, 0.8635196126046996, 0.11910886213805104, 0.3562134194782835, 0.4452667743478544, 0.04452667743478544, 0.034508175011958714, 0.06580400106956917, 0.13481795341082464, 0.3530946398854931, 0.13963288031835408, 0.2888956144517671, 0.017654731994274656, 0.8608015296289662, 0.8985453111851318, 0.04176798168723841, 0.3619891746227329, 0.24364655984222405, 0.13226527534292162, 0.20883990843619205, 0.006961330281206402, 0.0247768998525712, 0.9693962067318482, 0.0061942249631428, 0.9879192965431849, 0.015976356770701, 0.9825459413981115, 0.22449227108876657, 0.7729677061351848, 0.9748141692723752, 0.9876647346554257, 0.9951890075864768, 0.0016197013797684492, 0.923229786468016, 0.0728865620895802, 0.9922422363748783, 0.995460899600571, 0.9905461639650196, 0.46139146831381866, 0.007626305261385432, 0.016205898680444045, 0.5157288933011899, 0.9896178784616478, 0.1397250681680995, 0.6146649859771551, 0.09523861148677633, 0.010651686811021037, 0.1390984983556865, 0.007895893411527436, 0.007895893411527436, 0.9790907830294021, 0.5671907800635034, 0.13118698314393956, 0.16745632554255815, 0.11498153228498233, 0.019292203403520527, 0.3445309603835499, 0.0977722995683047, 0.02327911894483445, 0.5354197357311924, 0.9985274557718563, 0.25217812783511306, 0.3137565078878732, 0.280768090002466, 0.05424762052266967, 0.074040671253914, 0.024924582402307684, 0.9884065782738433, 0.31406897304298337, 0.3847778716700639, 0.2489994344291056, 0.05205563089110222, 0.04552496461451526, 0.9560242569048205, 0.9928612218748055, 0.9978752280911828, 0.99163853768168, 0.9953148529895866, 0.0018376631342045095, 0.995400864360776, 0.0024502175122726793, 0.9947732799699803, 0.08384639851973094, 0.11609501333501207, 0.13329427456982867, 0.6084238661816374, 0.058047506667506035, 0.026426232703780396, 0.010470771448667704, 0.9493499446792052, 0.013462420434001334, 0.9888485521745878, 0.412184705032371, 0.24015128720000176, 0.34427139383100763, 0.0034774888265758346, 0.12386839453164651, 0.8670787617215255, 0.07991682919529668, 0.9190435357459118, 0.342045806548917, 0.11783396206469866, 0.3788689196941353, 0.12519858469374234, 0.03600482174199126, 0.023180594162254764, 0.9735849548147001, 0.9975636724723129, 0.9843633162151275, 0.7446361864622851, 0.2536672723113279, 0.005247436305660665, 0.8626785286506133, 0.13118590764151664, 0.9799196657746109, 0.009168115613540077, 0.08709709832863073, 0.8801390988998474, 0.022920289033850193, 0.33429292629657303, 0.13468413352857797, 0.4171754700064672, 0.024174075248719125, 0.059399156325424134, 0.030390266026961186, 0.9997552344842424, 0.9978216620139696, 0.12057431078780996, 0.048803887699827846, 0.08181828232029963, 0.7478478085767737, 0.9955360542576835, 0.9919842907906231, 0.050309742625245575, 0.9486980037903451, 0.9920189492887086, 0.9920189492887086, 0.48765871686204576, 0.1578698044731566, 0.05656693228195073, 0.13938387889081977, 0.016267614512456417, 0.14234162698399366, 0.9129465204934513, 0.007121267710557343, 0.07975819835824223, 0.9622703864019975, 0.016648276581349437, 0.016648276581349437, 0.8782037174399895, 0.9856903877482214, 0.008534115911240012, 0.9890191064567188, 0.9930769590976297, 0.9549045630267163, 0.9914840331985519, 0.03885253434274885, 0.9602126344707931, 0.9937141225079609, 0.9965333828464343, 0.17521916188950484, 0.018444122304158404, 0.7930972590788113, 0.16391056971759785, 0.22537703336169704, 0.5702721904758092, 0.04097764242939946, 0.2848958689510084, 0.2606671880138259, 0.34254342014637373, 0.044280003092092214, 0.05931849470827447, 0.008354717564545701, 0.991853996982935, 0.9939273237035468, 0.5628582920128163, 0.3161954156212665, 0.02588437591763177, 0.04466323687748227, 0.04973860470446889, 0.43196317751958907, 0.059934502704011995, 0.007452995154903047, 0.13166958106995383, 0.3689232601677008, 0.9323419281520196, 0.06557756681191575, 0.9974686853315645, 0.0020802266638823034, 0.1155474349283593, 0.8818093718216894, 0.9951605738870009, 0.9663102340983685, 0.9859120975130004, 0.0016514440494355116, 0.011560108346048582, 0.19278243031491665, 0.07497094512246759, 0.018742736280616897, 0.6872336636226195, 0.026775337543738426, 0.9976899149867737, 0.9950269444798551, 0.06301713433877654, 0.9242513036353892, 0.0771049966295245, 0.19409188806742375, 0.7285092784996453, 0.230711646383625, 0.2064262099221908, 0.053427960215155265, 0.026713980107577633, 0.4832801855825408, 0.11782337508593083, 0.019637229180988473, 0.8444008547825043, 0.015072790096432937, 0.9797313562681409, 0.013467840812692821, 0.9764184589202296, 0.9979142601878331, 0.0010287775878225084, 0.9854972662112507, 0.012527507621329457, 0.9895383312703455, 0.005622376882217872, 0.2931167106841247, 0.24426392557010393, 0.4172508367935218, 0.024826825221879414, 0.02002163324345114, 0.9972483338368433, 0.7008422423909153, 0.23361408079697177, 0.9931952154480979, 0.9952498477779289, 0.14335558739362694, 0.8548888077497997, 0.9925364530045458, 0.7626725695672384, 0.12711209492787306, 0.5696217974133301, 0.06039363635225668, 0.08304124998435294, 0.2868697726732192, 0.17555236824989962, 0.020256042490373032, 0.8034896854514636, 0.027083769899981118, 0.009027923299993705, 0.962978485332662, 0.7363517629153333, 0.03040738306681622, 0.021367350263168154, 0.0686220671913285, 0.12614954866908892, 0.017258244443328127, 0.9640660238974076, 0.021699235264571876, 0.012399563008326784, 0.03359533632658808, 0.07558950673482319, 0.8902764126545841, 0.9952707156922861, 0.01764218202081409, 0.03276405232436902, 0.05040623434518311, 0.8972309713442593, 0.995430049848735, 0.04007493744949922, 0.9511118488014482, 0.008014987489899844, 0.8205838458048236, 0.07235064472730136, 0.05426298354547602, 0.3307458044676634, 0.5400458838573566, 0.9922361272312042, 0.9363902468860347, 0.9582037909719243, 0.036179319338756864, 0.004385372041061438, 0.9990821112409384, 0.03871734601058234, 0.5275238393941843, 0.34361644584391826, 0.0909857631248685, 0.9707725616137701, 0.9780861380058099, 0.9379318503670828, 0.7270608660454514, 0.2901191427686379, 0.004035660409455551, 0.03407891012429132, 0.2950516166024169, 0.3766616382158514, 0.9970807140589512, 0.9926827360681645, 0.7713722542559357, 0.015018930184110898, 0.024631045501941874, 0.18863776311243288, 0.14143525735997306, 0.043216328637769544, 0.08250390012665094, 0.7307488296931941, 0.21576900407004845, 0.6868213358470698, 0.05875156014437464, 0.03795454770388804, 0.9981961253270353, 0.29223787912225085, 0.2869506806512891, 0.3729878194060307, 0.030281227606417445, 0.01730355863223854, 0.02003794947313453, 0.9351043087462781, 0.038167522805970536, 0.003816752280597054, 0.0028625642104477904, 0.34840020239365055, 0.0037262053731941234, 0.6427704268759863, 0.0037262053731941234, 0.69265004401656, 0.03133572300923175, 0.07132141122413685, 0.08666285894740655, 0.11783537506596523, 0.9892124170331393, 0.9955886355445234, 0.31164523073524425, 0.21806811051447383, 0.4244390810013514, 0.031749380074904236, 0.01420367003350979, 0.19598222264605356, 0.13349513716470315, 0.570904735534156, 0.0440249920436787, 0.03834434790901048, 0.018462093437671714, 0.42935850578344786, 0.2576151034700687, 0.3434868046267583, 0.9951843632369154, 0.003085842986781133, 0.16982827542034817, 0.1278953679091511, 0.12579872253359123, 0.5765774782789599, 0.24456889163968595, 0.4891377832793719, 0.3320503337489746, 0.10742804915408001, 0.03906474514693818, 0.5176078731969309, 0.3104878918991619, 0.2235512821673966, 0.3104878918991619, 0.14903418811159774, 0.012419515675966478, 0.9903988832769108, 0.08211347797425975, 0.8621915187297273, 0.9245812166758139, 0.18122787597872286, 0.7249115039148915, 0.12081858398581524, 0.0028204113738386403, 0.8870193770722524, 0.08884295827591718, 0.019742879616870483, 0.0028204113738386403, 0.03671023136060789, 0.8810455526545893, 0.03671023136060789, 0.03717468494672849, 0.9559204700587326, 0.9882763668384805, 0.9855262991386677, 0.010909885230317355, 0.9163977643360806, 0.09406038783638505, 0.731702319331879, 0.17390234495331655, 0.10142303825684416, 0.07668571185273583, 0.8188055039759858, 0.06821368735561882, 0.14617218719061176, 0.10232053103342824, 0.23549963491820786, 0.016241354132290196, 0.43202001991891925, 0.9937920753686454, 0.02560995659219958, 0.9646416983061842, 0.9962096357394992, 0.9944276915667098, 0.9965566916583436, 0.8480534443660006, 0.0011158597952184218, 0.004463439180873687, 0.14617763317361326, 0.9660149441228124, 0.9984907779376085, 0.13613266932274268, 0.8610391334663475], \"Term\": [\"aaron\", \"afterbuzz\", \"alabama\", \"albany\", \"analytic\", \"analytic\", \"anatomy\", \"andrew\", \"andrew\", \"andrew\", \"andrew\", \"anyways\", \"anyways\", \"anyways\", \"appleton\", \"appleton_city\", \"article\", \"article\", \"article\", \"article\", \"auction\", \"auction\", \"auction\", \"award\", \"award\", \"award\", \"award\", \"award\", \"backslash_fight\", \"badd\", \"ball\", \"ball\", \"ball\", \"ball\", \"baltimore\", \"barn\", \"base_card\", \"baseball\", \"baseball\", \"baseball\", \"baseball\", \"baseball\", \"baseball_card\", \"basketball\", \"basketball\", \"basketball\", \"beckett\", \"becky\", \"berg\", \"berg\", \"blind\", \"blind\", \"blind\", \"blind\", \"blog\", \"blog\", \"blog\", \"blog\", \"boundary\", \"boundary\", \"bowl\", \"bowl\", \"bowl\", \"bowser\", \"brady\", \"braemar\", \"brock\", \"brock_lesnar\", \"brown\", \"brown\", \"brown\", \"business\", \"business\", \"business\", \"business\", \"business\", \"card\", \"card\", \"card\", \"card\", \"card_ebay\", \"card_investor\", \"card_price\", \"cards\", \"cards\", \"carson_kick\", \"cartridge\", \"cartridge_society\", \"castlevania\", \"champion_league\", \"champions\", \"champions\", \"champions\", \"champions\", \"champions_league\", \"character\", \"character\", \"chase_muay\", \"chelsea\", \"chelsea\", \"city\", \"city\", \"city\", \"city\", \"city\", \"city\", \"clemson\", \"club\", \"club\", \"club\", \"club\", \"coach\", \"coach\", \"coach\", \"collector\", \"collector\", \"collector\", \"college\", \"college\", \"college\", \"college\", \"college_football\", \"community\", \"community\", \"community\", \"community\", \"community\", \"concentrate\", \"conference\", \"conference\", \"conference\", \"conference\", \"countless\", \"countless\", \"county\", \"county\", \"county\", \"couple\", \"couple\", \"couple\", \"couple\", \"couple\", \"couple\", \"creek\", \"creek\", \"cricket\", \"cricket\", \"criterion\", \"criterion\", \"criterion\", \"criterion\", \"crowd\", \"crowd\", \"crowd\", \"dame\", \"dame\", \"datum\", \"datum\", \"datum\", \"datum\", \"dead\", \"dead\", \"dead\", \"dead\", \"deal\", \"deal\", \"deal\", \"deal\", \"defense\", \"defense\", \"defense\", \"defensive\", \"defensive\", \"defensive\", \"denise\", \"design\", \"design\", \"design\", \"design\", \"design\", \"different\", \"different\", \"different\", \"different\", \"different\", \"discord_server\", \"distribution\", \"distribution\", \"district\", \"district\", \"district\", \"dollar\", \"dollar\", \"dollar\", \"dollar\", \"dollar\", \"donkey\", \"donkey_kong\", \"download_afterbuzz\", \"drexel\", \"durant\", \"east\", \"east\", \"east\", \"east\", \"ebay\", \"ebay\", \"education\", \"education\", \"ehler\", \"emblem\", \"esport\", \"esport\", \"evaluation\", \"event\", \"event\", \"event\", \"event\", \"evil\", \"evil\", \"evil\", \"evil\", \"experience\", \"experience\", \"experience\", \"experience\", \"experience\", \"favorite\", \"favorite\", \"favorite\", \"favorite\", \"favorite\", \"favorite\", \"field\", \"field\", \"field\", \"field\", \"field_goal\", \"fight\", \"fight\", \"fight\", \"final_fantasy\", \"fire_emblem\", \"flair\", \"football\", \"football\", \"football\", \"football\", \"football\", \"football\", \"freshman\", \"game\", \"game\", \"game\", \"game\", \"game\", \"games\", \"games\", \"games\", \"games\", \"games\", \"goal\", \"goal\", \"goal\", \"goal\", \"goal_goal\", \"golfer\", \"golfer\", \"happy\", \"happy\", \"happy\", \"happy\", \"hart\", \"high\", \"high\", \"high\", \"high\", \"high\", \"hobby\", \"hobby\", \"hobby\", \"hobby\", \"home\", \"home\", \"home\", \"home\", \"home\", \"horse\", \"horse\", \"horse\", \"horse\", \"horse\", \"host_mitchell\", \"huge\", \"huge\", \"huge\", \"huge\", \"huge\", \"huge\", \"icon_cent\", \"idea\", \"idea\", \"idea\", \"idea\", \"idea\", \"important\", \"important\", \"important\", \"important\", \"important\", \"important\", \"install\", \"institution\", \"interest\", \"interest\", \"interest\", \"interest\", \"interest\", \"interest\", \"investment\", \"investment\", \"investment\", \"investment_standpoint\", \"investor\", \"investor\", \"japan\", \"japan\", \"jeff_wilson\", \"jericho\", \"kane\", \"kong\", \"kong\", \"kong\", \"laker\", \"lamar\", \"lamar_jackson\", \"league\", \"league\", \"league\", \"league\", \"lesnar\", \"level\", \"level\", \"level\", \"level\", \"level\", \"liberal\", \"liberal\", \"liberal\", \"line\", \"line\", \"line\", \"line\", \"line\", \"lineup\", \"lineup\", \"lineup\", \"lineup\", \"livingston\", \"long\", \"long\", \"long\", \"long\", \"long\", \"long\", \"lonzo_ball\", \"love\", \"love\", \"love\", \"love\", \"luca\", \"luca\", \"lucha\", \"luigi\", \"mahome\", \"main_event\", \"mario\", \"mario\", \"mario\", \"mario_kart\", \"market\", \"market\", \"market\", \"market\", \"market\", \"match\", \"match\", \"match\", \"match\", \"match_match\", \"mean\", \"mean\", \"mean\", \"mean\", \"mental_health\", \"mental_health\", \"metric\", \"metric\", \"money\", \"money\", \"money\", \"money\", \"money\", \"mound\", \"mound\", \"mound_city\", \"mountain_city\", \"movie\", \"movie\", \"music\", \"music\", \"music\", \"national_treasure\", \"network\", \"network\", \"network\", \"network\", \"night\", \"night\", \"night\", \"night\", \"night\", \"night\", \"nintendo\", \"nintendo_cartridge\", \"north\", \"north\", \"north\", \"north\", \"north_andrew\", \"north_shelby\", \"northwest\", \"northwest\", \"notre\", \"notre_dame\", \"number\", \"number\", \"number\", \"number\", \"number\", \"number\", \"offense\", \"offense\", \"offense\", \"offensive\", \"offensive\", \"offensive\", \"oftentime\", \"oklahoma\", \"oklahoma\", \"orac\", \"osceola\", \"output\", \"panini\", \"patent\", \"patent\", \"patent_berg\", \"patriot\", \"penalty\", \"penalty\", \"penalty\", \"person\", \"person\", \"person\", \"person\", \"place\", \"place\", \"place\", \"place\", \"place\", \"place\", \"platte\", \"platte_valley\", \"play\", \"play\", \"play\", \"play\", \"play\", \"player\", \"player\", \"player\", \"player\", \"player\", \"playoff\", \"playoff\", \"pokemon\", \"pokemon\", \"premier\", \"premier\", \"premier_league\", \"premiership\", \"prep\", \"prep\", \"prep\", \"price\", \"price\", \"price\", \"price\", \"price\", \"prism\", \"prism_silver\", \"probability\", \"probability\", \"product\", \"product\", \"product\", \"program\", \"program\", \"program\", \"program\", \"program\", \"projection\", \"projection\", \"projection\", \"promo\", \"promo\", \"promotion\", \"promotion\", \"quarterback\", \"quarterback\", \"quest\", \"quest\", \"raptor\", \"raptor\", \"real\", \"real\", \"real\", \"real\", \"real\", \"receiver\", \"reflect\", \"reflect\", \"rhonda\", \"rockport\", \"rookie\", \"rookie\", \"rookie_card\", \"rugby\", \"rugby\", \"school\", \"school\", \"school\", \"school\", \"scott\", \"scott\", \"scott\", \"sean\", \"sean\", \"sean\", \"season\", \"season\", \"season\", \"season\", \"season\", \"season\", \"senior\", \"senior\", \"senior\", \"server\", \"server\", \"server\", \"shelby\", \"silver\", \"silver\", \"silver\", \"silver\", \"smackdown\", \"smash\", \"smash\", \"smash\", \"snapchat\", \"soccer\", \"soccer\", \"soccer\", \"soccer\", \"soccer_card\", \"soccer_soccer\", \"society\", \"society\", \"society\", \"sonic\", \"sort\", \"sort\", \"sort\", \"sort\", \"south_dakota\", \"southwest_livingston\", \"spain\", \"spar\", \"sport\", \"sport\", \"sport\", \"sport\", \"sport\", \"sport_card\", \"stanbury\", \"state\", \"state\", \"state\", \"state\", \"stock\", \"stock\", \"stock\", \"stock\", \"super\", \"super\", \"super\", \"super\", \"super_mario\", \"sure\", \"sure\", \"sure\", \"sure\", \"sure\", \"switch\", \"switch\", \"switch\", \"switch\", \"switch\", \"talent\", \"talent\", \"talent\", \"talent\", \"team\", \"team\", \"team\", \"team\", \"team\", \"tech_company\", \"tetris\", \"thank\", \"thank\", \"thank\", \"thank\", \"thank\", \"thought\", \"thought\", \"thought\", \"thought\", \"thought\", \"thought\", \"tiebreaker\", \"tiebreaker\", \"tiebreaker\", \"touchdown\", \"touchdown\", \"tournament\", \"tournament\", \"tournament\", \"tournament\", \"train_train\", \"train_train\", \"transfer\", \"transfer\", \"transfer\", \"transfer\", \"unlike\", \"unlike\", \"unlike\", \"unlike\", \"unlike\", \"utah\", \"variable\", \"variable\", \"variance\", \"vegetable\", \"vegetable\", \"vegetable\", \"version\", \"version\", \"version\", \"version\", \"version\", \"villa\", \"villa\", \"villa\", \"vince\", \"vince\", \"waltman\", \"washington\", \"washington\", \"wealth\", \"weird\", \"weird\", \"weird\", \"woman\", \"woman\", \"woman\", \"worth\", \"worth\", \"worth\", \"worth\", \"worth\", \"worth\", \"worth_county\", \"wrestle\", \"wrestle\", \"wrestlemania\", \"wrestler\", \"xpac\", \"yard\", \"yard\", \"yard\", \"yard\", \"youngster\", \"zelda\", \"zion\", \"zion\"]}, \"R\": 20, \"lambda.step\": 0.01, \"plot.opts\": {\"xlab\": \"PC1\", \"ylab\": \"PC2\"}, \"topic.order\": [2, 1, 5, 7, 3, 4, 6]};\n",
       "\n",
       "function LDAvis_load_lib(url, callback){\n",
       "  var s = document.createElement('script');\n",
       "  s.src = url;\n",
       "  s.async = true;\n",
       "  s.onreadystatechange = s.onload = callback;\n",
       "  s.onerror = function(){console.warn(\"failed to load library \" + url);};\n",
       "  document.getElementsByTagName(\"head\")[0].appendChild(s);\n",
       "}\n",
       "\n",
       "if(typeof(LDAvis) !== \"undefined\"){\n",
       "   // already loaded: just create the visualization\n",
       "   !function(LDAvis){\n",
       "       new LDAvis(\"#\" + \"ldavis_el115422478882157010881265867908\", ldavis_el115422478882157010881265867908_data);\n",
       "   }(LDAvis);\n",
       "}else if(typeof define === \"function\" && define.amd){\n",
       "   // require.js is available: use it to load d3/LDAvis\n",
       "   require.config({paths: {d3: \"https://d3js.org/d3.v5\"}});\n",
       "   require([\"d3\"], function(d3){\n",
       "      window.d3 = d3;\n",
       "      LDAvis_load_lib(\"https://cdn.jsdelivr.net/gh/bmabey/pyLDAvis@3.3.1/pyLDAvis/js/ldavis.v3.0.0.js\", function(){\n",
       "        new LDAvis(\"#\" + \"ldavis_el115422478882157010881265867908\", ldavis_el115422478882157010881265867908_data);\n",
       "      });\n",
       "    });\n",
       "}else{\n",
       "    // require.js not available: dynamically load d3 & LDAvis\n",
       "    LDAvis_load_lib(\"https://d3js.org/d3.v5.js\", function(){\n",
       "         LDAvis_load_lib(\"https://cdn.jsdelivr.net/gh/bmabey/pyLDAvis@3.3.1/pyLDAvis/js/ldavis.v3.0.0.js\", function(){\n",
       "                 new LDAvis(\"#\" + \"ldavis_el115422478882157010881265867908\", ldavis_el115422478882157010881265867908_data);\n",
       "            })\n",
       "         });\n",
       "}\n",
       "</script>"
      ],
      "text/plain": [
       "PreparedData(topic_coordinates=              x         y  topics  cluster       Freq\n",
       "topic                                                \n",
       "1     -0.029510 -0.091493       1        1  33.423031\n",
       "0     -0.132049  0.086090       2        1  28.288889\n",
       "4      0.072957  0.153506       3        1  21.923350\n",
       "6      0.329735  0.057295       4        1   7.285020\n",
       "2      0.183351 -0.249251       5        1   5.409826\n",
       "3     -0.306753 -0.232901       6        1   3.642798\n",
       "5     -0.117732  0.276755       7        1   0.027086, topic_info=               Term          Freq         Total Category  logprob  loglift\n",
       "471            card   3805.000000   3805.000000  Default  20.0000  20.0000\n",
       "113            game  13631.000000  13631.000000  Default  19.0000  19.0000\n",
       "327            team   6127.000000   6127.000000  Default  18.0000  18.0000\n",
       "253          player   3220.000000   3220.000000  Default  17.0000  17.0000\n",
       "311           sport   2230.000000   2230.000000  Default  16.0000  16.0000\n",
       "...             ...           ...           ...      ...      ...      ...\n",
       "6322          creek      0.015690      6.465719   Topic7  -9.0769   2.1927\n",
       "3672        reflect      0.015760      8.561128   Topic7  -9.0724   1.9164\n",
       "5101     tiebreaker      0.015807     11.645280   Topic7  -9.0695   1.6117\n",
       "2698  mental_health      0.015906     16.146169   Topic7  -9.0632   1.2912\n",
       "6316      vegetable      0.015758     16.553745   Topic7  -9.0726   1.2569\n",
       "\n",
       "[331 rows x 6 columns], token_table=      Topic      Freq       Term\n",
       "term                            \n",
       "400       1  0.994756      aaron\n",
       "7213      3  0.993524  afterbuzz\n",
       "7         1  0.998026    alabama\n",
       "7060      6  0.990747     albany\n",
       "1915      1  0.217216   analytic\n",
       "...     ...       ...        ...\n",
       "395       6  0.146178       yard\n",
       "3628      5  0.966015  youngster\n",
       "5583      2  0.998491      zelda\n",
       "4057      1  0.136133       zion\n",
       "4057      4  0.861039       zion\n",
       "\n",
       "[708 rows x 3 columns], R=20, lambda_step=0.01, plot_opts={'xlab': 'PC1', 'ylab': 'PC2'}, topic_order=[2, 1, 5, 7, 3, 4, 6])"
      ]
     },
     "execution_count": 68,
     "metadata": {},
     "output_type": "execute_result"
    }
   ],
   "source": [
    "vis = pyLDAvis.gensim_models.prepare(lda_model,corpus,dictionary,mds=\"mmds\",R=20)\n",
    "pyLDAvis.save_html(vis,'sports_uci_npmi.html')\n",
    "vis"
   ]
  },
  {
   "cell_type": "code",
   "execution_count": 29,
   "metadata": {},
   "outputs": [],
   "source": [
    "# from pprint import pprint\n",
    "# pprint(top_topics)"
   ]
  },
  {
   "cell_type": "code",
   "execution_count": 54,
   "metadata": {},
   "outputs": [],
   "source": [
    "import pickle\n",
    "\n",
    "pickle.dump(lda_model,open('../model/sports_episodes_lda_model_umass.pkl','wb'))\n",
    "pickle.dump(dictionary,open('../model/sports_episodes_dictionary_umass.pkl','wb'))\n",
    "pickle.dump(corpus,open('../model/sports_episodes_corpus_umass.pkl','wb'))"
   ]
  },
  {
   "cell_type": "code",
   "execution_count": 4,
   "metadata": {},
   "outputs": [],
   "source": [
    "# import pickle\n",
    "\n",
    "# file = open('../model/sports_episodes_lda_model.pkl','rb')\n",
    "# lda_model = pickle.load(file)\n",
    "# file.close()\n",
    "\n",
    "# file = open('../model/sports_episodes_corpus.pkl','rb')\n",
    "# corpus = pickle.load(file)\n",
    "# file.close()\n",
    "\n",
    "# file = open('../model/sports_episodes_dictionary.pkl','rb')\n",
    "# dictionary = pickle.load(file)\n",
    "# file.close()"
   ]
  },
  {
   "cell_type": "code",
   "execution_count": 55,
   "metadata": {},
   "outputs": [],
   "source": [
    "def get_main_topic_df(model, bow, texts):\n",
    "    topic_list = []\n",
    "    percent_list = []\n",
    "    keyword_list = []\n",
    "    podcast_list = []\n",
    "    episode_list = []\n",
    "    duration_list = []\n",
    "    publisher_list = []\n",
    "    show_prefix_list = []\n",
    "    episode_prefix_list = []\n",
    "    descriptions_list = []\n",
    "    \n",
    "    for key,wc in zip(keys,bow):\n",
    "        show_prefix_list.append(key[0])\n",
    "        episode_prefix_list.append(key[1])\n",
    "        podcast_list.append(df[(df['show_filename_prefix'] == key[0])&(df['episode_filename_prefix'] == key[1])].show_name.iloc[0])\n",
    "        episode_list.append(df[(df['show_filename_prefix'] == key[0])&(df['episode_filename_prefix'] == key[1])].episode_name.iloc[0])\n",
    "        duration_list.append(df[(df['show_filename_prefix'] == key[0])&(df['episode_filename_prefix'] == key[1])].duration.iloc[0])\n",
    "        publisher_list.append(df[(df['show_filename_prefix'] == key[0])&(df['episode_filename_prefix'] == key[1])].publisher.iloc[0])\n",
    "        descriptions_list.append(df[(df['show_filename_prefix'] == key[0])&(df['episode_filename_prefix'] == key[1])].episode_description.iloc[0])\n",
    "        \n",
    "        \n",
    "        topic, percent = sorted(model.get_document_topics(wc), key=lambda x: x[1], reverse=True)[0]\n",
    "        topic_list.append(topic)\n",
    "        percent_list.append(round(percent, 3))\n",
    "        keyword_list.append(' '.join(sorted([x[0] for x in model.show_topic(topic)])))\n",
    "\n",
    "    result_df = pd.concat([pd.Series(show_prefix_list, name='show_filename_prefix'),\n",
    "                           pd.Series(episode_prefix_list, name='episode_filename_prefix'),\n",
    "                           pd.Series(podcast_list, name='Podcast_name'),\n",
    "                           pd.Series(episode_list, name='Episode_name'),\n",
    "                           pd.Series(topic_list, name='Dominant_topic'), \n",
    "                           pd.Series(percent_list, name='Percent'), \n",
    "                           pd.Series(texts, name='Processed_text'), \n",
    "                           pd.Series(keyword_list, name='Keywords'),\n",
    "                           pd.Series(duration_list, name='Duration of the episode'),\n",
    "                           pd.Series(publisher_list, name='Publisher of the show'),\n",
    "                           pd.Series(descriptions_list, name='Description of the episode')], axis=1)\n",
    "\n",
    "    return result_df"
   ]
  },
  {
   "cell_type": "code",
   "execution_count": 56,
   "metadata": {},
   "outputs": [],
   "source": [
    "# main_topic_df = pd.read_pickle('../model/sports_topics_main_df.pkl')\n",
    "main_topic_df = get_main_topic_df(lda_model,corpus,texts)\n",
    "main_topic_df.to_pickle('sports_topics_main_df_umass.pkl')"
   ]
  },
  {
   "cell_type": "code",
   "execution_count": 57,
   "metadata": {},
   "outputs": [
    {
     "data": {
      "text/html": [
       "<div>\n",
       "<style scoped>\n",
       "    .dataframe tbody tr th:only-of-type {\n",
       "        vertical-align: middle;\n",
       "    }\n",
       "\n",
       "    .dataframe tbody tr th {\n",
       "        vertical-align: top;\n",
       "    }\n",
       "\n",
       "    .dataframe thead th {\n",
       "        text-align: right;\n",
       "    }\n",
       "</style>\n",
       "<table border=\"1\" class=\"dataframe\">\n",
       "  <thead>\n",
       "    <tr style=\"text-align: right;\">\n",
       "      <th></th>\n",
       "      <th>show_filename_prefix</th>\n",
       "      <th>episode_filename_prefix</th>\n",
       "      <th>Podcast_name</th>\n",
       "      <th>Episode_name</th>\n",
       "      <th>Dominant_topic</th>\n",
       "      <th>Percent</th>\n",
       "      <th>Processed_text</th>\n",
       "      <th>Keywords</th>\n",
       "      <th>Duration of the episode</th>\n",
       "      <th>Publisher of the show</th>\n",
       "      <th>Description of the episode</th>\n",
       "    </tr>\n",
       "  </thead>\n",
       "  <tbody>\n",
       "    <tr>\n",
       "      <th>0</th>\n",
       "      <td>show_04nSDGOhSUfh3yg0Nqvub2</td>\n",
       "      <td>6R0r4pXmbZ2zcUdK3EBTg7</td>\n",
       "      <td>100% Sports</td>\n",
       "      <td>Episode 1: College football predictions, playo...</td>\n",
       "      <td>5</td>\n",
       "      <td>0.789</td>\n",
       "      <td>[lady, gentleman, afternoon, detroit, michigan...</td>\n",
       "      <td>defense football game league mean play player ...</td>\n",
       "      <td>42.0138</td>\n",
       "      <td>Ryan Glinski</td>\n",
       "      <td>My cousin and I talk about our favorites to wi...</td>\n",
       "    </tr>\n",
       "    <tr>\n",
       "      <th>1</th>\n",
       "      <td>show_6AWE4Ng9VEEaNKDAMda63k</td>\n",
       "      <td>6cSy8D9tqvT0KWXCujG5Fe</td>\n",
       "      <td>2 Dudes and a NES: A Nintendo Podcast</td>\n",
       "      <td>Gremlins 2: The New Batch</td>\n",
       "      <td>3</td>\n",
       "      <td>0.547</td>\n",
       "      <td>[nose, gamer, youtube, atari, game, game, prid...</td>\n",
       "      <td>character game level mario mean nintendo pokem...</td>\n",
       "      <td>84.98928333333333</td>\n",
       "      <td>Bit Brothers Network</td>\n",
       "      <td>What late night snack will the Dudes rate this...</td>\n",
       "    </tr>\n",
       "    <tr>\n",
       "      <th>2</th>\n",
       "      <td>show_63EPfkKiQTuAZFvGK8BgQY</td>\n",
       "      <td>3v2TS17vDgo1jIrvNfkuIv</td>\n",
       "      <td>605 Sports Under Review with Coach DeBeer</td>\n",
       "      <td>SDHSAA Executive Producer Dan Swartos</td>\n",
       "      <td>0</td>\n",
       "      <td>0.518</td>\n",
       "      <td>[thank, court, coach, tobira, radio, station, ...</td>\n",
       "      <td>basketball card coach game high number player ...</td>\n",
       "      <td>36.81785</td>\n",
       "      <td>Brad D DeBeer</td>\n",
       "      <td>Dr. Dan Swartos and I discuss a variety of top...</td>\n",
       "    </tr>\n",
       "  </tbody>\n",
       "</table>\n",
       "</div>"
      ],
      "text/plain": [
       "          show_filename_prefix episode_filename_prefix  \\\n",
       "0  show_04nSDGOhSUfh3yg0Nqvub2  6R0r4pXmbZ2zcUdK3EBTg7   \n",
       "1  show_6AWE4Ng9VEEaNKDAMda63k  6cSy8D9tqvT0KWXCujG5Fe   \n",
       "2  show_63EPfkKiQTuAZFvGK8BgQY  3v2TS17vDgo1jIrvNfkuIv   \n",
       "\n",
       "                                Podcast_name  \\\n",
       "0                               100% Sports    \n",
       "1      2 Dudes and a NES: A Nintendo Podcast   \n",
       "2  605 Sports Under Review with Coach DeBeer   \n",
       "\n",
       "                                        Episode_name  Dominant_topic  Percent  \\\n",
       "0  Episode 1: College football predictions, playo...               5    0.789   \n",
       "1                          Gremlins 2: The New Batch               3    0.547   \n",
       "2              SDHSAA Executive Producer Dan Swartos               0    0.518   \n",
       "\n",
       "                                      Processed_text  \\\n",
       "0  [lady, gentleman, afternoon, detroit, michigan...   \n",
       "1  [nose, gamer, youtube, atari, game, game, prid...   \n",
       "2  [thank, court, coach, tobira, radio, station, ...   \n",
       "\n",
       "                                            Keywords Duration of the episode  \\\n",
       "0  defense football game league mean play player ...                 42.0138   \n",
       "1  character game level mario mean nintendo pokem...       84.98928333333333   \n",
       "2  basketball card coach game high number player ...                36.81785   \n",
       "\n",
       "  Publisher of the show                         Description of the episode  \n",
       "0          Ryan Glinski  My cousin and I talk about our favorites to wi...  \n",
       "1  Bit Brothers Network  What late night snack will the Dudes rate this...  \n",
       "2         Brad D DeBeer  Dr. Dan Swartos and I discuss a variety of top...  "
      ]
     },
     "execution_count": 57,
     "metadata": {},
     "output_type": "execute_result"
    }
   ],
   "source": [
    "main_topic_df.head(3)"
   ]
  },
  {
   "cell_type": "code",
   "execution_count": 34,
   "metadata": {},
   "outputs": [
    {
     "data": {
      "image/png": "[encoded data removed]",
      "text/plain": [
       "<Figure size 720x576 with 1 Axes>"
      ]
     },
     "metadata": {},
     "output_type": "display_data"
    }
   ],
   "source": [
    "plt.figure(figsize=(10,8))\n",
    "grouped_topics = main_topic_df.groupby('Dominant_topic')\n",
    "grouped_topics.count()['Podcast_name'].\\\n",
    "    plot.bar(rot=0).\\\n",
    "    set(title='Dominant Topic Frequency in the {} podcast episodes'.format(len(texts)),\n",
    "        ylabel='Topic frequency'); "
   ]
  },
  {
   "cell_type": "code",
   "execution_count": 35,
   "metadata": {},
   "outputs": [
    {
     "data": {
      "text/html": [
       "<div>\n",
       "<style scoped>\n",
       "    .dataframe tbody tr th:only-of-type {\n",
       "        vertical-align: middle;\n",
       "    }\n",
       "\n",
       "    .dataframe tbody tr th {\n",
       "        vertical-align: top;\n",
       "    }\n",
       "\n",
       "    .dataframe thead th {\n",
       "        text-align: right;\n",
       "    }\n",
       "</style>\n",
       "<table border=\"1\" class=\"dataframe\">\n",
       "  <thead>\n",
       "    <tr style=\"text-align: right;\">\n",
       "      <th></th>\n",
       "      <th>Podcast_name</th>\n",
       "      <th>Episode_name</th>\n",
       "      <th>Dominant_topic</th>\n",
       "      <th>Percent</th>\n",
       "      <th>Processed_text</th>\n",
       "      <th>Keywords</th>\n",
       "      <th>Duration of the episode</th>\n",
       "      <th>Publisher of the show</th>\n",
       "      <th>Description of the episode</th>\n",
       "    </tr>\n",
       "  </thead>\n",
       "  <tbody>\n",
       "    <tr>\n",
       "      <th>74</th>\n",
       "      <td>MMA All Day</td>\n",
       "      <td>2019 we here dawg</td>\n",
       "      <td>0</td>\n",
       "      <td>0.856</td>\n",
       "      <td>[illuminati, button, mike, parrilla, swan, hap...</td>\n",
       "      <td>coach different fight fighter hand head level ...</td>\n",
       "      <td>72.63743333333333</td>\n",
       "      <td>MMA AllDay</td>\n",
       "      <td>This Style bender hype, this cyborg situation,...</td>\n",
       "    </tr>\n",
       "    <tr>\n",
       "      <th>304</th>\n",
       "      <td>Straight-Up Sports</td>\n",
       "      <td>Missouri 8-Man Recap</td>\n",
       "      <td>1</td>\n",
       "      <td>0.909</td>\n",
       "      <td>[straight, sport, missouri, football, number, ...</td>\n",
       "      <td>city conference county game livingston north n...</td>\n",
       "      <td>18.51675</td>\n",
       "      <td>Devin Lynn Albertson</td>\n",
       "      <td>Enjoy and share!</td>\n",
       "    </tr>\n",
       "    <tr>\n",
       "      <th>169</th>\n",
       "      <td>Nintendo Cartridge Society</td>\n",
       "      <td>Link’s Awakening Music (News from 10/1/19)</td>\n",
       "      <td>2</td>\n",
       "      <td>1.000</td>\n",
       "      <td>[nintendo, cartridge, society, game, brain, pa...</td>\n",
       "      <td>character game level mario mean nintendo pokem...</td>\n",
       "      <td>47.86831666666666</td>\n",
       "      <td>Campfire Media</td>\n",
       "      <td>Patrick and Mark listen to some of the work in...</td>\n",
       "    </tr>\n",
       "    <tr>\n",
       "      <th>416</th>\n",
       "      <td>X-Pac 12360 - A Wrestling Podcast</td>\n",
       "      <td>Remembering Owen Hart &amp; Double or Nothing prev...</td>\n",
       "      <td>3</td>\n",
       "      <td>0.894</td>\n",
       "      <td>[xbox, text, right, body, anyways, distracted,...</td>\n",
       "      <td>different huge love match mean night person re...</td>\n",
       "      <td>79.58716666666666</td>\n",
       "      <td>AfterBuzz TV</td>\n",
       "      <td>This week Sean and the crew talk about Double...</td>\n",
       "    </tr>\n",
       "    <tr>\n",
       "      <th>48</th>\n",
       "      <td>Everything DFS Sports</td>\n",
       "      <td>Week 1 Full Slate Breakdown</td>\n",
       "      <td>4</td>\n",
       "      <td>0.992</td>\n",
       "      <td>[place, right, phone, computer, phone, creatio...</td>\n",
       "      <td>ball defense game mean number play player quar...</td>\n",
       "      <td>57.76621666666666</td>\n",
       "      <td>SlabOf Meatloaf</td>\n",
       "      <td>Breakdown of the entire week 1 NFL slate. If y...</td>\n",
       "    </tr>\n",
       "    <tr>\n",
       "      <th>238</th>\n",
       "      <td>Sports Card Investor</td>\n",
       "      <td>How to Find Great Deals in Unexpected Ways</td>\n",
       "      <td>5</td>\n",
       "      <td>1.000</td>\n",
       "      <td>[jeff, wilson, tech, company, night, sport, pr...</td>\n",
       "      <td>card different game league number player price...</td>\n",
       "      <td>30.26808333333333</td>\n",
       "      <td>Sports Card Investor</td>\n",
       "      <td>With a little creativity, you can find some am...</td>\n",
       "    </tr>\n",
       "    <tr>\n",
       "      <th>15</th>\n",
       "      <td>Best Sports Blogs</td>\n",
       "      <td>Best Sports Blogs: The Best Sport Sites to Read</td>\n",
       "      <td>6</td>\n",
       "      <td>0.995</td>\n",
       "      <td>[sport, blog, sport, sport, long, interest, fo...</td>\n",
       "      <td>coach football game home mean play school seas...</td>\n",
       "      <td>2.5317</td>\n",
       "      <td>viven irem</td>\n",
       "      <td>Sport is one of those things that you’ll have ...</td>\n",
       "    </tr>\n",
       "  </tbody>\n",
       "</table>\n",
       "</div>"
      ],
      "text/plain": [
       "                          Podcast_name  \\\n",
       "74                         MMA All Day   \n",
       "304                Straight-Up Sports    \n",
       "169         Nintendo Cartridge Society   \n",
       "416  X-Pac 12360 - A Wrestling Podcast   \n",
       "48               Everything DFS Sports   \n",
       "238               Sports Card Investor   \n",
       "15                   Best Sports Blogs   \n",
       "\n",
       "                                          Episode_name  Dominant_topic  \\\n",
       "74                                   2019 we here dawg               0   \n",
       "304                               Missouri 8-Man Recap               1   \n",
       "169         Link’s Awakening Music (News from 10/1/19)               2   \n",
       "416  Remembering Owen Hart & Double or Nothing prev...               3   \n",
       "48                        Week 1 Full Slate Breakdown                4   \n",
       "238         How to Find Great Deals in Unexpected Ways               5   \n",
       "15     Best Sports Blogs: The Best Sport Sites to Read               6   \n",
       "\n",
       "     Percent                                     Processed_text  \\\n",
       "74     0.856  [illuminati, button, mike, parrilla, swan, hap...   \n",
       "304    0.909  [straight, sport, missouri, football, number, ...   \n",
       "169    1.000  [nintendo, cartridge, society, game, brain, pa...   \n",
       "416    0.894  [xbox, text, right, body, anyways, distracted,...   \n",
       "48     0.992  [place, right, phone, computer, phone, creatio...   \n",
       "238    1.000  [jeff, wilson, tech, company, night, sport, pr...   \n",
       "15     0.995  [sport, blog, sport, sport, long, interest, fo...   \n",
       "\n",
       "                                              Keywords  \\\n",
       "74   coach different fight fighter hand head level ...   \n",
       "304  city conference county game livingston north n...   \n",
       "169  character game level mario mean nintendo pokem...   \n",
       "416  different huge love match mean night person re...   \n",
       "48   ball defense game mean number play player quar...   \n",
       "238  card different game league number player price...   \n",
       "15   coach football game home mean play school seas...   \n",
       "\n",
       "    Duration of the episode Publisher of the show  \\\n",
       "74        72.63743333333333            MMA AllDay   \n",
       "304                18.51675  Devin Lynn Albertson   \n",
       "169       47.86831666666666        Campfire Media   \n",
       "416       79.58716666666666          AfterBuzz TV   \n",
       "48        57.76621666666666       SlabOf Meatloaf   \n",
       "238       30.26808333333333  Sports Card Investor   \n",
       "15                   2.5317            viven irem   \n",
       "\n",
       "                            Description of the episode  \n",
       "74   This Style bender hype, this cyborg situation,...  \n",
       "304                                  Enjoy and share!   \n",
       "169  Patrick and Mark listen to some of the work in...  \n",
       "416   This week Sean and the crew talk about Double...  \n",
       "48   Breakdown of the entire week 1 NFL slate. If y...  \n",
       "238  With a little creativity, you can find some am...  \n",
       "15   Sport is one of those things that you’ll have ...  "
      ]
     },
     "execution_count": 35,
     "metadata": {},
     "output_type": "execute_result"
    }
   ],
   "source": [
    "representatives = pd.DataFrame()\n",
    "\n",
    "for k in grouped_topics.groups.keys():\n",
    "    representatives = pd.concat([representatives, \n",
    "                                 grouped_topics.get_group(k).sort_values(['Percent'], ascending=False).head(1)])\n",
    "    \n",
    "representatives"
   ]
  },
  {
   "cell_type": "code",
   "execution_count": 47,
   "metadata": {},
   "outputs": [
    {
     "data": {
      "text/plain": [
       "'This Style bender hype, this cyborg situation, etc etc....fuck hype jobs '"
      ]
     },
     "execution_count": 47,
     "metadata": {},
     "output_type": "execute_result"
    }
   ],
   "source": [
    "representatives.iloc[0]['Description of the episode']"
   ]
  },
  {
   "cell_type": "code",
   "execution_count": 48,
   "metadata": {},
   "outputs": [
    {
     "data": {
      "text/plain": [
       "'coach different fight fighter hand head level mean person prison'"
      ]
     },
     "execution_count": 48,
     "metadata": {},
     "output_type": "execute_result"
    }
   ],
   "source": [
    "representatives.iloc[0]['Keywords']"
   ]
  },
  {
   "cell_type": "code",
   "execution_count": null,
   "metadata": {},
   "outputs": [],
   "source": [
    "# print('Document: {}  Dominant topic: {}\\n'.format(representatives.index[2], \n",
    "#                                        representatives.loc[representatives.index[2]]['Dominant_topic']))\n",
    "# print([sentence.strip() for sentence in transcripts[keys[representatives.index[2]]]])"
   ]
  },
  {
   "cell_type": "code",
   "execution_count": 36,
   "metadata": {},
   "outputs": [],
   "source": [
    "num_topics = best_hp_setting[0]\n",
    "def word_count_by_topic(topic=0):\n",
    "    d_lens = [len(d) for d in grouped_topics.get_group(topic)['Processed_text']]\n",
    "    plt.figure(figsize=(10,8))\n",
    "    plt.hist(d_lens)\n",
    "    large = plt.gca().get_ylim()[1]\n",
    "    d_mean = round(np.mean(d_lens), 1)\n",
    "    d_median = np.median(d_lens)\n",
    "    plt.plot([d_mean, d_mean], [0,large], label='Mean = {}'.format(d_mean))\n",
    "    plt.plot([d_median, d_median], [0,large], label='Median = {}'.format(d_median))\n",
    "    plt.legend()\n",
    "    plt.xlabel('Document word count',fontsize=16)\n",
    "    plt.ylabel('Number of documents',fontsize=16)\n",
    "    plt.xticks(fontsize=14)\n",
    "    plt.yticks(fontsize=14)"
   ]
  },
  {
   "cell_type": "code",
   "execution_count": 37,
   "metadata": {},
   "outputs": [
    {
     "data": {
      "application/vnd.jupyter.widget-view+json": {
       "model_id": "55be9fb3395842dd88769157a553dd4d",
       "version_major": 2,
       "version_minor": 0
      },
      "text/plain": [
       "interactive(children=(IntSlider(value=0, description='Topic', max=6), Output()), _dom_classes=('widget-interac…"
      ]
     },
     "metadata": {},
     "output_type": "display_data"
    }
   ],
   "source": [
    "from ipywidgets import interact, IntSlider\n",
    "\n",
    "slider = IntSlider(min=0, max=num_topics-1, step=1, value=0, description='Topic')\n",
    "interact(word_count_by_topic, topic=slider);"
   ]
  },
  {
   "cell_type": "code",
   "execution_count": 38,
   "metadata": {},
   "outputs": [
    {
     "name": "stdout",
     "output_type": "stream",
     "text": [
      "Indices of top words: \n",
      "{768, 132, 1160, 778, 650, 267, 139, 912, 913, 916, 789, 6175, 294, 296, 3371, 172, 814, 175, 431, 49, 313, 186, 4155, 59, 190, 320, 195, 329, 74, 78, 1359, 593, 337, 474, 219, 736, 3426, 738, 488, 107, 3952, 114, 501, 634, 2811, 253, 254}\n",
      "\n"
     ]
    }
   ],
   "source": [
    "lda_top_words_index = set()\n",
    "for i in range(lda_model.num_topics):\n",
    "    lda_top_words_index = lda_top_words_index.union([k for (k,v) in lda_model.get_topic_terms(i)])\n",
    "\n",
    "print('Indices of top words: \\n{}\\n'.format(lda_top_words_index))"
   ]
  },
  {
   "cell_type": "code",
   "execution_count": 39,
   "metadata": {},
   "outputs": [],
   "source": [
    "words_we_care_about = [{dictionary[tup[0]]: tup[1] for tup in lst if tup[0] in list(lda_top_words_index)} \n",
    "                       for lst in corpus]"
   ]
  },
  {
   "cell_type": "code",
   "execution_count": 40,
   "metadata": {},
   "outputs": [],
   "source": [
    "lda_top_words_df = pd.DataFrame(words_we_care_about).fillna(0).astype(int).sort_index(axis=1)\n",
    "lda_top_words_df['Cluster'] = main_topic_df['Dominant_topic']"
   ]
  },
  {
   "cell_type": "code",
   "execution_count": 54,
   "metadata": {},
   "outputs": [
    {
     "data": {
      "image/png": "[encoded data removed]",
      "text/plain": [
       "<Figure size 2160x576 with 1 Axes>"
      ]
     },
     "metadata": {},
     "output_type": "display_data"
    }
   ],
   "source": [
    "clusterwise_words_dist = lda_top_words_df.groupby('Cluster').get_group(4)\n",
    "\n",
    "clusterwise_words_dist.sum()[:-1].transpose().\\\n",
    "         plot.bar(figsize=(30, 8), width=0.7).\\\n",
    "         set(ylabel='Word frequency', \n",
    "         title='Word Frequencies by Topic, Combining the Top {} Words in Each Topic'.format(len(lda_top_words_index)));"
   ]
  },
  {
   "cell_type": "code",
   "execution_count": 42,
   "metadata": {},
   "outputs": [
    {
     "data": {
      "text/plain": [
       "['game',\n",
       " 'nintendo',\n",
       " 'mario',\n",
       " 'character',\n",
       " 'super',\n",
       " 'mean',\n",
       " 'switch',\n",
       " 'pokemon',\n",
       " 'level',\n",
       " 'society']"
      ]
     },
     "execution_count": 42,
     "metadata": {},
     "output_type": "execute_result"
    }
   ],
   "source": [
    "[dictionary[k] for k,x in lda_model.get_topic_terms(2)]"
   ]
  },
  {
   "cell_type": "code",
   "execution_count": 43,
   "metadata": {},
   "outputs": [],
   "source": [
    "word_totals = {k:{y[1]:y[0] for y in x[0]} for k,x in enumerate(top_topics)}"
   ]
  },
  {
   "cell_type": "code",
   "execution_count": 44,
   "metadata": {},
   "outputs": [
    {
     "data": {
      "application/vnd.jupyter.widget-view+json": {
       "model_id": "35c8e9d61bc548749a7cdc4ba870cbb7",
       "version_major": 2,
       "version_minor": 0
      },
      "text/plain": [
       "interactive(children=(IntSlider(value=0, description='Topic', max=6), Output()), _dom_classes=('widget-interac…"
      ]
     },
     "metadata": {},
     "output_type": "display_data"
    }
   ],
   "source": [
    "import matplotlib.pyplot as plt\n",
    "from ipywidgets import interact, IntSlider\n",
    "from wordcloud import WordCloud\n",
    "\n",
    "def show_wordcloud(topic=0):\n",
    "    cloud = WordCloud(background_color='white', colormap='viridis')\n",
    "    cloud.generate_from_frequencies(word_totals[topic])\n",
    "    plt.gca().imshow(cloud)\n",
    "    plt.axis('off')\n",
    "    plt.tight_layout()\n",
    "    \n",
    "slider = IntSlider(min=0, max=best_hp_setting[0]-1, step=1, value=0, description='Topic')\n",
    "interact(show_wordcloud, topic=slider);"
   ]
  },
  {
   "cell_type": "code",
   "execution_count": null,
   "metadata": {},
   "outputs": [],
   "source": []
  }
 ],
 "metadata": {
  "kernelspec": {
   "display_name": "demo",
   "language": "python",
   "name": "demo"
  },
  "language_info": {
   "codemirror_mode": {
    "name": "ipython",
    "version": 3
   },
   "file_extension": ".py",
   "mimetype": "text/x-python",
   "name": "python",
   "nbconvert_exporter": "python",
   "pygments_lexer": "ipython3",
   "version": "3.9.2"
  }
 },
 "nbformat": 4,
 "nbformat_minor": 4
}
