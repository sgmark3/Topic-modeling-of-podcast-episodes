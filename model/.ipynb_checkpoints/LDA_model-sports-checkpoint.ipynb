{
 "cells": [
  {
   "cell_type": "markdown",
   "metadata": {},
   "source": [
    "#### Import all the required packages"
   ]
  },
  {
   "cell_type": "code",
   "execution_count": 113,
   "metadata": {},
   "outputs": [],
   "source": [
    "## basic packages\n",
    "import numpy as np\n",
    "import re\n",
    "import csv\n",
    "import time\n",
    "import pandas as pd\n",
    "from itertools import product\n",
    "import matplotlib.pyplot as plt\n",
    "import seaborn as sns\n",
    "sns.set_style('darkgrid')\n",
    "\n",
    "##gensim\n",
    "import gensim\n",
    "import gensim.corpora as corpora\n",
    "from gensim.utils import simple_preprocess\n",
    "from gensim.models import CoherenceModel\n",
    "\n",
    "##spacy and nltk\n",
    "import spacy\n",
    "from nltk.corpus import stopwords\n",
    "from spacy.lang.en.stop_words import STOP_WORDS\n",
    "\n",
    "##vis\n",
    "# import pyLDAvis\n",
    "# import pyLDAvis.gensim_models as gensimvis\n",
    "# pyLDAvis.enable_notebook()\n",
    "\n",
    "import warnings\n",
    "warnings.filterwarnings(\"ignore\",category=DeprecationWarning)"
   ]
  },
  {
   "cell_type": "markdown",
   "metadata": {},
   "source": [
    "#### load the metadata of podcast transcripts"
   ]
  },
  {
   "cell_type": "code",
   "execution_count": 114,
   "metadata": {},
   "outputs": [],
   "source": [
    "global df, show_descriptions\n",
    "\n",
    "meta_data = []\n",
    "with open(\"../data/metadata.tsv\") as csvfile:\n",
    "    csvreader = csv.reader(csvfile,delimiter=\"\\t\")\n",
    "    for row in csvreader:\n",
    "        meta_data.append(row)\n",
    "\n",
    "df = pd.DataFrame(meta_data[1:],columns=meta_data[0])\n",
    "show_filename_prefixes = df.show_filename_prefix\n",
    "episode_filename_prefixes = df.episode_filename_prefix"
   ]
  },
  {
   "cell_type": "code",
   "execution_count": 115,
   "metadata": {},
   "outputs": [],
   "source": [
    "shows = df.groupby(by=['show_name'])\n",
    "show_names = shows.apply(lambda x: x.show_name.unique()[0])\n",
    "show_descriptions_aggregated = shows.apply(lambda x: x.show_description.unique()[0])\n",
    "episode_descriptions_aggregated = shows.apply(lambda x: list(x.episode_description))"
   ]
  },
  {
   "cell_type": "code",
   "execution_count": 116,
   "metadata": {},
   "outputs": [],
   "source": [
    "descriptions_aggregated = {}\n",
    "for k,text in enumerate(episode_descriptions_aggregated):\n",
    "    descriptions_aggregated[show_names[k]] = [show_descriptions_aggregated[k]]+text"
   ]
  },
  {
   "cell_type": "code",
   "execution_count": 117,
   "metadata": {},
   "outputs": [],
   "source": [
    "genres_topics = [\"comedy\",\"news\",\"crime\",\"science\",\"economics\",\"politics\",\"education\",\\\n",
    "                  \"sports\",\"lifestyle\",\"health\",\"wellbeing\",\"religion\",\"faith\",\"music\",\\\n",
    "                  \"art\",\"fashion\",\"literature\",\"humanities\",\"drama\",\"fitness\",\"drama\",\\\n",
    "                  \"fantasy\",\"scifi\",\"gameshow\",\"news quiz\",\"games\",\"game\",\"mental\",\\\n",
    "                  \"humor\",\"research\",\"technology\",\"society\",\"social\",\"culture\",\"lifestyle\",\\\n",
    "                  \"songs\",\"cooking\",\"culinary\",\"food\",\"travel\",\"films\",\"film\",\"movies\",\"tv\",\\\n",
    "                  \"climate\",\"space\",\"planet\",\"digital\",\"artificial intelligence\", \"ai\",\\\n",
    "                  \"cars\",\"car\",\"nutrition\",\"wellness\",\"family\",\"history\",\"geography\",\"physics\",\\\n",
    "                  \"mathematics\",\"math\",\"chemistry\",\"biology\",\"documentary\",\"commentary\",\"nfl\",\\\n",
    "                  \"mls\",\"nba\",\"mlb\",\"stocks\",\"stock\",\"market\",\"wall\",\"street\",\"wallstreet\",\"business\",\\\n",
    "                  \"reality\",\"shows\",\"investing\",\"social media\",\"biography\",\"biographies\",\\\n",
    "                  \"data science\",\"medicine\",\"media\",\"books\",\"book\",\"europe\",\"asia\",\"canada\",\\\n",
    "                  \"south america\",\"north america\",\"america\",\"usa\",\"netflix\",\"adventure\",\"pets\",\"dogs\",\\\n",
    "                  \"cats\",\"dog\",\"cat\",\"nintendo\",\"xbox\",\"playstation\",\"ps4\",\"ps5\",\"theatre\",\"mars\"\\\n",
    "                  \"tennis\",\"australia\",\"conspiracy\",\"war\",\"epidemic\",\"pandemic\",\"climate\",\"change\"\\\n",
    "                  \"astrology\",\"novel\",\"church\",\"christ\",\"romance\",\"english\",\"kids\",\"astronomy\"\\\n",
    "                  \"design\",\"entrepreneurship\",\"marketing\",\"digital\",\"christian\",\"christianity\",\"boardgames\",\\\n",
    "                  \"boardgame\",\"videogames\",\"videogame\",\"twitch\",\"currency\",\"cryptocurrency\",\"federal\",\"bank\",\\\n",
    "                  \"blockchain\",\"bitcoin\",\"nyse\",\"nft\",\"import\",\"export\",\"capital\",\"money\",\"exchange\",\"boxing\",\\\n",
    "                  \"mma\",\"wrestling\",\"excercise\",\"excercises\",\"gym\",\"bodybuilding\",\"body-building\",\"yoga\",\\\n",
    "                  \"stamina\",\"strength\",\"calories\",\"meditation\",\"physical\",\"healthy\",\"pope\",\"bible\",\"catholic\",\\\n",
    "                  \"catholicism\",\"testament\"]\n",
    "\n",
    "formats = [\"monologue\",\"interview\",\"storytelling\",\"repurposed\",\\\n",
    "           \"bite-sized\",\"co-host conversation\",\"debate\",\"narrative\",\\\n",
    "           \"scripted\",\"improvised\"]"
   ]
  },
  {
   "cell_type": "code",
   "execution_count": 118,
   "metadata": {},
   "outputs": [],
   "source": [
    "podcasts_genres_topics = {}\n",
    "for k,show in enumerate(show_names):\n",
    "    keywords = show.lower().split(\" \")\n",
    "    for word in keywords:\n",
    "        if word in genres_topics:\n",
    "            if (k,show) in podcasts_genres_topics:\n",
    "                if word not in podcasts_genres_topics[(k,show)]:\n",
    "                    podcasts_genres_topics[(k,show)].append(word)\n",
    "            else:\n",
    "                podcasts_genres_topics[(k,show)] = [word]\n",
    "podcasts = [item[1] for item in podcasts_genres_topics.keys()]"
   ]
  },
  {
   "cell_type": "code",
   "execution_count": 119,
   "metadata": {},
   "outputs": [],
   "source": [
    "nlp = spacy.load(\"en_core_web_sm\")\n",
    "stops_nltk = set(stopwords.words(\"english\"))\n",
    "stops_spacy = STOP_WORDS.union({'ll', 've', 'pron','okay','oh','like','know','yea','yep','yes','no',\\\n",
    "                                \"like\",\"oh\",\"yeah\",\"okay\",\"wow\",\"podcast\",\"rating\",\"ratings\",\"not\",\\\n",
    "                               \"support\",\"anchor\",\"podcasts\",\"episode\",\"http\",\"https\",\"5star\",\"reviews\",\\\n",
    "                               \"review\",\"instagram\",\"tiktok\",\"amazon\",\"apple\",\"twitter\",\"goole\",\\\n",
    "                               \"facebook\",\"send\",\"voice message\",\"message\",\"voice\",\"subscribe\",\"follow\",\\\n",
    "                               \"sponsor\",\"links\",\"easiest\",\"way\",\"fuck\",\"fucking\",\"talk\",\"discuss\",\\\n",
    "                               \"world\",\"time\",\"want\",\"join\",\"learn\",\"week\",\"things\",\"stuff\",\"find\",\\\n",
    "                               \"enjoy\",\"welcome\",\"share\",\"talk\",\"talking\",\"people\",\"gmail\",\"help\",\"today\",\\\n",
    "                               \"listen\",\"best\",\"stories\",\"story\",\"hope\",\"tips\",\"great\",\"journey\",\\\n",
    "                               \"topics\",\"email\",\"questions\",\"question\",\"going\",\"life\",\"good\",\"friends\",\\\n",
    "                               \"friend\",\"guys\",\"discussing\",\"live\",\"work\",\"student\",\"students\",\"need\",\\\n",
    "                               \"hear\",\"think\",\"change\",\"free\",\"better\",\"little\",\"fucking\",\"fuck\",\"shit\",\\\n",
    "                                \"bitch\",\"sex\",\"easiest\",\"way\",\"currently\",\"follow\",\"follows\",\"needs\",\\\n",
    "                               \"grow\",\"stay\",\"tuned\",\"walk\",\"understand\",\"tell\",\"tells\",\"ask\",\"helps\",\\\n",
    "                                \"feel\",\"feels\",\"look\",\"looks\",\"meet\",\"relate\",\"soon\",\"quick\",\"dude\",\"girl\",\\\n",
    "                                \"girls\",\"guy\",\"literally\",\"spotify\",\"google\",\"totally\",\"played\",\"young\",\\\n",
    "                               \"begin\",\"began\",\"create\",\"month\",\"year\",\"date\",\"day\",\"terms\",\"lose\",\"list\",\\\n",
    "                               \"bought\",\"brings\",\"bring\",\"buy\",\"percent\",\"rate\",\"increase\",\"words\",\"value\",\\\n",
    "                               \"search\",\"awesome\",\"followers\",\"finn\",\"jake\",\"mark\",\"america\",\"american\",\\\n",
    "                               \"speak\",\"funny\",\"hours\",\"hour\",\"honestly\",\"states\",\"united\",\"franklin\",\\\n",
    "                               \"patrick\",\"john\",\"build\",\"dave\",\"excited\",\"process\",\"processes\",\"based\",\\\n",
    "                                \"focus\",\"star\",\"mary\",\"chris\",\"taylor\",\"gotta\",\"liked\",\"hair\",\"adam\",\"chat\",\\\n",
    "                               \"named\",\"died\",\"born\",\"country\",\"mother\",\"father\",\"children\",\"tools\",\\\n",
    "                               \"countries\",\"jordan\",\"tommy\",\"listeners\",\"water\",\"jason\",\"lauren\",\"alex\",\\\n",
    "                               \"laguna\",\"jessica\",\"kristen\",\"examples\",\"example\",\"heidi\",\"stephen\",\"utiful\",\\\n",
    "                               \"everybody\",\"sorry\",\"came\",\"come\",\"meet\",\"whoa\",\"whoaa\",\"yay\",\"whoaw\"})\n",
    "stops = stops_nltk.union(stops_spacy)"
   ]
  },
  {
   "cell_type": "code",
   "execution_count": 120,
   "metadata": {},
   "outputs": [],
   "source": [
    "health_category = [(key,val) for key,val in podcasts_genres_topics.items() if (\"fitness\" in val)\\\n",
    "                                                                or (\"health\" in val)\\\n",
    "                                                                or (\"diet\" in val)\\\n",
    "                                                                or (\"nutrition\" in val)\\\n",
    "                                                                or (\"healthy\" in val)\\\n",
    "                                                                or (\"meditation\" in val)\\\n",
    "                                                                or (\"mental\" in val)\\\n",
    "                                                                or (\"physical\" in val)\\\n",
    "                                                                or (\"excercise\" in val)\\\n",
    "                                                                or (\"calories\" in val)\\\n",
    "                                                                or (\"gym\" in val)\\\n",
    "                                                                or (\"bodybuilding\" in val)\\\n",
    "                                                                or (\"body-building\" in val)\\\n",
    "                                                                or (\"stamina\" in val)\\\n",
    "                                                                or (\"strength\" in val)\\\n",
    "                                                                or (\"excercise\" in val)\\\n",
    "                                                                or (\"yoga\" in val)]"
   ]
  },
  {
   "cell_type": "code",
   "execution_count": 121,
   "metadata": {},
   "outputs": [],
   "source": [
    "sports_category = [(key,val) for key,val in podcasts_genres_topics.items() if (\"sports\" in val)\\\n",
    "                                                            or (\"games\" in val)\\\n",
    "                                                            or (\"game\" in val)\\\n",
    "                                                            or (\"videogame\" in val)\\\n",
    "                                                            or (\"videogames\" in val)\\\n",
    "                                                            or (\"boardgame\" in val)\\\n",
    "                                                            or (\"boardgames\" in val)\\\n",
    "                                                            or (\"xbox\" in val)\\\n",
    "                                                            or (\"nintendo\" in val)\\\n",
    "                                                            or (\"twitch\" in val)\\\n",
    "                                                            or (\"ps4\" in val)\\\n",
    "                                                            or (\"ps5\" in val)\\\n",
    "                                                            or (\"playstation\" in val)\\\n",
    "                                                            or (\"basketball\" in val)\\\n",
    "                                                            or (\"football\" in val)\\\n",
    "                                                            or (\"soccer\" in val)\\\n",
    "                                                            or (\"baseball\" in val)\\\n",
    "                                                            or (\"boxing\" in val)\\\n",
    "                                                            or (\"wrestling\" in val)\\\n",
    "                                                            or (\"mma\" in val)\\\n",
    "                                                            or (\"tennis\" in val)]"
   ]
  },
  {
   "cell_type": "code",
   "execution_count": 122,
   "metadata": {},
   "outputs": [],
   "source": [
    "religion_category = [(key,val) for key,val in podcasts_genres_topics.items() if (\"religion\" in val)\\\n",
    "                                                            or (\"faith\" in val)\\\n",
    "                                                            or (\"church\" in val)\\\n",
    "                                                            or (\"christ\" in val)\\\n",
    "                                                            or (\"christian\" in val)\\\n",
    "                                                            or (\"christianity\" in val)\\\n",
    "                                                            or (\"bible\" in val)\\\n",
    "                                                            or (\"testament\" in val)\\\n",
    "                                                            or (\"pope\" in val)\\\n",
    "                                                            or (\"catholic\" in val)\\\n",
    "                                                            or (\"catholicism\" in val)]"
   ]
  },
  {
   "cell_type": "code",
   "execution_count": 123,
   "metadata": {},
   "outputs": [],
   "source": [
    "invest_category = [(key,val) for key,val in podcasts_genres_topics.items() if (\"market\" in val)\\\n",
    "                                                            or (\"business\" in val)\\\n",
    "                                                            or (\"invest\" in val)\\\n",
    "                                                            or (\"stocks\" in val)\\\n",
    "                                                            or (\"stock\" in val)\\\n",
    "                                                            or (\"wallstreet\" in val)\\\n",
    "                                                            or (\"investing\" in val)\\\n",
    "                                                            or (\"investment\" in val)\\\n",
    "                                                            or (\"exchange\" in val)\\\n",
    "                                                            or (\"nyse\" in val)\\\n",
    "                                                            or (\"capital\" in val)\\\n",
    "                                                            or (\"money\" in val)\\\n",
    "                                                            or (\"currency\" in val)\\\n",
    "                                                            or (\"cryptocurrency\" in val)\\\n",
    "                                                            or (\"blockchain\" in val)\\\n",
    "                                                            or (\"bitcoin\" in val)\\\n",
    "                                                            or (\"federal\" in val)\\\n",
    "                                                            or (\"bank\" in val)\\\n",
    "                                                            or (\"nft\" in val)]"
   ]
  },
  {
   "cell_type": "code",
   "execution_count": 124,
   "metadata": {},
   "outputs": [],
   "source": [
    "number_of_topics = [5,6,7,8,9,10,15]\n",
    "df_parameters = list(product([2,3,4,5,6,7,8,9,10],[0.3,0.4,0.5,0.6,0.7,0.8,0.9]))\n",
    "hyperparams = list(product(number_of_topics,df_parameters))\n",
    "sports_cs = []\n",
    "with open('/home1/sgmark/capstone-project/model/coherence_scores_sports_category.csv','r') as f:\n",
    "    reader = csv.reader(f)\n",
    "    for row in reader:\n",
    "        sports_cs.append([float(x) for x in row])\n",
    "        \n",
    "best_hp_setting = hyperparams[np.argmax([x[4] for x in sports_cs])]"
   ]
  },
  {
   "cell_type": "code",
   "execution_count": 131,
   "metadata": {},
   "outputs": [
    {
     "data": {
      "text/plain": [
       "(5, (2, 0.7))"
      ]
     },
     "execution_count": 131,
     "metadata": {},
     "output_type": "execute_result"
    }
   ],
   "source": [
    "best_hp_setting"
   ]
  },
  {
   "cell_type": "markdown",
   "metadata": {},
   "source": [
    "#### The individual transcript location"
   ]
  },
  {
   "cell_type": "code",
   "execution_count": 125,
   "metadata": {},
   "outputs": [],
   "source": [
    "def file_location(show,episode):\n",
    "    search_string = local_path + \"/spotify-podcasts-2020\" + \"/podcasts-transcripts\" \\\n",
    "                               + \"/\" + show[0] \\\n",
    "                               + \"/\" + show[1] \\\n",
    "                               + \"/\" + \"show_\" + show \\\n",
    "                               + \"/\"\n",
    "    return search_string"
   ]
  },
  {
   "cell_type": "markdown",
   "metadata": {},
   "source": [
    "#### load the transcripts"
   ]
  },
  {
   "cell_type": "code",
   "execution_count": 126,
   "metadata": {},
   "outputs": [],
   "source": [
    "transcripts = {}\n",
    "for podcast,genre in sports_category:\n",
    "    for i in shows.get_group(podcast[1])[['show_filename_prefix','episode_filename_prefix']].index:\n",
    "        show,episode = shows.get_group(podcast[1])[['show_filename_prefix','episode_filename_prefix']].loc[i]\n",
    "        s = show.split(\"_\")[1]\n",
    "        try:\n",
    "            with open('../podcast_transcripts/'+s[0]+'/'+s[1]+'/'+show+'/'+episode+'.txt','r') as f:\n",
    "                transcripts[(show,episode)] = f.readlines()\n",
    "            f.close()\n",
    "        except Exception as e:\n",
    "            pass\n",
    "    \n",
    "keys = list(transcripts.keys())"
   ]
  },
  {
   "cell_type": "code",
   "execution_count": 127,
   "metadata": {},
   "outputs": [],
   "source": [
    "# Cleaning & remove urls and links\n",
    "def remove_stops(text,stops):\n",
    "    final = []\n",
    "    for word in text:\n",
    "        if (word not in stops) and (len(word)>3) and (not word.endswith('ing')) and (not word.endswith('ly')):\n",
    "            final.append(word)\n",
    "    return final\n",
    "                       \n",
    "def clean_text(docs):\n",
    "    final = []\n",
    "    for doc in docs:\n",
    "        clean_doc = remove_stops(doc, stops)\n",
    "        final.extend(clean_doc)\n",
    "    return final\n",
    "\n",
    "def lemmatization(text_data): \n",
    "    nlp = spacy.load(\"en_core_web_sm\")\n",
    "    texts = []\n",
    "    for text in text_data:\n",
    "        doc = nlp(text)\n",
    "        lem_text = []\n",
    "        for token in doc:\n",
    "            if (token.pos_==\"VERB\") or (token.pos_==\"ADV\"):\n",
    "                pass\n",
    "            else:\n",
    "                lem_text.append(token.lemma_)\n",
    "        texts.append(lem_text)\n",
    "    return texts\n",
    "\n",
    "# # lemmatization -- do lemmatization for just the verbs\n",
    "# def get_lemmatized(text):\n",
    "#     lemmatized = []\n",
    "#     for phrase in text:\n",
    "#         sentence=''\n",
    "#         for word in nlp(phrase):\n",
    "#             if word.pos_ == \"VERB\":\n",
    "#                 #or word.pos_ == \"ADJ\" or word.pos_ == \"ADV\":\n",
    "#                 sentence += ' ' + str(word.lemma_)\n",
    "#             elif str(word)!='':\n",
    "#                 sentence += ' ' + str(word)\n",
    "#         lemmatized.append(sentence.strip())\n",
    "#     return lemmatized\n",
    "\n",
    "# def get_named_entities(text):\n",
    "#     return nlp(text.lower()).ents\n",
    "\n",
    "# def get_noun_chunks(text):\n",
    "#     non_stop_noun_chunks = []\n",
    "#     stops = stopwords.words(\"english\")\n",
    "#     for word in nlp(text.lower()).noun_chunks:\n",
    "#         if str(word) not in stops:\n",
    "#             non_stop_noun_chunks.append(word)\n",
    "#     return non_stop_noun_chunks"
   ]
  },
  {
   "cell_type": "markdown",
   "metadata": {},
   "source": [
    "#### tokenize/convert text into words"
   ]
  },
  {
   "cell_type": "code",
   "execution_count": 128,
   "metadata": {},
   "outputs": [],
   "source": [
    "def normalize_docs(text_data):\n",
    "    final_texts = []\n",
    "    for text in text_data:\n",
    "        new_text = gensim.utils.simple_preprocess(text,deacc=True)\n",
    "        final_texts.append(new_text)\n",
    "    return final_texts"
   ]
  },
  {
   "cell_type": "code",
   "execution_count": 129,
   "metadata": {},
   "outputs": [],
   "source": [
    "docs = []\n",
    "for text in transcripts.values():\n",
    "    docs.append(' '.join(clean_text(normalize_docs(text))))"
   ]
  },
  {
   "cell_type": "code",
   "execution_count": 130,
   "metadata": {},
   "outputs": [],
   "source": [
    "texts = lemmatization(docs)\n",
    "texts = [remove_stops(text,stops) for text in texts]"
   ]
  },
  {
   "cell_type": "markdown",
   "metadata": {},
   "source": [
    "### Using bigrams"
   ]
  },
  {
   "cell_type": "code",
   "execution_count": 132,
   "metadata": {},
   "outputs": [],
   "source": [
    "from gensim.models.phrases import Phrases\n",
    "\n",
    "bigram = Phrases(texts, min_count=2)\n",
    "\n",
    "for i in range(len(texts)):\n",
    "    for token in bigram[texts[i]]:\n",
    "        if '_' in token:\n",
    "            texts[i].append(token)"
   ]
  },
  {
   "cell_type": "markdown",
   "metadata": {},
   "source": [
    "#### Construct a corpus of words as a bag of words "
   ]
  },
  {
   "cell_type": "code",
   "execution_count": 133,
   "metadata": {},
   "outputs": [],
   "source": [
    "dictionary = corpora.Dictionary(texts)\n",
    "\n",
    "dictionary.filter_extremes(no_below=best_hp_setting[1][0],no_above=best_hp_setting[1][1])"
   ]
  },
  {
   "cell_type": "code",
   "execution_count": 134,
   "metadata": {},
   "outputs": [],
   "source": [
    "corpus = [dictionary.doc2bow(text) for text in texts]"
   ]
  },
  {
   "cell_type": "code",
   "execution_count": 135,
   "metadata": {},
   "outputs": [],
   "source": [
    "# from itertools import product\n",
    "\n",
    "# number_of_topics = [5,6,7,8,9,10,15]\n",
    "# df_parameters = list(product([2,3,4,5,6,7,8,9,10],[0.3,0.4,0.5,0.6,0.7,0.8,0.9]))\n",
    "# coherence_scores_umass = np.zeros((len(number_of_topics),len(df_parameters)))\n",
    "# coherence_scores_uci = np.zeros((len(number_of_topics),len(df_parameters)))\n",
    "# coherence_scores_npmi = np.zeros((len(number_of_topics),len(df_parameters)))\n",
    "\n",
    "# j = 0\n",
    "# for num in number_of_topics:\n",
    "#     i = 0\n",
    "#     for n,m in df_parameters:\n",
    "#         dictionary = corpora.Dictionary(texts)\n",
    "#         dictionary.filter_extremes(no_below=n,no_above=m)\n",
    "#         corpus = [dictionary.doc2bow(text) for text in texts]\n",
    "#         num_topics = num\n",
    "#         chunksize = 200\n",
    "#         passes = 20\n",
    "#         iterations = 500\n",
    "#         eval_every = None\n",
    "\n",
    "#         lda_model = gensim.models.ldamodel.LdaModel(corpus,\n",
    "#                                                    id2word=dictionary,\n",
    "#                                                    num_topics=num_topics,\n",
    "#                                                    chunksize=chunksize,\n",
    "#                                                    passes=passes,\n",
    "#                                                    iterations=iterations,\n",
    "#                                                    alpha='auto',\n",
    "#                                                    eta='auto',\n",
    "#                                                    random_state = 123,\n",
    "#                                                    eval_every=eval_every)\n",
    "#         cm = CoherenceModel(lda_model, texts=texts,corpus=corpus, coherence= 'c_uci')\n",
    "#         coherence_scores_uci[j,i] = cm.get_coherence()\n",
    "#         cm = CoherenceModel(lda_model, texts=texts,corpus=corpus, coherence= 'c_npmi')\n",
    "#         coherence_scores_npmi[j,i] = cm.get_coherence() \n",
    "#         cm = CoherenceModel(lda_model, corpus=corpus, coherence= 'u_mass')\n",
    "#         coherence_scores_umass[j,i] = cm.get_coherence()\n",
    "#         with open(\"coherence_scores_sports_category.csv\",'a') as f:\n",
    "#             writer = csv.writer(f)\n",
    "#             writer.writerow([num,n,m,coherence_scores_uci[j,i],coherence_scores_npmi[j,i],\\\n",
    "#                              coherence_scores_umass[j,i]])\n",
    "#         i += 1\n",
    "#         print(i)\n",
    "#     j += 1\n",
    "#     print(j)"
   ]
  },
  {
   "cell_type": "code",
   "execution_count": 140,
   "metadata": {},
   "outputs": [
    {
     "name": "stdout",
     "output_type": "stream",
     "text": [
      "CPU times: user 33.4 s, sys: 0 ns, total: 33.4 s\n",
      "Wall time: 33.9 s\n"
     ]
    }
   ],
   "source": [
    "%%time\n",
    "import logging\n",
    "logging.basicConfig(filename='sports_topics.log', encoding='utf-8',format='%(asctime)s : %(levelname)s : %(message)s', level=logging.DEBUG)\n",
    "\n",
    "num_topics = best_hp_setting[0]\n",
    "chunksize = 200\n",
    "passes = 50\n",
    "iterations = 500\n",
    "eval_every = None\n",
    "\n",
    "lda_model = gensim.models.ldamodel.LdaModel(corpus,\n",
    "                                           id2word=dictionary,\n",
    "                                           num_topics=num_topics,\n",
    "                                           chunksize=chunksize,\n",
    "                                           passes=passes,\n",
    "                                           iterations=iterations,\n",
    "                                           alpha='auto',\n",
    "                                           eta='auto',\n",
    "                                           random_state=123,\n",
    "                                           eval_every=eval_every)"
   ]
  },
  {
   "cell_type": "code",
   "execution_count": 141,
   "metadata": {},
   "outputs": [
    {
     "name": "stdout",
     "output_type": "stream",
     "text": [
      "Average topic coherence: -1.0775.\n"
     ]
    }
   ],
   "source": [
    "top_topics = lda_model.top_topics(corpus) #, num_words=20)\n",
    "\n",
    "# Average topic coherence is the sum of topic coherences of all topics, divided by the number of topics.\n",
    "avg_topic_coherence = sum([t[1] for t in top_topics])/num_topics\n",
    "\n",
    "print('Average topic coherence: %.4f.' % avg_topic_coherence)"
   ]
  },
  {
   "cell_type": "code",
   "execution_count": 142,
   "metadata": {},
   "outputs": [
    {
     "name": "stdout",
     "output_type": "stream",
     "text": [
      "0.0006467513379325912\n",
      "-0.03807974377022432\n",
      "0.024913522837916407\n",
      "0.012556118037145892\n",
      "0.07544627747780351\n",
      "-0.07160241789297854\n"
     ]
    }
   ],
   "source": [
    "cm = CoherenceModel(lda_model, texts = texts, corpus=corpus, coherence='c_npmi')\n",
    "coherence = cm.get_coherence() \n",
    "print(coherence)\n",
    "for x in cm.get_coherence_per_topic(): print(x)"
   ]
  },
  {
   "cell_type": "markdown",
   "metadata": {},
   "source": [
    "### Visualizing data"
   ]
  },
  {
   "cell_type": "code",
   "execution_count": null,
   "metadata": {},
   "outputs": [],
   "source": [
    "# vis = pyLDAvis.gensim_models.prepare(lda_model,corpus,dictionary,mds=\"mmds\",R=10)\n",
    "# vis"
   ]
  },
  {
   "cell_type": "code",
   "execution_count": 141,
   "metadata": {},
   "outputs": [],
   "source": [
    "# from pprint import pprint\n",
    "# pprint(top_topics)"
   ]
  },
  {
   "cell_type": "code",
   "execution_count": 25,
   "metadata": {},
   "outputs": [],
   "source": [
    "import pickle\n",
    "\n",
    "pickle.dump(lda_model,open('../model/genre_assigned_shows_lda_model.pkl','wb'))\n",
    "pickle.dump(dictionary,open('../model/genre_assigned_shows_dictionary.pkl','wb'))\n",
    "pickle.dump(corpus,open('../model/genre_assigned_shows_corpus.pkl','wb'))\n",
    "pickle.dump(lda_model,open('most_recent_lda_model.pkl','wb'))"
   ]
  },
  {
   "cell_type": "code",
   "execution_count": 32,
   "metadata": {},
   "outputs": [],
   "source": [
    "import pickle\n",
    "\n",
    "file = open('../model/most_recent_lda_model.pkl','rb')\n",
    "lda_model = pickle.load(file)\n",
    "file.close()\n",
    "\n",
    "file = open('../model/genre_assigned_shows_corpus.pkl','rb')\n",
    "corpus = pickle.load(file)\n",
    "file.close()\n",
    "\n",
    "file = open('../model/genre_assigned_shows_dictionary.pkl','rb')\n",
    "dictionary = pickle.load(file)\n",
    "file.close()"
   ]
  },
  {
   "cell_type": "code",
   "execution_count": 43,
   "metadata": {},
   "outputs": [],
   "source": [
    "# import csv\n",
    "\n",
    "# with open(\"genre_assigned_shows_corpus.csv\",\"w+\") as f:\n",
    "#     writer = csv.writer(f)\n",
    "#     for lis in corpus:\n",
    "#         b = [] \n",
    "#         for tup in lis:\n",
    "#             b.append(tup[0])\n",
    "#             b.append(tup[1])\n",
    "        \n",
    "#         writer.writerow(b)\n",
    "\n",
    "# with open(\"top_topics_50_to_100.csv\",\"w+\") as f:\n",
    "#     writer = csv.writer(f)\n",
    "#     for item1,item2 in top_topics:\n",
    "#         b = [item2] \n",
    "#         for tup in item1:\n",
    "#             b.append(tup[0])\n",
    "#             b.append(tup[1])\n",
    "        \n",
    "#         writer.writerow(b)"
   ]
  },
  {
   "cell_type": "code",
   "execution_count": 143,
   "metadata": {},
   "outputs": [],
   "source": [
    "def get_main_topic_df(model, bow, texts):\n",
    "    topic_list = []\n",
    "    percent_list = []\n",
    "    keyword_list = []\n",
    "    podcast_list = []\n",
    "    episode_list = []\n",
    "    duration_list = []\n",
    "    publisher_list = []\n",
    "    \n",
    "    for key,wc in zip(keys,bow):\n",
    "        podcast_list.append(df[(df['show_filename_prefix'] == key[0])&(df['episode_filename_prefix'] == key[1])].show_name.iloc[0])\n",
    "        episode_list.append(df[(df['show_filename_prefix'] == key[0])&(df['episode_filename_prefix'] == key[1])].episode_name.iloc[0])\n",
    "        duration_list.append(df[(df['show_filename_prefix'] == key[0])&(df['episode_filename_prefix'] == key[1])].duration.iloc[0])\n",
    "        publisher_list.append(df[(df['show_filename_prefix'] == key[0])&(df['episode_filename_prefix'] == key[1])].publisher.iloc[0])\n",
    "        \n",
    "        topic, percent = sorted(model.get_document_topics(wc), key=lambda x: x[1], reverse=True)[0]\n",
    "        topic_list.append(topic)\n",
    "        percent_list.append(round(percent, 3))\n",
    "        keyword_list.append(' '.join(sorted([x[0] for x in model.show_topic(topic)])))\n",
    "\n",
    "    result_df = pd.concat([pd.Series(podcast_list, name='Podcast_name'),\n",
    "                           pd.Series(episode_list, name='Episode_name'),\n",
    "                           pd.Series(topic_list, name='Dominant_topic'), \n",
    "                           pd.Series(percent_list, name='Percent'), \n",
    "                           pd.Series(texts, name='Processed_text'), \n",
    "                           pd.Series(keyword_list, name='Keywords'),\n",
    "                           pd.Series(duration_list, name='Duration of the episode'),\n",
    "                           pd.Series(publisher_list, name='Publisher of the show')], axis=1)\n",
    "\n",
    "    return result_df"
   ]
  },
  {
   "cell_type": "code",
   "execution_count": 144,
   "metadata": {},
   "outputs": [],
   "source": [
    "# main_topic_df = pd.read_csv('lda_model_summary1_df.csv')\n",
    "main_topic_df = get_main_topic_df(lda_model,corpus,texts)"
   ]
  },
  {
   "cell_type": "code",
   "execution_count": 145,
   "metadata": {},
   "outputs": [
    {
     "data": {
      "text/html": [
       "<div>\n",
       "<style scoped>\n",
       "    .dataframe tbody tr th:only-of-type {\n",
       "        vertical-align: middle;\n",
       "    }\n",
       "\n",
       "    .dataframe tbody tr th {\n",
       "        vertical-align: top;\n",
       "    }\n",
       "\n",
       "    .dataframe thead th {\n",
       "        text-align: right;\n",
       "    }\n",
       "</style>\n",
       "<table border=\"1\" class=\"dataframe\">\n",
       "  <thead>\n",
       "    <tr style=\"text-align: right;\">\n",
       "      <th></th>\n",
       "      <th>Podcast_name</th>\n",
       "      <th>Episode_name</th>\n",
       "      <th>Dominant_topic</th>\n",
       "      <th>Percent</th>\n",
       "      <th>Processed_text</th>\n",
       "      <th>Keywords</th>\n",
       "      <th>Duration of the episode</th>\n",
       "      <th>Publisher of the show</th>\n",
       "    </tr>\n",
       "  </thead>\n",
       "  <tbody>\n",
       "    <tr>\n",
       "      <th>0</th>\n",
       "      <td>100% Sports</td>\n",
       "      <td>Episode 1: College football predictions, playo...</td>\n",
       "      <td>3</td>\n",
       "      <td>1.000</td>\n",
       "      <td>[lady, gentleman, afternoon, detroit, michigan...</td>\n",
       "      <td>ball coach defense football league player scho...</td>\n",
       "      <td>42.0138</td>\n",
       "      <td>Ryan Glinski</td>\n",
       "    </tr>\n",
       "    <tr>\n",
       "      <th>1</th>\n",
       "      <td>2 Dudes and a NES: A Nintendo Podcast</td>\n",
       "      <td>Gremlins 2: The New Batch</td>\n",
       "      <td>0</td>\n",
       "      <td>0.608</td>\n",
       "      <td>[nose, gamer, youtube, atari, game, game, prid...</td>\n",
       "      <td>character cool level mario music nintendo poke...</td>\n",
       "      <td>84.98928333333333</td>\n",
       "      <td>Bit Brothers Network</td>\n",
       "    </tr>\n",
       "    <tr>\n",
       "      <th>2</th>\n",
       "      <td>605 Sports Under Review with Coach DeBeer</td>\n",
       "      <td>SDHSAA Executive Producer Dan Swartos</td>\n",
       "      <td>3</td>\n",
       "      <td>0.827</td>\n",
       "      <td>[thank, court, coach, tobira, radio, station, ...</td>\n",
       "      <td>ball coach defense football league player scho...</td>\n",
       "      <td>36.81785</td>\n",
       "      <td>Brad D DeBeer</td>\n",
       "    </tr>\n",
       "    <tr>\n",
       "      <th>3</th>\n",
       "      <td>605 Sports Under Review with Coach DeBeer</td>\n",
       "      <td>605 Sports Under Review w/Coach DeBeer Episode...</td>\n",
       "      <td>3</td>\n",
       "      <td>0.904</td>\n",
       "      <td>[edition, court, coach, beer, bradley, beer, h...</td>\n",
       "      <td>ball coach defense football league player scho...</td>\n",
       "      <td>47.52283333333333</td>\n",
       "      <td>Brad D DeBeer</td>\n",
       "    </tr>\n",
       "    <tr>\n",
       "      <th>4</th>\n",
       "      <td>A Wrestling Gal</td>\n",
       "      <td>Women’s Evolution || #1</td>\n",
       "      <td>2</td>\n",
       "      <td>0.810</td>\n",
       "      <td>[creation, record, edit, right, phone, compute...</td>\n",
       "      <td>character cool favorite fight match moment nic...</td>\n",
       "      <td>28.18321666666667</td>\n",
       "      <td>Ella Jay</td>\n",
       "    </tr>\n",
       "  </tbody>\n",
       "</table>\n",
       "</div>"
      ],
      "text/plain": [
       "                                Podcast_name  \\\n",
       "0                               100% Sports    \n",
       "1      2 Dudes and a NES: A Nintendo Podcast   \n",
       "2  605 Sports Under Review with Coach DeBeer   \n",
       "3  605 Sports Under Review with Coach DeBeer   \n",
       "4                            A Wrestling Gal   \n",
       "\n",
       "                                        Episode_name  Dominant_topic  Percent  \\\n",
       "0  Episode 1: College football predictions, playo...               3    1.000   \n",
       "1                          Gremlins 2: The New Batch               0    0.608   \n",
       "2              SDHSAA Executive Producer Dan Swartos               3    0.827   \n",
       "3  605 Sports Under Review w/Coach DeBeer Episode...               3    0.904   \n",
       "4                            Women’s Evolution || #1               2    0.810   \n",
       "\n",
       "                                      Processed_text  \\\n",
       "0  [lady, gentleman, afternoon, detroit, michigan...   \n",
       "1  [nose, gamer, youtube, atari, game, game, prid...   \n",
       "2  [thank, court, coach, tobira, radio, station, ...   \n",
       "3  [edition, court, coach, beer, bradley, beer, h...   \n",
       "4  [creation, record, edit, right, phone, compute...   \n",
       "\n",
       "                                            Keywords Duration of the episode  \\\n",
       "0  ball coach defense football league player scho...                 42.0138   \n",
       "1  character cool level mario music nintendo poke...       84.98928333333333   \n",
       "2  ball coach defense football league player scho...                36.81785   \n",
       "3  ball coach defense football league player scho...       47.52283333333333   \n",
       "4  character cool favorite fight match moment nic...       28.18321666666667   \n",
       "\n",
       "  Publisher of the show  \n",
       "0          Ryan Glinski  \n",
       "1  Bit Brothers Network  \n",
       "2         Brad D DeBeer  \n",
       "3         Brad D DeBeer  \n",
       "4              Ella Jay  "
      ]
     },
     "execution_count": 145,
     "metadata": {},
     "output_type": "execute_result"
    }
   ],
   "source": [
    "main_topic_df.head(5)"
   ]
  },
  {
   "cell_type": "code",
   "execution_count": 146,
   "metadata": {},
   "outputs": [
    {
     "data": {
      "image/png": "[encoded data removed]",
      "text/plain": [
       "<Figure size 720x576 with 1 Axes>"
      ]
     },
     "metadata": {},
     "output_type": "display_data"
    }
   ],
   "source": [
    "plt.figure(figsize=(10,8))\n",
    "grouped_topics = main_topic_df.groupby('Dominant_topic')\n",
    "grouped_topics.count()['Podcast_name'].\\\n",
    "    plot.bar(rot=0).\\\n",
    "    set(title='Dominant Topic Frequency in the {} podcast episodes'.format(len(texts)),\n",
    "        ylabel='Topic frequency'); "
   ]
  },
  {
   "cell_type": "code",
   "execution_count": 147,
   "metadata": {},
   "outputs": [
    {
     "data": {
      "text/html": [
       "<div>\n",
       "<style scoped>\n",
       "    .dataframe tbody tr th:only-of-type {\n",
       "        vertical-align: middle;\n",
       "    }\n",
       "\n",
       "    .dataframe tbody tr th {\n",
       "        vertical-align: top;\n",
       "    }\n",
       "\n",
       "    .dataframe thead th {\n",
       "        text-align: right;\n",
       "    }\n",
       "</style>\n",
       "<table border=\"1\" class=\"dataframe\">\n",
       "  <thead>\n",
       "    <tr style=\"text-align: right;\">\n",
       "      <th></th>\n",
       "      <th>Podcast_name</th>\n",
       "      <th>Episode_name</th>\n",
       "      <th>Dominant_topic</th>\n",
       "      <th>Percent</th>\n",
       "      <th>Processed_text</th>\n",
       "      <th>Keywords</th>\n",
       "      <th>Duration of the episode</th>\n",
       "      <th>Publisher of the show</th>\n",
       "    </tr>\n",
       "  </thead>\n",
       "  <tbody>\n",
       "    <tr>\n",
       "      <th>192</th>\n",
       "      <td>Nintendo Cartridge Society</td>\n",
       "      <td>Ranking the Games of the Castlevania Anniversa...</td>\n",
       "      <td>0</td>\n",
       "      <td>1.000</td>\n",
       "      <td>[nintendo, cartridge, society, vivaan, rank, g...</td>\n",
       "      <td>character cool level mario music nintendo poke...</td>\n",
       "      <td>43.14688333333334</td>\n",
       "      <td>Campfire Media</td>\n",
       "    </tr>\n",
       "    <tr>\n",
       "      <th>26</th>\n",
       "      <td>Anthem The Game</td>\n",
       "      <td>Elephant In The Room - Episode 8 - Anthem The ...</td>\n",
       "      <td>1</td>\n",
       "      <td>0.999</td>\n",
       "      <td>[anthem, game, potato, head, brandon, kendall,...</td>\n",
       "      <td>business community company idea important mark...</td>\n",
       "      <td>28.278416666666665</td>\n",
       "      <td>The Potato Heads</td>\n",
       "    </tr>\n",
       "    <tr>\n",
       "      <th>443</th>\n",
       "      <td>The Fight Chase Muay Thai &amp; MMA Podcast</td>\n",
       "      <td>Self defense discussions!</td>\n",
       "      <td>2</td>\n",
       "      <td>1.000</td>\n",
       "      <td>[anger, freak, money, money, listener, flow, r...</td>\n",
       "      <td>character cool favorite fight match moment nic...</td>\n",
       "      <td>83.88788333333333</td>\n",
       "      <td>Kelly Green/ Kurt Brooks</td>\n",
       "    </tr>\n",
       "    <tr>\n",
       "      <th>0</th>\n",
       "      <td>100% Sports</td>\n",
       "      <td>Episode 1: College football predictions, playo...</td>\n",
       "      <td>3</td>\n",
       "      <td>1.000</td>\n",
       "      <td>[lady, gentleman, afternoon, detroit, michigan...</td>\n",
       "      <td>ball coach defense football league player scho...</td>\n",
       "      <td>42.0138</td>\n",
       "      <td>Ryan Glinski</td>\n",
       "    </tr>\n",
       "    <tr>\n",
       "      <th>365</th>\n",
       "      <td>Sports Card Investor</td>\n",
       "      <td>AMAZING TRICK to Make $$ on Hall of Famers</td>\n",
       "      <td>4</td>\n",
       "      <td>1.000</td>\n",
       "      <td>[jeff, wilson, tech, company, night, sport, pr...</td>\n",
       "      <td>card city north player price prism rookie seas...</td>\n",
       "      <td>32.94215</td>\n",
       "      <td>Sports Card Investor</td>\n",
       "    </tr>\n",
       "  </tbody>\n",
       "</table>\n",
       "</div>"
      ],
      "text/plain": [
       "                                Podcast_name  \\\n",
       "192               Nintendo Cartridge Society   \n",
       "26                           Anthem The Game   \n",
       "443  The Fight Chase Muay Thai & MMA Podcast   \n",
       "0                               100% Sports    \n",
       "365                     Sports Card Investor   \n",
       "\n",
       "                                          Episode_name  Dominant_topic  \\\n",
       "192  Ranking the Games of the Castlevania Anniversa...               0   \n",
       "26   Elephant In The Room - Episode 8 - Anthem The ...               1   \n",
       "443                          Self defense discussions!               2   \n",
       "0    Episode 1: College football predictions, playo...               3   \n",
       "365         AMAZING TRICK to Make $$ on Hall of Famers               4   \n",
       "\n",
       "     Percent                                     Processed_text  \\\n",
       "192    1.000  [nintendo, cartridge, society, vivaan, rank, g...   \n",
       "26     0.999  [anthem, game, potato, head, brandon, kendall,...   \n",
       "443    1.000  [anger, freak, money, money, listener, flow, r...   \n",
       "0      1.000  [lady, gentleman, afternoon, detroit, michigan...   \n",
       "365    1.000  [jeff, wilson, tech, company, night, sport, pr...   \n",
       "\n",
       "                                              Keywords  \\\n",
       "192  character cool level mario music nintendo poke...   \n",
       "26   business community company idea important mark...   \n",
       "443  character cool favorite fight match moment nic...   \n",
       "0    ball coach defense football league player scho...   \n",
       "365  card city north player price prism rookie seas...   \n",
       "\n",
       "    Duration of the episode     Publisher of the show  \n",
       "192       43.14688333333334            Campfire Media  \n",
       "26       28.278416666666665          The Potato Heads  \n",
       "443       83.88788333333333  Kelly Green/ Kurt Brooks  \n",
       "0                   42.0138              Ryan Glinski  \n",
       "365                32.94215      Sports Card Investor  "
      ]
     },
     "execution_count": 147,
     "metadata": {},
     "output_type": "execute_result"
    }
   ],
   "source": [
    "representatives = pd.DataFrame()\n",
    "\n",
    "for k in grouped_topics.groups.keys():\n",
    "    representatives = pd.concat([representatives, \n",
    "                                 grouped_topics.get_group(k).sort_values(['Percent'], ascending=False).head(1)])\n",
    "    \n",
    "representatives"
   ]
  },
  {
   "cell_type": "code",
   "execution_count": 71,
   "metadata": {},
   "outputs": [],
   "source": [
    "# print('Document: {}  Dominant topic: {}\\n'.format(representatives.index[2], \n",
    "#                                        representatives.loc[representatives.index[2]]['Dominant_topic']))\n",
    "# print([sentence.strip() for sentence in transcripts[keys[representatives.index[2]]]])"
   ]
  },
  {
   "cell_type": "code",
   "execution_count": 148,
   "metadata": {},
   "outputs": [],
   "source": [
    "num_topics = best_hp_setting[0]\n",
    "def word_count_by_topic(topic=0):\n",
    "    d_lens = [len(d) for d in grouped_topics.get_group(topic)['Processed_text']]\n",
    "    plt.figure(figsize=(10,8))\n",
    "    plt.hist(d_lens)\n",
    "    large = plt.gca().get_ylim()[1]\n",
    "    d_mean = round(np.mean(d_lens), 1)\n",
    "    d_median = np.median(d_lens)\n",
    "    plt.plot([d_mean, d_mean], [0,large], label='Mean = {}'.format(d_mean))\n",
    "    plt.plot([d_median, d_median], [0,large], label='Median = {}'.format(d_median))\n",
    "    plt.legend()\n",
    "    plt.xlabel('Document word count',fontsize=16)\n",
    "    plt.ylabel('Number of documents',fontsize=16)\n",
    "    plt.xticks(fontsize=14)\n",
    "    plt.yticks(fontsize=14)"
   ]
  },
  {
   "cell_type": "code",
   "execution_count": 149,
   "metadata": {},
   "outputs": [
    {
     "data": {
      "application/vnd.jupyter.widget-view+json": {
       "model_id": "7b388f0ac8f840438c5cc8d8821a9bc0",
       "version_major": 2,
       "version_minor": 0
      },
      "text/plain": [
       "interactive(children=(IntSlider(value=0, description='Topic', max=4), Output()), _dom_classes=('widget-interac…"
      ]
     },
     "metadata": {},
     "output_type": "display_data"
    }
   ],
   "source": [
    "from ipywidgets import interact, IntSlider\n",
    "\n",
    "slider = IntSlider(min=0, max=num_topics-1, step=1, value=0, description='Topic')\n",
    "interact(word_count_by_topic, topic=slider);"
   ]
  },
  {
   "cell_type": "code",
   "execution_count": 150,
   "metadata": {},
   "outputs": [
    {
     "name": "stdout",
     "output_type": "stream",
     "text": [
      "Indices of top words: \n",
      "{897, 513, 386, 1670, 1927, 1416, 134, 6557, 1186, 934, 304, 1074, 947, 182, 571, 66, 962, 586, 716, 4685, 79, 1106, 1110, 215, 218, 602, 92, 12771, 2278, 1511, 232, 360, 358, 620, 621, 878, 246, 2552, 890, 379, 125, 894}\n",
      "\n"
     ]
    }
   ],
   "source": [
    "lda_top_words_index = set()\n",
    "for i in range(lda_model.num_topics):\n",
    "    lda_top_words_index = lda_top_words_index.union([k for (k,v) in lda_model.get_topic_terms(i)])\n",
    "\n",
    "print('Indices of top words: \\n{}\\n'.format(lda_top_words_index))"
   ]
  },
  {
   "cell_type": "code",
   "execution_count": 151,
   "metadata": {},
   "outputs": [],
   "source": [
    "words_we_care_about = [{dictionary[tup[0]]: tup[1] for tup in lst if tup[0] in list(lda_top_words_index)} \n",
    "                       for lst in corpus]"
   ]
  },
  {
   "cell_type": "code",
   "execution_count": 152,
   "metadata": {},
   "outputs": [],
   "source": [
    "lda_top_words_df = pd.DataFrame(words_we_care_about).fillna(0).astype(int).sort_index(axis=1)\n",
    "lda_top_words_df['Cluster'] = main_topic_df['Dominant_topic']"
   ]
  },
  {
   "cell_type": "code",
   "execution_count": 160,
   "metadata": {},
   "outputs": [
    {
     "data": {
      "image/png": "[encoded data removed]",
      "text/plain": [
       "<Figure size 2160x576 with 1 Axes>"
      ]
     },
     "metadata": {},
     "output_type": "display_data"
    }
   ],
   "source": [
    "clusterwise_words_dist = lda_top_words_df.groupby('Cluster').get_group(4)\n",
    "\n",
    "clusterwise_words_dist.sum()[:-1].transpose().\\\n",
    "         plot.bar(figsize=(30, 8), width=0.7).\\\n",
    "         set(ylabel='Word frequency', \n",
    "         title='Word Frequencies by Topic, Combining the Top {} Words in Each Topic'.format(len(lda_top_words_index)));"
   ]
  },
  {
   "cell_type": "code",
   "execution_count": 162,
   "metadata": {},
   "outputs": [
    {
     "data": {
      "text/plain": [
       "Index(['ball', 'business', 'card', 'character', 'city', 'coach', 'community',\n",
       "       'company', 'cool', 'defense', 'favorite', 'fight', 'football', 'idea',\n",
       "       'important', 'league', 'level', 'mario', 'market', 'match', 'moment',\n",
       "       'money', 'music', 'nice', 'nintendo', 'north', 'person', 'player',\n",
       "       'pokemon', 'price', 'prism', 'rookie', 'school', 'season', 'society',\n",
       "       'somebody', 'sort', 'sport', 'state', 'super', 'switch', 'worth',\n",
       "       'Cluster'],\n",
       "      dtype='object')"
      ]
     },
     "execution_count": 162,
     "metadata": {},
     "output_type": "execute_result"
    }
   ],
   "source": [
    "lda_top_words_df.columns"
   ]
  },
  {
   "cell_type": "code",
   "execution_count": null,
   "metadata": {},
   "outputs": [],
   "source": []
  }
 ],
 "metadata": {
  "kernelspec": {
   "display_name": "demo",
   "language": "python",
   "name": "demo"
  },
  "language_info": {
   "codemirror_mode": {
    "name": "ipython",
    "version": 3
   },
   "file_extension": ".py",
   "mimetype": "text/x-python",
   "name": "python",
   "nbconvert_exporter": "python",
   "pygments_lexer": "ipython3",
   "version": "3.9.2"
  }
 },
 "nbformat": 4,
 "nbformat_minor": 4
}
